{
 "cells": [
  {
   "attachments": {},
   "cell_type": "markdown",
   "metadata": {},
   "source": [
    "目的：\n",
    "1. 绘制 IMU 数据，并左右展示数据\n",
    "步骤：\n",
    "1. 导入包\n",
    "2. 定义路径\n",
    "3. 编写函数，批量运行"
   ]
  },
  {
   "cell_type": "code",
   "execution_count": 2,
   "metadata": {},
   "outputs": [],
   "source": [
    "#导入包\n",
    "import os\n",
    "import re\n",
    "import pandas as pd\n",
    "import matplotlib.pyplot as plt"
   ]
  },
  {
   "cell_type": "code",
   "execution_count": 9,
   "metadata": {},
   "outputs": [
    {
     "name": "stdout",
     "output_type": "stream",
     "text": [
      "当前路径为：/Users/wangshuaibo/Documents/北京悦动/脑卒中项目/阿帅笔记/测试数据及分析结果/20230331不同鞋对鞋垫数据影响分析\n"
     ]
    }
   ],
   "source": [
    "#确定路径，并切换\n",
    "path = input(\"请输入数据的路径\")\n",
    "os.chdir(path)\n",
    "print(\"当前路径为：{}\".format(os.getcwd()))"
   ]
  },
  {
   "cell_type": "code",
   "execution_count": 10,
   "metadata": {},
   "outputs": [
    {
     "name": "stdout",
     "output_type": "stream",
     "text": [
      "已经成功新建 IMU_plot\n"
     ]
    }
   ],
   "source": [
    "#新建 IMU_plot  文件夹\n",
    "dir_plot_name = \"IMU_plot\"\n",
    "\n",
    "if not os.path.exists(dir_plot_name):\n",
    "    os.mkdir(dir_plot_name)\n",
    "\n",
    "if os.path.exists(dir_plot_name):\n",
    "    print(\"已经成功新建 IMU_plot\")"
   ]
  },
  {
   "cell_type": "code",
   "execution_count": 11,
   "metadata": {},
   "outputs": [],
   "source": [
    "import numpy as np\n",
    "from scipy.spatial.transform import Rotation\n",
    "\n",
    "def transform_euler_angles(quaternion):\n",
    "    \"\"\"\n",
    "    使用四元数转换欧拉角，并将其转换为特定形式的欧拉角。\n",
    "    \n",
    "    Args:\n",
    "        quaternion (list): 长度为4的列表，表示四元数。\n",
    "    \n",
    "    Returns:\n",
    "        list: 长度为3的列表，表示经过转换的欧拉角。\n",
    "    \"\"\"\n",
    "    # 使用四元数转换欧拉角\n",
    "    rotation = Rotation.from_quat(quaternion)\n",
    "    euler_angles = rotation.as_euler(\"zyx\", degrees=True)\n",
    "    \n",
    "    # 将欧拉角转换为特定形式\n",
    "    # 仅使用 transform 转化，得到的数据不正确，需要进一步转化\n",
    "    # 第一个角度不需要变化，第二个角度前面加负数，第三个是和180互补加负数\n",
    "    transformed_angles = np.round([euler_angles[0], -euler_angles[1], -(180 - euler_angles[2])], 6)\n",
    "    \n",
    "    return transformed_angles"
   ]
  },
  {
   "cell_type": "code",
   "execution_count": 12,
   "metadata": {},
   "outputs": [],
   "source": [
    "#确定图片储存的路径以及名称\n",
    "def plot_IMU_data(path,dir_plot_name,file,start_index,end_index):\n",
    "    regex = r\"(.*)_(.*)_(.*)\"\n",
    "    mysearch = re.search(regex,file)\n",
    "    if mysearch:\n",
    "        plot_name = mysearch.group(2) + \"-\" + dir_plot_name +\".png\"\n",
    "    path_plot = os.path.join(path,dir_plot_name,plot_name)\n",
    "\n",
    "    df = pd.read_csv(file)\n",
    "    df_sel = df.loc[start_index:end_index-1]\n",
    "    L_data = df_sel[df_sel[\"part\" ]== \"L\"]\n",
    "    R_data = df_sel[df_sel[\"part\" ]== \"R\"]\n",
    "    g_cols = [\"gx\",\"gy\",\"gz\"]\n",
    "    a_cols = [\"ax\",\"ay\",\"az\"]\n",
    "    q_cols = [\"qx\",\"qy\",\"qz\",\"qw\"]\n",
    "\n",
    "    #创建一个包含多个子图的 Figure 对象和 AxesSubplot\n",
    "    fig, axs = plt.subplots(nrows=3, ncols=2,figsize=(12,6))\n",
    "\n",
    "    #调整子图的位置和大小\n",
    "    plt.subplots_adjust(wspace=0.2, hspace=0.4)\n",
    "    fig.set_size_inches(10,8)\n",
    "\n",
    "    plt.rcParams['font.sans-serif'] = ['Heiti TC', 'SimHei', 'FangSong']  # 汉字字体,优先使用楷体，如果找不到楷体，则使用黑体\n",
    "    plt.rcParams['font.size'] = 12  # 字体大小\n",
    "    plt.rcParams['axes.unicode_minus'] = False  # 正常显示负号\n",
    "\n",
    "    #绘制左右脚数据\n",
    "    L_data.loc[:,q_cols].plot(ax=axs[0,0],title=\"左脚四元数数据\")\n",
    "    R_data.loc[:,q_cols].plot(ax=axs[0,1],title=\"右脚四元数数据\")\n",
    "\n",
    "    L_data.loc[:,a_cols].plot(ax=axs[1,0],title=\"左脚加速度数据\")\n",
    "    R_data.loc[:,a_cols].plot(ax=axs[1,1],title=\"右脚加速度数据\")\n",
    "\n",
    "    L_data.loc[:,g_cols].plot(ax=axs[2,0],title=\"左脚角加速度数据\")\n",
    "    R_data.loc[:,g_cols].plot(ax=axs[2,1],title=\"右脚角加速度数据\")\n",
    "\n",
    "    # 添加注释，解释代码的目的和功能\n",
    "    plt.suptitle(plot_name, fontsize=16)\n",
    "    fig.text(0.5, 0.02, \"时间\", ha=\"center\")\n",
    "    fig.text(0.08, 0.5, \"数据值\", va=\"center\", rotation=\"vertical\")\n",
    "\n",
    "    #保存图片\n",
    "    plt.savefig(path_plot)\n",
    "    plt.close()"
   ]
  },
  {
   "cell_type": "code",
   "execution_count": 13,
   "metadata": {},
   "outputs": [],
   "source": [
    "\n",
    "for file in os.listdir(path):\n",
    "    if \".csv\" in file:\n",
    "        # 默认索引全部数据\n",
    "        df = pd.read_csv(file)\n",
    "        end_index = df.shape[0]\n",
    "        start_index = 0\n",
    "\n",
    "        #绘图\n",
    "        plot_IMU_data(path,dir_plot_name,file,start_index,end_index)"
   ]
  },
  {
   "cell_type": "code",
   "execution_count": null,
   "metadata": {},
   "outputs": [],
   "source": []
  }
 ],
 "metadata": {
  "kernelspec": {
   "display_name": "base",
   "language": "python",
   "name": "python3"
  },
  "language_info": {
   "codemirror_mode": {
    "name": "ipython",
    "version": 3
   },
   "file_extension": ".py",
   "mimetype": "text/x-python",
   "name": "python",
   "nbconvert_exporter": "python",
   "pygments_lexer": "ipython3",
   "version": "3.10.9 (main, Mar  1 2023, 12:33:47) [Clang 14.0.6 ]"
  },
  "orig_nbformat": 4,
  "vscode": {
   "interpreter": {
    "hash": "f0e6e5a6c366f0544d48e86b9538c9e2f921792a30284d93e80dad42978f2a5f"
   }
  }
 },
 "nbformat": 4,
 "nbformat_minor": 2
}
