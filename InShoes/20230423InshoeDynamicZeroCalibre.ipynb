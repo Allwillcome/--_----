{
 "cells": [
  {
   "cell_type": "code",
   "execution_count": 10,
   "metadata": {},
   "outputs": [],
   "source": [
    "import pandas as pd\n",
    "import matplotlib.pyplot as plt\n",
    "from scipy.signal import find_peaks\n",
    "import os\n",
    "from pathlib import Path\n",
    "import numpy as np"
   ]
  },
  {
   "cell_type": "code",
   "execution_count": 11,
   "metadata": {},
   "outputs": [],
   "source": [
    "path = Path(input(\"请输入路径：\"))"
   ]
  },
  {
   "cell_type": "code",
   "execution_count": 12,
   "metadata": {},
   "outputs": [
    {
     "name": "stdout",
     "output_type": "stream",
     "text": [
      "当前路径为:/Users/wangshuaibo/Documents/北京悦动/脑卒中项目/阿帅笔记/测试数据及分析结果/20230421医院鞋垫数据检验\n"
     ]
    }
   ],
   "source": [
    "os.chdir(path)\n",
    "print(f\"当前路径为:{os.getcwd()}\")"
   ]
  },
  {
   "cell_type": "code",
   "execution_count": 13,
   "metadata": {},
   "outputs": [
    {
     "name": "stdout",
     "output_type": "stream",
     "text": [
      "hwshuai_丁冠宏-走40步路-鞋垫4-1-604F-V4.16-014_202304211216193530.csv\n",
      "hwshuai_丁冠宏-走40步路-鞋垫4-1-604F-V4.16-013_202304211209071330.csv\n"
     ]
    }
   ],
   "source": [
    "for file in os.listdir():\n",
    "    if \".csv\" in file:\n",
    "        print(file)\n"
   ]
  },
  {
   "cell_type": "code",
   "execution_count": 14,
   "metadata": {},
   "outputs": [],
   "source": [
    "file = \"hwshuai_丁冠宏-走40步路-鞋垫4-1-604F-V4.16-014_202304211216193530.csv\""
   ]
  },
  {
   "cell_type": "code",
   "execution_count": 18,
   "metadata": {},
   "outputs": [],
   "source": [
    "# 走40步路\n",
    "file = \"/Users/wangshuaibo/Documents/北京悦动/脑卒中项目/阿帅笔记/测试数据及分析结果/20230420鞋垫测试/hwshuai_丁冠宏-走6步路-鞋垫2-1-41AB-V4.16-006_202304201530532020.csv\""
   ]
  },
  {
   "cell_type": "code",
   "execution_count": 16,
   "metadata": {},
   "outputs": [],
   "source": [
    "# 跑步机走 10 分钟\n",
    "file = \"/Users/wangshuaibo/Documents/北京悦动/脑卒中项目/阿帅笔记/测试数据及分析结果/20230421跑步机走路测试/Done/hwshuai_丁冠宏-跑步机走路10分钟-鞋垫2-1-41AB-V4.01-002_202304211610535380.csv\""
   ]
  },
  {
   "cell_type": "code",
   "execution_count": 19,
   "metadata": {},
   "outputs": [
    {
     "data": {
      "text/plain": [
       "Index(['part', 'timestamp', 'gx', 'gy', 'gz', 'ax', 'ay', 'az', 'qw', 'qx',\n",
       "       'qy', 'qz', 'p1', 'p2', 'p3', 'p4', 'p5', 'p6', 'p7', 'p8', 'p9', 'p10',\n",
       "       'p11', 'p12', 'p1-c', 'p2-c', 'p3-c', 'p4-c', 'p5-c', 'p6-c', 'p7-c',\n",
       "       'p8-c', 'p9-c', 'p10-c', 'p11-c', 'p12-c'],\n",
       "      dtype='object')"
      ]
     },
     "execution_count": 19,
     "metadata": {},
     "output_type": "execute_result"
    }
   ],
   "source": [
    "df = pd.read_csv(file)\n",
    "L_data = df[df[\"part\"]==\"L\"]\n",
    "R_data = df[df[\"part\"]==\"R\"]\n",
    "R_data.columns"
   ]
  },
  {
   "cell_type": "code",
   "execution_count": 28,
   "metadata": {},
   "outputs": [],
   "source": [
    "# 传感器列表\n",
    "sensors = ['p1-c', 'p2-c', 'p3-c', 'p4-c', 'p5-c', 'p6-c', 'p7-c',\n",
    "       'p8-c', 'p9-c', 'p10-c', 'p11-c', 'p12-c']\n"
   ]
  },
  {
   "cell_type": "code",
   "execution_count": 29,
   "metadata": {},
   "outputs": [],
   "source": [
    "def SensorsCalibre(part_data,part):\n",
    "    sensors_calibre = pd.DataFrame({})\n",
    "\n",
    "    for sensor_name in sensors:\n",
    "        sensor = part_data[sensor_name]\n",
    "\n",
    "        # 查找峰值\n",
    "        # 以快跑 16km/h ，对应至少间隔 22 个数\n",
    "        peaks,_ = find_peaks(-sensor,-sensor.max(),width=20)\n",
    "        L_shape = sensor.shape\n",
    "        peakls = peaks.tolist()\n",
    "\n",
    "        # 查找峰值并绘制图片\n",
    "        #sensor.plot()\n",
    "        #plt.plot(peaks*2,sensor.iloc[peakls])\n",
    "\n",
    "        # 使用峰值校准数据\n",
    "        # 所有数据减去前一个峰值\n",
    "        # 第一个峰值之前的数据减去第一个峰值\n",
    "        range_start = peakls[0]\n",
    "        df_calibre = pd.DataFrame({})\n",
    "        # 选取区间内数值\n",
    "        snip_data= sensor.iloc[0:range_start]\n",
    "        # 进行校准\n",
    "        calibre_sensor_snip = snip_data.apply(lambda x: x-sensor.iloc[range_start])\n",
    "        df_calibre = pd.concat([df_calibre.reset_index(drop=True), \n",
    "                                        calibre_sensor_snip.reset_index(drop=True)],axis=0)   \n",
    "        for i in range(len(peakls)):\n",
    "\n",
    "            # 选取两个波谷之间的区间\n",
    "            range_start = peakls[i]\n",
    "            if i < len(peakls)-1:\n",
    "                range_end = peakls[i+1]\n",
    "            else:\n",
    "                range_end = L_shape[0]\n",
    "            \n",
    "\n",
    "            # 选取区间内数值\n",
    "            snip_data= sensor.iloc[range_start:range_end]\n",
    "            # 进行校准\n",
    "            calibre_sensor_snip = snip_data.apply(lambda x: x-sensor.iloc[range_start])\n",
    "            \n",
    "\n",
    "            # 将当前生成的 Series 与 df_calibre 拼接\n",
    "            df_calibre = pd.concat([df_calibre.reset_index(drop=True), \n",
    "                                        calibre_sensor_snip.reset_index(drop=True)],axis=0)\n",
    "            \n",
    "            # 重置一下索引，使得索引是唯一的\n",
    "            df_calibre.reset_index(drop=True, inplace=True)\n",
    "            \n",
    "        df_calibre.columns = [sensor_name]\n",
    "        sensors_calibre = pd.concat([sensors_calibre.reset_index(drop=True),\n",
    "                            df_calibre.reset_index(drop=True)],axis=1)\n",
    "\n",
    "        # 绘图\n",
    "        # sensor.plot()\n",
    "        # df_calibre.plot()\n",
    "        \n",
    "    sensors_calibre.insert(0,\"part\", part)\n",
    "\n",
    "    return sensors_calibre"
   ]
  },
  {
   "cell_type": "code",
   "execution_count": 30,
   "metadata": {},
   "outputs": [],
   "source": [
    "L_SensorsCalibre = SensorsCalibre(L_data,\"L\")\n",
    "R_SensorsCalibre = SensorsCalibre(R_data,\"R\")"
   ]
  },
  {
   "cell_type": "code",
   "execution_count": 32,
   "metadata": {},
   "outputs": [],
   "source": [
    "SensorsCalibre_df = pd.concat([L_SensorsCalibre.reset_index(drop=True),\n",
    "                               R_SensorsCalibre.reset_index(drop=True)])"
   ]
  },
  {
   "cell_type": "code",
   "execution_count": 38,
   "metadata": {},
   "outputs": [],
   "source": [
    "SensorsCalibre_df.to_csv(\"test.csv\")"
   ]
  },
  {
   "cell_type": "code",
   "execution_count": 35,
   "metadata": {},
   "outputs": [
    {
     "data": {
      "text/plain": [
       "'/Users/wangshuaibo/Documents/北京悦动/脑卒中项目/阿帅笔记/测试数据及分析结果/20230421医院鞋垫数据检验'"
      ]
     },
     "execution_count": 35,
     "metadata": {},
     "output_type": "execute_result"
    }
   ],
   "source": [
    "os.getcwd()"
   ]
  },
  {
   "cell_type": "code",
   "execution_count": null,
   "metadata": {},
   "outputs": [],
   "source": [
    "# 新建动态校准后文件夹\n",
    "DynamicCalibreDir = \"DynamicCalibre\"\n",
    "if not os.path.exists(DynamicCalibreDir):\n",
    "    os.mkdir(DynamicCalibreDir)\n",
    "\n",
    "pd.to_csv()"
   ]
  },
  {
   "cell_type": "code",
   "execution_count": null,
   "metadata": {},
   "outputs": [],
   "source": []
  }
 ],
 "metadata": {
  "kernelspec": {
   "display_name": "base",
   "language": "python",
   "name": "python3"
  },
  "language_info": {
   "codemirror_mode": {
    "name": "ipython",
    "version": 3
   },
   "file_extension": ".py",
   "mimetype": "text/x-python",
   "name": "python",
   "nbconvert_exporter": "python",
   "pygments_lexer": "ipython3",
   "version": "3.10.9 (main, Mar  1 2023, 12:33:47) [Clang 14.0.6 ]"
  },
  "orig_nbformat": 4,
  "vscode": {
   "interpreter": {
    "hash": "f0e6e5a6c366f0544d48e86b9538c9e2f921792a30284d93e80dad42978f2a5f"
   }
  }
 },
 "nbformat": 4,
 "nbformat_minor": 2
}
