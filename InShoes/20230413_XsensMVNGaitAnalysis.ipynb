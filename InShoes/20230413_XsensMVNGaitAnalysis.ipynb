{
 "cells": [
  {
   "cell_type": "code",
   "execution_count": 1,
   "metadata": {},
   "outputs": [],
   "source": [
    "import os\n",
    "import pandas as pd\n",
    "import matplotlib.pyplot as plt"
   ]
  },
  {
   "cell_type": "code",
   "execution_count": 2,
   "metadata": {},
   "outputs": [
    {
     "name": "stdout",
     "output_type": "stream",
     "text": [
      "当前路径为:/Users/wangshuaibo/Documents/北京悦动/脑卒中项目/阿帅笔记/测试数据及分析结果/20230413尊悦IMU传感器与 Xsens MVN数据对比\n"
     ]
    }
   ],
   "source": [
    "# 更改当前路径\n",
    "path = input(\"请输入文件所在文件夹：\")\n",
    "os.chdir(path)\n",
    "print(\"当前路径为:{}\".format(os.getcwd()))"
   ]
  },
  {
   "cell_type": "code",
   "execution_count": 33,
   "metadata": {},
   "outputs": [
    {
     "name": "stdout",
     "output_type": "stream",
     "text": [
      "['20230413跺脚走6步路测试-XsensMVN.mp4', 'plot', '20230413跺脚走6步路测试-XsensMVN.xlsx']\n"
     ]
    }
   ],
   "source": [
    "# 新建plot 储存图片\n",
    "plot_dir_name = \"plot\"\n",
    "if not os.path.exists(plot_dir_name):\n",
    "    os.mkdir(plot_dir_name)\n",
    "\n",
    "print(os.listdir())"
   ]
  },
  {
   "cell_type": "code",
   "execution_count": 3,
   "metadata": {},
   "outputs": [
    {
     "name": "stdout",
     "output_type": "stream",
     "text": [
      "['General Information', 'Markers', 'Segment Orientation - Quat', 'Segment Orientation - Euler', 'Segment Position', 'Segment Velocity', 'Segment Acceleration', 'Segment Angular Velocity', 'Segment Angular Acceleration', 'Joint Angles ZXY', 'Joint Angles XZY', 'Ergonomic Joint Angles ZXY', 'Ergonomic Joint Angles XZY', 'Center of Mass', 'Sensor Free Acceleration', 'Sensor Magnetic Field', 'Sensor Orientation - Quat', 'Sensor Orientation - Euler']\n"
     ]
    }
   ],
   "source": [
    "# 读取 Xsens MVN 数据\n",
    "Xsens_file = \"20230413跺脚走6步路测试-XsensMVN.xlsx\"\n",
    "\n",
    "# 相较于 pd.readexcel(), \n",
    "# pd.ExcelFile()只读取Excel 元数据\n",
    "# 当处理大批量数据时，更加的高效\n",
    "# 此处如果读取全部数据，用时大约 1 分钟读取速度较慢\n",
    "Xsens_excel_file =  pd.ExcelFile(Xsens_file)\n",
    "Xsens_sheetnames = Xsens_excel_file.sheet_names\n",
    "print(Xsens_sheetnames)"
   ]
  },
  {
   "cell_type": "code",
   "execution_count": 4,
   "metadata": {},
   "outputs": [
    {
     "name": "stdout",
     "output_type": "stream",
     "text": [
      "<class 'pandas.core.frame.DataFrame'>\n",
      "RangeIndex: 2423 entries, 0 to 2422\n",
      "Data columns (total 70 columns):\n",
      " #   Column             Non-Null Count  Dtype  \n",
      "---  ------             --------------  -----  \n",
      " 0   Frame              2423 non-null   int64  \n",
      " 1   Pelvis x           2423 non-null   float64\n",
      " 2   Pelvis y           2423 non-null   float64\n",
      " 3   Pelvis z           2423 non-null   float64\n",
      " 4   L5 x               2423 non-null   int64  \n",
      " 5   L5 y               2423 non-null   int64  \n",
      " 6   L5 z               2423 non-null   int64  \n",
      " 7   L3 x               2423 non-null   int64  \n",
      " 8   L3 y               2423 non-null   int64  \n",
      " 9   L3 z               2423 non-null   int64  \n",
      " 10  T12 x              2423 non-null   int64  \n",
      " 11  T12 y              2423 non-null   int64  \n",
      " 12  T12 z              2423 non-null   int64  \n",
      " 13  T8 x               2423 non-null   int64  \n",
      " 14  T8 y               2423 non-null   int64  \n",
      " 15  T8 z               2423 non-null   int64  \n",
      " 16  Neck x             2423 non-null   int64  \n",
      " 17  Neck y             2423 non-null   int64  \n",
      " 18  Neck z             2423 non-null   int64  \n",
      " 19  Head x             2423 non-null   int64  \n",
      " 20  Head y             2423 non-null   int64  \n",
      " 21  Head z             2423 non-null   int64  \n",
      " 22  Right Shoulder x   2423 non-null   int64  \n",
      " 23  Right Shoulder y   2423 non-null   int64  \n",
      " 24  Right Shoulder z   2423 non-null   int64  \n",
      " 25  Right Upper Arm x  2423 non-null   int64  \n",
      " 26  Right Upper Arm y  2423 non-null   int64  \n",
      " 27  Right Upper Arm z  2423 non-null   int64  \n",
      " 28  Right Forearm x    2423 non-null   int64  \n",
      " 29  Right Forearm y    2423 non-null   int64  \n",
      " 30  Right Forearm z    2423 non-null   int64  \n",
      " 31  Right Hand x       2423 non-null   int64  \n",
      " 32  Right Hand y       2423 non-null   int64  \n",
      " 33  Right Hand z       2423 non-null   int64  \n",
      " 34  Left Shoulder x    2423 non-null   int64  \n",
      " 35  Left Shoulder y    2423 non-null   int64  \n",
      " 36  Left Shoulder z    2423 non-null   int64  \n",
      " 37  Left Upper Arm x   2423 non-null   int64  \n",
      " 38  Left Upper Arm y   2423 non-null   int64  \n",
      " 39  Left Upper Arm z   2423 non-null   int64  \n",
      " 40  Left Forearm x     2423 non-null   int64  \n",
      " 41  Left Forearm y     2423 non-null   int64  \n",
      " 42  Left Forearm z     2423 non-null   int64  \n",
      " 43  Left Hand x        2423 non-null   int64  \n",
      " 44  Left Hand y        2423 non-null   int64  \n",
      " 45  Left Hand z        2423 non-null   int64  \n",
      " 46  Right Upper Leg x  2423 non-null   float64\n",
      " 47  Right Upper Leg y  2423 non-null   float64\n",
      " 48  Right Upper Leg z  2423 non-null   float64\n",
      " 49  Right Lower Leg x  2423 non-null   float64\n",
      " 50  Right Lower Leg y  2423 non-null   float64\n",
      " 51  Right Lower Leg z  2423 non-null   float64\n",
      " 52  Right Foot x       2423 non-null   float64\n",
      " 53  Right Foot y       2423 non-null   float64\n",
      " 54  Right Foot z       2423 non-null   float64\n",
      " 55  Right Toe x        2423 non-null   int64  \n",
      " 56  Right Toe y        2423 non-null   int64  \n",
      " 57  Right Toe z        2423 non-null   int64  \n",
      " 58  Left Upper Leg x   2423 non-null   float64\n",
      " 59  Left Upper Leg y   2423 non-null   float64\n",
      " 60  Left Upper Leg z   2423 non-null   float64\n",
      " 61  Left Lower Leg x   2423 non-null   float64\n",
      " 62  Left Lower Leg y   2423 non-null   float64\n",
      " 63  Left Lower Leg z   2423 non-null   float64\n",
      " 64  Left Foot x        2423 non-null   float64\n",
      " 65  Left Foot y        2423 non-null   float64\n",
      " 66  Left Foot z        2423 non-null   float64\n",
      " 67  Left Toe x         2423 non-null   int64  \n",
      " 68  Left Toe y         2423 non-null   int64  \n",
      " 69  Left Toe z         2423 non-null   int64  \n",
      "dtypes: float64(21), int64(49)\n",
      "memory usage: 1.3 MB\n"
     ]
    }
   ],
   "source": [
    "# 读取数据\n",
    "Xsens_df = pd.read_excel(Xsens_file, sheet_name=\"Sensor Free Acceleration\")\n",
    "# 查看基本信息\n",
    "Xsens_df.info()"
   ]
  },
  {
   "cell_type": "code",
   "execution_count": 5,
   "metadata": {},
   "outputs": [
    {
     "data": {
      "text/plain": [
       "Index(['Frame', 'Pelvis x', 'Pelvis y', 'Pelvis z', 'L5 x', 'L5 y', 'L5 z',\n",
       "       'L3 x', 'L3 y', 'L3 z', 'T12 x', 'T12 y', 'T12 z', 'T8 x', 'T8 y',\n",
       "       'T8 z', 'Neck x', 'Neck y', 'Neck z', 'Head x', 'Head y', 'Head z',\n",
       "       'Right Shoulder x', 'Right Shoulder y', 'Right Shoulder z',\n",
       "       'Right Upper Arm x', 'Right Upper Arm y', 'Right Upper Arm z',\n",
       "       'Right Forearm x', 'Right Forearm y', 'Right Forearm z', 'Right Hand x',\n",
       "       'Right Hand y', 'Right Hand z', 'Left Shoulder x', 'Left Shoulder y',\n",
       "       'Left Shoulder z', 'Left Upper Arm x', 'Left Upper Arm y',\n",
       "       'Left Upper Arm z', 'Left Forearm x', 'Left Forearm y',\n",
       "       'Left Forearm z', 'Left Hand x', 'Left Hand y', 'Left Hand z',\n",
       "       'Right Upper Leg x', 'Right Upper Leg y', 'Right Upper Leg z',\n",
       "       'Right Lower Leg x', 'Right Lower Leg y', 'Right Lower Leg z',\n",
       "       'Right Foot x', 'Right Foot y', 'Right Foot z', 'Right Toe x',\n",
       "       'Right Toe y', 'Right Toe z', 'Left Upper Leg x', 'Left Upper Leg y',\n",
       "       'Left Upper Leg z', 'Left Lower Leg x', 'Left Lower Leg y',\n",
       "       'Left Lower Leg z', 'Left Foot x', 'Left Foot y', 'Left Foot z',\n",
       "       'Left Toe x', 'Left Toe y', 'Left Toe z'],\n",
       "      dtype='object')"
      ]
     },
     "execution_count": 5,
     "metadata": {},
     "output_type": "execute_result"
    }
   ],
   "source": [
    "# 查看所有列的名称\n",
    "Xsens_df.columns"
   ]
  },
  {
   "cell_type": "code",
   "execution_count": 79,
   "metadata": {},
   "outputs": [
    {
     "data": {
      "image/png": "[encoded data removed]",
      "text/plain": [
       "<Figure size 1200x300 with 3 Axes>"
      ]
     },
     "metadata": {},
     "output_type": "display_data"
    }
   ],
   "source": [
    "# 绘制图片\n",
    "fig, axs = plt.subplots(1,3,figsize=(12,3),sharey=True)\n",
    "\n",
    "# 设置第一幅图标题\n",
    "axs[0].set_title(\"x\")\n",
    "Xsens_df[\"Left Foot x\"].plot(ax=axs[0],color=\"r\")\n",
    "\n",
    "# 设置第二副图标题\n",
    "axs[1].set_title(\"y\")\n",
    "Xsens_df[\"Left Foot y\"].plot(ax=axs[1],color=\"g\")\n",
    "\n",
    "# 设置第三副图标题\n",
    "axs[2].set_title(\"z\")\n",
    "Xsens_df[\"Left Foot z\"].plot(ax=axs[2],color=\"b\")\n",
    "\n",
    "# 显示中文\n",
    "plt.rcParams['font.sans-serif'] = ['Heiti TC']\n",
    "plt.rcParams['font.family'] = ['Heiti TC']\n",
    "plt.rcParams['axes.unicode_minus'] = False\n",
    "\n",
    "# 设置总标题\n",
    "plot_file_name = \"Xsens 左脚x y z方向自由加速度变化\"\n",
    "plot_file_path = os.path.join(plot_dir_name,plot_file_name)\n",
    "plt.suptitle(plot_file_name,y=1)\n",
    "plt.savefig(plot_file_path)"
   ]
  },
  {
   "cell_type": "code",
   "execution_count": 40,
   "metadata": {},
   "outputs": [
    {
     "name": "stdout",
     "output_type": "stream",
     "text": [
      "<bound method DataFrame.info of       SensorId   TimeStamp (s)   FrameNumber   AccX (g)   AccY (g)   AccZ (g)  \\\n",
      "0            1         -0.0002             0  -0.142809  -0.495929  -0.852164   \n",
      "1            2          0.0002             0   0.011392  -0.770265  -0.637309   \n",
      "2            1          0.0098             1  -0.141649  -0.496640  -0.852689   \n",
      "3            2          0.0102             1   0.011884  -0.770451  -0.636944   \n",
      "4            1          0.0198             2  -0.141504  -0.495902  -0.853171   \n",
      "...        ...             ...           ...        ...        ...        ...   \n",
      "3920         1         25.8598          2202  -0.142825  -0.501741  -0.851928   \n",
      "3921         1         25.8698          2203  -0.144403  -0.501746  -0.850464   \n",
      "3922         1         25.8798          2204  -0.143398  -0.502241  -0.851412   \n",
      "3923         1         25.8898          2205  -0.143669  -0.501986  -0.850102   \n",
      "3924         1         25.8998          2206  -0.143947  -0.501383  -0.849945   \n",
      "\n",
      "       GyroX (deg/s)   GyroY (deg/s)   GyroZ (deg/s)   MagX (uT)  ...  \\\n",
      "0           0.050816        0.057225       -0.027230   14.352529  ...   \n",
      "1          -0.070562       -0.023664        0.105633   43.203743  ...   \n",
      "2           0.068635        0.039756       -0.117567   14.352529  ...   \n",
      "3           0.106428       -0.093535       -0.020026   43.876060  ...   \n",
      "4           0.046173       -0.001451       -0.013984   14.352529  ...   \n",
      "...              ...             ...             ...         ...  ...   \n",
      "3920        0.119785        0.215201       -0.153704   12.306343  ...   \n",
      "3921        0.012799        0.061402       -0.137791   11.984799  ...   \n",
      "3922        0.065913        0.129958       -0.172038   12.072494  ...   \n",
      "3923       -0.006317       -0.041600       -0.138579   12.130956  ...   \n",
      "3924        0.046315       -0.042523       -0.103341   12.130956  ...   \n",
      "\n",
      "         QuatX     QuatY     QuatZ   LinAccX (g)   LinAccY (g)   LinAccZ (g)  \\\n",
      "0     0.249328 -0.114206 -0.185008      0.000048     -0.002238     -0.003064   \n",
      "1     0.111493  0.320466  0.851261      0.000243     -0.000497      0.000171   \n",
      "2     0.249372 -0.114157 -0.185016     -0.001086     -0.001544     -0.002569   \n",
      "3     0.111502  0.320472  0.851256     -0.000237     -0.000191     -0.000232   \n",
      "4     0.249376 -0.114158 -0.185017     -0.001158     -0.002318     -0.002063   \n",
      "...        ...       ...       ...           ...           ...           ...   \n",
      "3920  0.266356 -0.076594 -0.046684      0.001521     -0.002079     -0.000176   \n",
      "3921  0.266359 -0.076586 -0.046694      0.002859     -0.002014     -0.001616   \n",
      "3922  0.266366 -0.076572 -0.046705      0.001853     -0.001509     -0.000699   \n",
      "3923  0.266367 -0.076572 -0.046718      0.002176     -0.001795     -0.001996   \n",
      "3924  0.266371 -0.076574 -0.046727      0.002458     -0.002409     -0.002130   \n",
      "\n",
      "       Pressure (kPa)   Altitude (m)   Temperature (degC)   HeaveMotion (m)  \n",
      "0                 0.0            0.0                  0.0               0.0  \n",
      "1                 0.0            0.0                  0.0               0.0  \n",
      "2                 0.0            0.0                  0.0               0.0  \n",
      "3                 0.0            0.0                  0.0               0.0  \n",
      "4                 0.0            0.0                  0.0               0.0  \n",
      "...               ...            ...                  ...               ...  \n",
      "3920              0.0            0.0                  0.0               0.0  \n",
      "3921              0.0            0.0                  0.0               0.0  \n",
      "3922              0.0            0.0                  0.0               0.0  \n",
      "3923              0.0            0.0                  0.0               0.0  \n",
      "3924              0.0            0.0                  0.0               0.0  \n",
      "\n",
      "[3925 rows x 26 columns]>\n"
     ]
    }
   ],
   "source": [
    "# 尊悦小蓝块IMU数据分析\n",
    "zy_file = \"20230413跺脚走 6 步路测试-zyIMU.csv\"\n",
    "zy_df = pd.read_csv(zy_file)\n",
    "print(zy_df.info)"
   ]
  },
  {
   "cell_type": "code",
   "execution_count": 60,
   "metadata": {},
   "outputs": [
    {
     "name": "stdout",
     "output_type": "stream",
     "text": [
      "<class 'pandas.core.frame.DataFrame'>\n",
      "RangeIndex: 3925 entries, 0 to 3924\n",
      "Data columns (total 26 columns):\n",
      " #   Column               Non-Null Count  Dtype  \n",
      "---  ------               --------------  -----  \n",
      " 0   SensorId             3925 non-null   int64  \n",
      " 1    TimeStamp (s)       3925 non-null   float64\n",
      " 2    FrameNumber         3925 non-null   int64  \n",
      " 3    AccX (g)            3925 non-null   float64\n",
      " 4    AccY (g)            3925 non-null   float64\n",
      " 5    AccZ (g)            3925 non-null   float64\n",
      " 6    GyroX (deg/s)       3925 non-null   float64\n",
      " 7    GyroY (deg/s)       3925 non-null   float64\n",
      " 8    GyroZ (deg/s)       3925 non-null   float64\n",
      " 9    MagX (uT)           3925 non-null   float64\n",
      " 10   MagY (uT)           3925 non-null   float64\n",
      " 11   MagZ (uT)           3925 non-null   float64\n",
      " 12   EulerX (deg)        3925 non-null   float64\n",
      " 13   EulerY (deg)        3925 non-null   float64\n",
      " 14   EulerZ (deg)        3925 non-null   float64\n",
      " 15   QuatW               3925 non-null   float64\n",
      " 16   QuatX               3925 non-null   float64\n",
      " 17   QuatY               3925 non-null   float64\n",
      " 18   QuatZ               3925 non-null   float64\n",
      " 19   LinAccX (g)         3925 non-null   float64\n",
      " 20   LinAccY (g)         3925 non-null   float64\n",
      " 21   LinAccZ (g)         3925 non-null   float64\n",
      " 22   Pressure (kPa)      3925 non-null   float64\n",
      " 23   Altitude (m)        3925 non-null   float64\n",
      " 24   Temperature (degC)  3925 non-null   float64\n",
      " 25   HeaveMotion (m)     3925 non-null   float64\n",
      "dtypes: float64(24), int64(2)\n",
      "memory usage: 797.4 KB\n",
      "None\n"
     ]
    },
    {
     "data": {
      "text/html": [
       "<div>\n",
       "<style scoped>\n",
       "    .dataframe tbody tr th:only-of-type {\n",
       "        vertical-align: middle;\n",
       "    }\n",
       "\n",
       "    .dataframe tbody tr th {\n",
       "        vertical-align: top;\n",
       "    }\n",
       "\n",
       "    .dataframe thead th {\n",
       "        text-align: right;\n",
       "    }\n",
       "</style>\n",
       "<table border=\"1\" class=\"dataframe\">\n",
       "  <thead>\n",
       "    <tr style=\"text-align: right;\">\n",
       "      <th></th>\n",
       "      <th>SensorId</th>\n",
       "      <th>TimeStamp (s)</th>\n",
       "      <th>FrameNumber</th>\n",
       "      <th>AccX (g)</th>\n",
       "      <th>AccY (g)</th>\n",
       "      <th>AccZ (g)</th>\n",
       "      <th>GyroX (deg/s)</th>\n",
       "      <th>GyroY (deg/s)</th>\n",
       "      <th>GyroZ (deg/s)</th>\n",
       "      <th>MagX (uT)</th>\n",
       "      <th>...</th>\n",
       "      <th>QuatX</th>\n",
       "      <th>QuatY</th>\n",
       "      <th>QuatZ</th>\n",
       "      <th>LinAccX (g)</th>\n",
       "      <th>LinAccY (g)</th>\n",
       "      <th>LinAccZ (g)</th>\n",
       "      <th>Pressure (kPa)</th>\n",
       "      <th>Altitude (m)</th>\n",
       "      <th>Temperature (degC)</th>\n",
       "      <th>HeaveMotion (m)</th>\n",
       "    </tr>\n",
       "  </thead>\n",
       "  <tbody>\n",
       "    <tr>\n",
       "      <th>0</th>\n",
       "      <td>1</td>\n",
       "      <td>-0.0002</td>\n",
       "      <td>0</td>\n",
       "      <td>-0.142809</td>\n",
       "      <td>-0.495929</td>\n",
       "      <td>-0.852164</td>\n",
       "      <td>0.050816</td>\n",
       "      <td>0.057225</td>\n",
       "      <td>-0.027230</td>\n",
       "      <td>14.352529</td>\n",
       "      <td>...</td>\n",
       "      <td>0.249328</td>\n",
       "      <td>-0.114206</td>\n",
       "      <td>-0.185008</td>\n",
       "      <td>0.000048</td>\n",
       "      <td>-0.002238</td>\n",
       "      <td>-0.003064</td>\n",
       "      <td>0.0</td>\n",
       "      <td>0.0</td>\n",
       "      <td>0.0</td>\n",
       "      <td>0.0</td>\n",
       "    </tr>\n",
       "    <tr>\n",
       "      <th>1</th>\n",
       "      <td>2</td>\n",
       "      <td>0.0002</td>\n",
       "      <td>0</td>\n",
       "      <td>0.011392</td>\n",
       "      <td>-0.770265</td>\n",
       "      <td>-0.637309</td>\n",
       "      <td>-0.070562</td>\n",
       "      <td>-0.023664</td>\n",
       "      <td>0.105633</td>\n",
       "      <td>43.203743</td>\n",
       "      <td>...</td>\n",
       "      <td>0.111493</td>\n",
       "      <td>0.320466</td>\n",
       "      <td>0.851261</td>\n",
       "      <td>0.000243</td>\n",
       "      <td>-0.000497</td>\n",
       "      <td>0.000171</td>\n",
       "      <td>0.0</td>\n",
       "      <td>0.0</td>\n",
       "      <td>0.0</td>\n",
       "      <td>0.0</td>\n",
       "    </tr>\n",
       "    <tr>\n",
       "      <th>2</th>\n",
       "      <td>1</td>\n",
       "      <td>0.0098</td>\n",
       "      <td>1</td>\n",
       "      <td>-0.141649</td>\n",
       "      <td>-0.496640</td>\n",
       "      <td>-0.852689</td>\n",
       "      <td>0.068635</td>\n",
       "      <td>0.039756</td>\n",
       "      <td>-0.117567</td>\n",
       "      <td>14.352529</td>\n",
       "      <td>...</td>\n",
       "      <td>0.249372</td>\n",
       "      <td>-0.114157</td>\n",
       "      <td>-0.185016</td>\n",
       "      <td>-0.001086</td>\n",
       "      <td>-0.001544</td>\n",
       "      <td>-0.002569</td>\n",
       "      <td>0.0</td>\n",
       "      <td>0.0</td>\n",
       "      <td>0.0</td>\n",
       "      <td>0.0</td>\n",
       "    </tr>\n",
       "  </tbody>\n",
       "</table>\n",
       "<p>3 rows × 26 columns</p>\n",
       "</div>"
      ],
      "text/plain": [
       "   SensorId   TimeStamp (s)   FrameNumber   AccX (g)   AccY (g)   AccZ (g)  \\\n",
       "0         1         -0.0002             0  -0.142809  -0.495929  -0.852164   \n",
       "1         2          0.0002             0   0.011392  -0.770265  -0.637309   \n",
       "2         1          0.0098             1  -0.141649  -0.496640  -0.852689   \n",
       "\n",
       "    GyroX (deg/s)   GyroY (deg/s)   GyroZ (deg/s)   MagX (uT)  ...     QuatX  \\\n",
       "0        0.050816        0.057225       -0.027230   14.352529  ...  0.249328   \n",
       "1       -0.070562       -0.023664        0.105633   43.203743  ...  0.111493   \n",
       "2        0.068635        0.039756       -0.117567   14.352529  ...  0.249372   \n",
       "\n",
       "      QuatY     QuatZ   LinAccX (g)   LinAccY (g)   LinAccZ (g)  \\\n",
       "0 -0.114206 -0.185008      0.000048     -0.002238     -0.003064   \n",
       "1  0.320466  0.851261      0.000243     -0.000497      0.000171   \n",
       "2 -0.114157 -0.185016     -0.001086     -0.001544     -0.002569   \n",
       "\n",
       "    Pressure (kPa)   Altitude (m)   Temperature (degC)   HeaveMotion (m)  \n",
       "0              0.0            0.0                  0.0               0.0  \n",
       "1              0.0            0.0                  0.0               0.0  \n",
       "2              0.0            0.0                  0.0               0.0  \n",
       "\n",
       "[3 rows x 26 columns]"
      ]
     },
     "execution_count": 60,
     "metadata": {},
     "output_type": "execute_result"
    }
   ],
   "source": [
    "#浏览数据\n",
    "print(zy_df.info())\n",
    "#查看前 3 行代码\n",
    "zy_df.head(3)"
   ]
  },
  {
   "cell_type": "code",
   "execution_count": 43,
   "metadata": {},
   "outputs": [
    {
     "data": {
      "text/plain": [
       "Index(['SensorId', ' TimeStamp (s)', ' FrameNumber', ' AccX (g)', ' AccY (g)',\n",
       "       ' AccZ (g)', ' GyroX (deg/s)', ' GyroY (deg/s)', ' GyroZ (deg/s)',\n",
       "       ' MagX (uT)', ' MagY (uT)', ' MagZ (uT)', ' EulerX (deg)',\n",
       "       ' EulerY (deg)', ' EulerZ (deg)', ' QuatW', ' QuatX', ' QuatY',\n",
       "       ' QuatZ', ' LinAccX (g)', ' LinAccY (g)', ' LinAccZ (g)',\n",
       "       ' Pressure (kPa)', ' Altitude (m)', ' Temperature (degC)',\n",
       "       ' HeaveMotion (m)'],\n",
       "      dtype='object')"
      ]
     },
     "execution_count": 43,
     "metadata": {},
     "output_type": "execute_result"
    }
   ],
   "source": [
    "# 查看所有列的名称\n",
    "zy_df.columns"
   ]
  },
  {
   "cell_type": "code",
   "execution_count": 61,
   "metadata": {},
   "outputs": [
    {
     "data": {
      "text/html": [
       "<div>\n",
       "<style scoped>\n",
       "    .dataframe tbody tr th:only-of-type {\n",
       "        vertical-align: middle;\n",
       "    }\n",
       "\n",
       "    .dataframe tbody tr th {\n",
       "        vertical-align: top;\n",
       "    }\n",
       "\n",
       "    .dataframe thead th {\n",
       "        text-align: right;\n",
       "    }\n",
       "</style>\n",
       "<table border=\"1\" class=\"dataframe\">\n",
       "  <thead>\n",
       "    <tr style=\"text-align: right;\">\n",
       "      <th></th>\n",
       "      <th>SensorId</th>\n",
       "      <th>TimeStamp (s)</th>\n",
       "      <th>FrameNumber</th>\n",
       "      <th>AccX (g)</th>\n",
       "      <th>AccY (g)</th>\n",
       "      <th>AccZ (g)</th>\n",
       "      <th>GyroX (deg/s)</th>\n",
       "      <th>GyroY (deg/s)</th>\n",
       "      <th>GyroZ (deg/s)</th>\n",
       "      <th>MagX (uT)</th>\n",
       "      <th>...</th>\n",
       "      <th>QuatX</th>\n",
       "      <th>QuatY</th>\n",
       "      <th>QuatZ</th>\n",
       "      <th>LinAccX (g)</th>\n",
       "      <th>LinAccY (g)</th>\n",
       "      <th>LinAccZ (g)</th>\n",
       "      <th>Pressure (kPa)</th>\n",
       "      <th>Altitude (m)</th>\n",
       "      <th>Temperature (degC)</th>\n",
       "      <th>HeaveMotion (m)</th>\n",
       "    </tr>\n",
       "  </thead>\n",
       "  <tbody>\n",
       "    <tr>\n",
       "      <th>1</th>\n",
       "      <td>2</td>\n",
       "      <td>0.0002</td>\n",
       "      <td>0</td>\n",
       "      <td>0.011392</td>\n",
       "      <td>-0.770265</td>\n",
       "      <td>-0.637309</td>\n",
       "      <td>-0.070562</td>\n",
       "      <td>-0.023664</td>\n",
       "      <td>0.105633</td>\n",
       "      <td>43.203743</td>\n",
       "      <td>...</td>\n",
       "      <td>0.111493</td>\n",
       "      <td>0.320466</td>\n",
       "      <td>0.851261</td>\n",
       "      <td>0.000243</td>\n",
       "      <td>-0.000497</td>\n",
       "      <td>0.000171</td>\n",
       "      <td>0.0</td>\n",
       "      <td>0.0</td>\n",
       "      <td>0.0</td>\n",
       "      <td>0.0</td>\n",
       "    </tr>\n",
       "    <tr>\n",
       "      <th>3</th>\n",
       "      <td>2</td>\n",
       "      <td>0.0102</td>\n",
       "      <td>1</td>\n",
       "      <td>0.011884</td>\n",
       "      <td>-0.770451</td>\n",
       "      <td>-0.636944</td>\n",
       "      <td>0.106428</td>\n",
       "      <td>-0.093535</td>\n",
       "      <td>-0.020026</td>\n",
       "      <td>43.876060</td>\n",
       "      <td>...</td>\n",
       "      <td>0.111502</td>\n",
       "      <td>0.320472</td>\n",
       "      <td>0.851256</td>\n",
       "      <td>-0.000237</td>\n",
       "      <td>-0.000191</td>\n",
       "      <td>-0.000232</td>\n",
       "      <td>0.0</td>\n",
       "      <td>0.0</td>\n",
       "      <td>0.0</td>\n",
       "      <td>0.0</td>\n",
       "    </tr>\n",
       "    <tr>\n",
       "      <th>5</th>\n",
       "      <td>2</td>\n",
       "      <td>0.0202</td>\n",
       "      <td>2</td>\n",
       "      <td>0.011308</td>\n",
       "      <td>-0.771215</td>\n",
       "      <td>-0.636856</td>\n",
       "      <td>-0.052704</td>\n",
       "      <td>-0.023489</td>\n",
       "      <td>0.052976</td>\n",
       "      <td>43.145279</td>\n",
       "      <td>...</td>\n",
       "      <td>0.111504</td>\n",
       "      <td>0.320466</td>\n",
       "      <td>0.851259</td>\n",
       "      <td>0.000321</td>\n",
       "      <td>0.000577</td>\n",
       "      <td>-0.000133</td>\n",
       "      <td>0.0</td>\n",
       "      <td>0.0</td>\n",
       "      <td>0.0</td>\n",
       "      <td>0.0</td>\n",
       "    </tr>\n",
       "  </tbody>\n",
       "</table>\n",
       "<p>3 rows × 26 columns</p>\n",
       "</div>"
      ],
      "text/plain": [
       "   SensorId   TimeStamp (s)   FrameNumber   AccX (g)   AccY (g)   AccZ (g)  \\\n",
       "1         2          0.0002             0   0.011392  -0.770265  -0.637309   \n",
       "3         2          0.0102             1   0.011884  -0.770451  -0.636944   \n",
       "5         2          0.0202             2   0.011308  -0.771215  -0.636856   \n",
       "\n",
       "    GyroX (deg/s)   GyroY (deg/s)   GyroZ (deg/s)   MagX (uT)  ...     QuatX  \\\n",
       "1       -0.070562       -0.023664        0.105633   43.203743  ...  0.111493   \n",
       "3        0.106428       -0.093535       -0.020026   43.876060  ...  0.111502   \n",
       "5       -0.052704       -0.023489        0.052976   43.145279  ...  0.111504   \n",
       "\n",
       "      QuatY     QuatZ   LinAccX (g)   LinAccY (g)   LinAccZ (g)  \\\n",
       "1  0.320466  0.851261      0.000243     -0.000497      0.000171   \n",
       "3  0.320472  0.851256     -0.000237     -0.000191     -0.000232   \n",
       "5  0.320466  0.851259      0.000321      0.000577     -0.000133   \n",
       "\n",
       "    Pressure (kPa)   Altitude (m)   Temperature (degC)   HeaveMotion (m)  \n",
       "1              0.0            0.0                  0.0               0.0  \n",
       "3              0.0            0.0                  0.0               0.0  \n",
       "5              0.0            0.0                  0.0               0.0  \n",
       "\n",
       "[3 rows x 26 columns]"
      ]
     },
     "execution_count": 61,
     "metadata": {},
     "output_type": "execute_result"
    }
   ],
   "source": [
    "# 筛选出左脚的传感器，编号为2\n",
    "zy_df_filterd = zy_df[zy_df[\"SensorId\"]==2]\n",
    "zy_df_filterd.head(3)"
   ]
  },
  {
   "cell_type": "code",
   "execution_count": 62,
   "metadata": {},
   "outputs": [
    {
     "data": {
      "text/plain": [
       "Index(['SensorId', ' TimeStamp (s)', ' FrameNumber', ' AccX (g)', ' AccY (g)',\n",
       "       ' AccZ (g)', ' GyroX (deg/s)', ' GyroY (deg/s)', ' GyroZ (deg/s)',\n",
       "       ' MagX (uT)', ' MagY (uT)', ' MagZ (uT)', ' EulerX (deg)',\n",
       "       ' EulerY (deg)', ' EulerZ (deg)', ' QuatW', ' QuatX', ' QuatY',\n",
       "       ' QuatZ', ' LinAccX (g)', ' LinAccY (g)', ' LinAccZ (g)',\n",
       "       ' Pressure (kPa)', ' Altitude (m)', ' Temperature (degC)',\n",
       "       ' HeaveMotion (m)'],\n",
       "      dtype='object')"
      ]
     },
     "execution_count": 62,
     "metadata": {},
     "output_type": "execute_result"
    }
   ],
   "source": [
    "# 查看所有列的数据\n",
    "zy_df_filterd.columns"
   ]
  },
  {
   "cell_type": "code",
   "execution_count": 78,
   "metadata": {},
   "outputs": [
    {
     "data": {
      "image/png": "[encoded data removed]",
      "text/plain": [
       "<Figure size 1200x300 with 3 Axes>"
      ]
     },
     "metadata": {},
     "output_type": "display_data"
    }
   ],
   "source": [
    "# 绘图\n",
    "fig, axs = plt.subplots(1,3, figsize=(12,3), sharey=True)\n",
    "\n",
    "# 绘制第一幅图\n",
    "axs[0].set_title(\"x\")\n",
    "zy_df_filterd[\" LinAccX (g)\"].plot(ax=axs[0],color=\"r\")\n",
    "\n",
    "# 绘制第二副子图\n",
    "axs[1].set_title(\"y\")\n",
    "zy_df_filterd[\" LinAccY (g)\"].plot(ax=axs[1],color=\"g\")\n",
    "\n",
    "# 绘制第三副子图\n",
    "axs[2].set_title(\"z\")\n",
    "zy_df_filterd[\" LinAccZ (g)\"].plot(ax=axs[2],color=\"b\")\n",
    "\n",
    "# 命名并保存\n",
    "# 设置总标题\n",
    "plot_file_name = \"尊悦 左脚x y z方向线性加速度变化\"\n",
    "plot_file_path = os.path.join(plot_dir_name,plot_file_name)\n",
    "plt.suptitle(plot_file_name,y=1)\n",
    "plt.savefig(plot_file_path)"
   ]
  },
  {
   "cell_type": "code",
   "execution_count": null,
   "metadata": {},
   "outputs": [],
   "source": []
  }
 ],
 "metadata": {
  "kernelspec": {
   "display_name": "base",
   "language": "python",
   "name": "python3"
  },
  "language_info": {
   "codemirror_mode": {
    "name": "ipython",
    "version": 3
   },
   "file_extension": ".py",
   "mimetype": "text/x-python",
   "name": "python",
   "nbconvert_exporter": "python",
   "pygments_lexer": "ipython3",
   "version": "3.10.9 (main, Mar  1 2023, 12:33:47) [Clang 14.0.6 ]"
  },
  "orig_nbformat": 4,
  "vscode": {
   "interpreter": {
    "hash": "f0e6e5a6c366f0544d48e86b9538c9e2f921792a30284d93e80dad42978f2a5f"
   }
  }
 },
 "nbformat": 4,
 "nbformat_minor": 2
}
