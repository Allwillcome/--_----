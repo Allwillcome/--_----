{
 "cells": [
  {
   "attachments": {},
   "cell_type": "markdown",
   "metadata": {},
   "source": [
    "# 绘制 Xsens MVN 中指定关节位置的欧拉角或四元数数据"
   ]
  },
  {
   "cell_type": "code",
   "execution_count": 1,
   "metadata": {},
   "outputs": [],
   "source": [
    "import os\n",
    "import pandas as pd\n",
    "import matplotlib.pyplot as plt"
   ]
  },
  {
   "cell_type": "code",
   "execution_count": 25,
   "metadata": {},
   "outputs": [],
   "source": [
    "path = r\"/Users/wangshuaibo/Documents/北京悦动/脑卒中项目/阿帅笔记/HarbinStroke/Xsens/Raw_Data\"\n",
    "process_data_path = r\"/Users/wangshuaibo/Documents/北京悦动/脑卒中项目/阿帅笔记/HarbinStroke/Xsens/Process_Data\"\n",
    "os.chdir(path)\n",
    "filename =  \"XH-001.xlsx\""
   ]
  },
  {
   "cell_type": "code",
   "execution_count": 50,
   "metadata": {},
   "outputs": [
    {
     "data": {
      "text/plain": [
       "Index(['Frame', 'Pelvis q0', 'Pelvis q1', 'Pelvis q2', 'Pelvis q3', 'L5 q0',\n",
       "       'L5 q1', 'L5 q2', 'L5 q3', 'L3 q0', 'L3 q1', 'L3 q2', 'L3 q3', 'T12 q0',\n",
       "       'T12 q1', 'T12 q2', 'T12 q3', 'T8 q0', 'T8 q1', 'T8 q2', 'T8 q3',\n",
       "       'Neck q0', 'Neck q1', 'Neck q2', 'Neck q3', 'Head q0', 'Head q1',\n",
       "       'Head q2', 'Head q3', 'Right Shoulder q0', 'Right Shoulder q1',\n",
       "       'Right Shoulder q2', 'Right Shoulder q3', 'Right Upper Arm q0',\n",
       "       'Right Upper Arm q1', 'Right Upper Arm q2', 'Right Upper Arm q3',\n",
       "       'Right Forearm q0', 'Right Forearm q1', 'Right Forearm q2',\n",
       "       'Right Forearm q3', 'Right Hand q0', 'Right Hand q1', 'Right Hand q2',\n",
       "       'Right Hand q3', 'Left Shoulder q0', 'Left Shoulder q1',\n",
       "       'Left Shoulder q2', 'Left Shoulder q3', 'Left Upper Arm q0',\n",
       "       'Left Upper Arm q1', 'Left Upper Arm q2', 'Left Upper Arm q3',\n",
       "       'Left Forearm q0', 'Left Forearm q1', 'Left Forearm q2',\n",
       "       'Left Forearm q3', 'Left Hand q0', 'Left Hand q1', 'Left Hand q2',\n",
       "       'Left Hand q3', 'Right Upper Leg q0', 'Right Upper Leg q1',\n",
       "       'Right Upper Leg q2', 'Right Upper Leg q3', 'Right Lower Leg q0',\n",
       "       'Right Lower Leg q1', 'Right Lower Leg q2', 'Right Lower Leg q3',\n",
       "       'Right Foot q0', 'Right Foot q1', 'Right Foot q2', 'Right Foot q3',\n",
       "       'Right Toe q0', 'Right Toe q1', 'Right Toe q2', 'Right Toe q3',\n",
       "       'Left Upper Leg q0', 'Left Upper Leg q1', 'Left Upper Leg q2',\n",
       "       'Left Upper Leg q3', 'Left Lower Leg q0', 'Left Lower Leg q1',\n",
       "       'Left Lower Leg q2', 'Left Lower Leg q3', 'Left Foot q0',\n",
       "       'Left Foot q1', 'Left Foot q2', 'Left Foot q3', 'Left Toe q0',\n",
       "       'Left Toe q1', 'Left Toe q2', 'Left Toe q3'],\n",
       "      dtype='object')"
      ]
     },
     "execution_count": 50,
     "metadata": {},
     "output_type": "execute_result"
    }
   ],
   "source": [
    "df = pd.read_excel(filename, sheet_name= 'Sensor Orientation - ' +  \"Quat\")\n",
    "df.columns"
   ]
  },
  {
   "cell_type": "code",
   "execution_count": 55,
   "metadata": {},
   "outputs": [],
   "source": [
    "\n",
    "def PlotXsensMVNOrientation(filename,process_data_path, sensor, orientation_method):\n",
    "    \"\"\"\n",
    "    绘制 Xsens MVN Studio 中传感器方向数据的函数\n",
    "    \n",
    "    参数：\n",
    "    filename (str): 包含传感器方向数据的 Excel 文件的完整路径\n",
    "    process_data_path (str): 图片储存路径的完整路径\n",
    "    sensor (str): 要绘制的传感器名称，如 \"Pelvis\", \"RightUpperArm\"\n",
    "    orientation_method (str): 传感器方向数据的表示方法，如 \"Euler\", \"Quaternion\"\n",
    "    \n",
    "    返回值：\n",
    "    None\n",
    "    \"\"\"\n",
    "\n",
    "    # 读取文件\n",
    "    df = pd.read_excel(filename, sheet_name= 'Sensor Orientation - ' +  orientation_method)\n",
    "\n",
    "    if orientation_method == \"Euler\":\n",
    "        # 读取数据\n",
    "        coordinate_axis = [\" x\", \" y\",\" z\"]\n",
    "    else:\n",
    "        coordinate_axis = [\" q0\",\" q1\", \" q2\",\" q3\"]\n",
    "    sensor_coordinate_axis = [sensor + coordinate_ax for coordinate_ax in coordinate_axis]\n",
    "\n",
    "    # 绘图\n",
    "    df[sensor_coordinate_axis].plot()\n",
    "\n",
    "    # 构建图片储存路径\n",
    "\n",
    "    plot_dir_name = sensor + \"_\" + orientation_method\n",
    "    plot_dir_path = os.path.join(process_data_path,plot_dir_name)\n",
    "    os.makedirs(plot_dir_path, exist_ok=True)\n",
    "\n",
    "    # 构建图片名称以及图片文件名称\n",
    "    filename_without_ext,_ = os.path.splitext(filename)\n",
    "    plot_name = f\"{filename_without_ext}_{sensor}_{orientation_method}\"\n",
    "    plot_file_name = plot_name + \".png\"\n",
    "    plot_path = os.path.join(plot_dir_path,plot_file_name)\n",
    "\n",
    "    plt.title(plot_name)\n",
    "    plt.savefig(plot_path)\n",
    "    plt.close()"
   ]
  },
  {
   "cell_type": "code",
   "execution_count": 56,
   "metadata": {},
   "outputs": [],
   "source": [
    "# 循环绘制骨盆、左足、右足的数据\n",
    "for filename in os.listdir(path):\n",
    "    for sensor in ['Pelvis', \"Left Foot\", \"Right Foot\"]:\n",
    "        orientation_method = \"Quat\"\n",
    "        PlotXsensMVNOrientation(filename,process_data_path, sensor, orientation_method)"
   ]
  },
  {
   "cell_type": "code",
   "execution_count": 52,
   "metadata": {},
   "outputs": [],
   "source": [
    "sensor_names = [ 'Pelvis x', 'Pelvis y', 'Pelvis z', 'L5 x', 'L5 y', 'L5 z',\n",
    "       'L3 x', 'L3 y', 'L3 z', 'T12 x', 'T12 y', 'T12 z', 'T8 x', 'T8 y',\n",
    "       'T8 z', 'Neck x', 'Neck y', 'Neck z', 'Head x', 'Head y', 'Head z',\n",
    "       'Right Shoulder x', 'Right Shoulder y', 'Right Shoulder z',\n",
    "       'Right Upper Arm x', 'Right Upper Arm y', 'Right Upper Arm z',\n",
    "       'Right Forearm x', 'Right Forearm y', 'Right Forearm z', 'Right Hand x',\n",
    "       'Right Hand y', 'Right Hand z', 'Left Shoulder x', 'Left Shoulder y',\n",
    "       'Left Shoulder z', 'Left Upper Arm x', 'Left Upper Arm y',\n",
    "       'Left Upper Arm z', 'Left Forearm x', 'Left Forearm y',\n",
    "       'Left Forearm z', 'Left Hand x', 'Left Hand y', 'Left Hand z',\n",
    "       'Right Upper Leg x', 'Right Upper Leg y', 'Right Upper Leg z',\n",
    "       'Right Lower Leg x', 'Right Lower Leg y', 'Right Lower Leg z',\n",
    "       'Right Foot x', 'Right Foot y', 'Right Foot z', 'Right Toe x',\n",
    "       'Right Toe y', 'Right Toe z', 'Left Upper Leg x', 'Left Upper Leg y',\n",
    "       'Left Upper Leg z', 'Left Lower Leg x', 'Left Lower Leg y',\n",
    "       'Left Lower Leg z', 'Left Foot x', 'Left Foot y', 'Left Foot z',\n",
    "       'Left Toe x', 'Left Toe y', 'Left Toe z']"
   ]
  }
 ],
 "metadata": {
  "kernelspec": {
   "display_name": "base",
   "language": "python",
   "name": "python3"
  },
  "language_info": {
   "codemirror_mode": {
    "name": "ipython",
    "version": 3
   },
   "file_extension": ".py",
   "mimetype": "text/x-python",
   "name": "python",
   "nbconvert_exporter": "python",
   "pygments_lexer": "ipython3",
   "version": "3.10.11"
  },
  "orig_nbformat": 4,
  "vscode": {
   "interpreter": {
    "hash": "f0e6e5a6c366f0544d48e86b9538c9e2f921792a30284d93e80dad42978f2a5f"
   }
  }
 },
 "nbformat": 4,
 "nbformat_minor": 2
}
