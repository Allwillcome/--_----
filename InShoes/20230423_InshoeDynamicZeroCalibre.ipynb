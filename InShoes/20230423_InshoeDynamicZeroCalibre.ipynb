{
 "cells": [
  {
   "cell_type": "code",
   "execution_count": 2,
   "metadata": {},
   "outputs": [],
   "source": [
    "import pandas as pd\n",
    "import matplotlib.pyplot as plt\n",
    "from scipy.signal import find_peaks\n",
    "import os\n",
    "from pathlib import Path\n",
    "import numpy as np\n",
    "import re"
   ]
  },
  {
   "cell_type": "code",
   "execution_count": 9,
   "metadata": {},
   "outputs": [],
   "source": [
    "path = Path(input(\"请输入路径：\"))"
   ]
  },
  {
   "cell_type": "code",
   "execution_count": 35,
   "metadata": {},
   "outputs": [
    {
     "name": "stdout",
     "output_type": "stream",
     "text": [
      "当前路径为:/Users/wangshuaibo/Documents/北京悦动/脑卒中项目/阿帅笔记/测试数据及分析结果/20230424鞋垫空放自重漂移测试\n"
     ]
    }
   ],
   "source": [
    "os.chdir(path)\n",
    "print(f\"当前路径为:{os.getcwd()}\")"
   ]
  },
  {
   "cell_type": "code",
   "execution_count": 36,
   "metadata": {},
   "outputs": [],
   "source": [
    "# 新建动态校准后文件夹\n",
    "DynamicCalibreDir = \"DynamicCalibre\"\n",
    "if not os.path.exists(DynamicCalibreDir):\n",
    "    os.mkdir(DynamicCalibreDir)"
   ]
  },
  {
   "cell_type": "code",
   "execution_count": 37,
   "metadata": {},
   "outputs": [],
   "source": [
    "# 动态零压校准代码\n",
    "def SensorsCalibre(part_data,part):\n",
    "    sensors_calibre = pd.DataFrame({})\n",
    "\n",
    "    # 传感器列表\n",
    "    sensors = ['p1-c', 'p2-c', 'p3-c', 'p4-c', 'p5-c', 'p6-c', 'p7-c',\n",
    "       'p8-c', 'p9-c', 'p10-c', 'p11-c', 'p12-c']\n",
    "\n",
    "    for sensor_name in sensors:\n",
    "        sensor = part_data[sensor_name]\n",
    "\n",
    "        # 查找峰值\n",
    "        # 以快跑 16km/h ，对应至少间隔 22 个数\n",
    "        peaks,_ = find_peaks(-sensor,-sensor.max(),width=20)\n",
    "        L_shape = sensor.shape\n",
    "        peakls = peaks.tolist()\n",
    "\n",
    "        # 查找峰值并绘制图片\n",
    "        #sensor.plot()\n",
    "        #plt.plot(peaks*2,sensor.iloc[peakls])\n",
    "\n",
    "        # 使用峰值校准数据\n",
    "        # 所有数据减去前一个峰值\n",
    "        # 第一个峰值之前的数据减去第一个峰值\n",
    "        range_start = peakls[0]\n",
    "        df_calibre = pd.DataFrame({})\n",
    "        # 选取区间内数值\n",
    "        snip_data= sensor.iloc[0:range_start]\n",
    "        # 进行校准\n",
    "        calibre_sensor_snip = snip_data.apply(lambda x: x-sensor.iloc[range_start])\n",
    "        df_calibre = pd.concat([df_calibre.reset_index(drop=True), \n",
    "                                        calibre_sensor_snip.reset_index(drop=True)],axis=0)   \n",
    "        for i in range(len(peakls)):\n",
    "\n",
    "            # 选取两个波谷之间的区间\n",
    "            range_start = peakls[i]\n",
    "            if i < len(peakls)-1:\n",
    "                range_end = peakls[i+1]\n",
    "            else:\n",
    "                range_end = L_shape[0]\n",
    "            \n",
    "\n",
    "            # 选取区间内数值\n",
    "            snip_data= sensor.iloc[range_start:range_end]\n",
    "            # 进行校准\n",
    "            calibre_sensor_snip = snip_data.apply(lambda x: x-sensor.iloc[range_start])\n",
    "            \n",
    "\n",
    "            # 将当前生成的 Series 与 df_calibre 拼接\n",
    "            df_calibre = pd.concat([df_calibre.reset_index(drop=True), \n",
    "                                        calibre_sensor_snip.reset_index(drop=True)],axis=0)\n",
    "            \n",
    "            # 重置一下索引，使得索引是唯一的\n",
    "            df_calibre.reset_index(drop=True, inplace=True)\n",
    "            \n",
    "        df_calibre.columns = [sensor_name]\n",
    "        sensors_calibre = pd.concat([sensors_calibre.reset_index(drop=True),\n",
    "                            df_calibre.reset_index(drop=True)],axis=1)\n",
    "\n",
    "        # 绘图\n",
    "        # sensor.plot()\n",
    "        # df_calibre.plot()\n",
    "        \n",
    "    sensors_calibre.insert(0,\"part\", part)\n",
    "\n",
    "    return sensors_calibre"
   ]
  },
  {
   "cell_type": "code",
   "execution_count": 41,
   "metadata": {},
   "outputs": [],
   "source": [
    "# 重命名代码\n",
    "def CalibreFileName(file):\n",
    "    # 重新构建新文件名\n",
    "    regex = r\"(.*_)(.*_.*)\"\n",
    "\n",
    "    match =  re.search(regex,file)\n",
    "\n",
    "    # 对容易报错的地方增加 try except\n",
    "    # 不影响程序运行\n",
    "    try:\n",
    "        match = re.search(regex,file)\n",
    "        if match:\n",
    "            user = match[1]\n",
    "            extracted_filename = match[2]\n",
    "        else:\n",
    "            print(\"未匹配到文件名\")\n",
    "    # 能够把 re 的 error 输出出来\n",
    "    except re.error as e:\n",
    "        print(f\"正则表达式错误:{e}\")\n",
    "\n",
    "    new_file = user + \"Calibre-\" + extracted_filename\n",
    "    return new_file"
   ]
  },
  {
   "cell_type": "code",
   "execution_count": 39,
   "metadata": {},
   "outputs": [],
   "source": [
    "files = os.listdir(Path(\"./RawData\"))\n",
    "\n",
    "for file in files:\n",
    "    if \".csv\" in file:\n",
    "\n",
    "        # 读取文件\n",
    "        file_path = os.path.join(path,\"RawData\",file)\n",
    "        df = pd.read_csv(file_path)\n",
    "\n",
    "        L_data = df[df[\"part\"]==\"L\"]\n",
    "        R_data = df[df[\"part\"]==\"R\"]\n",
    "\n",
    "        # 对左右鞋垫数据分别进行校准\n",
    "        L_SensorsCalibre = SensorsCalibre(L_data,\"L\")\n",
    "        R_SensorsCalibre = SensorsCalibre(R_data,\"R\")\n",
    "\n",
    "        SensorsCalibre_df = pd.concat([L_SensorsCalibre.reset_index(drop=True),\n",
    "                                    R_SensorsCalibre.reset_index(drop=True)])\n",
    "\n",
    "        # 重命名\n",
    "        newfile = CalibreFileName(file)\n",
    "        new_file_path =  os.path.join(path,DynamicCalibreDir,new_file)\n",
    "\n",
    "        # 保存文件\n",
    "        SensorsCalibre_df.to_csv(new_file_path,index=False)"
   ]
  },
  {
   "cell_type": "code",
   "execution_count": null,
   "metadata": {},
   "outputs": [],
   "source": []
  }
 ],
 "metadata": {
  "kernelspec": {
   "display_name": "base",
   "language": "python",
   "name": "python3"
  },
  "language_info": {
   "codemirror_mode": {
    "name": "ipython",
    "version": 3
   },
   "file_extension": ".py",
   "mimetype": "text/x-python",
   "name": "python",
   "nbconvert_exporter": "python",
   "pygments_lexer": "ipython3",
   "version": "3.10.9 (main, Mar  1 2023, 12:33:47) [Clang 14.0.6 ]"
  },
  "orig_nbformat": 4,
  "vscode": {
   "interpreter": {
    "hash": "f0e6e5a6c366f0544d48e86b9538c9e2f921792a30284d93e80dad42978f2a5f"
   }
  }
 },
 "nbformat": 4,
 "nbformat_minor": 2
}
