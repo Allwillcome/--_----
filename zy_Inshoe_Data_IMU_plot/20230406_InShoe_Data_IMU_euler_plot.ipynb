{
 "cells": [
  {
   "attachments": {},
   "cell_type": "markdown",
   "metadata": {},
   "source": [
    "目的：\n",
    "1. 绘制 IMU 数据，并左右展示数据\n",
    "步骤：\n",
    "1. 导入包\n",
    "2. 定义路径\n",
    "3. 编写函数，批量运行"
   ]
  },
  {
   "cell_type": "code",
   "execution_count": 14,
   "metadata": {},
   "outputs": [],
   "source": [
    "#导入包\n",
    "import os\n",
    "import re\n",
    "import pandas as pd\n",
    "import matplotlib.pyplot as plt"
   ]
  },
  {
   "cell_type": "code",
   "execution_count": 15,
   "metadata": {},
   "outputs": [
    {
     "name": "stdout",
     "output_type": "stream",
     "text": [
      "当前路径为：/Users/wangshuaibo/Documents/北京悦动/脑卒中项目/阿帅笔记/测试数据及分析结果/20230418鞋垫预实验/20230419/InShoe\n"
     ]
    }
   ],
   "source": [
    "#确定路径，并切换\n",
    "path = input(\"请输入数据的路径\")\n",
    "os.chdir(path)\n",
    "print(\"当前路径为：{}\".format(os.getcwd()))"
   ]
  },
  {
   "cell_type": "code",
   "execution_count": 16,
   "metadata": {},
   "outputs": [
    {
     "name": "stdout",
     "output_type": "stream",
     "text": [
      "已经成功新建 IMU_plot\n"
     ]
    }
   ],
   "source": [
    "#新建 IMU_plot  文件夹\n",
    "dir_plot_name = \"IMU_plot\"\n",
    "\n",
    "if not os.path.exists(dir_plot_name):\n",
    "    os.mkdir(dir_plot_name)\n",
    "\n",
    "if os.path.exists(dir_plot_name):\n",
    "    print(\"已经成功新建 IMU_plot\")"
   ]
  },
  {
   "cell_type": "code",
   "execution_count": 18,
   "metadata": {},
   "outputs": [],
   "source": [
    "import numpy as np\n",
    "import pandas as pd\n",
    "from scipy.spatial.transform import Rotation\n",
    "\n",
    "def transform_euler_angles(quaternion):\n",
    "    \"\"\"\n",
    "    使用四元数转换欧拉角，并将其转换为特定形式的欧拉角。\n",
    "    使用阿鲁比小蓝块 IMU 数据进行验证，没有进行鞋垫姿态传感器的验证\n",
    "    \n",
    "    Args:\n",
    "        quaternion (list): 长度为4的Series，表示四元数。\n",
    "    \n",
    "    Returns:\n",
    "        pd.Series: 长度为3的Series，表示经过转换的欧拉角。\n",
    "    \"\"\"\n",
    "    # 使用四元数转换欧拉角\n",
    "    rotation = Rotation.from_quat(quaternion)\n",
    "    euler_angles = rotation.as_euler(\"zyx\", degrees=True)\n",
    "    \n",
    "    # 将欧拉角转换为特定形式\n",
    "    # 仅使用 transform 转化，得到的数据不正确，需要进一步转化\n",
    "    # 第一个角度不需要变化，第二个角度前面加负数，第三个是和180互补加负数\n",
    "    # 欧拉角的角度范围应该是 -180～180，但是现在数据范围大于 180\n",
    "    transformed_angles = np.round([euler_angles[0], -euler_angles[1], -(180 - euler_angles[2])], 6)\n",
    "    # transformed_angles = np.round([euler_angles[0], euler_angles[1], euler_angles[2]], 6)\n",
    "    \n",
    "    return pd.Series(transformed_angles)"
   ]
  },
  {
   "cell_type": "code",
   "execution_count": 19,
   "metadata": {},
   "outputs": [],
   "source": [
    "#确定图片储存的路径以及名称\n",
    "def plot_IMU_data(path,dir_plot_name,file,start_index,end_index):\n",
    "    regex = r\"(.*)_(.*)_(.*)\"\n",
    "    mysearch = re.search(regex,file)\n",
    "    if mysearch:\n",
    "        plot_name = mysearch.group(2) + \"-\" + dir_plot_name\n",
    "    path_plot = os.path.join(path,dir_plot_name,plot_name)\n",
    "\n",
    "    df = pd.read_csv(file)\n",
    "    euler_cols = [\"euler_x\",\"euler_y\",\"euler_z\"]\n",
    "    g_cols = [\"gx\",\"gy\",\"gz\"]\n",
    "    a_cols = [\"ax\",\"ay\",\"az\"]\n",
    "    q_cols = [\"qx\",\"qy\",\"qz\",\"qw\"]\n",
    "    df[euler_cols] = df[q_cols].apply(transform_euler_angles,axis=1)\n",
    "\n",
    "    df_sel = df.loc[start_index:end_index-1]\n",
    "    L_data = df_sel[df_sel[\"part\" ]== \"L\"]\n",
    "    R_data = df_sel[df_sel[\"part\" ]== \"R\"]\n",
    "    euler_cols = [\"euler_x\",\"euler_y\",\"euler_z\"]\n",
    "    g_cols = [\"gx\",\"gy\",\"gz\"]\n",
    "    a_cols = [\"ax\",\"ay\",\"az\"]\n",
    "    q_cols = [\"qx\",\"qy\",\"qz\",\"qw\"]\n",
    "\n",
    "\n",
    "    #创建一个包含多个子图的 Figure 对象和 AxesSubplot\n",
    "    fig, axs = plt.subplots(nrows=3, ncols=2,figsize=(12,6))\n",
    "\n",
    "    #调整子图的位置和大小\n",
    "    plt.subplots_adjust(wspace=0.2, hspace=0.4)\n",
    "    fig.set_size_inches(10,8)\n",
    "\n",
    "    plt.rcParams['font.sans-serif'] = ['Heiti TC', 'SimHei', 'FangSong']  # 汉字字体,优先使用楷体，如果找不到楷体，则使用黑体\n",
    "    plt.rcParams['font.size'] = 12  # 字体大小\n",
    "    plt.rcParams['axes.unicode_minus'] = False  # 正常显示负号\n",
    "\n",
    "    #绘制左右脚数据\n",
    "    L_data.loc[:,euler_cols].plot(ax=axs[0,0],title=\"左脚欧拉角数据（°）\")\n",
    "    R_data.loc[:,euler_cols].plot(ax=axs[0,1],title=\"右脚欧拉角数据（°）\")\n",
    "\n",
    "    L_data.loc[:,a_cols].plot(ax=axs[1,0],title=\"左脚加速度数据\")\n",
    "    R_data.loc[:,a_cols].plot(ax=axs[1,1],title=\"右脚加速度数据\")\n",
    "\n",
    "    L_data.loc[:,g_cols].plot(ax=axs[2,0],title=\"左脚角速度数据\")\n",
    "    R_data.loc[:,g_cols].plot(ax=axs[2,1],title=\"右脚角速度数据\")\n",
    "\n",
    "    # 添加注释，解释代码的目的和功能\n",
    "    plt.suptitle(plot_name, fontsize=16)\n",
    "    fig.text(0.5, 0.02, \"时间\", ha=\"center\")\n",
    "    fig.text(0.08, 0.5, \"数据值\", va=\"center\", rotation=\"vertical\")\n",
    "\n",
    "    #保存图片\n",
    "    plt.savefig(path_plot+\".png\")\n",
    "    plt.close()"
   ]
  },
  {
   "cell_type": "code",
   "execution_count": 20,
   "metadata": {},
   "outputs": [],
   "source": [
    "\n",
    "for file in os.listdir(path):\n",
    "    if \".csv\" in file:\n",
    "        # 默认索引全部数据\n",
    "        df = pd.read_csv(file)\n",
    "        end_index = df.shape[0]\n",
    "        start_index = 0\n",
    "\n",
    "        #绘图\n",
    "        plot_IMU_data(path,dir_plot_name,file,start_index,end_index)"
   ]
  },
  {
   "cell_type": "code",
   "execution_count": 15,
   "metadata": {},
   "outputs": [],
   "source": [
    "import numpy as np\n",
    "from scipy.spatial.transform import Rotation\n",
    "\n",
    "df[[\"Eulerx\",\"Eulery\",\"Eulery\"]] = df[[\"qw\",\"qx\",\"qy\",\"qz\"]].apply(transform_euler_angles,axis=1)"
   ]
  },
  {
   "cell_type": "code",
   "execution_count": 16,
   "metadata": {},
   "outputs": [
    {
     "data": {
      "text/html": [
       "<div>\n",
       "<style scoped>\n",
       "    .dataframe tbody tr th:only-of-type {\n",
       "        vertical-align: middle;\n",
       "    }\n",
       "\n",
       "    .dataframe tbody tr th {\n",
       "        vertical-align: top;\n",
       "    }\n",
       "\n",
       "    .dataframe thead th {\n",
       "        text-align: right;\n",
       "    }\n",
       "</style>\n",
       "<table border=\"1\" class=\"dataframe\">\n",
       "  <thead>\n",
       "    <tr style=\"text-align: right;\">\n",
       "      <th></th>\n",
       "      <th>Eulerx</th>\n",
       "      <th>Eulery</th>\n",
       "      <th>Eulery</th>\n",
       "    </tr>\n",
       "  </thead>\n",
       "  <tbody>\n",
       "    <tr>\n",
       "      <th>0</th>\n",
       "      <td>1.757530</td>\n",
       "      <td>-197.542088</td>\n",
       "      <td>-197.542088</td>\n",
       "    </tr>\n",
       "    <tr>\n",
       "      <th>1</th>\n",
       "      <td>4.727731</td>\n",
       "      <td>-212.603832</td>\n",
       "      <td>-212.603832</td>\n",
       "    </tr>\n",
       "    <tr>\n",
       "      <th>2</th>\n",
       "      <td>0.407102</td>\n",
       "      <td>-315.756699</td>\n",
       "      <td>-315.756699</td>\n",
       "    </tr>\n",
       "    <tr>\n",
       "      <th>3</th>\n",
       "      <td>5.394189</td>\n",
       "      <td>-346.083451</td>\n",
       "      <td>-346.083451</td>\n",
       "    </tr>\n",
       "    <tr>\n",
       "      <th>4</th>\n",
       "      <td>0.361573</td>\n",
       "      <td>-315.773540</td>\n",
       "      <td>-315.773540</td>\n",
       "    </tr>\n",
       "    <tr>\n",
       "      <th>...</th>\n",
       "      <td>...</td>\n",
       "      <td>...</td>\n",
       "      <td>...</td>\n",
       "    </tr>\n",
       "    <tr>\n",
       "      <th>531</th>\n",
       "      <td>5.498705</td>\n",
       "      <td>-340.382987</td>\n",
       "      <td>-340.382987</td>\n",
       "    </tr>\n",
       "    <tr>\n",
       "      <th>532</th>\n",
       "      <td>-0.139663</td>\n",
       "      <td>-320.898346</td>\n",
       "      <td>-320.898346</td>\n",
       "    </tr>\n",
       "    <tr>\n",
       "      <th>533</th>\n",
       "      <td>5.494758</td>\n",
       "      <td>-340.384215</td>\n",
       "      <td>-340.384215</td>\n",
       "    </tr>\n",
       "    <tr>\n",
       "      <th>534</th>\n",
       "      <td>-0.209574</td>\n",
       "      <td>-320.877157</td>\n",
       "      <td>-320.877157</td>\n",
       "    </tr>\n",
       "    <tr>\n",
       "      <th>535</th>\n",
       "      <td>5.502110</td>\n",
       "      <td>-340.385126</td>\n",
       "      <td>-340.385126</td>\n",
       "    </tr>\n",
       "  </tbody>\n",
       "</table>\n",
       "<p>536 rows × 3 columns</p>\n",
       "</div>"
      ],
      "text/plain": [
       "       Eulerx      Eulery      Eulery\n",
       "0    1.757530 -197.542088 -197.542088\n",
       "1    4.727731 -212.603832 -212.603832\n",
       "2    0.407102 -315.756699 -315.756699\n",
       "3    5.394189 -346.083451 -346.083451\n",
       "4    0.361573 -315.773540 -315.773540\n",
       "..        ...         ...         ...\n",
       "531  5.498705 -340.382987 -340.382987\n",
       "532 -0.139663 -320.898346 -320.898346\n",
       "533  5.494758 -340.384215 -340.384215\n",
       "534 -0.209574 -320.877157 -320.877157\n",
       "535  5.502110 -340.385126 -340.385126\n",
       "\n",
       "[536 rows x 3 columns]"
      ]
     },
     "execution_count": 16,
     "metadata": {},
     "output_type": "execute_result"
    }
   ],
   "source": [
    "df[[\"Eulerx\",\"Eulery\",\"Eulery\"]]"
   ]
  },
  {
   "cell_type": "code",
   "execution_count": 80,
   "metadata": {},
   "outputs": [
    {
     "name": "stdout",
     "output_type": "stream",
     "text": [
      "------\n",
      "hwshuai_走6步路-鞋垫2-1-模块41AB-V4.1-02_202304171229507081.csv\n",
      "/Users/wangshuaibo/Documents/北京悦动/脑卒中项目/阿帅笔记/测试数据及分析结果/20230417医院预实验前准备测试/IMU_plot\n",
      "------\n",
      "------\n",
      "hwshuai_跺脚走6步路-鞋垫2-1-模块41AB-V4.1-01_202304171229507102.csv\n",
      "------\n",
      ".DS_Store\n",
      "------\n",
      "hwshuai_走6步路-鞋垫2-1-模块41AB-V4.1-03_202304171229507060的副本.csv\n",
      "------\n",
      "hwshuai_跺脚走6步路-鞋垫2-1-模块41AB-V4.1-04_202304171502508920.csv\n",
      "------\n",
      "hwshuai_走6步路-鞋垫2-1-模块41AB-V4.1-03_202304171229507060.csv\n"
     ]
    }
   ],
   "source": []
  },
  {
   "cell_type": "code",
   "execution_count": 73,
   "metadata": {},
   "outputs": [
    {
     "name": "stdout",
     "output_type": "stream",
     "text": [
      "dirpath:\n",
      "/Users/wangshuaibo/Documents/北京悦动/脑卒中项目/阿帅笔记/测试数据及分析结果/20230417医院预实验前准备测试\n",
      "\n",
      "dirnames:\n",
      "/Users/wangshuaibo/Documents/北京悦动/脑卒中项目/阿帅笔记/测试数据及分析结果/20230417医院预实验前准备测试\n",
      "\n",
      "dirnames:\n",
      "['hwshuai_走6步路-鞋垫2-1-模块41AB-V4.1-02_202304171229507081.csv', 'hwshuai_跺脚走6步路-鞋垫2-1-模块41AB-V4.1-01_202304171229507102.csv', '.DS_Store', 'hwshuai_走6步路-鞋垫2-1-模块41AB-V4.1-03_202304171229507060的副本.csv', 'hwshuai_跺脚走6步路-鞋垫2-1-模块41AB-V4.1-04_202304171502508920.csv', 'hwshuai_走6步路-鞋垫2-1-模块41AB-V4.1-03_202304171229507060.csv']\n",
      "-----\n",
      "\n",
      "\n",
      "dirpath:\n",
      "/Users/wangshuaibo/Documents/北京悦动/脑卒中项目/阿帅笔记/测试数据及分析结果/20230417医院预实验前准备测试/IMU_plot\n",
      "\n",
      "dirnames:\n",
      "/Users/wangshuaibo/Documents/北京悦动/脑卒中项目/阿帅笔记/测试数据及分析结果/20230417医院预实验前准备测试/IMU_plot\n",
      "\n",
      "dirnames:\n",
      "['跺脚走6步路-鞋垫2-1-模块41AB-V4.1-01-IMU_plot.png', '走6步路-鞋垫2-1-模块41AB-V4.1-02-IMU_plot.png', '走6步路-鞋垫2-1-模块41AB-V4.1-03-IMU_plot.png', '跺脚走6步路-鞋垫2-1-模块41AB-V4.1-04-IMU_plot.png']\n",
      "-----\n",
      "\n",
      "\n"
     ]
    }
   ],
   "source": [
    "for dirpath, dirnames, filenames in os.walk(path):\n",
    "    #print(dirpath)\n",
    "    #print(\"-----\")\n",
    "    #print(dirnames)\n",
    "    print(f\"dirpath:\\n{dirpath}\\n\")\n",
    "    print(f\"dirnames:\\n{dirpath}\\n\")\n",
    "    print(f\"dirnames:\\n{filenames}\")\n",
    "    print(\"-----\\n\\n\")"
   ]
  },
  {
   "cell_type": "code",
   "execution_count": 50,
   "metadata": {},
   "outputs": [
    {
     "data": {
      "text/plain": [
       "['跺脚走6步路-鞋垫2-1-模块41AB-V4.1-01-IMU_plot.png',\n",
       " '走6步路-鞋垫2-1-模块41AB-V4.1-02-IMU_plot.png',\n",
       " '走6步路-鞋垫2-1-模块41AB-V4.1-03-IMU_plot.png',\n",
       " '跺脚走6步路-鞋垫2-1-模块41AB-V4.1-04-IMU_plot.png']"
      ]
     },
     "execution_count": 50,
     "metadata": {},
     "output_type": "execute_result"
    }
   ],
   "source": [
    "filenames"
   ]
  }
 ],
 "metadata": {
  "kernelspec": {
   "display_name": "base",
   "language": "python",
   "name": "python3"
  },
  "language_info": {
   "codemirror_mode": {
    "name": "ipython",
    "version": 3
   },
   "file_extension": ".py",
   "mimetype": "text/x-python",
   "name": "python",
   "nbconvert_exporter": "python",
   "pygments_lexer": "ipython3",
   "version": "3.10.9"
  },
  "orig_nbformat": 4,
  "vscode": {
   "interpreter": {
    "hash": "f0e6e5a6c366f0544d48e86b9538c9e2f921792a30284d93e80dad42978f2a5f"
   }
  }
 },
 "nbformat": 4,
 "nbformat_minor": 2
}
