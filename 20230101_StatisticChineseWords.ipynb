{
 "cells": [
  {
   "cell_type": "code",
   "execution_count": 3,
   "metadata": {},
   "outputs": [],
   "source": [
    "import os\n",
    "import jieba"
   ]
  },
  {
   "cell_type": "code",
   "execution_count": 4,
   "metadata": {},
   "outputs": [],
   "source": [
    "f_path = \"/Users/wangshuaibo/Documents/2022HalfYearPaperNotes\""
   ]
  },
  {
   "cell_type": "code",
   "execution_count": 17,
   "metadata": {},
   "outputs": [],
   "source": [
    "def str_count(str):\n",
    "    i = 0 \n",
    "    for s in str:\n",
    "        # 中文字符范围\n",
    "        if '\\u4e00' <= s <= '\\u9fff':\n",
    "            i = i + 1\n",
    "    print(\"总计中文个数为：{}\".format(i))"
   ]
  },
  {
   "cell_type": "code",
   "execution_count": 20,
   "metadata": {},
   "outputs": [
    {
     "name": "stdout",
     "output_type": "stream",
     "text": [
      "总计中文个数为：38240\n"
     ]
    }
   ],
   "source": [
    "with open(file=f_path, mode=\"r\") as f:\n",
    "    context = f.read()\n",
    "    str_count(context)"
   ]
  },
  {
   "cell_type": "code",
   "execution_count": 19,
   "metadata": {},
   "outputs": [
    {
     "name": "stdout",
     "output_type": "stream",
     "text": [
      "总计中文个数为：7\n"
     ]
    }
   ],
   "source": [
    "str_count(\"总计中文个数为：\")"
   ]
  },
  {
   "cell_type": "code",
   "execution_count": null,
   "metadata": {},
   "outputs": [],
   "source": []
  }
 ],
 "metadata": {
  "kernelspec": {
   "display_name": "skitlearn_env",
   "language": "python",
   "name": "python3"
  },
  "language_info": {
   "codemirror_mode": {
    "name": "ipython",
    "version": 3
   },
   "file_extension": ".py",
   "mimetype": "text/x-python",
   "name": "python",
   "nbconvert_exporter": "python",
   "pygments_lexer": "ipython3",
   "version": "3.8.13 | packaged by conda-forge | (default, Mar 25 2022, 06:05:16) \n[Clang 12.0.1 ]"
  },
  "orig_nbformat": 4,
  "vscode": {
   "interpreter": {
    "hash": "101ac6fdee211314df67182044e594b52b6a1b23121ffa9a958075b9ac7744e4"
   }
  }
 },
 "nbformat": 4,
 "nbformat_minor": 2
}
