{
 "cells": [
  {
   "cell_type": "code",
   "execution_count": null,
   "metadata": {},
   "outputs": [],
   "source": [
    "# chatGPT 优化代码\n",
    "def eat_motion_plot(pig, analys_date, *eat_times):\n",
    "    \"\"\"\n",
    "    绘制猪的运动数据和吃食物时间段的图表。\n",
    "\n",
    "    参数：\n",
    "    pig (str): 猪的耳标名称\n",
    "    analys_date (str): 分析日期，格式为 'YYYY-MM-DD'\n",
    "    *eat_times (str): 吃食物的时间，可以有多个\n",
    "\n",
    "    返回：\n",
    "    无返回值，但会保存图表\n",
    "\n",
    "    示例：\n",
    "    >>> eat_motion_plot(\"A8\", \"2023-02-24\", \"08:00:00\", \"10:00:00\", \"14:00:00\", \"16:00:00\")\n",
    "    \"\"\"\n",
    "\n",
    "    # 确定猪的耳标名称\n",
    "    #pig = \"A8\"\n",
    "\n",
    "    data = df[df[\"name\"]==pig].copy()\n",
    "    data[\"Datetime\"] = pd.to_datetime(df[\"time\"])\n",
    "\n",
    "    data[\"Date\"] = data[\"Datetime\"].dt.date\n",
    "    data[\"Time\"] = data[\"Datetime\"].dt.time\n",
    "\n",
    "    # analys_date = '2023-02-24'\n",
    "    selected_date = pd.to_datetime(analys_date)\n",
    "    result = data.loc[data['Datetime'].dt.date == selected_date.date()]\n",
    "\n",
    "    # 计算时间对应的索引\n",
    "    indices = [result.loc[result['Time'] == t].index[0] for t in eat_times]\n",
    "\n",
    "    # 绘制数据\n",
    "    fig, ax = plt.subplots(1,1)\n",
    "    result[\"motions\"].plot()\n",
    "\n",
    "    # 绘制吃食物的时间段\n",
    "    colors = ['red', 'pink']\n",
    "    linestyles = ['--', '-.']\n",
    "    for i, idx in enumerate(indices):\n",
    "        ax.axvline(x=idx, color=colors[i], linestyle=linestyles[i])\n",
    "    \n",
    "    # 增加名称\n",
    "    title_name  = pig + \"-\" + analys_date\n",
    "    plt.title(title_name)\n",
    "    plt.savefig(title_name)\n",
    "    plt.close()"
   ]
  },
  {
   "cell_type": "code",
   "execution_count": null,
   "metadata": {},
   "outputs": [],
   "source": [
    "# 将字符串的时间，转换为Datatime 格式时间\n",
    "import datetime\n",
    "def time_obj(time_str):\n",
    "    datetime_obj = datetime.datetime.strptime(time_str, \"%H:%M:%S\")\n",
    "    time_obj = datetime_obj.time()\n",
    "    return time_obj"
   ]
  },
  {
   "cell_type": "code",
   "execution_count": null,
   "metadata": {},
   "outputs": [],
   "source": [
    "first_eat_start_time = time_obj(\"11:00:00\")\n",
    "first_eat_end_time = time_obj(\"11:48:00\")\n",
    "second_eat_start_time = time_obj(\"16:32:00\")\n",
    "second_eat_end_time = time_obj(\"17:12:00\")\n",
    "\n",
    "\n",
    "pig_ls = ['A3','A5','A7','A8','A6','AD','AF','AC','AE','AL','AR','AT']\n",
    "\n",
    "for pig in pig_ls:\n",
    "    eat_motion_plot(pig, '2023-02-25', first_eat_start_time, first_eat_end_time,second_eat_start_time,second_eat_end_time)"
   ]
  }
 ],
 "metadata": {
  "kernelspec": {
   "display_name": "base",
   "language": "python",
   "name": "python3"
  },
  "language_info": {
   "codemirror_mode": {
    "name": "ipython",
    "version": 3
   },
   "file_extension": ".py",
   "mimetype": "text/x-python",
   "name": "python",
   "nbconvert_exporter": "python",
   "pygments_lexer": "ipython3",
   "version": "3.10.9 (main, Mar  1 2023, 12:33:47) [Clang 14.0.6 ]"
  },
  "orig_nbformat": 4,
  "vscode": {
   "interpreter": {
    "hash": "f0e6e5a6c366f0544d48e86b9538c9e2f921792a30284d93e80dad42978f2a5f"
   }
  }
 },
 "nbformat": 4,
 "nbformat_minor": 2
}
