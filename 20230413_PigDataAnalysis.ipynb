{
 "cells": [
  {
   "cell_type": "code",
   "execution_count": 67,
   "metadata": {},
   "outputs": [],
   "source": [
    "import os\n",
    "import pandas as pd\n",
    "import matplotlib.pyplot as plt"
   ]
  },
  {
   "attachments": {},
   "cell_type": "markdown",
   "metadata": {},
   "source": [
    "说明：\n",
    "分析猪的数据，主要是 运动量数据，并标记吃食的时间点"
   ]
  },
  {
   "attachments": {},
   "cell_type": "markdown",
   "metadata": {},
   "source": [
    "数据说明：\n",
    "1. 新栏 12 个耳标，现在只有部分耳标在上报数据，包括\n",
    "   - A5、A8、A6、AD、AF、AE、AL、AT\n",
    "   - 截止 2023-3-6 只有 A8、AD、AF、AT 在线\n",
    "2. A6耳标24日17点开始温度升到 60，截止26日4点恢复正常数值"
   ]
  },
  {
   "cell_type": "code",
   "execution_count": 70,
   "metadata": {},
   "outputs": [],
   "source": [
    "# 定义路径\n",
    "path = input(\"请输入路径：\")\n",
    "#path = \"/Users/wangshuaibo/Documents/北京悦动/养猪项目/20230415_猪耳标数据探索/\""
   ]
  },
  {
   "cell_type": "code",
   "execution_count": 72,
   "metadata": {},
   "outputs": [
    {
     "name": "stdout",
     "output_type": "stream",
     "text": [
      "/Users/wangshuaibo/Documents/北京悦动/养猪项目/20230415_猪耳标数据探索\n"
     ]
    }
   ],
   "source": [
    "# 切换路径\n",
    "os.chdir(path)\n",
    "print(os.getcwd())"
   ]
  },
  {
   "attachments": {},
   "cell_type": "markdown",
   "metadata": {},
   "source": [
    "## 1. 定义文件路径"
   ]
  },
  {
   "cell_type": "code",
   "execution_count": 75,
   "metadata": {},
   "outputs": [],
   "source": [
    "# 新建文件夹\n",
    "motion_dir_name = \"plot_motions\"\n",
    "if not os.path.exists(motion_dir_name):\n",
    "    os.mkdir(motion_dir_name)\n",
    "\n",
    "excel_dir_name = \"excel\"\n",
    "if not os.path.exists(excel_dir_name):\n",
    "    os.mkdir(excel_dir_name)"
   ]
  },
  {
   "cell_type": "code",
   "execution_count": 76,
   "metadata": {},
   "outputs": [
    {
     "name": "stdout",
     "output_type": "stream",
     "text": [
      "name:['A3' 'A5' 'A7' 'A8' 'A6' 'AD' 'AF' 'AC' 'AE' 'AL' 'AR' 'AT']\n"
     ]
    },
    {
     "data": {
      "text/plain": [
       "Index(['name', 'temperature1', 'motions', 'time'], dtype='object')"
      ]
     },
     "execution_count": 76,
     "metadata": {},
     "output_type": "execute_result"
    }
   ],
   "source": [
    "# 读取数据\n",
    "file = input(\"请输入数据名称：\")\n",
    "#file = \"数据_202303061035.csv\"\n",
    "df = pd.read_csv(file)\n",
    "df.head()\n",
    "print(\"name:{}\".format(df[\"name\"].unique()))\n",
    "df.columns"
   ]
  },
  {
   "attachments": {},
   "cell_type": "markdown",
   "metadata": {},
   "source": [
    "## 2. 撰写函数"
   ]
  },
  {
   "cell_type": "code",
   "execution_count": 81,
   "metadata": {},
   "outputs": [],
   "source": [
    "# 绘制猪活动量数据，并标记吃饭时间\n",
    "# chatGPT 优化代码\n",
    "def eat_motion_plot(pig, analys_date, *eat_times):\n",
    "    \"\"\"\n",
    "    绘制猪的运动数据和吃食物时间段的图表。\n",
    "\n",
    "    参数：\n",
    "    pig (str): 猪的耳标名称\n",
    "    analys_date (str): 分析日期，格式为 'YYYY-MM-DD'\n",
    "    *eat_times (str): 吃食物的时间，可以有多个\n",
    "\n",
    "    返回：\n",
    "    无返回值，但会保存图表\n",
    "\n",
    "    示例：\n",
    "    >>> eat_motion_plot(\"A8\", \"2023-02-24\", \"08:00:00\", \"10:00:00\", \"14:00:00\", \"16:00:00\")\n",
    "    \"\"\"\n",
    "\n",
    "    # 确定猪的耳标名称\n",
    "    #pig = \"A8\"\n",
    "\n",
    "    data = df[df[\"name\"]==pig].copy()\n",
    "    data[\"Datetime\"] = pd.to_datetime(df[\"time\"])\n",
    "\n",
    "    data[\"Date\"] = data[\"Datetime\"].dt.date\n",
    "    data[\"Time\"] = data[\"Datetime\"].dt.time\n",
    "\n",
    "    # analys_date = '2023-02-24'\n",
    "    selected_date = pd.to_datetime(analys_date)\n",
    "    result = data.loc[data['Datetime'].dt.date == selected_date.date()]\n",
    "\n",
    "    # 保存每一天每一头猪的时间\n",
    "    excel_name = pig+\"-\"+analys_date+\".xlsx\"\n",
    "    excel_dir_path = os.path.join(path,excel_dir_name,excel_name)\n",
    "    if not os.path.exists(excel_dir_path):\n",
    "        result.to_excel(excel_dir_path)\n",
    "\n",
    "    # 绘制数据\n",
    "    fig, ax = plt.subplots(1,1)\n",
    "    result[\"motions\"].plot()\n",
    "    \n",
    "\n",
    "    try:\n",
    "        # 计算时间对应的索引\n",
    "        indices = [result.loc[result['Time'] == t].index[0] for t in eat_times]\n",
    "        colors = ['red', 'pink']\n",
    "        linestyles = ['--', '-.']\n",
    "        for i, idx in enumerate(indices):\n",
    "            ax.axvline(x=idx, color=colors[i%2], linestyle=linestyles[i%2])\n",
    "    except:\n",
    "        print(\"找不到{}吃食物时间\".format(pig))\n",
    "\n",
    "    \n",
    "    # 增加名称\n",
    "    title_name  = pig + \"-\" + analys_date\n",
    "    motion_dir_path = os.path.join(path,motion_dir_name,title_name)\n",
    "    plt.title(title_name)\n",
    "    plt.savefig(motion_dir_name)\n",
    "    plt.close()"
   ]
  },
  {
   "cell_type": "code",
   "execution_count": 97,
   "metadata": {},
   "outputs": [],
   "source": [
    "# 将字符串的时间，转换为Datatime 格式时间\n",
    "import datetime\n",
    "def time_obj(time_str):\n",
    "    datetime_obj = datetime.datetime.strptime(time_str, \"%H:%M:%S\")\n",
    "    time_obj = datetime_obj.time()\n",
    "    return time_obj"
   ]
  },
  {
   "attachments": {},
   "cell_type": "markdown",
   "metadata": {},
   "source": [
    "## 3. 绘制每一天每头猪的数据"
   ]
  },
  {
   "cell_type": "code",
   "execution_count": 79,
   "metadata": {},
   "outputs": [],
   "source": [
    "# 2023-02-24 数据\n",
    "first_eat_start_time = time_obj(\"11:00:00\")\n",
    "first_eat_end_time = time_obj(\"11:48:00\")\n",
    "second_eat_start_time = time_obj(\"16:32:00\")\n",
    "second_eat_end_time = time_obj(\"17:12:00\")\n",
    "analys_date = '2023-02-24'\n",
    "\n",
    "\n",
    "pig_ls = ['A3','A5','A7','A8','A6','AD','AF','AC','AE','AL','AR','AT']\n",
    "\n",
    "for pig in pig_ls:\n",
    "    eat_motion_plot(pig, analys_date, first_eat_start_time, first_eat_end_time,second_eat_start_time,second_eat_end_time)"
   ]
  },
  {
   "cell_type": "code",
   "execution_count": 80,
   "metadata": {},
   "outputs": [
    {
     "name": "stdout",
     "output_type": "stream",
     "text": [
      "找不到A3吃食物时间\n",
      "找不到A7吃食物时间\n"
     ]
    }
   ],
   "source": [
    "# 2023-02-25 数据\n",
    "first_eat_start_time = time_obj(\"07:00:00\")\n",
    "first_eat_end_time = time_obj(\"07:43:00\")\n",
    "# second_eat_start_time = time_obj(\"16:32:00\")\n",
    "# second_eat_end_time = time_obj(\"17:12:00\")\n",
    "analys_date = '2023-02-25'\n",
    "\n",
    "pig_ls = ['A3','A5','A7','A8','A6','AD','AF','AC','AE','AL','AR','AT']\n",
    "\n",
    "for pig in pig_ls:\n",
    "    eat_motion_plot(pig, analys_date, first_eat_start_time, first_eat_end_time)"
   ]
  },
  {
   "cell_type": "code",
   "execution_count": 83,
   "metadata": {},
   "outputs": [
    {
     "name": "stdout",
     "output_type": "stream",
     "text": [
      "找不到A3吃食物时间\n",
      "找不到A7吃食物时间\n"
     ]
    }
   ],
   "source": [
    "# 2023-02-27 数据\n",
    "first_eat_start_time = time_obj(\"10:48:00\")\n",
    "first_eat_end_time = time_obj(\"11:48:00\")\n",
    "second_eat_start_time = time_obj(\"17:00:00\")\n",
    "second_eat_end_time = time_obj(\"17:48:00\")\n",
    "analys_date = '2023-02-27'\n",
    "\n",
    "pig_ls = ['A3','A5','A7','A8','A6','AD','AF','AC','AE','AL','AR','AT']\n",
    "\n",
    "for pig in pig_ls:\n",
    "    eat_motion_plot(pig, analys_date, first_eat_start_time, first_eat_end_time,second_eat_start_time,second_eat_end_time)"
   ]
  },
  {
   "cell_type": "code",
   "execution_count": 84,
   "metadata": {},
   "outputs": [
    {
     "name": "stdout",
     "output_type": "stream",
     "text": [
      "找不到A3吃食物时间\n",
      "找不到A7吃食物时间\n",
      "找不到AC吃食物时间\n"
     ]
    }
   ],
   "source": [
    "# 2023-02-28 数据\n",
    "first_eat_start_time = time_obj(\"06:51:00\")\n",
    "first_eat_end_time = time_obj(\"07:30:00\")\n",
    "second_eat_start_time = time_obj(\"10:55:00\")\n",
    "second_eat_end_time = time_obj(\"11:30:00\")\n",
    "analys_date = '2023-02-28'\n",
    "\n",
    "pig_ls = ['A3','A5','A7','A8','A6','AD','AF','AC','AE','AL','AR','AT']\n",
    "\n",
    "for pig in pig_ls:\n",
    "    eat_motion_plot(pig, analys_date, first_eat_start_time, first_eat_end_time, second_eat_start_time,second_eat_end_time)"
   ]
  },
  {
   "cell_type": "code",
   "execution_count": 108,
   "metadata": {},
   "outputs": [],
   "source": [
    "# 绘制猪温度变化数据\n",
    "# chatGPT 优化代码\n",
    "def Temperature_motion_plot(pig, analys_date):\n",
    "\n",
    "\n",
    "    data = df[df[\"name\"]==pig].copy()\n",
    "    data[\"Datetime\"] = pd.to_datetime(df[\"time\"])\n",
    "\n",
    "    data[\"Date\"] = data[\"Datetime\"].dt.date\n",
    "    data[\"Time\"] = data[\"Datetime\"].dt.time\n",
    "\n",
    "    selected_date = pd.to_datetime(analys_date)\n",
    "    result = data.loc[data['Datetime'].dt.date == selected_date.date()]\n",
    "\n",
    "\n",
    "    # 绘制数据\n",
    "    fig, ax = plt.subplots(1,1)\n",
    "    result[\"temperature1\"].plot()\n",
    "\n",
    "    \n",
    "    # 增加名称\n",
    "    title_name  = pig + \"-\" + str(analys_date) + \"-temperature\"\n",
    "    tempreature_dir_path = os.path.join(path,tempreature_dir_name,title_name)\n",
    "    plt.title(title_name)\n",
    "    plt.savefig(tempreature_dir_path)\n",
    "    plt.close()"
   ]
  },
  {
   "cell_type": "code",
   "execution_count": 109,
   "metadata": {},
   "outputs": [],
   "source": [
    "tempreature_dir_name = \"tempreature_plot\"\n",
    "if not os.path.exists(tempreature_dir_name):\n",
    "    os.mkdir(tempreature_dir_name)\n",
    "date_ls = ['2023-02-24','2023-02-25','2023-02-27','2023-02-28']\n",
    "\n"
   ]
  },
  {
   "cell_type": "code",
   "execution_count": 110,
   "metadata": {},
   "outputs": [],
   "source": [
    "# 将字符串的时间，转换为Datatime 格式时间\n",
    "import datetime\n",
    "def date_obj(date_str):\n",
    "    datetime_obj = datetime.datetime.strptime(date_str, \"%Y-%m-%d\")\n",
    "    date_obj = datetime_obj.date()\n",
    "    return date_obj"
   ]
  },
  {
   "cell_type": "code",
   "execution_count": 111,
   "metadata": {},
   "outputs": [],
   "source": [
    "for date in date_ls:\n",
    "    analys_date = date_obj(date)\n",
    "    for pig in pig_ls:\n",
    "        Temperature_motion_plot(pig, analys_date)"
   ]
  },
  {
   "cell_type": "code",
   "execution_count": 89,
   "metadata": {},
   "outputs": [],
   "source": [
    "Temperature_motion_plot(pig_ls[0], '2023-02-24')"
   ]
  },
  {
   "cell_type": "code",
   "execution_count": null,
   "metadata": {},
   "outputs": [],
   "source": []
  }
 ],
 "metadata": {
  "kernelspec": {
   "display_name": "base",
   "language": "python",
   "name": "python3"
  },
  "language_info": {
   "codemirror_mode": {
    "name": "ipython",
    "version": 3
   },
   "file_extension": ".py",
   "mimetype": "text/x-python",
   "name": "python",
   "nbconvert_exporter": "python",
   "pygments_lexer": "ipython3",
   "version": "3.10.9 (main, Mar  1 2023, 12:33:47) [Clang 14.0.6 ]"
  },
  "orig_nbformat": 4,
  "vscode": {
   "interpreter": {
    "hash": "f0e6e5a6c366f0544d48e86b9538c9e2f921792a30284d93e80dad42978f2a5f"
   }
  }
 },
 "nbformat": 4,
 "nbformat_minor": 2
}
