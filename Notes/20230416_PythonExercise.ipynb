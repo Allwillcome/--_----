{
 "cells": [
  {
   "attachments": {},
   "cell_type": "markdown",
   "metadata": {},
   "source": [
    "## 单行 for 循环的使用"
   ]
  },
  {
   "cell_type": "code",
   "execution_count": null,
   "metadata": {},
   "outputs": [],
   "source": [
    "# 简化代码 \n",
    "segment_ls = [\"pelvis\",\"leg\" ]\n",
    "quat_ls = [\"_q0\",\"_q1\",\"_q2\",\"_q3\"]\n",
    "segmet_quat_ls = [segment_ls[0]+quat_ls[0],segment_ls[0]+quat_ls[1],segment_ls[0]+quat_ls[2],segment_ls[0]+quat_ls[3]]\n",
    "segmet_quat_ls"
   ]
  },
  {
   "cell_type": "code",
   "execution_count": null,
   "metadata": {},
   "outputs": [],
   "source": [
    "# 以下是简化后的代码：\n",
    "segments = [\"pelvis\", \"leg\"]\n",
    "quats = [\"_q0\", \"_q1\", \"_q2\", \"_q3\"]\n",
    "segment_quats = [seg + quat for seg in segments for quat in quats]\n",
    "print(segment_quats)\n",
    "\n",
    "# @阿帅批\n",
    "# 使用了单行for循环\n",
    "# 简化了命名，列表使用复数命名，\n",
    "# 列表中的元素使用单数甚至是缩写"
   ]
  },
  {
   "attachments": {},
   "cell_type": "markdown",
   "metadata": {},
   "source": [
    "chatGPT 解释\n",
    "这段代码创建了一个名为 segments 的列表，其中包含字符串 \"pelvis\" 和 \"leg\"。它还创建了一个名为 quats 的列表，其中包含字符串 \"_q0\"、\"_q1\"、\"_q2\" 和 \"_q3\"。\n",
    "列表推导式 segment_quats = [seg + quat for seg in segments for quat in quats] 通过将 segments 中的每个元素与 quats 中的每个元素连接而创建一个新列表。生成的列表包含字符串 \"pelvis_q0\"、\"pelvis_q1\"、\"pelvis_q2\"、\"pelvis_q3\"、\"leg_q0\"、\"leg_q1\"、\"leg_q2\" 和 \"leg_q3\"。\n",
    "最后，代码打印了 segment_quats 列表。"
   ]
  },
  {
   "attachments": {},
   "cell_type": "markdown",
   "metadata": {},
   "source": [
    "## 遍历文件夹方法"
   ]
  },
  {
   "cell_type": "code",
   "execution_count": null,
   "metadata": {},
   "outputs": [],
   "source": [
    "import os\n",
    "path = input(\"请输入文件路径：\")\n",
    "os.scandir() # 不能做到遍历，但能够方便的查找当前文件下的文件、文件名\n",
    "for i in os.scandir(path):\n",
    "    if i.is_dir():\n",
    "        print(i.path)\n",
    "    print(\"------\")\n",
    "    if i.is_file():\n",
    "        print(i.name)\n",
    "\n",
    "# os.walk 能够对当前文件夹进行遍历，并返回列表\n",
    "for dirpath, dirnames, filenames in os.walk(path):\n",
    "    #print(dirpath)\n",
    "    #print(\"-----\")\n",
    "    #print(dirnames)\n",
    "    print(f\"dirpath:\\n{dirpath}\\n\")\n",
    "    print(f\"dirnames:\\n{dirpath}\\n\")\n",
    "    print(f\"dirnames:\\n{filenames}\")\n",
    "    print(\"-----\\n\\n\")"
   ]
  },
  {
   "cell_type": "code",
   "execution_count": 3,
   "metadata": {},
   "outputs": [
    {
     "name": "stdout",
     "output_type": "stream",
     "text": [
      "-0.07142857143090686 2.3685714285744046 0.039999999997922364\n",
      "拟合参数: [-0.07142857  2.36857143  0.04      ]\n"
     ]
    },
    {
     "data": {
      "image/png": "[encoded data removed]",
      "text/plain": [
       "<Figure size 432x288 with 1 Axes>"
      ]
     },
     "metadata": {
      "needs_background": "light"
     },
     "output_type": "display_data"
    }
   ],
   "source": [
    "import numpy as np\n",
    "from scipy.optimize import curve_fit\n",
    "import matplotlib.pyplot as plt\n",
    "\n",
    "# 准备数据\n",
    "x = np.array([1, 2, 3, 4, 5])\n",
    "y = np.array([2.3, 4.5, 6.7, 8.1, 10.2])\n",
    "\n",
    "# 定义拟合函数\n",
    "def func(x, a, b, c):\n",
    "    return a * x**2 + b * x + c\n",
    "\n",
    "# 初始猜测参数\n",
    "initial_guess = [1, 1, 1]\n",
    "\n",
    "# 进行曲线拟合\n",
    "popt, pcov = curve_fit(func, x, y, p0=initial_guess)\n",
    "\n",
    "# 输出拟合结果\n",
    "print(\"拟合参数:\", popt)\n",
    "\n",
    "# 绘制拟合曲线和原始数据\n",
    "plt.scatter(x, y, label='Original Data')\n",
    "\n",
    "# 列表中加 * 可以将列表中的元素一个个拆解出来\n",
    "plt.plot(x, func(x, *popt), 'r-', label='Fitted Curve')\n",
    "plt.legend()\n",
    "plt.show()"
   ]
  },
  {
   "attachments": {},
   "cell_type": "markdown",
   "metadata": {},
   "source": [
    "## reindex 和 reset_index 的区别"
   ]
  },
  {
   "cell_type": "code",
   "execution_count": 5,
   "metadata": {},
   "outputs": [
    {
     "name": "stdout",
     "output_type": "stream",
     "text": [
      "   p1-c\n",
      "1     1\n",
      "2     2\n",
      "3     3\n"
     ]
    }
   ],
   "source": [
    "import pandas as pd\n",
    "# reindex 是重建索引\n",
    "df = pd.DataFrame({\"p1-c\":[1,2,3]},index=[1,2,3])\n",
    "print(df)"
   ]
  },
  {
   "cell_type": "code",
   "execution_count": 11,
   "metadata": {},
   "outputs": [
    {
     "name": "stdout",
     "output_type": "stream",
     "text": [
      "   p1-c\n",
      "3     3\n",
      "2     2\n",
      "1     1\n"
     ]
    }
   ],
   "source": [
    "reindex = [3,2,1]\n",
    "# 需要重新赋值给新的索引才可以\n",
    "new_df = df.reindex(reindex)\n",
    "print(new_df)"
   ]
  },
  {
   "cell_type": "code",
   "execution_count": 14,
   "metadata": {},
   "outputs": [
    {
     "data": {
      "text/html": [
       "<div>\n",
       "<style scoped>\n",
       "    .dataframe tbody tr th:only-of-type {\n",
       "        vertical-align: middle;\n",
       "    }\n",
       "\n",
       "    .dataframe tbody tr th {\n",
       "        vertical-align: top;\n",
       "    }\n",
       "\n",
       "    .dataframe thead th {\n",
       "        text-align: right;\n",
       "    }\n",
       "</style>\n",
       "<table border=\"1\" class=\"dataframe\">\n",
       "  <thead>\n",
       "    <tr style=\"text-align: right;\">\n",
       "      <th></th>\n",
       "      <th>BMI</th>\n",
       "      <th>Grade</th>\n",
       "    </tr>\n",
       "  </thead>\n",
       "  <tbody>\n",
       "    <tr>\n",
       "      <th>Fit001</th>\n",
       "      <td>18</td>\n",
       "      <td>Good</td>\n",
       "    </tr>\n",
       "    <tr>\n",
       "      <th>Fit002</th>\n",
       "      <td>22</td>\n",
       "      <td>Great</td>\n",
       "    </tr>\n",
       "    <tr>\n",
       "      <th>Fit003</th>\n",
       "      <td>33</td>\n",
       "      <td>Bad</td>\n",
       "    </tr>\n",
       "  </tbody>\n",
       "</table>\n",
       "</div>"
      ],
      "text/plain": [
       "        BMI  Grade\n",
       "Fit001   18   Good\n",
       "Fit002   22  Great\n",
       "Fit003   33    Bad"
      ]
     },
     "execution_count": 14,
     "metadata": {},
     "output_type": "execute_result"
    }
   ],
   "source": [
    "# reset_index 是重置索引，将原来的索引提取出来\n",
    "import pandas as pd\n",
    "df = pd.DataFrame({\"BMI\":[18,22,33],\n",
    "                   \"Grade\":[\"Good\",\"Great\",\"Bad\"]},\n",
    "                   index = [\"Fit001\",\"Fit002\",\"Fit003\"])\n",
    "df"
   ]
  },
  {
   "cell_type": "code",
   "execution_count": 21,
   "metadata": {},
   "outputs": [
    {
     "name": "stdout",
     "output_type": "stream",
     "text": [
      "将Index 提取出来：\n",
      "    index  BMI  Grade\n",
      "0  Fit001   18   Good\n",
      "1  Fit002   22  Great\n",
      "2  Fit003   33    Bad\n",
      "\n",
      "\n",
      "直接将 Index 剔除：\n",
      "   BMI  Grade\n",
      "0   18   Good\n",
      "1   22  Great\n",
      "2   33    Bad\n"
     ]
    }
   ],
   "source": [
    "# reset_index 可以将原来的 index 提取出来\n",
    "new_df_with_index = df.reset_index()\n",
    "print(\"将Index 提取出来：\")\n",
    "print(new_df_with_index)\n",
    "print(\"\\n\")\n",
    "new_df_without_index= df.reset_index(drop=True)\n",
    "print(\"直接将 Index 剔除：\")\n",
    "print(new_df_without_index)"
   ]
  },
  {
   "attachments": {},
   "cell_type": "markdown",
   "metadata": {},
   "source": [
    "## 正则表达式 re.search()"
   ]
  },
  {
   "cell_type": "code",
   "execution_count": 7,
   "metadata": {},
   "outputs": [
    {
     "name": "stdout",
     "output_type": "stream",
     "text": [
      "20230424丁冠宏-步频100-4来回-鞋垫41-604F-V3.95-002_202304241803284520.csv\n"
     ]
    }
   ],
   "source": [
    "import re\n",
    "filename = \"admi_20230424丁冠宏-步频100-4来回-鞋垫41-604F-V3.95-002_202304241803284520.csv\"\n",
    "regex = r\".*_(.*_.*.csv)\"\n",
    "\n",
    "# 对容易报错的地方增加 try except\n",
    "# 不影响程序运行\n",
    "try:\n",
    "    match = re.search(regex,filename)\n",
    "    if match:\n",
    "        extracted_filename = match[1]\n",
    "        print(extracted_filename)\n",
    "    else:\n",
    "        print(\"未匹配到文件名\")\n",
    "# 能够把 re 的 error 输出出来\n",
    "except re.error as e:\n",
    "    print(f\"正则表达式错误:{e}\")"
   ]
  },
  {
   "cell_type": "code",
   "execution_count": 8,
   "metadata": {},
   "outputs": [],
   "source": [
    "## 异常 raise 以及 assert 的用法"
   ]
  },
  {
   "cell_type": "code",
   "execution_count": 18,
   "metadata": {},
   "outputs": [
    {
     "ename": "ValueError",
     "evalue": "身高需要大于0m，单位为m",
     "output_type": "error",
     "traceback": [
      "\u001b[0;31m---------------------------------------------------------------------------\u001b[0m",
      "\u001b[0;31mValueError\u001b[0m                                Traceback (most recent call last)",
      "Cell \u001b[0;32mIn[18], line 7\u001b[0m\n\u001b[1;32m      5\u001b[0m     BMI \u001b[39m=\u001b[39m weight\u001b[39m/\u001b[39mheight\u001b[39m/\u001b[39mheight\n\u001b[1;32m      6\u001b[0m     \u001b[39mreturn\u001b[39;00m \u001b[39mprint\u001b[39m(\u001b[39mf\u001b[39m\u001b[39m\"\u001b[39m\u001b[39m当前BMI为:\u001b[39m\u001b[39m{\u001b[39;00mBMI\u001b[39m:\u001b[39;00m\u001b[39m.1f\u001b[39m\u001b[39m}\u001b[39;00m\u001b[39m\"\u001b[39m)\n\u001b[0;32m----> 7\u001b[0m BMI(\u001b[39m170\u001b[39;49m,\u001b[39m60\u001b[39;49m)\n",
      "Cell \u001b[0;32mIn[18], line 4\u001b[0m, in \u001b[0;36mBMI\u001b[0;34m(height, weight)\u001b[0m\n\u001b[1;32m      1\u001b[0m \u001b[39mdef\u001b[39;00m \u001b[39mBMI\u001b[39m(height,weight):\n\u001b[1;32m      2\u001b[0m     \u001b[39mif\u001b[39;00m height\u001b[39m<\u001b[39m\u001b[39m0\u001b[39m \u001b[39mor\u001b[39;00m height\u001b[39m>\u001b[39m\u001b[39m2.7\u001b[39m:\n\u001b[1;32m      3\u001b[0m         \u001b[39m# 使用 raise 需要搭配 ValueError 使用\u001b[39;00m\n\u001b[0;32m----> 4\u001b[0m         \u001b[39mraise\u001b[39;00m \u001b[39mValueError\u001b[39;00m(\u001b[39m\"\u001b[39m\u001b[39m身高需要大于0m，单位为m\u001b[39m\u001b[39m\"\u001b[39m)\n\u001b[1;32m      5\u001b[0m     BMI \u001b[39m=\u001b[39m weight\u001b[39m/\u001b[39mheight\u001b[39m/\u001b[39mheight\n\u001b[1;32m      6\u001b[0m     \u001b[39mreturn\u001b[39;00m \u001b[39mprint\u001b[39m(\u001b[39mf\u001b[39m\u001b[39m\"\u001b[39m\u001b[39m当前BMI为:\u001b[39m\u001b[39m{\u001b[39;00mBMI\u001b[39m:\u001b[39;00m\u001b[39m.1f\u001b[39m\u001b[39m}\u001b[39;00m\u001b[39m\"\u001b[39m)\n",
      "\u001b[0;31mValueError\u001b[0m: 身高需要大于0m，单位为m"
     ]
    }
   ],
   "source": [
    "def BMI(height,weight):\n",
    "    if height<0 or height>2.7:\n",
    "        # 使用 raise 需要制定异常类型\n",
    "        # 搭配 ValueError 使用\n",
    "        # 除此还可以搭配 TypeError、IndexError、AttributerError\n",
    "        # \n",
    "        raise ValueError(\"身高需要大于0m，单位为m\")\n",
    "    BMI = weight/height/height\n",
    "    return print(f\"当前BMI为:{BMI:.1f}\")\n",
    "\n",
    "BMI(170,60)"
   ]
  },
  {
   "cell_type": "code",
   "execution_count": 33,
   "metadata": {},
   "outputs": [],
   "source": [
    "# 类不像函数，声明后没有括号，没有参数\n",
    "class BMI:\n",
    "    def __init__(self, height, weight):\n",
    "        # assert 相较于 raise 少了 if 的判断，直接判断加报错\n",
    "        # assert 用于调试和报错\n",
    "        assert height>0 and height<2.7, \"身高应该大于 0m，小于2.7m\"\n",
    "        self.height = height\n",
    "        self.weight = weight\n"
   ]
  },
  {
   "cell_type": "code",
   "execution_count": 34,
   "metadata": {},
   "outputs": [
    {
     "ename": "AssertionError",
     "evalue": "身高应该大于 0m，小于2.7m",
     "output_type": "error",
     "traceback": [
      "\u001b[0;31m---------------------------------------------------------------------------\u001b[0m",
      "\u001b[0;31mAssertionError\u001b[0m                            Traceback (most recent call last)",
      "Cell \u001b[0;32mIn[34], line 1\u001b[0m\n\u001b[0;32m----> 1\u001b[0m yough_BMI \u001b[39m=\u001b[39m BMI(\u001b[39m40\u001b[39;49m,\u001b[39m50\u001b[39;49m)\n",
      "Cell \u001b[0;32mIn[33], line 4\u001b[0m, in \u001b[0;36mBMI.__init__\u001b[0;34m(self, height, weight)\u001b[0m\n\u001b[1;32m      3\u001b[0m \u001b[39mdef\u001b[39;00m \u001b[39m__init__\u001b[39m(\u001b[39mself\u001b[39m, height, weight):\n\u001b[0;32m----> 4\u001b[0m     \u001b[39massert\u001b[39;00m height\u001b[39m>\u001b[39m\u001b[39m0\u001b[39m \u001b[39mand\u001b[39;00m height\u001b[39m<\u001b[39m\u001b[39m2.7\u001b[39m, \u001b[39m\"\u001b[39m\u001b[39m身高应该大于 0m，小于2.7m\u001b[39m\u001b[39m\"\u001b[39m\n\u001b[1;32m      5\u001b[0m     \u001b[39mself\u001b[39m\u001b[39m.\u001b[39mheight \u001b[39m=\u001b[39m height\n\u001b[1;32m      6\u001b[0m     \u001b[39mself\u001b[39m\u001b[39m.\u001b[39mweight \u001b[39m=\u001b[39m weight\n",
      "\u001b[0;31mAssertionError\u001b[0m: 身高应该大于 0m，小于2.7m"
     ]
    }
   ],
   "source": [
    "yough_BMI = BMI(40,50)"
   ]
  },
  {
   "attachments": {},
   "cell_type": "markdown",
   "metadata": {},
   "source": [
    "## if 的使用"
   ]
  },
  {
   "cell_type": "markdown",
   "metadata": {},
   "source": [
    "根据 BMI 划分超重、肥胖和极度肥胖\n",
    "\n",
    "超重：25~29.9 kg/㎡\n",
    "\n",
    "肥胖：≥ 30 kg/㎡\n",
    "\n",
    "极度肥胖：≥ 40 kg/㎡"
   ]
  },
  {
   "cell_type": "code",
   "execution_count": 49,
   "metadata": {},
   "outputs": [],
   "source": [
    "def BMI(height,weight):\n",
    "    # 先判断身高大范围，以及将身高的厘米转换为m\n",
    "    if height>2.7:\n",
    "        height_m = height/100\n",
    "    elif 0<height<2.7:\n",
    "        height_m = height\n",
    "    elif height<0:\n",
    "        raise ValueError(\"身高需要大于0\")\n",
    "\n",
    "    BMI = weight/height_m/height_m\n",
    "\n",
    "    if 0<BMI<25:\n",
    "        print(f\"BMI为{BMI:.1f}, 正常\")\n",
    "    elif 25<=BMI<30:\n",
    "        print(f\"BMI为{BMI:.1f},超重\")\n",
    "    elif 30<=BMI<40:\n",
    "        print(f\"BMI为{BMI:.1f},肥胖\")\n",
    "    elif 40<=BMI:\n",
    "        print(f\"BMI为{BMI:.1f},极度肥胖\")\n"
   ]
  },
  {
   "cell_type": "code",
   "execution_count": 4,
   "metadata": {},
   "outputs": [
    {
     "name": "stdout",
     "output_type": "stream",
     "text": [
      "Right Hip Flexion/Extension\n",
      "Right Hip Abduction/Adduction\n",
      "Right Hip Internal/External Rotation\n",
      "Left Hip Flexion/Extension\n",
      "Left Hip Abduction/Adduction\n",
      "Left Hip Internal/External Rotation\n"
     ]
    }
   ],
   "source": [
    "joint = \"Hip\"\n",
    "sides = [\"Right\", \"Left\"]\n",
    "angles = [\"Flexion/Extension\", \"Abduction/Adduction\", \"Internal/External Rotation\"]\n",
    "\n",
    "for side in sides:\n",
    "    for angle in angles:\n",
    "        var_name = side + \" \" + joint + \" \" + angle\n",
    "        print(var_name)\n",
    "        #exec(var_name + \" = \" + '\"' + var_name + '\"' )"
   ]
  },
  {
   "cell_type": "markdown",
   "metadata": {},
   "source": [
    "## 使用单行 for 循环简化代码\n",
    "详情见 InShoes/20230420_XsensMVNGaitAnalysis.ipynb"
   ]
  },
  {
   "cell_type": "code",
   "execution_count": null,
   "metadata": {},
   "outputs": [],
   "source": [
    "# 简化前\n",
    "side  = \"Right\"\n",
    "joint = \"Hip\"\n",
    "Right_Flexion = side + \" \"+ joint + \" \"+ \"Flexion/Extension\"\n",
    "Right_Abduction = side+ \" \"+ joint + \" \"+ \"Abduction/Adduction\"\n",
    "Right_Internal = side+ \" \"+ joint + \" \"+ \"Internal/External Rotation\"\n",
    "\n",
    "side = \"Left\"\n",
    "Left_Flexion = side + \" \"+ joint + \" \"+ \"Flexion/Extension\"\n",
    "Left_Abduction = side+ \" \"+ joint + \" \"+ \"Abduction/Adduction\"\n",
    "Left_Internal = side+ \" \"+ joint + \" \"+ \"Internal/External Rotation\"\n",
    "\n",
    "\n",
    "fig, axs = plt.subplots(nrows=1, ncols=3, figsize=(12,3),dpi=500)\n",
    "\n",
    "Left_norm_df[Left_Flexion].plot(ax=axs[0],color=\"pink\",linestyle = \"--\",label=\"患侧\")\n",
    "Left_norm_df[Left_Abduction].plot(ax=axs[1],color=\"pink\",linestyle = \"--\",label=\"患侧\")\n",
    "Left_norm_df[Left_Internal].plot(ax=axs[2],color=\"pink\",linestyle = \"--\",label=\"患侧\")\n",
    "\n",
    "Right_norm_df[Right_Flexion].plot(ax=axs[0],label=\"健侧\")\n",
    "Right_norm_df[Right_Abduction].plot(ax=axs[1],label=\"健侧\")\n",
    "Right_norm_df[Right_Internal].plot(ax=axs[2],label=\"健侧\")"
   ]
  },
  {
   "cell_type": "code",
   "execution_count": null,
   "metadata": {},
   "outputs": [],
   "source": [
    "# 简化后\n",
    "def JointanglesPlot(Left_norm_df,Right_norm_df,joint,Affected_side):\n",
    "\n",
    "    # 确定不同关节对应的术语\n",
    "    if joint in [\"Hip\",\"Knee\"]:\n",
    "        actions = [\"Flexion/Extension\",\"Abduction/Adduction\",\"Internal/External Rotation\"]\n",
    "    else:\n",
    "        actions = [\"Dorsiflexion/Plantarflexion\",\"Abduction/Adduction\",\"Internal/External Rotation\"]\n",
    "\n",
    "    # 将左右、关节以及不同平面的运动拼接成专业的术语\n",
    "    sides = [\"Left\",\"Right\"]\n",
    "    sides_joint_actions = [side + \" \"+ joint + \" \"+ action for side in sides for action in actions]\n",
    "\n",
    "    # 绘制画布\n",
    "    fig, axs = plt.subplots(nrows=1, ncols=3, figsize=(12,3),dpi=500)\n",
    "\n",
    "    # 制定左右腿那个是患侧，使用不同的绘制方式\n",
    "    Affected_side_plot = [\"pink\",\"--\",\"患侧\"]\n",
    "    Healthy_side_plot = [\"green\",\"-\",\"健侧\"]\n",
    "    if Affected_side == \"Left\":\n",
    "        left_color, left_linestyle, Left_label = Affected_side_plot\n",
    "        right_color, right_linestyle, right_label = Healthy_side_plot \n",
    "    elif Affected_side == \"Right\":\n",
    "        right_color, right_linestyle, right_label = Affected_side_plot \n",
    "        left_color, left_linestyle, Left_label = Healthy_side_plot \n",
    "    else:\n",
    "        raise ValueError(\"请制定患侧腿：Left或者Right\")\n",
    "\n",
    "\n",
    "    # 循环绘制关节每个平面左右腿的数据\n",
    "    for i, sides_joint_action in enumerate(sides_joint_actions):\n",
    "        if i <= 2:\n",
    "            Left_norm_df[sides_joint_action].plot(ax=axs[i],\n",
    "                                                  color=left_color,linestyle = left_linestyle,label=Left_label)\n",
    "        else:\n",
    "            Right_norm_df[sides_joint_action].plot(ax=axs[i%3],\n",
    "                                                   color=right_color,linestyle=right_linestyle,label=right_label)"
   ]
  },
  {
   "attachments": {},
   "cell_type": "markdown",
   "metadata": {},
   "source": [
    "## Pandas DataTime\n",
    "了解一个函数就要了解：\n",
    "- 如果是数据要了解数据格式\n",
    "- 增、删、查、改、算 \n",
    "  - 查：是指如何索引\n",
    "  - 算：主要是指如何运算，比如pandas 时间的相减\n",
    "- 如果是类，类包含哪些函数？\n",
    "  - 如这里的 dt.hour\n",
    "- 函数有哪些参数？\n",
    "  - 比如这里 format、freq"
   ]
  },
  {
   "cell_type": "code",
   "execution_count": 9,
   "metadata": {},
   "outputs": [
    {
     "name": "stdout",
     "output_type": "stream",
     "text": [
      "<class 'pandas._libs.tslibs.timestamps.Timestamp'>\n"
     ]
    }
   ],
   "source": [
    "# 增：增加 1个，如何定义一个 datetime\n",
    "import pandas as pd\n",
    "\n",
    "dt = pd.to_datetime(\"2020-01-01\")\n",
    "\n",
    "# 转换后类型为时间戳\n",
    "print(type(dt))"
   ]
  },
  {
   "cell_type": "code",
   "execution_count": 18,
   "metadata": {},
   "outputs": [
    {
     "data": {
      "text/plain": [
       "0"
      ]
     },
     "execution_count": 18,
     "metadata": {},
     "output_type": "execute_result"
    }
   ],
   "source": [
    "# dt 属性有 dt.year dt.month dt.day dt.hour\n",
    "# dt 是年、月、日、时、分、秒、分秒的属性\n",
    "# 就是class 中的属性\n",
    "dt.year \n",
    "dt.month \n",
    "dt.day \n",
    "dt.hour\n",
    "dt.hour\n",
    "dt.minute\n",
    "dt.second\n",
    "dt.microsecond"
   ]
  },
  {
   "cell_type": "code",
   "execution_count": 54,
   "metadata": {},
   "outputs": [
    {
     "data": {
      "text/plain": [
       "5"
      ]
     },
     "execution_count": 54,
     "metadata": {},
     "output_type": "execute_result"
    }
   ],
   "source": [
    "df.shape[0]"
   ]
  },
  {
   "cell_type": "code",
   "execution_count": 74,
   "metadata": {},
   "outputs": [
    {
     "data": {
      "text/plain": [
       "0   2022-04-01 10:00:00.000\n",
       "1   2022-04-01 10:00:00.010\n",
       "2   2022-04-01 10:00:00.020\n",
       "Name: date_range, dtype: datetime64[ns]"
      ]
     },
     "execution_count": 74,
     "metadata": {},
     "output_type": "execute_result"
    }
   ],
   "source": [
    "# 增：如何增加 n 个时间，并确定时间间隔\n",
    "import pandas as pd\n",
    "data = pd.DataFrame({})\n",
    "data[\"date_range\"] = pd.date_range(\"2022-04-01 10:00:00\",periods=3,freq=\"10ms\")\n",
    "data[\"date_range\"]\n",
    "\n",
    "# 使用 harzt 代替 ms\n",
    "hertz = 100\n",
    "freq = f\"{1000/hertz}ms\"\n",
    "data[\"date_range\"] = pd.date_range(\"2022-04-01 10:00:00\",periods=3,freq=freq)\n",
    "data[\"date_range\"]"
   ]
  },
  {
   "cell_type": "code",
   "execution_count": null,
   "metadata": {},
   "outputs": [],
   "source": [
    "# 删：如何删除一个 Datetime？"
   ]
  },
  {
   "cell_type": "code",
   "execution_count": 62,
   "metadata": {},
   "outputs": [
    {
     "name": "stdout",
     "output_type": "stream",
     "text": [
      ">> 转换前的 date type 格式：\n",
      "<class 'pandas.core.series.Series'>\n",
      ">> 转换后的 date 的dtype格式:\n",
      "<class 'numpy.dtype[object_]'>\n",
      "转换为 datetime 之后能够直接将两个数据进行相减，获取时间间隔\n",
      "\n",
      "如果不转换则直接报错：\n",
      "TypeError: unsupported operand type(s) for -: 'str' and 'str'\n",
      "\n",
      "\n",
      ">> 转换后的 date type 格式:\n",
      "<class 'pandas.core.series.Series'>\n",
      ">> 转换后的 date dtype 格式:\n",
      "datetime64[ns]\n",
      ">> 使用 pandas df.to_datetime 转换前后 dytpe 格式发生了转换\n",
      ">> datetime 运算后的结果为：\n",
      "1 days 00:00:00\n"
     ]
    }
   ],
   "source": [
    "# 改：如何将字符串更改为 datetime\n",
    "df = pd.DataFrame({\n",
    "    \"date\":[\"2022-01-01\",\"2022-01-01\",\"2022-01-02\",\"2022-01-03\",\"2022-01-04\"],\n",
    "    \"value\":[\"10\",\"10\",\"20\",\"30\",\"40\"]\n",
    "})\n",
    "\n",
    "print(\">> 转换前的 date type 格式：\")\n",
    "print(type(df[\"date\"]))\n",
    "print(\">> 转换后的 date 的dtype格式:\")\n",
    "print(type(df[\"date\"].dtype))\n",
    "try:\n",
    "    df[\"date\"].iloc[2]-df[\"date\"].iloc[0]\n",
    "except:\n",
    "    print(\"转换为 datetime 之后能够直接将两个数据进行相减，获取时间间隔\")\n",
    "    print(\"\\n如果不转换则直接报错：\")\n",
    "    print(\"TypeError: unsupported operand type(s) for -: 'str' and 'str'\")\n",
    "\n",
    "print(\"\\n\")\n",
    "\n",
    "# 转换为时间格式\n",
    "df[\"date\"] = pd.to_datetime(df[\"date\"])\n",
    "print(\">> 转换后的 date type 格式:\")\n",
    "print(type(df[\"date\"]))\n",
    "print(\">> 转换后的 date dtype 格式:\")\n",
    "print(df[\"date\"].dtype)\n",
    "\n",
    "print(\">> 使用 pandas df.to_datetime 转换前后 dytpe 格式发生了转换\")\n",
    "print(\">> datetime 运算后的结果为：\")\n",
    "print(df[\"date\"].iloc[2]-df[\"date\"].iloc[0])\n",
    "\n",
    "# Numpy 支持 float、int、bool、timedelta64[ns] 和 datetime64[ns]\n",
    "# 但 Numpy 不支持带有时区信息的 datetimes\n"
   ]
  },
  {
   "cell_type": "code",
   "execution_count": 69,
   "metadata": {},
   "outputs": [
    {
     "data": {
      "text/plain": [
       "array([1640995200000000000, 1640995200000000000, 1641081600000000000,\n",
       "       1641168000000000000, 1641254400000000000])"
      ]
     },
     "execution_count": 69,
     "metadata": {},
     "output_type": "execute_result"
    }
   ],
   "source": [
    "import numpy as np\n",
    "df[\"date\"].values.astype(np.int64)"
   ]
  },
  {
   "attachments": {},
   "cell_type": "markdown",
   "metadata": {},
   "source": [
    "## 自由加速度以及加速度转换\n",
    "\n",
    "chatGPT 4 给出的答案，有待验证：https://poe.com/s/2w2EEUaPok6kufqaAXk7\n",
    "IMU (Inertial Measurement Unit) 是一种传感器设备，通常包含加速度计、陀螺仪和磁力计，用于测量物体的线性加速度、角速度和地磁场。在这里，我们将关注加速度计如何测量自由加速度。\n",
    "自由加速度是指物体在没有受到任何其他力（如摩擦力或空气阻力）作用下的加速度。在 IMU 中，加速度计测量的加速度包括重力加速度（g）和自由加速度（a_f）。我们可以通过以下公式计算自由加速度：\n",
    "a_f = a_m - g\n",
    "其中：\n",
    "a_f 是自由加速度\n",
    "a_m 是加速度计测量的加速度\n",
    "g 是重力加速度，通常取值为 9.81 m/s²\n",
    "为了计算自由加速度，我们需要首先确定 IMU 的姿态，然后将加速度计的原始测量值转换为地球坐标系。下面是一个使用 Python 和 NumPy 库的示例代码：\n",
    "python\n",
    "\n",
    "```python\n",
    "import numpy as np\n",
    "\n",
    "def calculate_free_acceleration(raw_acceleration, orientation, gravity=9.81):\n",
    "    # 计算重力在 IMU 坐标系中的分量\n",
    "    gravity_vector = np.array([0, 0, -gravity])\n",
    "    gravity_imu = np.dot(orientation, gravity_vector)\n",
    "    \n",
    "    # 计算自由加速度\n",
    "    free_acceleration = raw_acceleration - gravity_imu\n",
    "    return free_acceleration\n",
    "    \n",
    "\n",
    "### 示例加速度计数据（假设已经转换为 g 值,也就是 m/s²）\n",
    "raw_acceleration = np.array([0.1, 0.2, 9.9])\n",
    "\n",
    "### 示例 IMU 姿态（假设已经转换为旋转矩阵）\n",
    "orientation = np.identity(3)  # 假设 IMU 处于水平静止状态\n",
    "\n",
    "### 计算自由加速度\n",
    "free_acceleration = calculate_free_acceleration(raw_acceleration, orientation)\n",
    "print(\"Free acceleration: \", free_acceleration)\n",
    "现在，我们已经计算出了自由加速度，我们可以使用它来计算加速度。事实上，在我们的公式中，已经给出了如何从自由加速度计算加速度：\n",
    "a_m = a_f + g\n",
    "这个公式已经是加速度计算的公式了。下面是一个简单的 Python 代码示例：\n",
    "python\n",
    "\n",
    "def calculate_acceleration(free_acceleration, gravity=9.81):\n",
    "    # 计算加速度\n",
    "    acceleration = free_acceleration + np.array([0, 0, gravity])\n",
    "    return acceleration\n",
    "\n",
    "# 使用自由加速度计算加速度\n",
    "acceleration = calculate_acceleration(free_acceleration)\n",
    "print(\"Acceleration: \", acceleration)\n",
    "这些代码示例展示了如何根据加速度计数据计算自由加速度，以及如何根据自由加速度计算加速度。请注意，这些示例假设 IMU 的姿态已知。在实际应用中，您可能需要使用姿态估计算法（如四元数、欧拉角或旋转矩阵）来确定 IMU 的姿态。"
   ]
  },
  {
   "cell_type": "code",
   "execution_count": 23,
   "metadata": {},
   "outputs": [
    {
     "ename": "ValueError",
     "evalue": "operands could not be broadcast together with shapes (4,) (3,) ",
     "output_type": "error",
     "traceback": [
      "\u001b[0;31m---------------------------------------------------------------------------\u001b[0m",
      "\u001b[0;31mValueError\u001b[0m                                Traceback (most recent call last)",
      "Cell \u001b[0;32mIn[23], line 7\u001b[0m\n\u001b[1;32m      5\u001b[0m q_SL \u001b[39m=\u001b[39m (\u001b[39m0\u001b[39m,\u001b[39m-\u001b[39m\u001b[39m0\u001b[39m,\u001b[39m-\u001b[39m\u001b[39m0\u001b[39m,\u001b[39m-\u001b[39m\u001b[39m0\u001b[39m)\n\u001b[1;32m      6\u001b[0m x_s \u001b[39m=\u001b[39m [\u001b[39m0\u001b[39m,\u001b[39m0\u001b[39m,\u001b[39m10\u001b[39m]\n\u001b[0;32m----> 7\u001b[0m X_L \u001b[39m=\u001b[39m q_LS \u001b[39m*\u001b[39;49m x_s \u001b[39m*\u001b[39m q_SL\n",
      "\u001b[0;31mValueError\u001b[0m: operands could not be broadcast together with shapes (4,) (3,) "
     ]
    }
   ],
   "source": [
    "from scipy.spatial.transform import Rotation as R\n",
    "euler_angles = (0,0,0)\n",
    "r = R.from_euler(\"zyx\", euler_angles,degrees=True)\n",
    "q_LS = r.as_quat()\n",
    "q_SL = (0,-0,-0,-0)\n",
    "x_s = [0,0,10]\n",
    "X_L = q_LS * x_s * q_SL"
   ]
  },
  {
   "cell_type": "markdown",
   "metadata": {},
   "source": [
    "## 传感器到大地坐标系的转换"
   ]
  },
  {
   "cell_type": "code",
   "execution_count": 9,
   "metadata": {},
   "outputs": [
    {
     "name": "stdout",
     "output_type": "stream",
     "text": [
      "[quaternion(0, 0, 0, 0) quaternion(0, 0, 0, 0) quaternion(0, 0, 0, 0)\n",
      " quaternion(0, 0, 8, 2)]\n"
     ]
    }
   ],
   "source": [
    "# 以下代码还不对可以转换传感器的方向到大地\n",
    "\n",
    "# https://movella.my.site.com/XsensKnowledgebase/s/article/Orientation-output-specifications?language=zh_CN\n",
    "from scipy.spatial.transform import Rotation as R\n",
    "import numpy as np\n",
    "import quaternion\n",
    "\n",
    "euler_angles = (0, 0, 0)\n",
    "r = R.from_euler(\"zyx\", euler_angles, degrees=True)\n",
    "q_LS = r.as_quat()\n",
    "\n",
    "q_SL = np.quaternion(1, 0, 0, 0)  # 四元数的逆为实部相同但虚部取负\n",
    "\n",
    "x_s = np.array([0, 8, 2])  # 将向量转换为四元数\n",
    "q_x = np.quaternion(0, x_s[0], x_s[1], x_s[2])\n",
    "\n",
    "X_L = q_LS * q_x * q_SL.conj()  # 四元数乘法\n",
    "\n",
    "\n",
    "print(X_L)"
   ]
  },
  {
   "attachments": {},
   "cell_type": "markdown",
   "metadata": {},
   "source": [
    "# 使用 matplotlib 生成 html 网页"
   ]
  },
  {
   "cell_type": "code",
   "execution_count": null,
   "metadata": {},
   "outputs": [],
   "source": [
    "# 安装 mpld3\n",
    "!pip install mpld3"
   ]
  },
  {
   "cell_type": "code",
   "execution_count": 3,
   "metadata": {},
   "outputs": [
    {
     "data": {
      "text/plain": [
       "'/Users/wangshuaibo/Documents/ScriptsofShuai/Notes'"
      ]
     },
     "execution_count": 3,
     "metadata": {},
     "output_type": "execute_result"
    }
   ],
   "source": [
    "os.getcwd()"
   ]
  },
  {
   "cell_type": "code",
   "execution_count": 19,
   "metadata": {},
   "outputs": [
    {
     "data": {
      "image/png": "[encoded data removed]",
      "text/plain": [
       "<Figure size 640x480 with 1 Axes>"
      ]
     },
     "metadata": {},
     "output_type": "display_data"
    }
   ],
   "source": [
    "import numpy as np\n",
    "import matplotlib.pyplot as plt\n",
    "import mpld3\n",
    "from mpld3 import plugins\n",
    "\n",
    "fig, ax = plt.subplots()\n",
    "x = np.linspace(0,10,100)\n",
    "y = np.sin(x)\n",
    "z = np.cos(x)\n",
    "line1, = ax.plot(x,y,label=\"sin\")\n",
    "line2, = ax.plot(x,z,label=\"cos\")\n",
    "ax.set_title(\"My Plot\")\n",
    "\n",
    "# 创建交互式图插件\n",
    "handles, labels = ax.get_legend_handles_labels() # 获取图例句柄和标签\n",
    "interactive_legend = plugins.InteractiveLegendPlugin(handles,labels) # 创建交互式图例插件\n",
    "\n",
    "# 将插件连接到图形上\n",
    "plugins.connect(fig, interactive_legend,plugins.MousePosition(fontsize=14)) \n",
    "# Mouseposition 可以帮助显示曲线的具体数值\n",
    "\n",
    "mpld3.save_html(fig, \"myplot.html\")"
   ]
  },
  {
   "cell_type": "code",
   "execution_count": null,
   "metadata": {},
   "outputs": [],
   "source": [
    "## 转换四元数为 .sto 数据"
   ]
  },
  {
   "cell_type": "code",
   "execution_count": 39,
   "metadata": {},
   "outputs": [
    {
     "name": "stdout",
     "output_type": "stream",
     "text": [
      "文件共包含 0 行\n",
      "头文件包含在前 5 行\n",
      "头文件为：[]\n",
      ".sto中的内容同样为字符串<class 'str'>\n",
      ".sto 的格式为:\n",
      "'0\\t0.5105588968224414,0.4570645371936038,-0.6688411554744984,0.2882240976375608\\t0.5150999034850758,0.4570350111478301,-0.6567566498355804,0.3073463696084815\\t0.03454401184498087,0.7261895448153499,-0.1214479765864425,0.675800151841939\\t0.07904786410535811,0.6845873174285211,-0.03532923132427412,0.7237703264229874\\t0.6699975613469359,-0.003147228472911289,-0.7408105394556442,-0.04788640071602394\\t0.7026096898493198,-0.04427423704255651,-0.690916850681173,-0.1643572970967575\\t0.2634654183007522,-0.9267096858071121,0.2489177150420914,-0.09917208644128243\\t0.04061058015653765,0.1701648539050346,0.9512424323165625,0.2540325534952116\\n'\n"
     ]
    }
   ],
   "source": []
  },
  {
   "cell_type": "code",
   "execution_count": 136,
   "metadata": {},
   "outputs": [
    {
     "name": "stdout",
     "output_type": "stream",
     "text": [
      "'0,1,2,3\\t4,5,6,7\\t8,9,10,11,12\\n'\n"
     ]
    },
    {
     "data": {
      "text/plain": [
       "str"
      ]
     },
     "execution_count": 136,
     "metadata": {},
     "output_type": "execute_result"
    }
   ],
   "source": [
    "import pandas as pd\n",
    "columns = [\"time\"] + [segment + quat for segment in [\"Pelvis\",\"Leg\",\"Arm\"] for quat in [\"_q0\",\"_q1\",\"_q2\",\"_q3\"]]\n",
    "df = pd.DataFrame([[0,1,2,3,4,5,6,7,8,9,10,11,12],\n",
    "                   [0,2,2,3,4,5,6,7,8,9,10,11,12]],\n",
    "                  columns=columns)\n",
    "# 定义一个函数，用于将每个分组的数据转换为字符串列表\n",
    "def join_quaternions(group):\n",
    "    return ','.join(map(str, group.values.tolist()[0]))\n",
    "\n",
    "# 按 segment 分组\n",
    "pelvis_group = df[columns[:4]]\n",
    "leg_group = df[columns[4:8]]\n",
    "arm_group = df[columns[8:]]\n",
    "\n",
    "# 将每个分组的数据转换为字符串列表\n",
    "pelvis_string = join_quaternions(pelvis_group)\n",
    "leg_string = join_quaternions(leg_group)\n",
    "arm_string = join_quaternions(arm_group)\n",
    "\n",
    "# 将所有分组的字符串用 `\\t` 连接\n",
    "result = f\"{pelvis_string}\\t{leg_string}\\t{arm_string}\\n\"\n",
    "print(repr(result))\n",
    "type(pelvis_string)\n"
   ]
  },
  {
   "cell_type": "code",
   "execution_count": 137,
   "metadata": {},
   "outputs": [],
   "source": [
    "line_len = (df.shape[1]+1) * 2\n",
    "\n",
    "def line_df_to_sto(line_len,row=0):\n",
    "    line = [None] * line_len\n",
    "    for i in range(line_len):\n",
    "        # 此处也需要修改\n",
    "        line[0] = df.iloc[row,0]\n",
    "        if i%2 != 0 and (i-1)%8 != 0:\n",
    "            line[i] = \",\"\n",
    "        elif (i-1)%8 == 0:\n",
    "            line[i] = \"\\t\"\n",
    "        elif i != 0 :\n",
    "            #print(i)\n",
    "            line[i] = df.iloc[row,int(i/2-1)]\n",
    "\n",
    "    # 将列表转换为字符串\n",
    "    result = \"\"\n",
    "    for n in line:\n",
    "        result += str(n)\n",
    "    return result.strip(\"\\t\") + \"\\n\"\n"
   ]
  },
  {
   "cell_type": "code",
   "execution_count": 144,
   "metadata": {},
   "outputs": [],
   "source": [
    "harzt = 100\n",
    "# 将hartz 填入表头\n",
    "metadata = f'''DataRate={harzt:.6f}\n",
    "DataType=Quaternion\n",
    "version=3\n",
    "OpenSimVersion=4.4-2022-10-11-798caa8\n",
    "endheader'''\n",
    "\n",
    "header_list = [\"time\"] + [segment+\"_imu\" for segment in [\"Pelvis\",\"Leg\",\"Arm\"]]\n",
    "header_str = \"\\t\".join(header_list) + \"\\n\"\n"
   ]
  },
  {
   "cell_type": "code",
   "execution_count": 145,
   "metadata": {},
   "outputs": [
    {
     "data": {
      "text/plain": [
       "'time\\tPelvis_imu\\tLeg_imu\\tArm_imu'"
      ]
     },
     "execution_count": 145,
     "metadata": {},
     "output_type": "execute_result"
    }
   ],
   "source": [
    "header"
   ]
  },
  {
   "cell_type": "code",
   "execution_count": 148,
   "metadata": {},
   "outputs": [],
   "source": [
    "with open(\"test_quat.sto\", \"w\") as f:\n",
    "    # 先写属性信息\n",
    "    f.write(metadata)\n",
    "    f.write(header_str)\n",
    "    for j in range(df.shape[0]):\n",
    "        sto_line = line_df_to_sto(line_len,row=j)\n",
    "        f.write(sto_line)\n",
    "    "
   ]
  },
  {
   "cell_type": "code",
   "execution_count": 147,
   "metadata": {},
   "outputs": [
    {
     "data": {
      "text/plain": [
       "'/Users/wangshuaibo/Documents/ScriptsofShuai/Notes'"
      ]
     },
     "execution_count": 147,
     "metadata": {},
     "output_type": "execute_result"
    }
   ],
   "source": [
    "os.getcwd()"
   ]
  },
  {
   "cell_type": "markdown",
   "metadata": {},
   "source": [
    "# 使用 Open 函数读取 csv 文件"
   ]
  },
  {
   "cell_type": "code",
   "execution_count": 13,
   "metadata": {},
   "outputs": [
    {
     "data": {
      "text/html": [
       "<div>\n",
       "<style scoped>\n",
       "    .dataframe tbody tr th:only-of-type {\n",
       "        vertical-align: middle;\n",
       "    }\n",
       "\n",
       "    .dataframe tbody tr th {\n",
       "        vertical-align: top;\n",
       "    }\n",
       "\n",
       "    .dataframe thead th {\n",
       "        text-align: right;\n",
       "    }\n",
       "</style>\n",
       "<table border=\"1\" class=\"dataframe\">\n",
       "  <thead>\n",
       "    <tr style=\"text-align: right;\">\n",
       "      <th></th>\n",
       "      <th>PacketCounter</th>\n",
       "      <th>SampleTimeFine</th>\n",
       "      <th>Year</th>\n",
       "      <th>Month</th>\n",
       "      <th>Day</th>\n",
       "      <th>Second</th>\n",
       "      <th>UTC_Nano</th>\n",
       "      <th>UTC_Year</th>\n",
       "      <th>UTC_Month</th>\n",
       "      <th>UTC_Day</th>\n",
       "      <th>...</th>\n",
       "      <th>Acc_Z</th>\n",
       "      <th>Mat[1][1]</th>\n",
       "      <th>Mat[2][1]</th>\n",
       "      <th>Mat[3][1]</th>\n",
       "      <th>Mat[1][2]</th>\n",
       "      <th>Mat[2][2]</th>\n",
       "      <th>Mat[3][2]</th>\n",
       "      <th>Mat[1][3]</th>\n",
       "      <th>Mat[2][3]</th>\n",
       "      <th>Mat[3][3]</th>\n",
       "    </tr>\n",
       "  </thead>\n",
       "  <tbody>\n",
       "    <tr>\n",
       "      <th>0</th>\n",
       "      <td>00472</td>\n",
       "      <td></td>\n",
       "      <td></td>\n",
       "      <td></td>\n",
       "      <td></td>\n",
       "      <td></td>\n",
       "      <td></td>\n",
       "      <td></td>\n",
       "      <td></td>\n",
       "      <td></td>\n",
       "      <td>...</td>\n",
       "      <td>-8.503300</td>\n",
       "      <td>-0.938789</td>\n",
       "      <td>0.344369</td>\n",
       "      <td>0.009194</td>\n",
       "      <td>0.303103</td>\n",
       "      <td>0.813023</td>\n",
       "      <td>0.497114</td>\n",
       "      <td>0.163716</td>\n",
       "      <td>0.469472</td>\n",
       "      <td>-0.867636</td>\n",
       "    </tr>\n",
       "    <tr>\n",
       "      <th>1</th>\n",
       "      <td>00473</td>\n",
       "      <td></td>\n",
       "      <td></td>\n",
       "      <td></td>\n",
       "      <td></td>\n",
       "      <td></td>\n",
       "      <td></td>\n",
       "      <td></td>\n",
       "      <td></td>\n",
       "      <td></td>\n",
       "      <td>...</td>\n",
       "      <td>-8.486458</td>\n",
       "      <td>-0.938790</td>\n",
       "      <td>0.344369</td>\n",
       "      <td>0.009161</td>\n",
       "      <td>0.303100</td>\n",
       "      <td>0.813064</td>\n",
       "      <td>0.497048</td>\n",
       "      <td>0.163719</td>\n",
       "      <td>0.469400</td>\n",
       "      <td>-0.867675</td>\n",
       "    </tr>\n",
       "    <tr>\n",
       "      <th>2</th>\n",
       "      <td>00474</td>\n",
       "      <td></td>\n",
       "      <td></td>\n",
       "      <td></td>\n",
       "      <td></td>\n",
       "      <td></td>\n",
       "      <td></td>\n",
       "      <td></td>\n",
       "      <td></td>\n",
       "      <td></td>\n",
       "      <td>...</td>\n",
       "      <td>-8.547919</td>\n",
       "      <td>-0.938785</td>\n",
       "      <td>0.344381</td>\n",
       "      <td>0.009175</td>\n",
       "      <td>0.303123</td>\n",
       "      <td>0.813073</td>\n",
       "      <td>0.497019</td>\n",
       "      <td>0.163704</td>\n",
       "      <td>0.469375</td>\n",
       "      <td>-0.867691</td>\n",
       "    </tr>\n",
       "    <tr>\n",
       "      <th>3</th>\n",
       "      <td>00475</td>\n",
       "      <td></td>\n",
       "      <td></td>\n",
       "      <td></td>\n",
       "      <td></td>\n",
       "      <td></td>\n",
       "      <td></td>\n",
       "      <td></td>\n",
       "      <td></td>\n",
       "      <td></td>\n",
       "      <td>...</td>\n",
       "      <td>-8.504867</td>\n",
       "      <td>-0.938774</td>\n",
       "      <td>0.344410</td>\n",
       "      <td>0.009185</td>\n",
       "      <td>0.303168</td>\n",
       "      <td>0.813104</td>\n",
       "      <td>0.496942</td>\n",
       "      <td>0.163683</td>\n",
       "      <td>0.469301</td>\n",
       "      <td>-0.867735</td>\n",
       "    </tr>\n",
       "    <tr>\n",
       "      <th>4</th>\n",
       "      <td>00476</td>\n",
       "      <td></td>\n",
       "      <td></td>\n",
       "      <td></td>\n",
       "      <td></td>\n",
       "      <td></td>\n",
       "      <td></td>\n",
       "      <td></td>\n",
       "      <td></td>\n",
       "      <td></td>\n",
       "      <td>...</td>\n",
       "      <td>-8.489519</td>\n",
       "      <td>-0.938775</td>\n",
       "      <td>0.344408</td>\n",
       "      <td>0.009171</td>\n",
       "      <td>0.303165</td>\n",
       "      <td>0.813124</td>\n",
       "      <td>0.496911</td>\n",
       "      <td>0.163682</td>\n",
       "      <td>0.469268</td>\n",
       "      <td>-0.867753</td>\n",
       "    </tr>\n",
       "    <tr>\n",
       "      <th>...</th>\n",
       "      <td>...</td>\n",
       "      <td>...</td>\n",
       "      <td>...</td>\n",
       "      <td>...</td>\n",
       "      <td>...</td>\n",
       "      <td>...</td>\n",
       "      <td>...</td>\n",
       "      <td>...</td>\n",
       "      <td>...</td>\n",
       "      <td>...</td>\n",
       "      <td>...</td>\n",
       "      <td>...</td>\n",
       "      <td>...</td>\n",
       "      <td>...</td>\n",
       "      <td>...</td>\n",
       "      <td>...</td>\n",
       "      <td>...</td>\n",
       "      <td>...</td>\n",
       "      <td>...</td>\n",
       "      <td>...</td>\n",
       "      <td>...</td>\n",
       "    </tr>\n",
       "    <tr>\n",
       "      <th>2427</th>\n",
       "      <td>02899</td>\n",
       "      <td></td>\n",
       "      <td></td>\n",
       "      <td></td>\n",
       "      <td></td>\n",
       "      <td></td>\n",
       "      <td></td>\n",
       "      <td></td>\n",
       "      <td></td>\n",
       "      <td></td>\n",
       "      <td>...</td>\n",
       "      <td>-8.441149</td>\n",
       "      <td>0.969667</td>\n",
       "      <td>0.243085</td>\n",
       "      <td>0.025588</td>\n",
       "      <td>0.195244</td>\n",
       "      <td>-0.833274</td>\n",
       "      <td>0.517237</td>\n",
       "      <td>0.147054</td>\n",
       "      <td>-0.496552</td>\n",
       "      <td>-0.855459</td>\n",
       "    </tr>\n",
       "    <tr>\n",
       "      <th>2428</th>\n",
       "      <td>02900</td>\n",
       "      <td></td>\n",
       "      <td></td>\n",
       "      <td></td>\n",
       "      <td></td>\n",
       "      <td></td>\n",
       "      <td></td>\n",
       "      <td></td>\n",
       "      <td></td>\n",
       "      <td></td>\n",
       "      <td>...</td>\n",
       "      <td>-8.465569</td>\n",
       "      <td>0.969608</td>\n",
       "      <td>0.243308</td>\n",
       "      <td>0.025715</td>\n",
       "      <td>0.195127</td>\n",
       "      <td>-0.832418</td>\n",
       "      <td>0.518658</td>\n",
       "      <td>0.147599</td>\n",
       "      <td>-0.497877</td>\n",
       "      <td>-0.854595</td>\n",
       "    </tr>\n",
       "    <tr>\n",
       "      <th>2429</th>\n",
       "      <td>02901</td>\n",
       "      <td></td>\n",
       "      <td></td>\n",
       "      <td></td>\n",
       "      <td></td>\n",
       "      <td></td>\n",
       "      <td></td>\n",
       "      <td></td>\n",
       "      <td></td>\n",
       "      <td></td>\n",
       "      <td>...</td>\n",
       "      <td>-8.392715</td>\n",
       "      <td>0.969550</td>\n",
       "      <td>0.243507</td>\n",
       "      <td>0.026029</td>\n",
       "      <td>0.194874</td>\n",
       "      <td>-0.831518</td>\n",
       "      <td>0.520193</td>\n",
       "      <td>0.148315</td>\n",
       "      <td>-0.499281</td>\n",
       "      <td>-0.853652</td>\n",
       "    </tr>\n",
       "    <tr>\n",
       "      <th>2430</th>\n",
       "      <td>02902</td>\n",
       "      <td></td>\n",
       "      <td></td>\n",
       "      <td></td>\n",
       "      <td></td>\n",
       "      <td></td>\n",
       "      <td></td>\n",
       "      <td></td>\n",
       "      <td></td>\n",
       "      <td></td>\n",
       "      <td>...</td>\n",
       "      <td>-8.454162</td>\n",
       "      <td>0.969505</td>\n",
       "      <td>0.243669</td>\n",
       "      <td>0.026203</td>\n",
       "      <td>0.194676</td>\n",
       "      <td>-0.830666</td>\n",
       "      <td>0.521627</td>\n",
       "      <td>0.148870</td>\n",
       "      <td>-0.500619</td>\n",
       "      <td>-0.852771</td>\n",
       "    </tr>\n",
       "    <tr>\n",
       "      <th>2431</th>\n",
       "      <td>02903</td>\n",
       "      <td></td>\n",
       "      <td></td>\n",
       "      <td></td>\n",
       "      <td></td>\n",
       "      <td></td>\n",
       "      <td></td>\n",
       "      <td></td>\n",
       "      <td></td>\n",
       "      <td></td>\n",
       "      <td>...</td>\n",
       "      <td>-8.450768</td>\n",
       "      <td>0.969444</td>\n",
       "      <td>0.243877</td>\n",
       "      <td>0.026514</td>\n",
       "      <td>0.194427</td>\n",
       "      <td>-0.829750</td>\n",
       "      <td>0.523176</td>\n",
       "      <td>0.149590</td>\n",
       "      <td>-0.502035</td>\n",
       "      <td>-0.851812</td>\n",
       "    </tr>\n",
       "  </tbody>\n",
       "</table>\n",
       "<p>2432 rows × 26 columns</p>\n",
       "</div>"
      ],
      "text/plain": [
       "     PacketCounter SampleTimeFine Year Month Day Second UTC_Nano UTC_Year  \\\n",
       "0            00472                                                          \n",
       "1            00473                                                          \n",
       "2            00474                                                          \n",
       "3            00475                                                          \n",
       "4            00476                                                          \n",
       "...            ...            ...  ...   ...  ..    ...      ...      ...   \n",
       "2427         02899                                                          \n",
       "2428         02900                                                          \n",
       "2429         02901                                                          \n",
       "2430         02902                                                          \n",
       "2431         02903                                                          \n",
       "\n",
       "     UTC_Month UTC_Day  ...      Acc_Z  Mat[1][1] Mat[2][1] Mat[3][1]  \\\n",
       "0                       ...  -8.503300  -0.938789  0.344369  0.009194   \n",
       "1                       ...  -8.486458  -0.938790  0.344369  0.009161   \n",
       "2                       ...  -8.547919  -0.938785  0.344381  0.009175   \n",
       "3                       ...  -8.504867  -0.938774  0.344410  0.009185   \n",
       "4                       ...  -8.489519  -0.938775  0.344408  0.009171   \n",
       "...        ...     ...  ...        ...        ...       ...       ...   \n",
       "2427                    ...  -8.441149   0.969667  0.243085  0.025588   \n",
       "2428                    ...  -8.465569   0.969608  0.243308  0.025715   \n",
       "2429                    ...  -8.392715   0.969550  0.243507  0.026029   \n",
       "2430                    ...  -8.454162   0.969505  0.243669  0.026203   \n",
       "2431                    ...  -8.450768   0.969444  0.243877  0.026514   \n",
       "\n",
       "     Mat[1][2]  Mat[2][2] Mat[3][2] Mat[1][3]  Mat[2][3]  Mat[3][3]  \n",
       "0     0.303103   0.813023  0.497114  0.163716   0.469472  -0.867636  \n",
       "1     0.303100   0.813064  0.497048  0.163719   0.469400  -0.867675  \n",
       "2     0.303123   0.813073  0.497019  0.163704   0.469375  -0.867691  \n",
       "3     0.303168   0.813104  0.496942  0.163683   0.469301  -0.867735  \n",
       "4     0.303165   0.813124  0.496911  0.163682   0.469268  -0.867753  \n",
       "...        ...        ...       ...       ...        ...        ...  \n",
       "2427  0.195244  -0.833274  0.517237  0.147054  -0.496552  -0.855459  \n",
       "2428  0.195127  -0.832418  0.518658  0.147599  -0.497877  -0.854595  \n",
       "2429  0.194874  -0.831518  0.520193  0.148315  -0.499281  -0.853652  \n",
       "2430  0.194676  -0.830666  0.521627  0.148870  -0.500619  -0.852771  \n",
       "2431  0.194427  -0.829750  0.523176  0.149590  -0.502035  -0.851812  \n",
       "\n",
       "[2432 rows x 26 columns]"
      ]
     },
     "execution_count": 13,
     "metadata": {},
     "output_type": "execute_result"
    }
   ],
   "source": [
    "import numpy as np\n",
    "csv_path = r\"/Users/wangshuaibo/Library/CloudStorage/OneDrive-bsu.edu.cn/Archive/代码_OpenSense/OpenSense_Python/OpenSenseExample/OpenSenseExample_Original_20230518/IMUData/MT_012005D6_009-001_00B421E6.txt\"\n",
    "data = []\n",
    "with open(csv_path) as f:\n",
    "    count = 0\n",
    "    for line in f:\n",
    "\n",
    "        \n",
    "        if count > 4:\n",
    "            row = line.strip().split(\"\\t\")\n",
    "            #print(row)\n",
    "            data.append(row)\n",
    "        count += 1\n",
    "data = np.array(data)\n",
    "\n",
    "import pandas as pd\n",
    "data_df = pd.DataFrame(data[1:,:],columns=data[0,:])\n",
    "data_df"
   ]
  },
  {
   "cell_type": "code",
   "execution_count": 9,
   "metadata": {},
   "outputs": [
    {
     "name": "stdout",
     "output_type": "stream",
     "text": [
      "'hello world!\\t'\n",
      "'hello world!\\t\\n'\n",
      "'hello world!\\t\\n\\t'\n",
      "'hello world!\\t\\n\\t\\n'\n",
      "'hello world!\\t\\n\\t\\n\\t'\n",
      "'hello world!\\t\\n\\t\\n\\t\\n'\n",
      "'hello world!\\t\\n\\t\\n\\t\\n\\t'\n",
      "'hello world!\\t\\n\\t\\n\\t\\n\\t\\n'\n",
      "'hello world!\\t\\n\\t\\n\\t\\n\\t\\n\\t'\n",
      "'hello world!\\t\\n\\t\\n\\t\\n\\t\\n\\t\\n'\n"
     ]
    }
   ],
   "source": [
    "# 进行字符串的拼接\n",
    "words = \"hello world!\"\n",
    "\n",
    "for i in range(10):\n",
    "    '''\n",
    "    if i%2 == 0:\n",
    "        sep = \"\\t\"\n",
    "    else:\n",
    "        sep = \"\\n\"\n",
    "    '''\n",
    "    # for 以及 if 语句变为单行之后，就没有 :\n",
    "    sep = \"\\t\" if i%2 ==0 else \"\\n\"\n",
    "    words = words + sep\n",
    "    print(repr(words))"
   ]
  },
  {
   "attachments": {},
   "cell_type": "markdown",
   "metadata": {},
   "source": [
    "# Gaitpy 学习笔记"
   ]
  },
  {
   "attachments": {},
   "cell_type": "markdown",
   "metadata": {},
   "source": [
    "## detrend 趋势"
   ]
  },
  {
   "cell_type": "code",
   "execution_count": 8,
   "metadata": {},
   "outputs": [
    {
     "data": {
      "text/plain": [
       "[<matplotlib.lines.Line2D at 0x7fe931ea52d0>,\n",
       " <matplotlib.lines.Line2D at 0x7fe931ea5330>]"
      ]
     },
     "execution_count": 8,
     "metadata": {},
     "output_type": "execute_result"
    },
    {
     "data": {
      "image/png": "[encoded data removed]",
      "text/plain": [
       "<Figure size 640x480 with 1 Axes>"
      ]
     },
     "metadata": {},
     "output_type": "display_data"
    }
   ],
   "source": [
    "import numpy as np\n",
    "from scipy import signal\n",
    "import matplotlib.pyplot as plt \n",
    "\n",
    "data = [1,3,6,9,12,15,18,21,24,27]\n",
    "detrended_data = signal.detrend(data)\n",
    "plt.plot(np.arange(0,len(data)),data,detrended_data)"
   ]
  },
  {
   "cell_type": "code",
   "execution_count": null,
   "metadata": {},
   "outputs": [],
   "source": []
  }
 ],
 "metadata": {
  "kernelspec": {
   "display_name": "base",
   "language": "python",
   "name": "python3"
  },
  "language_info": {
   "codemirror_mode": {
    "name": "ipython",
    "version": 3
   },
   "file_extension": ".py",
   "mimetype": "text/x-python",
   "name": "python",
   "nbconvert_exporter": "python",
   "pygments_lexer": "ipython3",
   "version": "3.10.11"
  },
  "orig_nbformat": 4,
  "vscode": {
   "interpreter": {
    "hash": "f0e6e5a6c366f0544d48e86b9538c9e2f921792a30284d93e80dad42978f2a5f"
   }
  }
 },
 "nbformat": 4,
 "nbformat_minor": 2
}
