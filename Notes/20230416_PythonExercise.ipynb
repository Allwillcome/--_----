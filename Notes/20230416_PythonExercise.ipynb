{
 "cells": [
  {
   "attachments": {},
   "cell_type": "markdown",
   "metadata": {},
   "source": [
    "## 单行 for 循环的使用"
   ]
  },
  {
   "cell_type": "code",
   "execution_count": null,
   "metadata": {},
   "outputs": [],
   "source": [
    "# 简化代码 \n",
    "segment_ls = [\"pelvis\",\"leg\" ]\n",
    "quat_ls = [\"_q0\",\"_q1\",\"_q2\",\"_q3\"]\n",
    "segmet_quat_ls = [segment_ls[0]+quat_ls[0],segment_ls[0]+quat_ls[1],segment_ls[0]+quat_ls[2],segment_ls[0]+quat_ls[3]]\n",
    "segmet_quat_ls"
   ]
  },
  {
   "cell_type": "code",
   "execution_count": null,
   "metadata": {},
   "outputs": [],
   "source": [
    "# 以下是简化后的代码：\n",
    "segments = [\"pelvis\", \"leg\"]\n",
    "quats = [\"_q0\", \"_q1\", \"_q2\", \"_q3\"]\n",
    "segment_quats = [seg + quat for seg in segments for quat in quats]\n",
    "print(segment_quats)\n",
    "\n",
    "# @阿帅批\n",
    "# 使用了单行for循环\n",
    "# 简化了命名，列表使用复数命名，\n",
    "# 列表中的元素使用单数甚至是缩写"
   ]
  },
  {
   "attachments": {},
   "cell_type": "markdown",
   "metadata": {},
   "source": [
    "chatGPT 解释\n",
    "这段代码创建了一个名为 segments 的列表，其中包含字符串 \"pelvis\" 和 \"leg\"。它还创建了一个名为 quats 的列表，其中包含字符串 \"_q0\"、\"_q1\"、\"_q2\" 和 \"_q3\"。\n",
    "列表推导式 segment_quats = [seg + quat for seg in segments for quat in quats] 通过将 segments 中的每个元素与 quats 中的每个元素连接而创建一个新列表。生成的列表包含字符串 \"pelvis_q0\"、\"pelvis_q1\"、\"pelvis_q2\"、\"pelvis_q3\"、\"leg_q0\"、\"leg_q1\"、\"leg_q2\" 和 \"leg_q3\"。\n",
    "最后，代码打印了 segment_quats 列表。"
   ]
  },
  {
   "attachments": {},
   "cell_type": "markdown",
   "metadata": {},
   "source": [
    "## 遍历文件夹"
   ]
  },
  {
   "cell_type": "code",
   "execution_count": null,
   "metadata": {},
   "outputs": [],
   "source": [
    "import os\n",
    "path = input(\"请输入文件路径：\")\n",
    "os.scandir() # 不能做到遍历，但能够方便的查找当前文件下的文件、文件名\n",
    "for i in os.scandir(path):\n",
    "    if i.is_dir():\n",
    "        print(i.path)\n",
    "    print(\"------\")\n",
    "    if i.is_file():\n",
    "        print(i.name)\n",
    "\n",
    "# os.walk 能够对当前文件夹进行遍历，并返回列表\n",
    "for dirpath, dirnames, filenames in os.walk(path):\n",
    "    #print(dirpath)\n",
    "    #print(\"-----\")\n",
    "    #print(dirnames)\n",
    "    print(f\"dirpath:\\n{dirpath}\\n\")\n",
    "    print(f\"dirnames:\\n{dirpath}\\n\")\n",
    "    print(f\"dirnames:\\n{filenames}\")\n",
    "    print(\"-----\\n\\n\")"
   ]
  },
  {
   "cell_type": "code",
   "execution_count": 3,
   "metadata": {},
   "outputs": [
    {
     "name": "stdout",
     "output_type": "stream",
     "text": [
      "-0.07142857143090686 2.3685714285744046 0.039999999997922364\n",
      "拟合参数: [-0.07142857  2.36857143  0.04      ]\n"
     ]
    },
    {
     "data": {
      "image/png": "[encoded data removed]",
      "text/plain": [
       "<Figure size 432x288 with 1 Axes>"
      ]
     },
     "metadata": {
      "needs_background": "light"
     },
     "output_type": "display_data"
    }
   ],
   "source": [
    "import numpy as np\n",
    "from scipy.optimize import curve_fit\n",
    "import matplotlib.pyplot as plt\n",
    "\n",
    "# 准备数据\n",
    "x = np.array([1, 2, 3, 4, 5])\n",
    "y = np.array([2.3, 4.5, 6.7, 8.1, 10.2])\n",
    "\n",
    "# 定义拟合函数\n",
    "def func(x, a, b, c):\n",
    "    return a * x**2 + b * x + c\n",
    "\n",
    "# 初始猜测参数\n",
    "initial_guess = [1, 1, 1]\n",
    "\n",
    "# 进行曲线拟合\n",
    "popt, pcov = curve_fit(func, x, y, p0=initial_guess)\n",
    "\n",
    "# 输出拟合结果\n",
    "print(\"拟合参数:\", popt)\n",
    "\n",
    "# 绘制拟合曲线和原始数据\n",
    "plt.scatter(x, y, label='Original Data')\n",
    "\n",
    "# 列表中加 * 可以将列表中的元素一个个拆解出来\n",
    "plt.plot(x, func(x, *popt), 'r-', label='Fitted Curve')\n",
    "plt.legend()\n",
    "plt.show()"
   ]
  },
  {
   "attachments": {},
   "cell_type": "markdown",
   "metadata": {},
   "source": [
    "## reindex 和 reset_index 的区别"
   ]
  },
  {
   "cell_type": "code",
   "execution_count": 5,
   "metadata": {},
   "outputs": [
    {
     "name": "stdout",
     "output_type": "stream",
     "text": [
      "   p1-c\n",
      "1     1\n",
      "2     2\n",
      "3     3\n"
     ]
    }
   ],
   "source": [
    "import pandas as pd\n",
    "# reindex 是重建索引\n",
    "df = pd.DataFrame({\"p1-c\":[1,2,3]},index=[1,2,3])\n",
    "print(df)"
   ]
  },
  {
   "cell_type": "code",
   "execution_count": 11,
   "metadata": {},
   "outputs": [
    {
     "name": "stdout",
     "output_type": "stream",
     "text": [
      "   p1-c\n",
      "3     3\n",
      "2     2\n",
      "1     1\n"
     ]
    }
   ],
   "source": [
    "reindex = [3,2,1]\n",
    "# 需要重新赋值给新的索引才可以\n",
    "new_df = df.reindex(reindex)\n",
    "print(new_df)"
   ]
  },
  {
   "cell_type": "code",
   "execution_count": 14,
   "metadata": {},
   "outputs": [
    {
     "data": {
      "text/html": [
       "<div>\n",
       "<style scoped>\n",
       "    .dataframe tbody tr th:only-of-type {\n",
       "        vertical-align: middle;\n",
       "    }\n",
       "\n",
       "    .dataframe tbody tr th {\n",
       "        vertical-align: top;\n",
       "    }\n",
       "\n",
       "    .dataframe thead th {\n",
       "        text-align: right;\n",
       "    }\n",
       "</style>\n",
       "<table border=\"1\" class=\"dataframe\">\n",
       "  <thead>\n",
       "    <tr style=\"text-align: right;\">\n",
       "      <th></th>\n",
       "      <th>BMI</th>\n",
       "      <th>Grade</th>\n",
       "    </tr>\n",
       "  </thead>\n",
       "  <tbody>\n",
       "    <tr>\n",
       "      <th>Fit001</th>\n",
       "      <td>18</td>\n",
       "      <td>Good</td>\n",
       "    </tr>\n",
       "    <tr>\n",
       "      <th>Fit002</th>\n",
       "      <td>22</td>\n",
       "      <td>Great</td>\n",
       "    </tr>\n",
       "    <tr>\n",
       "      <th>Fit003</th>\n",
       "      <td>33</td>\n",
       "      <td>Bad</td>\n",
       "    </tr>\n",
       "  </tbody>\n",
       "</table>\n",
       "</div>"
      ],
      "text/plain": [
       "        BMI  Grade\n",
       "Fit001   18   Good\n",
       "Fit002   22  Great\n",
       "Fit003   33    Bad"
      ]
     },
     "execution_count": 14,
     "metadata": {},
     "output_type": "execute_result"
    }
   ],
   "source": [
    "# reset_index 是重置索引，将原来的索引提取出来\n",
    "import pandas as pd\n",
    "df = pd.DataFrame({\"BMI\":[18,22,33],\n",
    "                   \"Grade\":[\"Good\",\"Great\",\"Bad\"]},\n",
    "                   index = [\"Fit001\",\"Fit002\",\"Fit003\"])\n",
    "df"
   ]
  },
  {
   "cell_type": "code",
   "execution_count": 21,
   "metadata": {},
   "outputs": [
    {
     "name": "stdout",
     "output_type": "stream",
     "text": [
      "将Index 提取出来：\n",
      "    index  BMI  Grade\n",
      "0  Fit001   18   Good\n",
      "1  Fit002   22  Great\n",
      "2  Fit003   33    Bad\n",
      "\n",
      "\n",
      "直接将 Index 剔除：\n",
      "   BMI  Grade\n",
      "0   18   Good\n",
      "1   22  Great\n",
      "2   33    Bad\n"
     ]
    }
   ],
   "source": [
    "# reset_index 可以将原来的 index 提取出来\n",
    "new_df_with_index = df.reset_index()\n",
    "print(\"将Index 提取出来：\")\n",
    "print(new_df_with_index)\n",
    "print(\"\\n\")\n",
    "new_df_without_index= df.reset_index(drop=True)\n",
    "print(\"直接将 Index 剔除：\")\n",
    "print(new_df_without_index)"
   ]
  }
 ],
 "metadata": {
  "kernelspec": {
   "display_name": "GaitPy",
   "language": "python",
   "name": "python3"
  },
  "language_info": {
   "codemirror_mode": {
    "name": "ipython",
    "version": 3
   },
   "file_extension": ".py",
   "mimetype": "text/x-python",
   "name": "python",
   "nbconvert_exporter": "python",
   "pygments_lexer": "ipython3",
   "version": "3.6.13"
  },
  "orig_nbformat": 4,
  "vscode": {
   "interpreter": {
    "hash": "7eb6e7a2760c9df83d84862b4a1ac38b02bbb61584ac3587d2c4d183a35ac194"
   }
  }
 },
 "nbformat": 4,
 "nbformat_minor": 2
}
