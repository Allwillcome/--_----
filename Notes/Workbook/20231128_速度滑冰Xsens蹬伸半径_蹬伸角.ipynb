{
 "cells": [
  {
   "cell_type": "code",
   "execution_count": 2,
   "metadata": {},
   "outputs": [],
   "source": [
    "# 根据 CoM 坐标和足的坐标计算蹬伸角度"
   ]
  },
  {
   "cell_type": "code",
   "execution_count": 2,
   "metadata": {},
   "outputs": [
    {
     "name": "stdout",
     "output_type": "stream",
     "text": [
      "Intel MKL WARNING: Support of Intel(R) Streaming SIMD Extensions 4.2 (Intel(R) SSE4.2) enabled only processors has been deprecated. Intel oneAPI Math Kernel Library 2025.0 will require Intel(R) Advanced Vector Extensions (Intel(R) AVX) instructions.\n",
      "Intel MKL WARNING: Support of Intel(R) Streaming SIMD Extensions 4.2 (Intel(R) SSE4.2) enabled only processors has been deprecated. Intel oneAPI Math Kernel Library 2025.0 will require Intel(R) Advanced Vector Extensions (Intel(R) AVX) instructions.\n"
     ]
    }
   ],
   "source": [
    "import pandas as pd\n",
    "import math\n",
    "import os\n",
    "\n",
    "# 读取 Excel 文件\n",
    "def read_excel(file_path):\n",
    "    com_df = pd.read_excel(file_path, sheet_name='Center of Mass')\n",
    "    seg_pos_df = pd.read_excel(file_path, sheet_name='Segment Position')\n",
    "    return com_df, seg_pos_df\n",
    "\n",
    "# 计算蹬伸向量的角度和半径\n",
    "def calculate_vector_properties(com_y, com_z, foot_y, foot_z):\n",
    "    # 计算向量\n",
    "    vector_y = com_y - foot_y\n",
    "    vector_z = com_z - foot_z\n",
    "    length = math.sqrt(vector_y**2 + vector_z**2)\n",
    "    vector_y_round = round(abs(vector_y),2)\n",
    "    if length != 0:  # 防止除以零\n",
    "        angle_radians = math.acos(vector_y / length)\n",
    "        # 转换为角度\n",
    "        angle_degrees = math.degrees(angle_radians)\n",
    "    else:\n",
    "        angle_degrees = 0\n",
    "\n",
    "    angle_degrees_round = round(angle_degrees,2)\n",
    "    return vector_y_round, angle_degrees_round\n",
    "\n",
    "# 主处理函数\n",
    "def process_file(file_path):\n",
    "    com_df, seg_pos_df = read_excel(file_path)\n",
    "\n",
    "    # 创建结果列表\n",
    "    results = []\n",
    "\n",
    "    # 对每一行数据进行处理\n",
    "    for index, row in seg_pos_df.iterrows():\n",
    "        if index < len(com_df):\n",
    "            # 计算左脚的蹬伸角和半径\n",
    "            left_length, left_angle = calculate_vector_properties(\n",
    "                com_df.at[index, 'CoM pos y'], com_df.at[index, 'CoM pos z'],\n",
    "                row['Left Foot y'], row['Left Foot z']\n",
    "            )\n",
    "            \n",
    "            # 计算右脚的蹬伸角和半径\n",
    "            right_length, right_angle = calculate_vector_properties(\n",
    "                com_df.at[index, 'CoM pos y'], com_df.at[index, 'CoM pos z'],\n",
    "                row['Right Foot y'], row['Right Foot z']\n",
    "            )\n",
    "\n",
    "            # 添加结果到列表\n",
    "            results.append({'Frame': row['Frame'], 'Left Slip Angle': left_angle, 'Left Slip Radius': left_length, \n",
    "                            'Right Slip Angle': right_angle, 'Right Slip Radius': right_length})\n",
    "\n",
    "    # 创建新的 DataFrame\n",
    "    results_df = pd.DataFrame(results)\n",
    "\n",
    "    # 保存结果到新的 Excel 文件\n",
    "    new_file_path = os.path.splitext(file_path)[0] + '_蹬伸角_半径.xlsx'\n",
    "    results_df.to_excel(new_file_path, index=False)\n"
   ]
  },
  {
   "cell_type": "code",
   "execution_count": 21,
   "metadata": {},
   "outputs": [],
   "source": [
    "# 替换为您的 Excel 文件路径\n",
    "file_path = '/Users/wangshuaibo/Downloads/20231019_1_lininghao-001.xlsx'\n",
    "process_file(file_path)"
   ]
  },
  {
   "cell_type": "code",
   "execution_count": 3,
   "metadata": {},
   "outputs": [
    {
     "ename": "ValueError",
     "evalue": "Excel file format cannot be determined, you must specify an engine manually.",
     "output_type": "error",
     "traceback": [
      "\u001b[0;31m---------------------------------------------------------------------------\u001b[0m",
      "\u001b[0;31mValueError\u001b[0m                                Traceback (most recent call last)",
      "\u001b[1;32m/Users/wangshuaibo/Documents/ScriptsofShuai/Notes/Workbook/20231128_速度滑冰Xsens蹬伸半径_蹬伸角.ipynb 单元格 4\u001b[0m line \u001b[0;36m<cell line: 1>\u001b[0;34m()\u001b[0m\n\u001b[1;32m      <a href='vscode-notebook-cell:/Users/wangshuaibo/Documents/ScriptsofShuai/Notes/Workbook/20231128_%E9%80%9F%E5%BA%A6%E6%BB%91%E5%86%B0Xsens%E8%B9%AC%E4%BC%B8%E5%8D%8A%E5%BE%84_%E8%B9%AC%E4%BC%B8%E8%A7%92.ipynb#W3sZmlsZQ%3D%3D?line=1'>2</a>\u001b[0m \u001b[39mif\u001b[39;00m file\u001b[39m.\u001b[39mendswith(\u001b[39m'\u001b[39m\u001b[39m.xlsx\u001b[39m\u001b[39m'\u001b[39m) \u001b[39mand\u001b[39;00m \u001b[39mnot\u001b[39;00m file\u001b[39m.\u001b[39mendswith(\u001b[39m'\u001b[39m\u001b[39m_蹬伸角_半径.xlsx\u001b[39m\u001b[39m'\u001b[39m):\n\u001b[1;32m      <a href='vscode-notebook-cell:/Users/wangshuaibo/Documents/ScriptsofShuai/Notes/Workbook/20231128_%E9%80%9F%E5%BA%A6%E6%BB%91%E5%86%B0Xsens%E8%B9%AC%E4%BC%B8%E5%8D%8A%E5%BE%84_%E8%B9%AC%E4%BC%B8%E8%A7%92.ipynb#W3sZmlsZQ%3D%3D?line=2'>3</a>\u001b[0m     file_path \u001b[39m=\u001b[39m os\u001b[39m.\u001b[39mpath\u001b[39m.\u001b[39mjoin(\u001b[39m'\u001b[39m\u001b[39m/Volumes/ESD-USB/哈尔滨滑冰测试/excel\u001b[39m\u001b[39m'\u001b[39m, file)\n\u001b[0;32m----> <a href='vscode-notebook-cell:/Users/wangshuaibo/Documents/ScriptsofShuai/Notes/Workbook/20231128_%E9%80%9F%E5%BA%A6%E6%BB%91%E5%86%B0Xsens%E8%B9%AC%E4%BC%B8%E5%8D%8A%E5%BE%84_%E8%B9%AC%E4%BC%B8%E8%A7%92.ipynb#W3sZmlsZQ%3D%3D?line=3'>4</a>\u001b[0m     process_file(file_path)\n",
      "\u001b[1;32m/Users/wangshuaibo/Documents/ScriptsofShuai/Notes/Workbook/20231128_速度滑冰Xsens蹬伸半径_蹬伸角.ipynb 单元格 4\u001b[0m line \u001b[0;36mprocess_file\u001b[0;34m(file_path)\u001b[0m\n\u001b[1;32m     <a href='vscode-notebook-cell:/Users/wangshuaibo/Documents/ScriptsofShuai/Notes/Workbook/20231128_%E9%80%9F%E5%BA%A6%E6%BB%91%E5%86%B0Xsens%E8%B9%AC%E4%BC%B8%E5%8D%8A%E5%BE%84_%E8%B9%AC%E4%BC%B8%E8%A7%92.ipynb#W3sZmlsZQ%3D%3D?line=28'>29</a>\u001b[0m \u001b[39mdef\u001b[39;00m \u001b[39mprocess_file\u001b[39m(file_path):\n\u001b[0;32m---> <a href='vscode-notebook-cell:/Users/wangshuaibo/Documents/ScriptsofShuai/Notes/Workbook/20231128_%E9%80%9F%E5%BA%A6%E6%BB%91%E5%86%B0Xsens%E8%B9%AC%E4%BC%B8%E5%8D%8A%E5%BE%84_%E8%B9%AC%E4%BC%B8%E8%A7%92.ipynb#W3sZmlsZQ%3D%3D?line=29'>30</a>\u001b[0m     com_df, seg_pos_df \u001b[39m=\u001b[39m read_excel(file_path)\n\u001b[1;32m     <a href='vscode-notebook-cell:/Users/wangshuaibo/Documents/ScriptsofShuai/Notes/Workbook/20231128_%E9%80%9F%E5%BA%A6%E6%BB%91%E5%86%B0Xsens%E8%B9%AC%E4%BC%B8%E5%8D%8A%E5%BE%84_%E8%B9%AC%E4%BC%B8%E8%A7%92.ipynb#W3sZmlsZQ%3D%3D?line=31'>32</a>\u001b[0m     \u001b[39m# 创建结果列表\u001b[39;00m\n\u001b[1;32m     <a href='vscode-notebook-cell:/Users/wangshuaibo/Documents/ScriptsofShuai/Notes/Workbook/20231128_%E9%80%9F%E5%BA%A6%E6%BB%91%E5%86%B0Xsens%E8%B9%AC%E4%BC%B8%E5%8D%8A%E5%BE%84_%E8%B9%AC%E4%BC%B8%E8%A7%92.ipynb#W3sZmlsZQ%3D%3D?line=32'>33</a>\u001b[0m     results \u001b[39m=\u001b[39m []\n",
      "\u001b[1;32m/Users/wangshuaibo/Documents/ScriptsofShuai/Notes/Workbook/20231128_速度滑冰Xsens蹬伸半径_蹬伸角.ipynb 单元格 4\u001b[0m line \u001b[0;36mread_excel\u001b[0;34m(file_path)\u001b[0m\n\u001b[1;32m      <a href='vscode-notebook-cell:/Users/wangshuaibo/Documents/ScriptsofShuai/Notes/Workbook/20231128_%E9%80%9F%E5%BA%A6%E6%BB%91%E5%86%B0Xsens%E8%B9%AC%E4%BC%B8%E5%8D%8A%E5%BE%84_%E8%B9%AC%E4%BC%B8%E8%A7%92.ipynb#W3sZmlsZQ%3D%3D?line=5'>6</a>\u001b[0m \u001b[39mdef\u001b[39;00m \u001b[39mread_excel\u001b[39m(file_path):\n\u001b[0;32m----> <a href='vscode-notebook-cell:/Users/wangshuaibo/Documents/ScriptsofShuai/Notes/Workbook/20231128_%E9%80%9F%E5%BA%A6%E6%BB%91%E5%86%B0Xsens%E8%B9%AC%E4%BC%B8%E5%8D%8A%E5%BE%84_%E8%B9%AC%E4%BC%B8%E8%A7%92.ipynb#W3sZmlsZQ%3D%3D?line=6'>7</a>\u001b[0m     com_df \u001b[39m=\u001b[39m pd\u001b[39m.\u001b[39;49mread_excel(file_path, sheet_name\u001b[39m=\u001b[39;49m\u001b[39m'\u001b[39;49m\u001b[39mCenter of Mass\u001b[39;49m\u001b[39m'\u001b[39;49m)\n\u001b[1;32m      <a href='vscode-notebook-cell:/Users/wangshuaibo/Documents/ScriptsofShuai/Notes/Workbook/20231128_%E9%80%9F%E5%BA%A6%E6%BB%91%E5%86%B0Xsens%E8%B9%AC%E4%BC%B8%E5%8D%8A%E5%BE%84_%E8%B9%AC%E4%BC%B8%E8%A7%92.ipynb#W3sZmlsZQ%3D%3D?line=7'>8</a>\u001b[0m     seg_pos_df \u001b[39m=\u001b[39m pd\u001b[39m.\u001b[39mread_excel(file_path, sheet_name\u001b[39m=\u001b[39m\u001b[39m'\u001b[39m\u001b[39mSegment Position\u001b[39m\u001b[39m'\u001b[39m)\n\u001b[1;32m      <a href='vscode-notebook-cell:/Users/wangshuaibo/Documents/ScriptsofShuai/Notes/Workbook/20231128_%E9%80%9F%E5%BA%A6%E6%BB%91%E5%86%B0Xsens%E8%B9%AC%E4%BC%B8%E5%8D%8A%E5%BE%84_%E8%B9%AC%E4%BC%B8%E8%A7%92.ipynb#W3sZmlsZQ%3D%3D?line=8'>9</a>\u001b[0m     \u001b[39mreturn\u001b[39;00m com_df, seg_pos_df\n",
      "File \u001b[0;32m~/anaconda3/lib/python3.10/site-packages/pandas/io/excel/_base.py:478\u001b[0m, in \u001b[0;36mread_excel\u001b[0;34m(io, sheet_name, header, names, index_col, usecols, dtype, engine, converters, true_values, false_values, skiprows, nrows, na_values, keep_default_na, na_filter, verbose, parse_dates, date_parser, date_format, thousands, decimal, comment, skipfooter, storage_options, dtype_backend)\u001b[0m\n\u001b[1;32m    476\u001b[0m \u001b[39mif\u001b[39;00m \u001b[39mnot\u001b[39;00m \u001b[39misinstance\u001b[39m(io, ExcelFile):\n\u001b[1;32m    477\u001b[0m     should_close \u001b[39m=\u001b[39m \u001b[39mTrue\u001b[39;00m\n\u001b[0;32m--> 478\u001b[0m     io \u001b[39m=\u001b[39m ExcelFile(io, storage_options\u001b[39m=\u001b[39;49mstorage_options, engine\u001b[39m=\u001b[39;49mengine)\n\u001b[1;32m    479\u001b[0m \u001b[39melif\u001b[39;00m engine \u001b[39mand\u001b[39;00m engine \u001b[39m!=\u001b[39m io\u001b[39m.\u001b[39mengine:\n\u001b[1;32m    480\u001b[0m     \u001b[39mraise\u001b[39;00m \u001b[39mValueError\u001b[39;00m(\n\u001b[1;32m    481\u001b[0m         \u001b[39m\"\u001b[39m\u001b[39mEngine should not be specified when passing \u001b[39m\u001b[39m\"\u001b[39m\n\u001b[1;32m    482\u001b[0m         \u001b[39m\"\u001b[39m\u001b[39man ExcelFile - ExcelFile already has the engine set\u001b[39m\u001b[39m\"\u001b[39m\n\u001b[1;32m    483\u001b[0m     )\n",
      "File \u001b[0;32m~/anaconda3/lib/python3.10/site-packages/pandas/io/excel/_base.py:1500\u001b[0m, in \u001b[0;36mExcelFile.__init__\u001b[0;34m(self, path_or_buffer, engine, storage_options)\u001b[0m\n\u001b[1;32m   1496\u001b[0m     ext \u001b[39m=\u001b[39m inspect_excel_format(\n\u001b[1;32m   1497\u001b[0m         content_or_path\u001b[39m=\u001b[39mpath_or_buffer, storage_options\u001b[39m=\u001b[39mstorage_options\n\u001b[1;32m   1498\u001b[0m     )\n\u001b[1;32m   1499\u001b[0m     \u001b[39mif\u001b[39;00m ext \u001b[39mis\u001b[39;00m \u001b[39mNone\u001b[39;00m:\n\u001b[0;32m-> 1500\u001b[0m         \u001b[39mraise\u001b[39;00m \u001b[39mValueError\u001b[39;00m(\n\u001b[1;32m   1501\u001b[0m             \u001b[39m\"\u001b[39m\u001b[39mExcel file format cannot be determined, you must specify \u001b[39m\u001b[39m\"\u001b[39m\n\u001b[1;32m   1502\u001b[0m             \u001b[39m\"\u001b[39m\u001b[39man engine manually.\u001b[39m\u001b[39m\"\u001b[39m\n\u001b[1;32m   1503\u001b[0m         )\n\u001b[1;32m   1505\u001b[0m engine \u001b[39m=\u001b[39m config\u001b[39m.\u001b[39mget_option(\u001b[39mf\u001b[39m\u001b[39m\"\u001b[39m\u001b[39mio.excel.\u001b[39m\u001b[39m{\u001b[39;00mext\u001b[39m}\u001b[39;00m\u001b[39m.reader\u001b[39m\u001b[39m\"\u001b[39m, silent\u001b[39m=\u001b[39m\u001b[39mTrue\u001b[39;00m)\n\u001b[1;32m   1506\u001b[0m \u001b[39mif\u001b[39;00m engine \u001b[39m==\u001b[39m \u001b[39m\"\u001b[39m\u001b[39mauto\u001b[39m\u001b[39m\"\u001b[39m:\n",
      "\u001b[0;31mValueError\u001b[0m: Excel file format cannot be determined, you must specify an engine manually."
     ]
    }
   ],
   "source": [
    "for file in os.listdir(\"/Volumes/ESD-USB/哈尔滨滑冰测试/excel\"):\n",
    "    if file.endswith('.xlsx') and not file.endswith('_蹬伸角_半径.xlsx'):\n",
    "        file_path = os.path.join('/Volumes/ESD-USB/哈尔滨滑冰测试/excel', file)\n",
    "        process_file(file_path)"
   ]
  },
  {
   "cell_type": "code",
   "execution_count": null,
   "metadata": {},
   "outputs": [],
   "source": []
  }
 ],
 "metadata": {
  "kernelspec": {
   "display_name": "GaitPy",
   "language": "python",
   "name": "python3"
  },
  "language_info": {
   "codemirror_mode": {
    "name": "ipython",
    "version": 3
   },
   "file_extension": ".py",
   "mimetype": "text/x-python",
   "name": "python",
   "nbconvert_exporter": "python",
   "pygments_lexer": "ipython3",
   "version": "3.10.11"
  }
 },
 "nbformat": 4,
 "nbformat_minor": 2
}
