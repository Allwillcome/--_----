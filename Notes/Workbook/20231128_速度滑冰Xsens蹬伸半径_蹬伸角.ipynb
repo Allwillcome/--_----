{
 "cells": [
  {
   "cell_type": "code",
   "execution_count": 1,
   "metadata": {},
   "outputs": [
    {
     "name": "stdout",
     "output_type": "stream",
     "text": [
      "Intel MKL WARNING: Support of Intel(R) Streaming SIMD Extensions 4.2 (Intel(R) SSE4.2) enabled only processors has been deprecated. Intel oneAPI Math Kernel Library 2025.0 will require Intel(R) Advanced Vector Extensions (Intel(R) AVX) instructions.\n",
      "Intel MKL WARNING: Support of Intel(R) Streaming SIMD Extensions 4.2 (Intel(R) SSE4.2) enabled only processors has been deprecated. Intel oneAPI Math Kernel Library 2025.0 will require Intel(R) Advanced Vector Extensions (Intel(R) AVX) instructions.\n"
     ]
    }
   ],
   "source": [
    "import os\n",
    "import pandas as pd"
   ]
  },
  {
   "cell_type": "code",
   "execution_count": 2,
   "metadata": {},
   "outputs": [],
   "source": [
    "excel_dir = \"/Users/wangshuaibo/Downloads/\"\n",
    "filename = \"20231019_1_lininghao-001.xlsx\"\n",
    "excel_path = os.path.join(excel_dir, filename)\n",
    "\n",
    "Excel_file = pd.ExcelFile(excel_path)"
   ]
  },
  {
   "cell_type": "code",
   "execution_count": 3,
   "metadata": {},
   "outputs": [
    {
     "data": {
      "text/plain": [
       "['General Information',\n",
       " 'Markers',\n",
       " 'Segment Orientation - Quat',\n",
       " 'Segment Orientation - Euler',\n",
       " 'Segment Position',\n",
       " 'Segment Velocity',\n",
       " 'Segment Acceleration',\n",
       " 'Segment Angular Velocity',\n",
       " 'Segment Angular Acceleration',\n",
       " 'Joint Angles ZXY',\n",
       " 'Joint Angles XZY',\n",
       " 'Ergonomic Joint Angles ZXY',\n",
       " 'Ergonomic Joint Angles XZY',\n",
       " 'Center of Mass',\n",
       " 'Sensor Free Acceleration',\n",
       " 'Sensor Magnetic Field',\n",
       " 'Sensor Orientation - Quat',\n",
       " 'Sensor Orientation - Euler']"
      ]
     },
     "execution_count": 3,
     "metadata": {},
     "output_type": "execute_result"
    }
   ],
   "source": [
    "Excel_file.sheet_names"
   ]
  },
  {
   "cell_type": "code",
   "execution_count": 4,
   "metadata": {},
   "outputs": [],
   "source": [
    "Seg_pos_df = pd.read_excel(excel_path, sheet_name='Segment Position')"
   ]
  },
  {
   "cell_type": "code",
   "execution_count": 5,
   "metadata": {},
   "outputs": [
    {
     "data": {
      "text/plain": [
       "Index(['Frame', 'Pelvis x', 'Pelvis y', 'Pelvis z', 'L5 x', 'L5 y', 'L5 z',\n",
       "       'L3 x', 'L3 y', 'L3 z', 'T12 x', 'T12 y', 'T12 z', 'T8 x', 'T8 y',\n",
       "       'T8 z', 'Neck x', 'Neck y', 'Neck z', 'Head x', 'Head y', 'Head z',\n",
       "       'Right Shoulder x', 'Right Shoulder y', 'Right Shoulder z',\n",
       "       'Right Upper Arm x', 'Right Upper Arm y', 'Right Upper Arm z',\n",
       "       'Right Forearm x', 'Right Forearm y', 'Right Forearm z', 'Right Hand x',\n",
       "       'Right Hand y', 'Right Hand z', 'Left Shoulder x', 'Left Shoulder y',\n",
       "       'Left Shoulder z', 'Left Upper Arm x', 'Left Upper Arm y',\n",
       "       'Left Upper Arm z', 'Left Forearm x', 'Left Forearm y',\n",
       "       'Left Forearm z', 'Left Hand x', 'Left Hand y', 'Left Hand z',\n",
       "       'Right Upper Leg x', 'Right Upper Leg y', 'Right Upper Leg z',\n",
       "       'Right Lower Leg x', 'Right Lower Leg y', 'Right Lower Leg z',\n",
       "       'Right Foot x', 'Right Foot y', 'Right Foot z', 'Right Toe x',\n",
       "       'Right Toe y', 'Right Toe z', 'Left Upper Leg x', 'Left Upper Leg y',\n",
       "       'Left Upper Leg z', 'Left Lower Leg x', 'Left Lower Leg y',\n",
       "       'Left Lower Leg z', 'Left Foot x', 'Left Foot y', 'Left Foot z',\n",
       "       'Left Toe x', 'Left Toe y', 'Left Toe z'],\n",
       "      dtype='object')"
      ]
     },
     "execution_count": 5,
     "metadata": {},
     "output_type": "execute_result"
    }
   ],
   "source": [
    "Seg_pos_df.columns"
   ]
  },
  {
   "cell_type": "code",
   "execution_count": 6,
   "metadata": {},
   "outputs": [
    {
     "data": {
      "text/plain": [
       "Index(['Frame', 'CoM pos x', 'CoM pos y', 'CoM pos z', 'CoM vel x',\n",
       "       'CoM vel y', 'CoM vel z', 'CoM acc x', 'CoM acc y', 'CoM acc z'],\n",
       "      dtype='object')"
      ]
     },
     "execution_count": 6,
     "metadata": {},
     "output_type": "execute_result"
    }
   ],
   "source": [
    "COM_df = pd.read_excel(excel_path, 'Center of Mass')\n",
    "COM_df.columns"
   ]
  },
  {
   "cell_type": "code",
   "execution_count": 8,
   "metadata": {},
   "outputs": [],
   "source": [
    "# 计算蹬伸向量\n",
    "def CalSlipRadVector(Side, CoM_pos_y, CoM_pos_z, Foot_y, Foot_z):\n",
    "    \n",
    "    Vector_y = CoM_pos_y - Foot_y\n",
    "    Vector_z = CoM_pos_z - Foot_z\n",
    "\n",
    "    return Vector_y, Vector_z"
   ]
  },
  {
   "cell_type": "code",
   "execution_count": 9,
   "metadata": {},
   "outputs": [
    {
     "data": {
      "text/plain": [
       "(0, 1)"
      ]
     },
     "execution_count": 9,
     "metadata": {},
     "output_type": "execute_result"
    }
   ],
   "source": [
    "CalSlipRadVector(\"Left\", 0, 1, 0, 0)"
   ]
  },
  {
   "cell_type": "code",
   "execution_count": null,
   "metadata": {},
   "outputs": [],
   "source": [
    "from scipy"
   ]
  }
 ],
 "metadata": {
  "kernelspec": {
   "display_name": "GaitPy",
   "language": "python",
   "name": "python3"
  },
  "language_info": {
   "codemirror_mode": {
    "name": "ipython",
    "version": 3
   },
   "file_extension": ".py",
   "mimetype": "text/x-python",
   "name": "python",
   "nbconvert_exporter": "python",
   "pygments_lexer": "ipython3",
   "version": "3.10.11"
  }
 },
 "nbformat": 4,
 "nbformat_minor": 2
}
