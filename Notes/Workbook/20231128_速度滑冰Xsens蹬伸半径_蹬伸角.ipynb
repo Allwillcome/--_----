{
 "cells": [
  {
   "cell_type": "code",
   "execution_count": 2,
   "metadata": {},
   "outputs": [],
   "source": [
    "# 根据 CoM 坐标和足的坐标计算蹬伸角度"
   ]
  },
  {
   "cell_type": "code",
   "execution_count": 16,
   "metadata": {},
   "outputs": [],
   "source": [
    "import pandas as pd\n",
    "import math\n",
    "import os\n",
    "\n",
    "# 读取 Excel 文件\n",
    "def read_excel(file_path):\n",
    "    com_df = pd.read_excel(file_path, sheet_name='Center of Mass')\n",
    "    seg_pos_df = pd.read_excel(file_path, sheet_name='Segment Position')\n",
    "    return com_df, seg_pos_df\n",
    "\n",
    "# 计算蹬伸向量的角度和半径\n",
    "def calculate_vector_properties(com_y, com_z, foot_y, foot_z):\n",
    "    # 计算向量\n",
    "    vector_y = com_y - foot_y\n",
    "    vector_z = com_z - foot_z\n",
    "    length = math.sqrt(vector_y**2 + vector_z**2)\n",
    "    length_round = round(length,2)\n",
    "    if length != 0:  # 防止除以零\n",
    "        angle_radians = math.acos(vector_y / length)\n",
    "        # 转换为角度\n",
    "        angle_degrees = math.degrees(angle_radians)\n",
    "    else:\n",
    "        angle_degrees = 0\n",
    "\n",
    "    angle_degrees_round = round(angle_degrees,2)\n",
    "    return length_round, angle_degrees_round\n",
    "\n",
    "# 主处理函数\n",
    "def process_file(file_path):\n",
    "    com_df, seg_pos_df = read_excel(file_path)\n",
    "\n",
    "    # 创建结果列表\n",
    "    results = []\n",
    "\n",
    "    # 对每一行数据进行处理\n",
    "    for index, row in seg_pos_df.iterrows():\n",
    "        if index < len(com_df):\n",
    "            # 计算左脚的蹬伸角和半径\n",
    "            left_length, left_angle = calculate_vector_properties(\n",
    "                com_df.at[index, 'CoM pos y'], com_df.at[index, 'CoM pos z'],\n",
    "                row['Left Foot y'], row['Left Foot z']\n",
    "            )\n",
    "            \n",
    "            # 计算右脚的蹬伸角和半径\n",
    "            right_length, right_angle = calculate_vector_properties(\n",
    "                com_df.at[index, 'CoM pos y'], com_df.at[index, 'CoM pos z'],\n",
    "                row['Right Foot y'], row['Right Foot z']\n",
    "            )\n",
    "\n",
    "            # 添加结果到列表\n",
    "            results.append({'Frame': row['Frame'], 'Left Slip Angle': left_angle, 'Left Slip Radius': left_length, \n",
    "                            'Right Slip Angle': right_angle, 'Right Slip Radius': right_length})\n",
    "\n",
    "    # 创建新的 DataFrame\n",
    "    results_df = pd.DataFrame(results)\n",
    "\n",
    "    # 保存结果到新的 Excel 文件\n",
    "    new_file_path = os.path.splitext(file_path)[0] + '_蹬伸角_半径.xlsx'\n",
    "    results_df.to_excel(new_file_path, index=False)\n"
   ]
  },
  {
   "cell_type": "code",
   "execution_count": null,
   "metadata": {},
   "outputs": [],
   "source": [
    "# 替换为您的 Excel 文件路径\n",
    "file_path = '/Users/wangshuaibo/Downloads/20231019_1_lininghao-001.xlsx'\n",
    "process_file(file_path)"
   ]
  }
 ],
 "metadata": {
  "kernelspec": {
   "display_name": "GaitPy",
   "language": "python",
   "name": "python3"
  },
  "language_info": {
   "codemirror_mode": {
    "name": "ipython",
    "version": 3
   },
   "file_extension": ".py",
   "mimetype": "text/x-python",
   "name": "python",
   "nbconvert_exporter": "python",
   "pygments_lexer": "ipython3",
   "version": "3.10.11"
  }
 },
 "nbformat": 4,
 "nbformat_minor": 2
}
