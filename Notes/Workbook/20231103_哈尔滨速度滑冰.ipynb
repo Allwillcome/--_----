{
 "cells": [
  {
   "cell_type": "markdown",
   "metadata": {},
   "source": [
    "# 处理速度滑冰数据"
   ]
  },
  {
   "cell_type": "code",
   "execution_count": 567,
   "metadata": {},
   "outputs": [],
   "source": [
    "import pandas as pd\n",
    "import os\n",
    "import numpy as np"
   ]
  },
  {
   "cell_type": "code",
   "execution_count": 577,
   "metadata": {},
   "outputs": [],
   "source": [
    "# 选择参数\n",
    "traget_datas = [\"Joint Angles ZXY\", \"Segment Angular Velocity\"]\n",
    "road_type = \"直道\"\n",
    "target_data = traget_datas[0]"
   ]
  },
  {
   "cell_type": "code",
   "execution_count": 578,
   "metadata": {},
   "outputs": [],
   "source": [
    "# 文件路径设置\n",
    "excel_dir = \"/Volumes/ESD-USB/哈尔滨滑冰测试/excel\"\n",
    "record_excel_path = \"/Volumes/ESD-USB/哈尔滨滑冰测试/RecordData/速滑辅助鞋垫运动学数据.xlsx\""
   ]
  },
  {
   "cell_type": "code",
   "execution_count": 579,
   "metadata": {},
   "outputs": [],
   "source": [
    "# 读取记录数据的excel 表格\n",
    "excelfile = pd.ExcelFile(record_excel_path)\n",
    "excelfile.sheet_names\n",
    "record_df = pd.read_excel(record_excel_path, sheet_name=\"特征时刻\")"
   ]
  },
  {
   "cell_type": "markdown",
   "metadata": {},
   "source": [
    "## 构建表头"
   ]
  },
  {
   "cell_type": "code",
   "execution_count": 580,
   "metadata": {},
   "outputs": [],
   "source": [
    "# 构建表格表头\n",
    "joints = [\" Hip \", \" Knee \", \" Ankle \"]\n",
    "segments = [\" Upper Leg \", \" Lower Leg \", \" Foot \"]\n",
    "seg_types = [\"Left\", \"Right\"]\n",
    "seg_axis = [\"x\", \"y\", \"z\"]\n",
    "joint_orientations = [\"Flexion/Extension\",\"Abduction/Adduction\", \"Internal/External Rotation\"]\n",
    "joint_orientations_ankle = [\"Dorsiflexion/Plantarflexion\",\"Abduction/Adduction\", \"Internal/External Rotation\"]\n",
    "\n",
    "# 构建列表头名称\n",
    "def CreateSelectColumns(seg_type,target_data, segments, joints, joint_orientations, joint_orientations_ankle, seg_axis):\n",
    "    if target_data == \"Joint Angles ZXY\":\n",
    "        select_seg_types_colmuns = [seg_type + joint + seg_orientation\n",
    "                    for joint in joints\n",
    "                    for seg_orientation in ((joint_orientations_ankle if joint.strip()==\"Ankle\" else joint_orientations))]\n",
    "    else:\n",
    "        select_seg_types_colmuns = [seg_type + segment + seg_ax\n",
    "                    for segment in segments\n",
    "                    for seg_ax in seg_axis]\n",
    "    return select_seg_types_colmuns\n",
    "\n",
    "# 获取列表名称\n",
    "Left_select_columns = CreateSelectColumns(\"Left\",target_data, segments, joints, joint_orientations, joint_orientations_ankle, seg_axis)\n",
    "Right_select_columns = CreateSelectColumns(\"Right\",target_data, segments, joints, joint_orientations, joint_orientations_ankle, seg_axis)\n"
   ]
  },
  {
   "cell_type": "markdown",
   "metadata": {},
   "source": [
    "## 计算特征时刻"
   ]
  },
  {
   "cell_type": "code",
   "execution_count": 581,
   "metadata": {},
   "outputs": [],
   "source": [
    "# 计算特征时刻数据\n",
    "def GetEventData(target_data_df, select_columns, contact_event, off_event):\n",
    "    # 触冰时刻\n",
    "    data_concat_event = target_data_df[select_columns].iloc[contact_event]\n",
    "    data_off_event = target_data_df[select_columns].iloc[off_event]\n",
    "\n",
    "    # 离冰时刻\n",
    "    frame = [data_concat_event, data_off_event]\n",
    "    result_event_data = pd.concat(frame, axis=0)\n",
    "\n",
    "    return result_event_data"
   ]
  },
  {
   "cell_type": "code",
   "execution_count": 582,
   "metadata": {},
   "outputs": [],
   "source": [
    "# 确定直道一次左脚触冰、离冰和右脚触冰离冰时数据\n",
    "def GetEachTestResult(record_df, target_df, record_row, road_number, road_type):\n",
    "    \n",
    "    # 确定左侧脚触冰和离冰时刻\n",
    "    Left_contact_event = record_df.loc[record_row, f\"{road_number}{road_type}触冰-左\"]\n",
    "    Left_off_event = record_df.loc[record_row, f\"{road_number}{road_type}离冰-左\"]\n",
    "    \n",
    "    # 确定右脚触冰和离冰时刻\n",
    "    Right_contact_event = record_df.loc[record_row, f\"{road_number}{road_type}触冰-右\"]\n",
    "    Right_off_event = record_df.loc[record_row, f\"{road_number}{road_type}离冰-右\"]\n",
    "\n",
    "    # 获取特征时刻对应数据\n",
    "    Left_event_data = GetEventData(target_df, Left_select_columns, Left_contact_event, Left_off_event)\n",
    "    Right_event_data = GetEventData(target_df, Right_select_columns, Right_contact_event, Right_off_event)\n",
    "\n",
    "    frame = [Left_event_data, Right_event_data]\n",
    "    Result_each_test = pd.concat(frame, axis=0)\n",
    "\n",
    "    return Result_each_test"
   ]
  },
  {
   "cell_type": "code",
   "execution_count": 583,
   "metadata": {},
   "outputs": [],
   "source": [
    "# 计算所有人所有时刻数据关节角度/角速度数据\n",
    "result_one_file_total = pd.DataFrame()\n",
    "for record_row, row in record_df.iterrows():\n",
    "    date = row[\"日期\"]\n",
    "    test_number = row[\"测试序号\"]\n",
    "    name = row[\"姓名\"]\n",
    "    xsens_number = row[\"实际xsens号\"]\n",
    "\n",
    "    # 拼接文件名\n",
    "    excel_fname = f\"{date}_{test_number}_{name}-00{xsens_number}.xlsx\"\n",
    "\n",
    "    excel_path = os.path.join(excel_dir,excel_fname)\n",
    "    target_data_df = pd.read_excel(excel_path, sheet_name=target_data)\n",
    "    # angle_df \n",
    "    # 读取record_df 一行数据得到的结果\n",
    "    attribute_info = record_df.loc[record_row, [\"姓名\", \"穿鞋\", \"xsens号\",\"实际xsens号\"]]\n",
    "\n",
    "    Result_test_1 = GetEachTestResult(record_df, target_data_df, record_row, 1, road_type)\n",
    "    Result_test_1_info = pd.concat([attribute_info, Result_test_1])\n",
    "    Result_test_2 = GetEachTestResult(record_df, target_data_df, record_row, 2, road_type)\n",
    "    Result_test_2_info = pd.concat([attribute_info, Result_test_2])\n",
    "    frame = [Result_test_1_info, Result_test_2_info]\n",
    "    result_one_file = pd.concat(frame, axis=1)\n",
    "    result_one_file_total = pd.concat([result_one_file_total, result_one_file], axis=1)"
   ]
  },
  {
   "cell_type": "code",
   "execution_count": 584,
   "metadata": {},
   "outputs": [
    {
     "name": "stdout",
     "output_type": "stream",
     "text": [
      "已完成：直道_Joint Angles ZXY_触冰离冰_raw.xlsx\n"
     ]
    }
   ],
   "source": [
    "# 查看结果\n",
    "result_excel_dir = \"/Volumes/ESD-USB/哈尔滨滑冰测试/ResultData\"\n",
    "result_excel_fname = f\"{road_type}_{target_data}_触冰离冰_raw.xlsx\"\n",
    "result_excel_path = os.path.join(result_excel_dir, result_excel_fname)\n",
    "# 保存到 Excel（转置后再保存）\n",
    "result_one_file_total.T.to_excel(result_excel_path, index=False)\n",
    "print(f\"已完成：{result_excel_fname}\")"
   ]
  },
  {
   "cell_type": "markdown",
   "metadata": {},
   "source": [
    "## 最大角度和角速度"
   ]
  },
  {
   "cell_type": "code",
   "execution_count": 532,
   "metadata": {},
   "outputs": [],
   "source": [
    "# 计算最大值\n",
    "def GetPhaseMaxData(target_data_df, select_columns, phase_start_event, phase_end_event):\n",
    "    # 确定开始和结束时的数据\n",
    "    phase_max_data = target_data_df[select_columns].iloc[phase_start_event : phase_end_event].max()\n",
    "\n",
    "    return phase_max_data\n",
    "\n",
    "# 计算特定阶段最大值\n",
    "def GetEachTestPhaseMax(record_df, target_df, record_row, road_number, road_type):\n",
    "    \n",
    "    # 确定左侧脚开始和结束时刻\n",
    "    Left_phase_start = record_df.loc[record_row, f\"{road_number}{road_type}开始\"]\n",
    "    Left_phase_end = record_df.loc[record_row, f\"{road_number}{road_type}结束\"]\n",
    "    \n",
    "    # 确定右侧脚开始和结束时刻\n",
    "    Right_phase_start = record_df.loc[record_row, f\"{road_number}{road_type}开始\"]\n",
    "    Right_phase_end = record_df.loc[record_row, f\"{road_number}{road_type}结束\"]\n",
    "\n",
    "    # 获取左右脚\n",
    "    Left_phase_data = GetPhaseMaxData(target_df, Left_select_columns, Left_phase_start, Left_phase_end)\n",
    "    Right_phase_data = GetPhaseMaxData(target_df, Right_select_columns, Right_phase_start, Right_phase_end)\n",
    "\n",
    "    frame = [Left_phase_data, Right_phase_data]\n",
    "    Result_each_test = pd.concat(frame, axis=0)\n",
    "\n",
    "    return Result_each_test"
   ]
  },
  {
   "cell_type": "code",
   "execution_count": 533,
   "metadata": {},
   "outputs": [],
   "source": [
    "# 计算所有人的数据\n",
    "result_max_one_file_total = pd.DataFrame()\n",
    "for record_row, row in record_df.iterrows():\n",
    "    date = row[\"日期\"]\n",
    "    test_number = row[\"测试序号\"]\n",
    "    name = row[\"姓名\"]\n",
    "    xsens_number = row[\"xsens号\"]\n",
    "\n",
    "    # 拼接文件名\n",
    "    excel_fname = f\"{date}_{test_number}_{name}-00{xsens_number}.xlsx\"\n",
    "\n",
    "    excel_path = os.path.join(excel_dir,excel_fname)\n",
    "    target_data_df = pd.read_excel(excel_path, sheet_name=target_data)\n",
    "    # angle_df \n",
    "    # 读取record_df 一行数据得到的结果\n",
    "    attribute_info = record_df.loc[record_row, [\"姓名\", \"穿鞋\", \"xsens号\",\"实际xsens号\"]]\n",
    "\n",
    "    Result_test_1 = GetEachTestPhaseMax(record_df, target_data_df, record_row, 1, road_type)\n",
    "    Result_test_1_info = pd.concat([attribute_info, Result_test_1])\n",
    "    Result_test_2 = GetEachTestPhaseMax(record_df, target_data_df, record_row, 2, road_type)\n",
    "    Result_test_2_info = pd.concat([attribute_info, Result_test_2])\n",
    "    \n",
    "    frame = [Result_test_1_info, Result_test_2_info]\n",
    "    result_max_one_file = pd.concat(frame, axis=1)\n",
    "    result_max_one_file_total = pd.concat([result_max_one_file_total, result_max_one_file], axis=1)"
   ]
  },
  {
   "cell_type": "code",
   "execution_count": 534,
   "metadata": {},
   "outputs": [
    {
     "name": "stdout",
     "output_type": "stream",
     "text": [
      "已完成：速度滑冰_弯道_Segment Angular Velocity_最大值_raw.xlsx\n"
     ]
    }
   ],
   "source": [
    "# 查看结果\n",
    "result_excel_dir = \"/Volumes/ESD-USB/哈尔滨滑冰测试/ResultData\"\n",
    "result_excel_fname = f\"速度滑冰_{road_type}_{target_data}_最大值_raw.xlsx\"\n",
    "result_excel_path = os.path.join(result_excel_dir, result_excel_fname)\n",
    "# 保存到 Excel（转置后再保存）\n",
    "result_max_one_file_total.T.to_excel(result_excel_path, index=False)\n",
    "print(f\"已完成：{result_excel_fname}\")"
   ]
  }
 ],
 "metadata": {
  "kernelspec": {
   "display_name": "base",
   "language": "python",
   "name": "python3"
  },
  "language_info": {
   "codemirror_mode": {
    "name": "ipython",
    "version": 3
   },
   "file_extension": ".py",
   "mimetype": "text/x-python",
   "name": "python",
   "nbconvert_exporter": "python",
   "pygments_lexer": "ipython3",
   "version": "3.10.11"
  },
  "orig_nbformat": 4
 },
 "nbformat": 4,
 "nbformat_minor": 2
}
