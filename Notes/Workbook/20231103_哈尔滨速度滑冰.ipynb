{
 "cells": [
  {
   "cell_type": "markdown",
   "metadata": {},
   "source": [
    "# 处理速度滑冰数据"
   ]
  },
  {
   "cell_type": "code",
   "execution_count": 111,
   "metadata": {},
   "outputs": [],
   "source": [
    "import pandas as pd\n",
    "import os"
   ]
  },
  {
   "cell_type": "code",
   "execution_count": 112,
   "metadata": {},
   "outputs": [],
   "source": [
    "path = \"/Volumes/ESD-USB/哈尔滨滑冰测试/速滑辅助鞋垫运动学数据.xlsx\""
   ]
  },
  {
   "cell_type": "code",
   "execution_count": 115,
   "metadata": {},
   "outputs": [
    {
     "data": {
      "text/plain": [
       "['直道滑行-不穿鞋垫', '直道滑行-穿鞋垫 ', '弯道滑行-不穿鞋垫', '弯道滑行-穿鞋垫', '特征时刻', '特征时刻-20231031']"
      ]
     },
     "execution_count": 115,
     "metadata": {},
     "output_type": "execute_result"
    }
   ],
   "source": [
    "excelfile = pd.ExcelFile(path)\n",
    "excelfile.sheet_names"
   ]
  },
  {
   "cell_type": "code",
   "execution_count": 184,
   "metadata": {},
   "outputs": [],
   "source": [
    "record_df = pd.read_excel(path, sheet_name=\"特征时刻\")"
   ]
  },
  {
   "cell_type": "code",
   "execution_count": 121,
   "metadata": {},
   "outputs": [],
   "source": [
    "record_df[\"文件名\"] = record_df[\"日期\"].astype(str) + \"_\" + \\\n",
    "            record_df[\"测试序号\"].astype(str) + \"_\" + \\\n",
    "            record_df[\"姓名\"].astype(str) + \"_00\" + \\\n",
    "            record_df[\"xsens号\"].astype(str) + \".xlsx\""
   ]
  },
  {
   "cell_type": "code",
   "execution_count": null,
   "metadata": {},
   "outputs": [],
   "source": [
    "excel_dir = \"/Volumes/ESD-USB/哈尔滨滑冰测试/excel\"\n",
    "for index, row in df.iterows():\n",
    "    date = row[\"日期\"]\n",
    "    test_number = row[\"测试序号\"]\n",
    "    name = row[\"姓名\"]\n",
    "    xsens_number = row[\"xsens号\"]\n",
    "\n",
    "    # 拼接文件名\n",
    "    file_name = f\"{date}_{test_number}_{name}-{xsens_number}.xlsx\"\n",
    "\n",
    "    excel_path = os.path.join(excel_dir, file_name)\n",
    "    \n",
    "    angle_df = pd.read_excel(excel_path, sheet_name=\"Joint Angles ZXY\")\n",
    "    angular_vel_df = pd.read_excel(excel_path, sheet_name = \"Segment Angular Velocity\")\n",
    "    "
   ]
  },
  {
   "cell_type": "code",
   "execution_count": 22,
   "metadata": {},
   "outputs": [],
   "source": [
    "excel_path = \"/Volumes/ESD-USB/哈尔滨滑冰测试/excel/20231019_1_lininghao-001.xlsx\"\n",
    "\n",
    "angle_df = pd.read_excel(excel_path, sheet_name=\"Joint Angles ZXY\")\n",
    "angular_vel_df = pd.read_excel(excel_path, sheet_name = \"Segment Angular Velocity\")\n",
    "\n"
   ]
  },
  {
   "cell_type": "code",
   "execution_count": 41,
   "metadata": {},
   "outputs": [],
   "source": [
    "seg_types = [\"Left\", \"Right\"]\n",
    "axis = [\"x\", \"y\", \"z\"]\n",
    "segments = [\" Hip \", \" Knee \", \" Ankle \"]\n",
    "seg_orientations = [\"Flexion/Extension\",\"Abduction/Adduction\", \"Internal/External Rotation\"]\n",
    "seg_orientations_ankle = [\"Dorsiflexion/Plantarflexion\",\"Abduction/Adduction\", \"Internal/External Rotation\"]\n",
    "\n",
    "for seg_type in seg_types:\n",
    "    angle_seg_types_colmuns = [seg_type + segment + seg_orientation\n",
    "                 for seg_type in seg_types \n",
    "                 for segment in segments\n",
    "                 for seg_orientation in ((seg_orientations_ankle if segment.strip()==\"Ankle\" else seg_orientations))]"
   ]
  },
  {
   "cell_type": "code",
   "execution_count": 189,
   "metadata": {},
   "outputs": [],
   "source": [
    "# 构建列表头名称\n",
    "def CreateAngleColumns(seg_type):\n",
    "    angle_seg_types_colmuns = [seg_type + segment + seg_orientation\n",
    "                 for segment in segments\n",
    "                 for seg_orientation in ((seg_orientations_ankle if segment.strip()==\"Ankle\" else seg_orientations))]\n",
    "    return angle_seg_types_colmuns"
   ]
  },
  {
   "cell_type": "code",
   "execution_count": 80,
   "metadata": {},
   "outputs": [],
   "source": [
    "Left_angle_columns = CreateAngleColumns(\"Left\")\n",
    "Right_angle_columns = CreateAngleColumns(\"Right\")"
   ]
  },
  {
   "cell_type": "code",
   "execution_count": 126,
   "metadata": {},
   "outputs": [],
   "source": [
    "Left_contact_event = record_df.loc[1, \"1直道触冰-左\"]\n",
    "Left_off_event = record_df.loc[1, \"1直道离冰-左\"]\n",
    "\n",
    "# 左侧触冰、离冰时髋、膝、踝角度\n",
    "Left_angle_contact = angle_df[Left_angle_columns].loc[Left_contact_event]\n",
    "Left_angle_off = angle_df[Left_angle_columns].loc[Left_off_event]\n",
    "\n",
    "frame = [Left_angle_contact, Left_angle_off]\n",
    "Left_angles = pd.concat(frame, axis=0)\n",
    "\n",
    "\n",
    "Right_contact_event = record_df.loc[1, \"1直道触冰-右\"]\n",
    "Right_off_event = record_df.loc[1, \"1直道离冰-右\"]\n",
    "# 右侧触冰、离冰时髋、膝、踝角度\n",
    "Right_angle_contact = angle_df[Right_angle_columns].loc[Right_contact_event]\n",
    "Right_angle_off = angle_df[Right_angle_columns].loc[Right_off_event]\n",
    "\n",
    "frame = [Right_angle_contact, Right_angle_off]\n",
    "Right_angles = pd.concat(frame, axis=0)\n",
    "\n",
    "frame = [Left_angles, Right_angles]\n",
    "result_frame_1 = pd.concat(frame, axis=0)\n"
   ]
  },
  {
   "cell_type": "code",
   "execution_count": 162,
   "metadata": {},
   "outputs": [],
   "source": [
    "# 确定直道一次左脚触冰、离冰和右脚触冰离冰时角度\n",
    "def GetEachTestResult(record_df, angle_df, record_row, road_number, road_type):\n",
    "    \n",
    "    Left_contact_event = record_df.loc[record_row, f\"{road_number}{road_type}触冰-左\"]\n",
    "    Left_off_event = record_df.loc[record_row, f\"{road_number}{road_type}离冰-左\"]\n",
    "    \n",
    "    Right_contact_event = record_df.loc[record_row, f\"{road_number}{road_type}触冰-右\"]\n",
    "    Right_off_event = record_df.loc[record_row, f\"{road_number}{road_type}离冰-右\"]\n",
    "\n",
    "\n",
    "    def GetEventAngles(angle_df, angle_columns, contact_event, off_event):\n",
    "        # 左侧触冰、离冰时髋、膝、踝角度\n",
    "        Left_angle_contact = angle_df[angle_columns].loc[contact_event]\n",
    "        Left_angle_off = angle_df[angle_columns].loc[off_event]\n",
    "\n",
    "        frame = [Left_angle_contact, Left_angle_off]\n",
    "        angles = pd.concat(frame, axis=0)\n",
    "        return angles\n",
    "\n",
    "    if pd.isna(Left_contact_event):\n",
    "        print(\"数据为空\")\n",
    "    else:\n",
    "        Left_event_angles = GetEventAngles(angle_df, Left_angle_columns, Left_contact_event, Left_off_event)\n",
    "        Right_event_angles = GetEventAngles(angle_df, Right_angle_columns, Right_contact_event, Right_off_event)\n",
    "\n",
    "        frame = [Left_event_angles, Right_event_angles]\n",
    "        Result_each_test = pd.concat(frame, axis=0)\n",
    "\n",
    "    return Result_each_test"
   ]
  },
  {
   "cell_type": "code",
   "execution_count": 186,
   "metadata": {},
   "outputs": [],
   "source": [
    "record_row = 1\n",
    "road_type = \"弯道\"\n",
    "\n",
    "# angle_df \n",
    "target_data_df = angle_df\n",
    "\n",
    "Result_test_1 = GetEachTestResult(record_df, target_data_df, record_row, 1, road_type)\n",
    "Result_test_2 = GetEachTestResult(record_df, target_data_df, record_row, 2, road_type)\n",
    "\n",
    "frame = [Result_test_1, Result_test_2]\n",
    "result_one_file_1 = pd.concat(frame, axis=1)\n",
    "\n",
    "record_row=2\n",
    "Result_test_1 = GetEachTestResult(record_df, target_data_df, record_row, 1, road_type)\n",
    "Result_test_2 = GetEachTestResult(record_df, target_data_df, record_row, 2, road_type)\n",
    "\n",
    "frame = [Result_test_1, Result_test_2]\n",
    "result_one_file_2 = pd.concat(frame, axis=1)\n",
    "\n",
    "frame = [result_one_file_1, result_one_file_2]\n",
    "result_one_file_total = pd.concat(frame, axis=1)"
   ]
  },
  {
   "cell_type": "code",
   "execution_count": 188,
   "metadata": {},
   "outputs": [],
   "source": [
    "result_dataframe = pd.DataFrame(result_one_file_total).T\n",
    "result_dataframe.reset_index(drop=True, inplace=True)\n",
    "result_dataframe.index = result_dataframe.index + 1\n",
    "result_dataframe.to_excel(\"temp.xlsx\", index=False)"
   ]
  },
  {
   "cell_type": "code",
   "execution_count": null,
   "metadata": {},
   "outputs": [],
   "source": []
  }
 ],
 "metadata": {
  "kernelspec": {
   "display_name": "base",
   "language": "python",
   "name": "python3"
  },
  "language_info": {
   "codemirror_mode": {
    "name": "ipython",
    "version": 3
   },
   "file_extension": ".py",
   "mimetype": "text/x-python",
   "name": "python",
   "nbconvert_exporter": "python",
   "pygments_lexer": "ipython3",
   "version": "3.10.11"
  },
  "orig_nbformat": 4
 },
 "nbformat": 4,
 "nbformat_minor": 2
}
