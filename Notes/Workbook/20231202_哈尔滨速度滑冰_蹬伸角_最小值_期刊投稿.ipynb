{
 "cells": [
  {
   "cell_type": "markdown",
   "metadata": {},
   "source": [
    "# 处理速度滑冰数据"
   ]
  },
  {
   "cell_type": "markdown",
   "metadata": {},
   "source": []
  },
  {
   "cell_type": "code",
   "execution_count": 126,
   "metadata": {},
   "outputs": [],
   "source": [
    "import pandas as pd\n",
    "import os\n",
    "import numpy as np\n",
    "import datetime as dt"
   ]
  },
  {
   "cell_type": "code",
   "execution_count": 137,
   "metadata": {},
   "outputs": [
    {
     "name": "stdout",
     "output_type": "stream",
     "text": [
      "您选择的是： 弯道\n"
     ]
    }
   ],
   "source": [
    "# 选择参数\n",
    "# 选择直道或者弯道\n",
    "road_type = input(\"请选择直道或者弯道：\")\n",
    "print(\"您选择的是：\", road_type)\n"
   ]
  },
  {
   "cell_type": "code",
   "execution_count": 128,
   "metadata": {},
   "outputs": [
    {
     "name": "stdout",
     "output_type": "stream",
     "text": [
      "您选择的是：0 Joint Angles ZXY\n"
     ]
    }
   ],
   "source": [
    "# 填写0，或者1\n",
    "traget_datas = [\"Joint Angles ZXY\", \"Segment Angular Velocity\"]\n",
    "i = input(\"请选择0 [Joint Angles ZXY] 或1 [Segment Angular Velocity]\")\n",
    "target_data = traget_datas[int(i)]\n",
    "print(f\"您选择的是：{i}\", target_data)\n",
    "event_name = \"蹬冰离冰\""
   ]
  },
  {
   "cell_type": "code",
   "execution_count": 138,
   "metadata": {},
   "outputs": [],
   "source": [
    "# 文件路径设置\n",
    "excel_dir = \"/Volumes/ESD-USB/哈尔滨滑冰测试/excel/蹬伸角_蹬伸半径\"\n",
    "record_excel_path = \"/Volumes/ESD-USB/哈尔滨滑冰测试/RecordData/20231201_短道速滑特征时刻表_期刊投稿.xlsx\""
   ]
  },
  {
   "cell_type": "code",
   "execution_count": 139,
   "metadata": {},
   "outputs": [],
   "source": [
    "# 读取记录数据的excel 表格\n",
    "excelfile = pd.ExcelFile(record_excel_path)\n",
    "excelfile.sheet_names\n",
    "record_df = pd.read_excel(record_excel_path, sheet_name=\"特征时刻\")"
   ]
  },
  {
   "cell_type": "code",
   "execution_count": 140,
   "metadata": {},
   "outputs": [],
   "source": [
    "# # 构建表格表头\n",
    "# joints = [\" Hip \", \" Knee \", \" Ankle \"]\n",
    "# segments = [\" Upper Leg \", \" Lower Leg \", \" Foot \"]\n",
    "# seg_types = [\"Left\", \"Right\"]\n",
    "# seg_axis = [\"x\", \"y\", \"z\"]\n",
    "# joint_orientations = [\"Flexion/Extension\",\"Abduction/Adduction\", \"Internal/External Rotation\"]\n",
    "# joint_orientations_ankle = [\"Dorsiflexion/Plantarflexion\",\"Abduction/Adduction\", \"Internal/External Rotation\"]\n",
    "\n",
    "# # 构建列表头名称\n",
    "# def CreateSelectColumns(seg_type,target_data, segments, joints, joint_orientations, joint_orientations_ankle, seg_axis):\n",
    "#     if target_data == \"Joint Angles ZXY\":\n",
    "#         select_seg_types_colmuns = [seg_type + joint + seg_orientation\n",
    "#                     for joint in joints\n",
    "#                     for seg_orientation in ((joint_orientations_ankle if joint.strip()==\"Ankle\" else joint_orientations))]\n",
    "#     else:\n",
    "#         select_seg_types_colmuns = [seg_type + segment + seg_ax\n",
    "#                     for segment in segments\n",
    "#                     for seg_ax in seg_axis]\n",
    "#     return select_seg_types_colmuns\n",
    "\n"
   ]
  },
  {
   "cell_type": "code",
   "execution_count": 141,
   "metadata": {},
   "outputs": [],
   "source": [
    "# 获取列表名称\n",
    "Left_select_columns = [\"Left Slip Angle\", \"Left Slip Radius\"]\n",
    "Right_select_columns =[\"Right Slip Angle\", \"Right Slip Radius\"]\n"
   ]
  },
  {
   "cell_type": "code",
   "execution_count": 142,
   "metadata": {},
   "outputs": [
    {
     "data": {
      "text/plain": [
       "['Left Slip Angle', 'Left Slip Radius']"
      ]
     },
     "execution_count": 142,
     "metadata": {},
     "output_type": "execute_result"
    }
   ],
   "source": [
    "Left_select_columns"
   ]
  },
  {
   "cell_type": "code",
   "execution_count": 143,
   "metadata": {},
   "outputs": [],
   "source": [
    "def GetSlipMinData(slip_times, target_data_df, Left_select_columns, Right_select_columns):\n",
    "    # 计算滑行过程中的极值\n",
    "    # 左侧数据极值\n",
    "    left_max_data_list = []\n",
    "    for column_name in Left_select_columns:\n",
    "        if column_name == \"Left Slip Angle\":\n",
    "            slip_min = target_data_df.loc[slip_times[0]:slip_times[1], column_name].min()\n",
    "            left_max_data_list.append(slip_min)\n",
    "        else:\n",
    "            slip_max = target_data_df.loc[slip_times[0]:slip_times[1], column_name].max()\n",
    "            left_max_data_list.append(slip_max)\n",
    "    \n",
    "    # 右侧数据极值\n",
    "    right_max_data_list = []\n",
    "    for column_name in Right_select_columns:\n",
    "        if column_name == \"Right Slip Angle\":\n",
    "            slip_min = target_data_df.loc[slip_times[2]:slip_times[3], column_name].min()\n",
    "            left_max_data_list.append(slip_min)\n",
    "        else:\n",
    "            slip_max = target_data_df.loc[slip_times[2]:slip_times[3], column_name].max()\n",
    "            right_max_data_list.append(slip_max)\n",
    "\n",
    "    total_max_data_list = left_max_data_list + right_max_data_list\n",
    "\n",
    "    max_data_df = pd.DataFrame([total_max_data_list], columns=Left_select_columns+Right_select_columns)\n",
    "    return max_data_df"
   ]
  },
  {
   "cell_type": "code",
   "execution_count": 144,
   "metadata": {},
   "outputs": [],
   "source": [
    "\n",
    "\n",
    "# 读取记录数据的excel表格，获取每行的相关信息\n",
    "\n",
    "all_persons_df = pd.DataFrame()\n",
    "for record_row, row in record_df.iterrows():\n",
    "    date = row[\"日期\"]\n",
    "    test_number = row[\"测试序号\"]\n",
    "    name = row[\"姓名\"]\n",
    "    xsens_number = row[\"实际xsens号\"]\n",
    "\n",
    "    # 拼接文件名\n",
    "    excel_fname = f\"{int(date)}_{int(test_number)}_{name}-00{int(xsens_number)}_蹬伸角_半径.xlsx\"\n",
    "\n",
    "    excel_path = os.path.join(excel_dir, excel_fname)\n",
    "    #target_data_df = pd.read_excel(excel_path, sheet_name=target_data)\n",
    "    target_data_df = pd.read_excel(excel_path)\n",
    "    # angle_df \n",
    "    # 读取record_df一行数据得到的结果\n",
    "    attribute_info = record_df.loc[record_row, [\"姓名\", \"穿鞋\", \"xsens号\", \"实际xsens号\"]]\n",
    "    # 将 series 转换为 dataframe 并重置索引\n",
    "    attribute_info_df = pd.DataFrame(attribute_info).T.reset_index(drop=True)\n",
    "    # 获取蹬冰开始和结束时间\n",
    "    slip_times_1 = [row[f\"1{road_type}蹬冰开始-左\"], row[f\"1{road_type}蹬冰结束-左\"], \n",
    "                    row[f\"1{road_type}蹬冰开始-右\"], row[f\"1{road_type}蹬冰结束-右\"]]\n",
    "    SlipMaxData_df = GetSlipMinData(slip_times_1, target_data_df, Left_select_columns, Right_select_columns)\n",
    "    result_df_1 = pd.concat([attribute_info_df, SlipMaxData_df],axis=1 )\n",
    "\n",
    "    slip_times_2 = [row[f\"2{road_type}蹬冰开始-左\"], row[f\"2{road_type}蹬冰结束-左\"], \n",
    "                    row[f\"2{road_type}蹬冰开始-右\"], row[f\"2{road_type}蹬冰结束-右\"]]\n",
    "    SlipMaxData_df = GetSlipMinData(slip_times_2, target_data_df, Left_select_columns, Right_select_columns)\n",
    "    \n",
    "    result_df_2 = pd.concat([attribute_info_df, SlipMaxData_df],axis=1)\n",
    "\n",
    "    # 拼接第一和第二道的数据\n",
    "    total_result_df = pd.concat([result_df_1, result_df_2], axis=0,ignore_index=True)\n",
    "    # 拼接所有人的数据\n",
    "    all_persons_df = pd.concat([all_persons_df, total_result_df], axis=0,ignore_index=True)"
   ]
  },
  {
   "cell_type": "code",
   "execution_count": 145,
   "metadata": {},
   "outputs": [
    {
     "name": "stdout",
     "output_type": "stream",
     "text": [
      "已完成：20231203_222819_弯道_蹬冰离冰_蹬伸角_半径raw.xlsx\n"
     ]
    }
   ],
   "source": [
    "# 获取当前时间\n",
    "current_time = dt.datetime.now().strftime(\"%Y%m%d_%H%M%S\")\n",
    "# 设置路径\n",
    "result_excel_dir = \"/Volumes/ESD-USB/哈尔滨滑冰测试/ResultData\"\n",
    "result_excel_fname = f\"{current_time}_{road_type}_{event_name}_蹬伸角_半径raw.xlsx\"\n",
    "result_excel_path = os.path.join(result_excel_dir, result_excel_fname)\n",
    "# 保存到 Excel（转置后再保存）\n",
    "all_persons_df.to_excel(result_excel_path, index=False)\n",
    "print(f\"已完成：{result_excel_fname}\")"
   ]
  },
  {
   "cell_type": "code",
   "execution_count": null,
   "metadata": {},
   "outputs": [],
   "source": []
  }
 ],
 "metadata": {
  "kernelspec": {
   "display_name": "base",
   "language": "python",
   "name": "python3"
  },
  "language_info": {
   "codemirror_mode": {
    "name": "ipython",
    "version": 3
   },
   "file_extension": ".py",
   "mimetype": "text/x-python",
   "name": "python",
   "nbconvert_exporter": "python",
   "pygments_lexer": "ipython3",
   "version": "3.10.11"
  },
  "orig_nbformat": 4
 },
 "nbformat": 4,
 "nbformat_minor": 2
}
