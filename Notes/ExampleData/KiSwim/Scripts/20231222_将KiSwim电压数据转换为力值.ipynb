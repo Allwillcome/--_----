{
 "cells": [
  {
   "cell_type": "markdown",
   "metadata": {},
   "source": [
    "## 文档说明\n",
    "本文档用以计算Kistler 游泳出发测力台的力值数据\n",
    "\n",
    "Kistler(KiSwim) 游泳出发测力台原始导出的数据只有电压值\n",
    "\n",
    "根据工程师的说明讲力值转换为力值"
   ]
  },
  {
   "cell_type": "markdown",
   "metadata": {},
   "source": [
    "## 步骤\n",
    "1. 读取每一列的电压数据\n",
    "2. 将每个传感器的数据转换为力值\n",
    "3. 对力值数据进行滤波\n",
    "4. 将传感器的力值进行叠加\n",
    "5. 将传感器的力值转换为水平力值以及垂直力值\n",
    "6. 将水平力值和垂直力值进行叠加分别计算前、后台合力\n",
    "7. 计算前、后台以及抓手在水平和垂直方向合力\n",
    "\n",
    "## Todo\n",
    "增加判断"
   ]
  },
  {
   "cell_type": "code",
   "execution_count": 1,
   "metadata": {},
   "outputs": [
    {
     "name": "stdout",
     "output_type": "stream",
     "text": [
      "Intel MKL WARNING: Support of Intel(R) Streaming SIMD Extensions 4.2 (Intel(R) SSE4.2) enabled only processors has been deprecated. Intel oneAPI Math Kernel Library 2025.0 will require Intel(R) Advanced Vector Extensions (Intel(R) AVX) instructions.\n",
      "Intel MKL WARNING: Support of Intel(R) Streaming SIMD Extensions 4.2 (Intel(R) SSE4.2) enabled only processors has been deprecated. Intel oneAPI Math Kernel Library 2025.0 will require Intel(R) Advanced Vector Extensions (Intel(R) AVX) instructions.\n"
     ]
    }
   ],
   "source": [
    "## 导入包\n",
    "import os\n",
    "import pandas as pd\n",
    "import numpy as np \n",
    "import scipy.signal as signal"
   ]
  },
  {
   "cell_type": "code",
   "execution_count": 2,
   "metadata": {},
   "outputs": [],
   "source": [
    "## 定义路径\n",
    "Voltage_dir = \"/Users/wangshuaibo/Documents/ScriptsofShuai/Notes/ExampleData/KiSwim/电压数据\"\n",
    "Forece_dir =  \"/Users/wangshuaibo/Documents/ScriptsofShuai/Notes/ExampleData/KiSwim/力值数据\""
   ]
  },
  {
   "cell_type": "markdown",
   "metadata": {},
   "source": [
    "## 根据电压计算每个传感器的原始力值\n",
    "Force [N]  = ((Force [Volts] – Force[V] offset)/sensitivity)*1000\n",
    "\n",
    "传感器灵敏度，可以从 Kpass 软件下的 KPpssSetup.csv 中获取"
   ]
  },
  {
   "cell_type": "code",
   "execution_count": null,
   "metadata": {},
   "outputs": [],
   "source": [
    "## 定义不同传感器的灵敏度(sensitivity)\n",
    "Grab_Z_Sens = 3.899\n",
    "Grab_X_Sens = 1.842\n",
    "\n",
    "Front_Y_Sens = 3.861\n",
    "Front_Z_Sens = 3.611\n",
    "\n",
    "Rear_Y_Sens = 3.864\n",
    "Rear_Z_Sens = 3.657\n"
   ]
  },
  {
   "cell_type": "code",
   "execution_count": 3,
   "metadata": {},
   "outputs": [],
   "source": [
    "# 定义前台和水平面的夹角\n",
    "angle = 10.2 # 每块测力台的数值不同，从测力台的 pdf 当中获取\n",
    "theta_rad = np.deg2rad(angle) \n",
    "## 定义不同传感器的灵敏度(sensitivity)\n",
    "sensitivity = {\n",
    "    '抓手Z方向电压': 3.899,\n",
    "    '抓手X方向电压': 1.842,\n",
    "    \n",
    "    '前台Y14电压': 3.861,\n",
    "    '前台Y23电压': 3.861,\n",
    "\n",
    "    '前台Z1电压': 3.611,\n",
    "    '前台Z2电压': 3.611,\n",
    "    '前台Z3电压': 3.611,\n",
    "    '前台Z4电压': 3.611,\n",
    "\n",
    "    '后台Y14电压': 3.864,\n",
    "    '后台Y23电压': 3.864,\n",
    "    \n",
    "    '后台Z1电压': 3.657,\n",
    "    '后台Z2电压': 3.657,\n",
    "    '后台Z3电压': 3.657,\n",
    "    '后台Z4电压': 3.657\n",
    "}"
   ]
  },
  {
   "cell_type": "code",
   "execution_count": 4,
   "metadata": {},
   "outputs": [],
   "source": [
    "# 按照Kistler 工程师邮件中的说明，命名\n",
    "head_list = [\"抓手Z方向电压\",\"抓手X方向电压\",\n",
    "             \"前台Y14电压\",\"前台Y23电压\",\n",
    "             \"前台Z1电压\",\"前台Z2电压\",\"前台Z3电压\",\"前台Z4电压\",\n",
    "             \"后台Y14电压\",\"后台Y23电压\",\n",
    "             \"后台Z1电压\",\"后台Z2电压\",\"后台Z3电压\",\"后台Z4电压\"]\n",
    "usecols=[0,1,2,3,4,5,6,7,8,9,10,11,12,13]"
   ]
  },
  {
   "cell_type": "code",
   "execution_count": 5,
   "metadata": {},
   "outputs": [],
   "source": [
    "for filename in os.listdir(Voltage_dir):\n",
    "    if filename.endswith(\".csv\"):\n",
    "        # 读取文件\n",
    "        Voltage_path = os.path.join(Voltage_dir, filename) # 电压数据路径\n",
    "        offset_data = pd.read_csv(Voltage_path, skiprows=4, nrows=1,usecols=usecols, names=head_list) # 读取偏移量\n",
    "        voltage_data = pd.read_csv(Voltage_path, skiprows=6, usecols=usecols, names=head_list) # 读取电压数据\n",
    "\n",
    "        # 计算各个传感器的电压值\n",
    "        # 减去偏移量并将结果汇总到新的列，使用 pandas 广播功能\n",
    "        voltage_data_adjusted = voltage_data.sub(offset_data.iloc[0].T)\n",
    "        # 根据调整后的电压计算力值，使用 pandas 广播功能\n",
    "        Sen_Force = voltage_data_adjusted / pd.Series(sensitivity) * 1000\n",
    "        # 除使用广播的方式进行计算，还可以使用 apply 函数\n",
    "        #Sen_Force_apply = voltage_data_adjusted.apply(lambda x: x/ sensitivity[x.name] * 1000)\n",
    "        \n",
    "        # 计算前后台的水平力和垂直力\n",
    "        # 先计算相对于测力台本身的数据\n",
    "        Plate_Force = pd.DataFrame()\n",
    "        Plate_Force['前台传感器水平力'] = Sen_Force['前台Y14电压'] + Sen_Force['前台Y23电压']\n",
    "        Plate_Force[\"前台传感器垂直力\"] = Sen_Force['前台Z1电压'] + Sen_Force['前台Z2电压'] + Sen_Force['前台Z3电压'] + Sen_Force['前台Z4电压']\n",
    "        # 将传感器的力值转化到水平和垂直方向\n",
    "        Plate_Force['前台水平力'] =  Plate_Force[\"前台传感器垂直力\"] * np.sin(theta_rad) + Plate_Force['前台传感器水平力'] * np.cos(theta_rad)\n",
    "        Plate_Force['前台垂直力'] =  Plate_Force[\"前台传感器垂直力\"] * np.cos(theta_rad) - Plate_Force['前台传感器水平力'] * np.sin(theta_rad)\n",
    "        Plate_Force[\"前台合力\"] = (Plate_Force[\"前台水平力\"]**2 + Plate_Force[\"前台垂直力\"]**2)**0.5\n",
    "\n",
    "        Plate_Force[\"后台传感器水平力\"] = Sen_Force['后台Y14电压'] + Sen_Force['后台Y23电压']\n",
    "        Plate_Force['后台传感器垂直力'] = Sen_Force['后台Z1电压'] + Sen_Force['后台Z2电压'] + Sen_Force['后台Z3电压'] + Sen_Force['后台Z4电压']\n",
    "        Plate_Force['后台水平力'] =  Plate_Force[\"后台传感器垂直力\"] * np.sin(theta_rad) + Plate_Force['后台传感器水平力'] * np.cos(theta_rad)\n",
    "        Plate_Force['后台垂直力'] =  Plate_Force[\"后台传感器垂直力\"] * np.cos(theta_rad) - Plate_Force['后台传感器水平力'] * np.sin(theta_rad)\n",
    "        Plate_Force[\"后台合力\"] = (Plate_Force[\"后台水平力\"]**2 + Plate_Force[\"后台垂直力\"]**2)**0.5\n",
    "\n",
    "        Plate_Force[\"抓手传感器水平力\"] = Sen_Force['抓手X方向电压'] # Gx 为平行于水平方向\n",
    "        Plate_Force[\"抓手传感器垂直力\"] = Sen_Force['抓手Z方向电压'] # Gz 为垂直于水平方向\n",
    "\n",
    "        # 此处计算前后台在水平方面和垂直方向的合力\n",
    "        Plate_Force[\"水平力\"] = Plate_Force[\"前台水平力\"] + Plate_Force[\"后台水平力\"] + Plate_Force[\"后台水平力\"] + Plate_Force[\"抓手传感器水平力\"]\n",
    "        Plate_Force[\"垂直力\"] = Plate_Force[\"前台垂直力\"] + Plate_Force[\"后台垂直力\"] + Plate_Force[\"后台垂直力\"] + Plate_Force[\"抓手传感器垂直力\"]\n",
    "        # 将测力台垂直和水平力分解到大地水平方向和垂直方向\n",
    "\n",
    "\n",
    "        # 使用前 500 个数据计算运动员体重(单位:N)\n",
    "        # 测力台会在发令枪响前 500 整数开始采集数据\n",
    "        Weight_N = Plate_Force.loc[0:499,\"垂直力\"].mean()"
   ]
  },
  {
   "cell_type": "code",
   "execution_count": 10,
   "metadata": {},
   "outputs": [
    {
     "data": {
      "text/plain": [
       "<Axes: >"
      ]
     },
     "execution_count": 10,
     "metadata": {},
     "output_type": "execute_result"
    },
    {
     "data": {
      "image/png": "[encoded data removed]",
      "text/plain": [
       "<Figure size 640x480 with 1 Axes>"
      ]
     },
     "metadata": {},
     "output_type": "display_data"
    }
   ],
   "source": [
    "Plate_Force[\"垂直力\"].plot()"
   ]
  },
  {
   "cell_type": "code",
   "execution_count": null,
   "metadata": {},
   "outputs": [],
   "source": []
  }
 ],
 "metadata": {
  "kernelspec": {
   "display_name": "base",
   "language": "python",
   "name": "python3"
  },
  "language_info": {
   "codemirror_mode": {
    "name": "ipython",
    "version": 3
   },
   "file_extension": ".py",
   "mimetype": "text/x-python",
   "name": "python",
   "nbconvert_exporter": "python",
   "pygments_lexer": "ipython3",
   "version": "3.10.11"
  }
 },
 "nbformat": 4,
 "nbformat_minor": 2
}
