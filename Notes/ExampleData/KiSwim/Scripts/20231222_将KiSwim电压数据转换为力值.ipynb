{
 "cells": [
  {
   "cell_type": "markdown",
   "metadata": {},
   "source": [
    "## 文档说明\n",
    "本文档用以计算Kistler 游泳出发测力台的力值数据\n",
    "\n",
    "Kistler(KiSwim) 游泳出发测力台原始导出的数据只有电压值\n",
    "\n",
    "根据工程师的说明讲力值转换为力值"
   ]
  },
  {
   "cell_type": "markdown",
   "metadata": {},
   "source": [
    "## 步骤\n",
    "1. 读取每一列的电压数据\n",
    "2. 将每个传感器的数据转换为力值\n",
    "3. 对力值数据进行滤波\n",
    "4. 将传感器的力值进行叠加\n",
    "5. 将传感器的力值转换为水平力值以及垂直力值\n",
    "6. 将水平力值和垂直力值进行叠加分别计算前、后台合力\n",
    "7. 计算前、后台以及抓手在水平和垂直方向合力\n",
    "\n",
    "## Todo\n",
    "增加判断"
   ]
  },
  {
   "cell_type": "code",
   "execution_count": 42,
   "metadata": {},
   "outputs": [],
   "source": [
    "## 导入包\n",
    "import os\n",
    "import pandas as pd\n",
    "import numpy as np \n",
    "import scipy.signal as signal\n",
    "import matplotlib.pyplot as plt\n",
    "import datetime"
   ]
  },
  {
   "cell_type": "code",
   "execution_count": 34,
   "metadata": {},
   "outputs": [],
   "source": [
    "## 定义路径\n",
    "Voltage_dir = \"/Users/wangshuaibo/Documents/ScriptsofShuai/Notes/ExampleData/KiSwim/电压数据\"\n",
    "Forece_dir =  \"/Users/wangshuaibo/Documents/ScriptsofShuai/Notes/ExampleData/KiSwim/力值数据\""
   ]
  },
  {
   "cell_type": "markdown",
   "metadata": {},
   "source": [
    "## 根据电压计算每个传感器的原始力值\n",
    "Force [N]  = ((Force [Volts] – Force[V] offset)/sensitivity)*1000\n",
    "\n",
    "传感器灵敏度，可以从 Kpass 软件下的 KPpssSetup.csv 中获取"
   ]
  },
  {
   "cell_type": "code",
   "execution_count": 35,
   "metadata": {},
   "outputs": [],
   "source": [
    "# 定义前台和水平面的夹角\n",
    "angle = 10.2 # 每块测力台的数值不同，从测力台的 pdf 当中获取\n",
    "theta_rad = np.deg2rad(angle) \n",
    "## 定义不同传感器的灵敏度(sensitivity)\n",
    "sensitivity = {\n",
    "    '抓手Z方向电压': 3.899,\n",
    "    '抓手X方向电压': 1.842,\n",
    "    \n",
    "    '前台Y14电压': 3.861,\n",
    "    '前台Y23电压': 3.861,\n",
    "\n",
    "    '前台Z1电压': 3.611,\n",
    "    '前台Z2电压': 3.611,\n",
    "    '前台Z3电压': 3.611,\n",
    "    '前台Z4电压': 3.611,\n",
    "\n",
    "    \"N/A_1\": 1, # 1 为填补空缺，不用修改\n",
    "    \"N/A_2\": 1, # 1 为填补空缺，不用修改\n",
    "\n",
    "    '后台Y14电压': 3.864,\n",
    "    '后台Y23电压': 3.864,\n",
    "    \n",
    "    '后台Z1电压': 3.657,\n",
    "    '后台Z2电压': 3.657,\n",
    "    '后台Z3电压': 3.657,\n",
    "    '后台Z4电压': 3.657\n",
    "}"
   ]
  },
  {
   "cell_type": "code",
   "execution_count": 36,
   "metadata": {},
   "outputs": [],
   "source": [
    "# 按照Kistler 工程师邮件中的说明，命名\n",
    "head_list = [\"抓手Z方向电压\",\"抓手X方向电压\",\n",
    "             \"前台Y14电压\",\"前台Y23电压\",\n",
    "             \"前台Z1电压\",\"前台Z2电压\",\"前台Z3电压\",\"前台Z4电压\",\n",
    "             \"N/A_1\",\"N/A_2\",\n",
    "             \"后台Y14电压\",\"后台Y23电压\",\n",
    "             \"后台Z1电压\",\"后台Z2电压\",\"后台Z3电压\",\"后台Z4电压\"]\n",
    "usecols=[0,1,2,3,4,5,6,7,8,9,10,11,12,13,14,15]"
   ]
  },
  {
   "cell_type": "code",
   "execution_count": 47,
   "metadata": {},
   "outputs": [
    {
     "name": "stdout",
     "output_type": "stream",
     "text": [
      "杨金潼.csv\n",
      "王曦喆蝶泳.csv\n",
      "汪顺.csv\n",
      "陈俊儿.csv\n",
      "董洁.csv\n",
      "王长浩蝶泳.csv\n",
      "董志豪.csv\n",
      "王浩宇.csv\n",
      "牛广盛.csv\n",
      "刘培鑫.csv\n",
      "张展硕.csv\n",
      "潘展乐.csv\n",
      "季新杰.csv\n",
      "覃海洋.csv\n",
      "王曦喆自由泳.csv\n",
      "洪金权.csv\n",
      "王长浩自由泳.csv\n",
      "纪奕存.csv\n"
     ]
    }
   ],
   "source": [
    "for filename in os.listdir(Voltage_dir):\n",
    "    if filename.endswith(\".csv\"):\n",
    "        # 读取文件\n",
    "        Voltage_path = os.path.join(Voltage_dir, filename) # 电压数据路径\n",
    "        offset_data = pd.read_csv(Voltage_path, skiprows=4, nrows=1,usecols=usecols, names=head_list) # 读取偏移量\n",
    "        voltage_data = pd.read_csv(Voltage_path, skiprows=6, usecols=usecols, names=head_list) # 读取电压数据\n",
    "\n",
    "        # 计算各个传感器的电压值\n",
    "        # 减去偏移量并将结果汇总到新的列，使用 pandas 广播功能\n",
    "        voltage_data_adjusted = voltage_data.sub(offset_data.iloc[0].T)\n",
    "        # 根据调整后的电压计算力值，使用 pandas 广播功能\n",
    "        Sen_Force = voltage_data_adjusted / pd.Series(sensitivity) * 1000\n",
    "        # 除使用广播的方式进行计算，还可以使用 apply 函数\n",
    "        #Sen_Force_apply = voltage_data_adjusted.apply(lambda x: x/ sensitivity[x.name] * 1000)\n",
    "        \n",
    "        # 计算前后台的水平力和垂直力\n",
    "        # 先计算相对于测力台本身的数据\n",
    "        Plate_Force = pd.DataFrame()\n",
    "        Plate_Force['前台传感器水平力'] = Sen_Force['前台Y14电压'] + Sen_Force['前台Y23电压']\n",
    "        Plate_Force[\"前台传感器垂直力\"] = Sen_Force['前台Z1电压'] + Sen_Force['前台Z2电压'] + Sen_Force['前台Z3电压'] + Sen_Force['前台Z4电压']\n",
    "        # 将传感器的力值转化到水平和垂直方向\n",
    "        Plate_Force['前台水平力'] =  Plate_Force[\"前台传感器垂直力\"] * np.sin(theta_rad) + Plate_Force['前台传感器水平力'] * np.cos(theta_rad)\n",
    "        Plate_Force['前台垂直力'] =  Plate_Force[\"前台传感器垂直力\"] * np.cos(theta_rad) - Plate_Force['前台传感器水平力'] * np.sin(theta_rad)\n",
    "        Plate_Force[\"前台合力\"] = (Plate_Force[\"前台水平力\"]**2 + Plate_Force[\"前台垂直力\"]**2)**0.5\n",
    "\n",
    "        Plate_Force[\"后台传感器水平力\"] = Sen_Force['后台Y14电压'] + Sen_Force['后台Y23电压']\n",
    "        Plate_Force['后台传感器垂直力'] = Sen_Force['后台Z1电压'] + Sen_Force['后台Z2电压'] + Sen_Force['后台Z3电压'] + Sen_Force['后台Z4电压']\n",
    "        Plate_Force['后台水平力'] =  Plate_Force[\"后台传感器垂直力\"] * np.sin(theta_rad) + Plate_Force['后台传感器水平力'] * np.cos(theta_rad)\n",
    "        Plate_Force['后台垂直力'] =  Plate_Force[\"后台传感器垂直力\"] * np.cos(theta_rad) - Plate_Force['后台传感器水平力'] * np.sin(theta_rad)\n",
    "        Plate_Force[\"后台合力\"] = (Plate_Force[\"后台水平力\"]**2 + Plate_Force[\"后台垂直力\"]**2)**0.5\n",
    "\n",
    "        Plate_Force[\"抓手传感器水平力\"] = Sen_Force['抓手X方向电压'] # Gx 为平行于水平方向\n",
    "        Plate_Force[\"抓手传感器垂直力\"] = Sen_Force['抓手Z方向电压']  # Gz 为垂直于水平方向\n",
    "        Plate_Force[\"抓手水平力\"] = Plate_Force[\"抓手传感器水平力\"]\n",
    "        Plate_Force[\"抓手垂直力\"] = Plate_Force[\"抓手传感器垂直力\"] * -1\n",
    "\n",
    "        # 此处计算前后台在水平方面和垂直方向的合力\n",
    "        Plate_Force[\"传感器方向水平合力\"] = Plate_Force['前台传感器水平力'] + Plate_Force['后台传感器水平力']\n",
    "        Plate_Force[\"传感器方向垂直合力\"] = Plate_Force['前台传感器垂直力'] + Plate_Force['后台传感器垂直力']\n",
    "        \n",
    "        # 将测力台垂直和水平力分解到大地水平方向和垂直方向\n",
    "        Plate_Force[\"水平力\"] = Plate_Force[\"传感器方向垂直合力\"] * np.sin(theta_rad) + Plate_Force[\"传感器方向水平合力\"] * np.cos(theta_rad) + Plate_Force[\"抓手传感器水平力\"]\n",
    "        Plate_Force[\"垂直力\"] = Plate_Force[\"传感器方向垂直合力\"] * np.cos(theta_rad) - Plate_Force[\"传感器方向水平合力\"] * np.sin(theta_rad) + Plate_Force[\"抓手传感器垂直力\"]\n",
    "\n",
    "        ## 对力值信号进行滤波\n",
    "        # 在根据测力台信号计算垂直和水平力之前，使用 10HZ 的低通滤波对测量信号进行数字平滑处理。\n",
    "        # ref：Mason, Bruce, Alison Alcock和John Fowlie. 《A Kinetic Analysis and Recommendations for Elite Swimmers Performing the Sprint Start》, 4, 2007.\n",
    "        # 武哥是在计算得到水平力之后进行滤波，此处与武哥保持一致，两种滤波方式相差不大\n",
    "        target_columns = ['前台合力','前台水平力','前台垂直力',\n",
    "            '后台合力','后台水平力','后台垂直力',\n",
    "            '抓手垂直力','抓手水平力',\n",
    "            '垂直力','水平力']\n",
    "\n",
    "        fs = 500 # 测力台采集频率为 500 Hz\n",
    "        n = 2 # 滤波器阶数\n",
    "        Wn = 10 / (fs / 2) # 计算归一化频率， 截止频率为  10 Hz\n",
    "        b, a = signal.butter(n, Wn, 'low') # 低通滤波器\n",
    "        # 对选定的列进行滤波\n",
    "        filtered_data = Plate_Force[target_columns].apply(lambda column: signal.filtfilt(b, a, column))\n",
    "\n",
    "        # 除以体重，对力值进行归一化处理\n",
    "\n",
    "        # 计算运动员体重(单位:N)\n",
    "        # 运动员静止站立时垂直\n",
    "        # 测力台会在发令枪响前 500 整数开始采集数据\n",
    "        weight_time = 500-1 # 枪响枪前会采集 500 个数据，这里默认为 500\n",
    "        Weight_N = Plate_Force.loc[0:weight_time,\"垂直力\"].mean()\n",
    "        normalized_data = filtered_data / Weight_N\n",
    "\n",
    "        # 将数据写入文件\n",
    "        current_time = datetime.datetime.now().strftime(\"%Y%m%d%H%M%S_\")\n",
    "        excel_filename = current_time +  filename.replace(\".csv\", \".xlsx\")\n",
    "        excel_path = os.path.join(Forece_dir, excel_filename)\n",
    "        normalized_data.to_excel(excel_path, index=False)\n",
    "\n",
    "        print(f\"{filename}已经完成处理\")\n",
    "\n",
    "print(\"所有文件已经处理完成\")\n",
    "print(\"处理后的文件保存在：\", Forece_dir)"
   ]
  },
  {
   "cell_type": "code",
   "execution_count": null,
   "metadata": {},
   "outputs": [],
   "source": []
  }
 ],
 "metadata": {
  "kernelspec": {
   "display_name": "base",
   "language": "python",
   "name": "python3"
  },
  "language_info": {
   "codemirror_mode": {
    "name": "ipython",
    "version": 3
   },
   "file_extension": ".py",
   "mimetype": "text/x-python",
   "name": "python",
   "nbconvert_exporter": "python",
   "pygments_lexer": "ipython3",
   "version": "3.10.11"
  }
 },
 "nbformat": 4,
 "nbformat_minor": 2
}
