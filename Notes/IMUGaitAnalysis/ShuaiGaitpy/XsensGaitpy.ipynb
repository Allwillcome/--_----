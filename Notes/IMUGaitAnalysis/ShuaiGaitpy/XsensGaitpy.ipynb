{
 "cells": [
  {
   "cell_type": "code",
   "execution_count": 5,
   "metadata": {},
   "outputs": [],
   "source": [
    "import os\n",
    "import pandas as pd\n",
    "from pandas.testing import assert_frame_equal\n",
    "import warnings\n",
    "warnings.simplefilter(action='ignore', category=FutureWarning)\n",
    "warnings.simplefilter(action='ignore', category=UserWarning)\n",
    "import numpy as np\n",
    "import time\n",
    "# 修改为当前的函数\n",
    "from gait import *\n",
    "import pathlib as Path"
   ]
  },
  {
   "cell_type": "code",
   "execution_count": 12,
   "metadata": {},
   "outputs": [
    {
     "name": "stdout",
     "output_type": "stream",
     "text": [
      "<class 'pandas.core.frame.DataFrame'>\n",
      "RangeIndex: 2423 entries, 0 to 2422\n",
      "Data columns (total 3 columns):\n",
      " #   Column    Non-Null Count  Dtype  \n",
      "---  ------    --------------  -----  \n",
      " 0   Pelvis x  2423 non-null   float64\n",
      " 1   Pelvis y  2423 non-null   float64\n",
      " 2   Pelvis z  2423 non-null   float64\n",
      "dtypes: float64(3)\n",
      "memory usage: 56.9 KB\n"
     ]
    }
   ],
   "source": [
    "# 读取 Xsens 文件\n",
    "# 先查看 sheetname \n",
    "# path = Path(\"/Users/wangshuaibo/Documents/ScriptsofShuai/Notes/IMUGaitAnalysis/ShuaiGaitpy/20230413跺脚走6步路测试-XsensMVN-传感器加速度.xlsx\")\n",
    "df = pd.read_excel(\"20230413跺脚走6步路测试-XsensMVN-传感器加速度.xlsx\",engine=\"openpyxl\",usecols=[1,2,3])\n",
    "df.info()"
   ]
  },
  {
   "cell_type": "code",
   "execution_count": 26,
   "metadata": {},
   "outputs": [
    {
     "name": "stdout",
     "output_type": "stream",
     "text": [
      "<class 'pandas.core.frame.DataFrame'>\n",
      "RangeIndex: 2423 entries, 0 to 2422\n",
      "Data columns (total 5 columns):\n",
      " #   Column           Non-Null Count  Dtype         \n",
      "---  ------           --------------  -----         \n",
      " 0   timestamps       2423 non-null   datetime64[ns]\n",
      " 1   Pelvis x         2423 non-null   float64       \n",
      " 2   Pelvis y         2423 non-null   float64       \n",
      " 3   Pelvis z         2423 non-null   float64       \n",
      " 4   unix_timestamps  2423 non-null   int64         \n",
      "dtypes: datetime64[ns](1), float64(3), int64(1)\n",
      "memory usage: 94.8 KB\n"
     ]
    }
   ],
   "source": [
    "# 创建 \"timestamps\" 列\n",
    "hertz = 100\n",
    "freq = f\"{1000/100}ms\"\n",
    "df[\"timestamps\"] = pd.date_range(\"2022-04-01 10:00:00\",periods=df.shape[0],freq=freq)\n",
    "# 转换为指定格式\n",
    "df[\"timestamps\"] = pd.to_datetime(df[\"timestamps\"],format=\"%Y-%m-%d %H:%M:%S:%f\")\n",
    "df.insert(0,\"timestamps\",df.pop(\"timestamps\"))\n",
    "df[\"unix_timestamps\"] = df[\"timestamps\"].astype(np.int64) // 10**6\n",
    "df.info()\n",
    "# 自己创建的 timestamps Dtype 为 datetime64[ns]\n",
    "# 原始数据的 timestamps Dtype 为 Object\n"
   ]
  },
  {
   "cell_type": "code",
   "execution_count": 25,
   "metadata": {},
   "outputs": [
    {
     "name": "stdout",
     "output_type": "stream",
     "text": [
      "<class 'pandas.core.frame.DataFrame'>\n",
      "RangeIndex: 8400 entries, 0 to 8399\n",
      "Data columns (total 5 columns):\n",
      " #   Column           Non-Null Count  Dtype  \n",
      "---  ------           --------------  -----  \n",
      " 0   timestamps       8400 non-null   object \n",
      " 1   x                8400 non-null   float64\n",
      " 2   y                8400 non-null   float64\n",
      " 3   z                8400 non-null   float64\n",
      " 4   unix_timestamps  8400 non-null   int64  \n",
      "dtypes: float64(3), int64(1), object(1)\n",
      "memory usage: 328.2+ KB\n"
     ]
    }
   ],
   "source": [
    "# raw_data 应该包含的内容\n",
    "src = \"demo_data.csv\"\n",
    "raw_data = pd.read_csv(src, skiprows=99, names=['timestamps', 'x', 'y', 'z'], usecols=[0, 1, 2, 3])\n",
    "raw_data['unix_timestamps'] = pd.to_datetime(raw_data.timestamps, format=\"%Y-%m-%d %H:%M:%S:%f\").values.astype(np.int64) // 10**6\n",
    "raw_data.info()"
   ]
  },
  {
   "cell_type": "code",
   "execution_count": 31,
   "metadata": {},
   "outputs": [],
   "source": [
    "# 主函数\n",
    "def run_gaitpy(raw_data, sample_rate, subject_height, dst):\n",
    "    # Load/format data\n",
    "    # 下面两行是 Github 网页上没有给出的两行数据\n",
    "\n",
    "\n",
    "    ### Create an instance of GaitPy ###\n",
    "    gaitpy = Gaitpy(raw_data,\n",
    "                    sample_rate,\n",
    "                    v_acc_col_name='Pelvis x', #修改传感器的垂直轴名称\n",
    "                    ts_col_name='unix_timestamps',\n",
    "                    v_acc_units='g',\n",
    "                    ts_units='ms',\n",
    "                    flip=False)\n",
    "    \n",
    "    #### Classify bouts of gait ####\n",
    "    \n",
    "    gait_bouts = gaitpy.classify_bouts(result_file=os.path.join(dst,'classify_bouts.h5'))\n",
    "    # @阿帅批：注释掉分类\n",
    "    # gait_bouts = \"/Users/wangshuaibo/Documents/ScriptsofShuai/Notes/IMUStepAnalysis/gaitpy/gaitpy/demo/demo_classify_bouts.h5\"\n",
    "    \n",
    "    #### Extract gait characteristics #### \n",
    "    # 出错在下面的位置\n",
    "    gait_features = gaitpy.extract_features(subject_height,\n",
    "                                            subject_height_units='centimeters',\n",
    "                                            result_file=os.path.join(dst,'gait_features.csv'),\n",
    "                                            classified_gait=gait_bouts)\n",
    "    \n",
    "    #### Plot results of gait feature extraction ####\n",
    "    gaitpy.plot_contacts(gait_features, result_file=os.path.join(dst, 'plot_contacts.html'), show_plot=False)\n",
    "\n"
   ]
  },
  {
   "cell_type": "code",
   "execution_count": 32,
   "metadata": {},
   "outputs": [],
   "source": [
    "# 运行实例\n",
    "def run_demo(dst,raw_data):\n",
    "    # Set source and destination directories\n",
    "    __file__ = \"Demo.py\"\n",
    "    #src = __file__.split(\".py\")[0] + \"_data.csv\" #官方本来的代码\n",
    "    #dst = input(\"Please provide a path to a results directory:    \")\n",
    "    while not os.path.isdir(dst):\n",
    "        dst = input(\n",
    "            \"\\nYour previous entry was not appropriate.\"\n",
    "            \"\\nIt should follow a format similar to /Users/username/Desktop/Results\"\n",
    "            \"\\nPlease provide a path to a results directory:    \"\n",
    "        )\n",
    "\n",
    "    # Run gaitpy\n",
    "    st = time.time()\n",
    "    try:\n",
    "        sample_rate = 100  # hertz\n",
    "        subject_height = 170  # centimeters\n",
    "        # @阿帅批：运行run_gaitpy 代码\n",
    "        run_gaitpy(raw_data, sample_rate, subject_height, dst)\n",
    "    except Exception as e:\n",
    "        print(\"Error processing: \\nError: {}\".format(e))\n",
    "    stp = time.time()\n",
    "    print(\"total run time: {} seconds\".format(round(stp-st, 2)))\n",
    "\n",
    "    \"\"\"\n",
    "    # Confirm expected results\n",
    "    print(\"Checking extract_features endpoints...\")\n",
    "    # @阿帅批：预期 gait_features 是官方的实例\n",
    "    expected_gait_features = pd.read_csv(__file__.split(\".py\")[0] + '_gait_features.csv')\n",
    "    # @阿帅批：obtained gait_features 是自己运行官方 demo 得到的数据\n",
    "    obtained_gait_features = pd.read_csv(os.path.join(dst, 'gait_features.csv'))\n",
    "    # @阿帅批：检查自己生成的 gait_features 和 demo_gait_features 是否相同\n",
    "    assert_frame_equal(expected_gait_features, obtained_gait_features)\n",
    "    # 检测步态分类生成数据和官方 Demo 数据是否一致\n",
    "    print(\"Checking classify_bouts endpoints...\")\n",
    "    expected_classify_bouts = pd.read_hdf(__file__.split(\".py\")[0] + '_classify_bouts.h5')\n",
    "    obtained_classify_bouts = pd.read_hdf(os.path.join(dst, 'classify_bouts.h5'))\n",
    "    assert_frame_equal(expected_classify_bouts, obtained_classify_bouts)\n",
    "    print(\"All tests passed\")\n",
    "    \"\"\"\n"
   ]
  },
  {
   "cell_type": "code",
   "execution_count": 33,
   "metadata": {},
   "outputs": [],
   "source": [
    "# 放置生成 Xsens 的文件\n",
    "dst = \"/Users/wangshuaibo/Documents/ScriptsofShuai/Notes/IMUGaitAnalysis/ShuaiGaitpy/XsensData\""
   ]
  },
  {
   "cell_type": "code",
   "execution_count": 34,
   "metadata": {},
   "outputs": [
    {
     "name": "stdout",
     "output_type": "stream",
     "text": [
      "\tClassifying bouts of gait...\n",
      "\tBout classification complete!\n",
      "\n",
      "\tExtracting features...\n",
      "\tFeature extraction complete!\n",
      "\n",
      "\tPlotting contacts...\n",
      "\tPlot complete!\n",
      "\n",
      "total run time: 0.28 seconds\n"
     ]
    }
   ],
   "source": [
    "run_demo(dst, df)"
   ]
  },
  {
   "cell_type": "code",
   "execution_count": 38,
   "metadata": {},
   "outputs": [
    {
     "data": {
      "text/html": [
       "<div>\n",
       "<style scoped>\n",
       "    .dataframe tbody tr th:only-of-type {\n",
       "        vertical-align: middle;\n",
       "    }\n",
       "\n",
       "    .dataframe tbody tr th {\n",
       "        vertical-align: top;\n",
       "    }\n",
       "\n",
       "    .dataframe thead th {\n",
       "        text-align: right;\n",
       "    }\n",
       "</style>\n",
       "<table border=\"1\" class=\"dataframe\">\n",
       "  <thead>\n",
       "    <tr style=\"text-align: right;\">\n",
       "      <th></th>\n",
       "      <th>prediction</th>\n",
       "      <th>window_start_time</th>\n",
       "      <th>window_end_time</th>\n",
       "    </tr>\n",
       "  </thead>\n",
       "  <tbody>\n",
       "    <tr>\n",
       "      <th>0</th>\n",
       "      <td>0</td>\n",
       "      <td>2022-04-01 10:00:00</td>\n",
       "      <td>2022-04-01 10:00:03</td>\n",
       "    </tr>\n",
       "    <tr>\n",
       "      <th>1</th>\n",
       "      <td>0</td>\n",
       "      <td>2022-04-01 10:00:03</td>\n",
       "      <td>2022-04-01 10:00:06</td>\n",
       "    </tr>\n",
       "    <tr>\n",
       "      <th>2</th>\n",
       "      <td>0</td>\n",
       "      <td>2022-04-01 10:00:06</td>\n",
       "      <td>2022-04-01 10:00:09</td>\n",
       "    </tr>\n",
       "  </tbody>\n",
       "</table>\n",
       "</div>"
      ],
      "text/plain": [
       "   prediction   window_start_time     window_end_time\n",
       "0           0 2022-04-01 10:00:00 2022-04-01 10:00:03\n",
       "1           0 2022-04-01 10:00:03 2022-04-01 10:00:06\n",
       "2           0 2022-04-01 10:00:06 2022-04-01 10:00:09"
      ]
     },
     "execution_count": 38,
     "metadata": {},
     "output_type": "execute_result"
    }
   ],
   "source": [
    "Xsenshdf = pd.read_hdf(\"XsensData/classify_bouts.h5\")\n",
    "Xsenshdf.head(3)"
   ]
  },
  {
   "cell_type": "markdown",
   "metadata": {},
   "source": [
    "## 单独运行步态分类 暂时不运行"
   ]
  },
  {
   "cell_type": "code",
   "execution_count": 3,
   "metadata": {},
   "outputs": [
    {
     "name": "stdout",
     "output_type": "stream",
     "text": [
      "\tClassifying bouts of gait...\n",
      "\tBout classification complete!\n",
      "\n"
     ]
    }
   ],
   "source": [
    "# 单独运行步态分类\n",
    "__file__ = \"Demo.py\"\n",
    "src = __file__.split(\".py\")[0] + \"_data.csv\" \n",
    "raw_data = pd.read_csv(src, skiprows=99, names=['timestamps', 'x', 'y', 'z'], usecols=[0, 1, 2, 3])\n",
    "# @阿帅批：下面这一步主要是查找对应格式的时间戳，并将其转换为 unix_timestamps 时间格式\n",
    "# Unix 时间以秒为单位，方便加减进行运算\n",
    "raw_data['unix_timestamps'] = pd.to_datetime(raw_data.timestamps, format=\"%Y-%m-%d %H:%M:%S:%f\").values.astype(np.int64) // 10**6\n",
    "sample_rate = 50 \n",
    "gaitpy = Gaitpy(raw_data,\n",
    "                sample_rate,\n",
    "                v_acc_col_name='y',\n",
    "                ts_col_name='unix_timestamps',\n",
    "                v_acc_units='g',\n",
    "                ts_units='ms',\n",
    "                flip=False)\n",
    "\n",
    "#### Classify bouts of gait ####\n",
    "# @阿帅批：注释掉分类\n",
    "gait_bouts = gaitpy.classify_bouts(result_file=os.path.join(dst,'classify_bouts.h5'))"
   ]
  },
  {
   "cell_type": "code",
   "execution_count": null,
   "metadata": {},
   "outputs": [],
   "source": []
  }
 ],
 "metadata": {
  "kernelspec": {
   "display_name": "ShuaiGaitpy",
   "language": "python",
   "name": "python3"
  },
  "language_info": {
   "codemirror_mode": {
    "name": "ipython",
    "version": 3
   },
   "file_extension": ".py",
   "mimetype": "text/x-python",
   "name": "python",
   "nbconvert_exporter": "python",
   "pygments_lexer": "ipython3",
   "version": "3.6.13 |Anaconda, Inc.| (default, Feb 23 2021, 12:58:59) \n[GCC Clang 10.0.0 ]"
  },
  "orig_nbformat": 4,
  "vscode": {
   "interpreter": {
    "hash": "9df516ed98b28225425cbe0987ff752359c90bb0a7a0364f084f303d6f46b77f"
   }
  }
 },
 "nbformat": 4,
 "nbformat_minor": 2
}
