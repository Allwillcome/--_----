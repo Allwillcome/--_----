{
 "cells": [
  {
   "cell_type": "code",
   "execution_count": 2,
   "metadata": {},
   "outputs": [],
   "source": [
    "import os\n",
    "import pandas as pd\n",
    "import matplotlib.pyplot as plt"
   ]
  },
  {
   "attachments": {},
   "cell_type": "markdown",
   "metadata": {},
   "source": [
    "目前代码有错，错误的地方主要发生在时间的格式不正确\n",
    "\n",
    "\n",
    "这里的 ts ，当 hz 为50 时，就是 df[\"timestamps\"]\n",
    "timestamps = pd.DatetimeIndex(ts.astype('datetime64[ms]')) 位于 def classify_bouts(self, result_file=None):\n",
    "\n",
    "调用会提示 ParserError: Unknown string format: 2019-08-06 10:25:50:020\n",
    "\n",
    "主要的调用为：\n",
    "start_time = timestamps[0].astype('datetime64[ms]') 位于 extract_features\n",
    "\n",
    "\n",
    "\n",
    "把这个问题解决就能解决了"
   ]
  },
  {
   "cell_type": "code",
   "execution_count": 3,
   "metadata": {},
   "outputs": [],
   "source": [
    "path = \"/Users/wangshuaibo/Documents/ScriptsofShuai/Notes/IMUStepAnalysis/gaitpy/gaitpy/demo\"\n",
    "os.chdir(path)"
   ]
  },
  {
   "cell_type": "code",
   "execution_count": 4,
   "metadata": {},
   "outputs": [
    {
     "data": {
      "text/plain": [
       "['__init__.py',\n",
       " 'demo_data.csv',\n",
       " 'demo_classify_bouts.h5',\n",
       " 'demo.py',\n",
       " 'demo_gait_features.csv',\n",
       " 'demo_plot_contacts.html']"
      ]
     },
     "execution_count": 4,
     "metadata": {},
     "output_type": "execute_result"
    }
   ],
   "source": [
    "os.listdir()"
   ]
  },
  {
   "cell_type": "code",
   "execution_count": 3,
   "metadata": {},
   "outputs": [],
   "source": [
    "df = pd.read_csv(\"demo_data_modified_time.csv\")\n"
   ]
  },
  {
   "cell_type": "code",
   "execution_count": 4,
   "metadata": {},
   "outputs": [
    {
     "data": {
      "text/html": [
       "<div>\n",
       "<style scoped>\n",
       "    .dataframe tbody tr th:only-of-type {\n",
       "        vertical-align: middle;\n",
       "    }\n",
       "\n",
       "    .dataframe tbody tr th {\n",
       "        vertical-align: top;\n",
       "    }\n",
       "\n",
       "    .dataframe thead th {\n",
       "        text-align: right;\n",
       "    }\n",
       "</style>\n",
       "<table border=\"1\" class=\"dataframe\">\n",
       "  <thead>\n",
       "    <tr style=\"text-align: right;\">\n",
       "      <th></th>\n",
       "      <th>timestamps</th>\n",
       "      <th>x</th>\n",
       "      <th>y</th>\n",
       "      <th>z</th>\n",
       "      <th>Unnamed: 4</th>\n",
       "      <th>Unnamed: 5</th>\n",
       "      <th>Unnamed: 6</th>\n",
       "    </tr>\n",
       "  </thead>\n",
       "  <tbody>\n",
       "    <tr>\n",
       "      <th>0</th>\n",
       "      <td>2019-08-06 10:25:50.000</td>\n",
       "      <td>-0.4264</td>\n",
       "      <td>0.7279</td>\n",
       "      <td>0.5089</td>\n",
       "      <td>0</td>\n",
       "      <td>0</td>\n",
       "      <td>31.6</td>\n",
       "    </tr>\n",
       "    <tr>\n",
       "      <th>1</th>\n",
       "      <td>2019-08-06 10:25:50.020</td>\n",
       "      <td>-0.4620</td>\n",
       "      <td>0.7319</td>\n",
       "      <td>0.4453</td>\n",
       "      <td>0</td>\n",
       "      <td>0</td>\n",
       "      <td>31.6</td>\n",
       "    </tr>\n",
       "    <tr>\n",
       "      <th>2</th>\n",
       "      <td>2019-08-06 10:25:50.040</td>\n",
       "      <td>-0.3672</td>\n",
       "      <td>0.7319</td>\n",
       "      <td>0.5845</td>\n",
       "      <td>0</td>\n",
       "      <td>0</td>\n",
       "      <td>31.6</td>\n",
       "    </tr>\n",
       "    <tr>\n",
       "      <th>3</th>\n",
       "      <td>2019-08-06 10:25:50.060</td>\n",
       "      <td>-0.4738</td>\n",
       "      <td>0.7358</td>\n",
       "      <td>0.5328</td>\n",
       "      <td>0</td>\n",
       "      <td>0</td>\n",
       "      <td>31.6</td>\n",
       "    </tr>\n",
       "    <tr>\n",
       "      <th>4</th>\n",
       "      <td>2019-08-06 10:25:50.080</td>\n",
       "      <td>-0.3474</td>\n",
       "      <td>0.6299</td>\n",
       "      <td>0.4850</td>\n",
       "      <td>0</td>\n",
       "      <td>0</td>\n",
       "      <td>31.6</td>\n",
       "    </tr>\n",
       "    <tr>\n",
       "      <th>...</th>\n",
       "      <td>...</td>\n",
       "      <td>...</td>\n",
       "      <td>...</td>\n",
       "      <td>...</td>\n",
       "      <td>...</td>\n",
       "      <td>...</td>\n",
       "      <td>...</td>\n",
       "    </tr>\n",
       "    <tr>\n",
       "      <th>8395</th>\n",
       "      <td>2019-08-06 10:28:38.400</td>\n",
       "      <td>-0.1184</td>\n",
       "      <td>-0.9499</td>\n",
       "      <td>-0.1115</td>\n",
       "      <td>0</td>\n",
       "      <td>0</td>\n",
       "      <td>28.5</td>\n",
       "    </tr>\n",
       "    <tr>\n",
       "      <th>8396</th>\n",
       "      <td>2019-08-06 10:28:38.420</td>\n",
       "      <td>0.1265</td>\n",
       "      <td>-0.9303</td>\n",
       "      <td>-0.1234</td>\n",
       "      <td>0</td>\n",
       "      <td>0</td>\n",
       "      <td>28.5</td>\n",
       "    </tr>\n",
       "    <tr>\n",
       "      <th>8397</th>\n",
       "      <td>2019-08-06 10:28:38.440</td>\n",
       "      <td>-0.1381</td>\n",
       "      <td>-0.6049</td>\n",
       "      <td>-0.2109</td>\n",
       "      <td>0</td>\n",
       "      <td>0</td>\n",
       "      <td>28.5</td>\n",
       "    </tr>\n",
       "    <tr>\n",
       "      <th>8398</th>\n",
       "      <td>2019-08-06 10:28:38.460</td>\n",
       "      <td>0.1620</td>\n",
       "      <td>-1.3066</td>\n",
       "      <td>0.2067</td>\n",
       "      <td>0</td>\n",
       "      <td>0</td>\n",
       "      <td>28.5</td>\n",
       "    </tr>\n",
       "    <tr>\n",
       "      <th>8399</th>\n",
       "      <td>2019-08-06 10:28:38.480</td>\n",
       "      <td>0.0317</td>\n",
       "      <td>-0.8519</td>\n",
       "      <td>0.3777</td>\n",
       "      <td>0</td>\n",
       "      <td>0</td>\n",
       "      <td>28.5</td>\n",
       "    </tr>\n",
       "  </tbody>\n",
       "</table>\n",
       "<p>8400 rows × 7 columns</p>\n",
       "</div>"
      ],
      "text/plain": [
       "                   timestamps       x       y       z  Unnamed: 4  Unnamed: 5  \\\n",
       "0     2019-08-06 10:25:50.000 -0.4264  0.7279  0.5089           0           0   \n",
       "1     2019-08-06 10:25:50.020 -0.4620  0.7319  0.4453           0           0   \n",
       "2     2019-08-06 10:25:50.040 -0.3672  0.7319  0.5845           0           0   \n",
       "3     2019-08-06 10:25:50.060 -0.4738  0.7358  0.5328           0           0   \n",
       "4     2019-08-06 10:25:50.080 -0.3474  0.6299  0.4850           0           0   \n",
       "...                       ...     ...     ...     ...         ...         ...   \n",
       "8395  2019-08-06 10:28:38.400 -0.1184 -0.9499 -0.1115           0           0   \n",
       "8396  2019-08-06 10:28:38.420  0.1265 -0.9303 -0.1234           0           0   \n",
       "8397  2019-08-06 10:28:38.440 -0.1381 -0.6049 -0.2109           0           0   \n",
       "8398  2019-08-06 10:28:38.460  0.1620 -1.3066  0.2067           0           0   \n",
       "8399  2019-08-06 10:28:38.480  0.0317 -0.8519  0.3777           0           0   \n",
       "\n",
       "      Unnamed: 6  \n",
       "0           31.6  \n",
       "1           31.6  \n",
       "2           31.6  \n",
       "3           31.6  \n",
       "4           31.6  \n",
       "...          ...  \n",
       "8395        28.5  \n",
       "8396        28.5  \n",
       "8397        28.5  \n",
       "8398        28.5  \n",
       "8399        28.5  \n",
       "\n",
       "[8400 rows x 7 columns]"
      ]
     },
     "execution_count": 4,
     "metadata": {},
     "output_type": "execute_result"
    }
   ],
   "source": [
    "df"
   ]
  },
  {
   "cell_type": "code",
   "execution_count": 5,
   "metadata": {},
   "outputs": [],
   "source": [
    "from gaitpy.gait import Gaitpy\n",
    "\n",
    "raw_data = df\n",
    "sample_rate = 50 # hertz\n",
    "subject_height = 177 # centimeters\n",
    "\n",
    "#### Create an instance of Gaitpy ####\n",
    "gaitpy = Gaitpy(raw_data,                           # Raw data consisting of vertical acceleration from lumbar location and unix timestamps\n",
    "                sample_rate,                        # Sample rate of raw data (in Hertz)\n",
    "                v_acc_col_name='y',                 # Vertical acceleration column name\n",
    "                ts_col_name='timestamps',           # Timestamp column name\n",
    "                v_acc_units='m/s^2',                # Units of vertical acceleration\n",
    "                ts_units='ms',                      # Units of timestamps\n",
    "                flip=False)                         # If baseline data is at +1g or +9.8m/s^2, set flip=True\n",
    "\n",
    "                                  # Specify whether to display plot upon completion (True by default)\n"
   ]
  },
  {
   "cell_type": "code",
   "execution_count": 6,
   "metadata": {},
   "outputs": [
    {
     "name": "stdout",
     "output_type": "stream",
     "text": [
      "\tClassifying bouts of gait...\n"
     ]
    },
    {
     "name": "stderr",
     "output_type": "stream",
     "text": [
      "/Users/wangshuaibo/anaconda3/envs/GaitPy/lib/python3.6/site-packages/sklearn/base.py:306: UserWarning: Trying to unpickle estimator DecisionTreeClassifier from version 0.18.2 when using version 0.21.3. This might lead to breaking code or invalid results. Use at your own risk.\n",
      "  UserWarning)\n",
      "/Users/wangshuaibo/anaconda3/envs/GaitPy/lib/python3.6/site-packages/sklearn/base.py:306: UserWarning: Trying to unpickle estimator RandomForestClassifier from version 0.18.2 when using version 0.21.3. This might lead to breaking code or invalid results. Use at your own risk.\n",
      "  UserWarning)\n"
     ]
    },
    {
     "name": "stdout",
     "output_type": "stream",
     "text": [
      "\tBout classification complete!\n",
      "\n"
     ]
    }
   ],
   "source": [
    "#### Classify bouts of gait - Optional (use if your data consists of gait and non-gait periods)####\n",
    "gait_bouts = gaitpy.classify_bouts(result_file='demo_classify_bouts.h5')     # File to save results to (None by default)\n",
    "\n"
   ]
  },
  {
   "cell_type": "code",
   "execution_count": 7,
   "metadata": {},
   "outputs": [
    {
     "name": "stdout",
     "output_type": "stream",
     "text": [
      "\tExtracting features...\n"
     ]
    },
    {
     "ename": "UnboundLocalError",
     "evalue": "local variable 'current_ic' referenced before assignment",
     "output_type": "error",
     "traceback": [
      "\u001b[0;31m---------------------------------------------------------------------------\u001b[0m",
      "\u001b[0;31mUnboundLocalError\u001b[0m                         Traceback (most recent call last)",
      "\u001b[0;32m<ipython-input-7-2114e34b46ee>\u001b[0m in \u001b[0;36m<module>\u001b[0;34m\u001b[0m\n\u001b[1;32m      4\u001b[0m                                         \u001b[0msubject_height_units\u001b[0m\u001b[0;34m=\u001b[0m\u001b[0;34m'centimeter'\u001b[0m\u001b[0;34m,\u001b[0m            \u001b[0;31m# Units of subject height\u001b[0m\u001b[0;34m\u001b[0m\u001b[0;34m\u001b[0m\u001b[0m\n\u001b[1;32m      5\u001b[0m                                         \u001b[0mresult_file\u001b[0m\u001b[0;34m=\u001b[0m\u001b[0;34m'gait_features.csv'\u001b[0m\u001b[0;34m,\u001b[0m   \u001b[0;31m# File to save results to (None by default)\u001b[0m\u001b[0;34m\u001b[0m\u001b[0;34m\u001b[0m\u001b[0m\n\u001b[0;32m----> 6\u001b[0;31m                                         classified_gait=None)                   # Pandas Dataframe or .h5 file results of classify_bouts function (None by default)\n\u001b[0m",
      "\u001b[0;32m~/anaconda3/envs/GaitPy/lib/python3.6/site-packages/gaitpy-1.6.1-py3.6.egg/gaitpy/gait.py\u001b[0m in \u001b[0;36mextract_features\u001b[0;34m(self, subject_height, subject_height_units, sensor_height_ratio, result_file, classified_gait, ic_prom, fc_prom)\u001b[0m\n\u001b[1;32m    156\u001b[0m             \u001b[0;31m# Run gait cycle optimization procedure\u001b[0m\u001b[0;34m\u001b[0m\u001b[0;34m\u001b[0m\u001b[0;34m\u001b[0m\u001b[0m\n\u001b[1;32m    157\u001b[0m             \u001b[0mpd\u001b[0m\u001b[0;34m.\u001b[0m\u001b[0moptions\u001b[0m\u001b[0;34m.\u001b[0m\u001b[0mmode\u001b[0m\u001b[0;34m.\u001b[0m\u001b[0mchained_assignment\u001b[0m \u001b[0;34m=\u001b[0m \u001b[0;32mNone\u001b[0m\u001b[0;34m\u001b[0m\u001b[0;34m\u001b[0m\u001b[0m\n\u001b[0;32m--> 158\u001b[0;31m             \u001b[0moptimized_gait\u001b[0m \u001b[0;34m=\u001b[0m \u001b[0mutil\u001b[0m\u001b[0;34m.\u001b[0m\u001b[0m_optimization\u001b[0m\u001b[0;34m(\u001b[0m\u001b[0mbout_data\u001b[0m\u001b[0;34m[\u001b[0m\u001b[0;34m'ts'\u001b[0m\u001b[0;34m]\u001b[0m\u001b[0;34m,\u001b[0m \u001b[0mic_peaks\u001b[0m\u001b[0;34m,\u001b[0m \u001b[0mfc_peaks\u001b[0m\u001b[0;34m)\u001b[0m\u001b[0;34m\u001b[0m\u001b[0;34m\u001b[0m\u001b[0m\n\u001b[0m\u001b[1;32m    159\u001b[0m             \u001b[0;32mif\u001b[0m \u001b[0moptimized_gait\u001b[0m\u001b[0;34m.\u001b[0m\u001b[0mempty\u001b[0m \u001b[0;32mor\u001b[0m \u001b[0;36m1\u001b[0m \u001b[0;32mnot\u001b[0m \u001b[0;32min\u001b[0m \u001b[0mlist\u001b[0m\u001b[0;34m(\u001b[0m\u001b[0moptimized_gait\u001b[0m\u001b[0;34m.\u001b[0m\u001b[0mGait_Cycle\u001b[0m\u001b[0;34m)\u001b[0m\u001b[0;34m:\u001b[0m\u001b[0;34m\u001b[0m\u001b[0;34m\u001b[0m\u001b[0m\n\u001b[1;32m    160\u001b[0m                 \u001b[0;32mcontinue\u001b[0m\u001b[0;34m\u001b[0m\u001b[0;34m\u001b[0m\u001b[0m\n",
      "\u001b[0;32m~/anaconda3/envs/GaitPy/lib/python3.6/site-packages/gaitpy-1.6.1-py3.6.egg/gaitpy/util.py\u001b[0m in \u001b[0;36m_optimization\u001b[0;34m(timestamps, ic_peaks, fc_peaks)\u001b[0m\n\u001b[1;32m    184\u001b[0m     \u001b[0moptimized_gait\u001b[0m \u001b[0;34m=\u001b[0m \u001b[0mpd\u001b[0m\u001b[0;34m.\u001b[0m\u001b[0mDataFrame\u001b[0m\u001b[0;34m(\u001b[0m\u001b[0;34m[\u001b[0m\u001b[0;34m]\u001b[0m\u001b[0;34m)\u001b[0m\u001b[0;34m\u001b[0m\u001b[0;34m\u001b[0m\u001b[0m\n\u001b[1;32m    185\u001b[0m     \u001b[0;32mfor\u001b[0m \u001b[0mi\u001b[0m \u001b[0;32min\u001b[0m \u001b[0mrange\u001b[0m\u001b[0;34m(\u001b[0m\u001b[0;36m0\u001b[0m\u001b[0;34m,\u001b[0m \u001b[0mlen\u001b[0m\u001b[0;34m(\u001b[0m\u001b[0mic_times\u001b[0m\u001b[0;34m)\u001b[0m\u001b[0;34m)\u001b[0m\u001b[0;34m:\u001b[0m\u001b[0;34m\u001b[0m\u001b[0;34m\u001b[0m\u001b[0m\n\u001b[0;32m--> 186\u001b[0;31m         \u001b[0mloading_forward_max\u001b[0m \u001b[0;34m=\u001b[0m \u001b[0mcurrent_ic\u001b[0m \u001b[0;34m+\u001b[0m \u001b[0mpd\u001b[0m\u001b[0;34m.\u001b[0m\u001b[0mTimedelta\u001b[0m\u001b[0;34m(\u001b[0m\u001b[0mmilliseconds\u001b[0m\u001b[0;34m=\u001b[0m\u001b[0mfloat\u001b[0m\u001b[0;34m(\u001b[0m\u001b[0mloading_forward_fc\u001b[0m \u001b[0;34m*\u001b[0m \u001b[0;36m1000.\u001b[0m\u001b[0;34m)\u001b[0m\u001b[0;34m)\u001b[0m\u001b[0;34m\u001b[0m\u001b[0;34m\u001b[0m\u001b[0m\n\u001b[0m\u001b[1;32m    187\u001b[0m         \u001b[0mstance_forward_max\u001b[0m \u001b[0;34m=\u001b[0m \u001b[0mcurrent_ic\u001b[0m \u001b[0;34m+\u001b[0m \u001b[0mpd\u001b[0m\u001b[0;34m.\u001b[0m\u001b[0mTimedelta\u001b[0m\u001b[0;34m(\u001b[0m\u001b[0mmilliseconds\u001b[0m\u001b[0;34m=\u001b[0m\u001b[0mfloat\u001b[0m\u001b[0;34m(\u001b[0m\u001b[0mstance_forward_fc\u001b[0m \u001b[0;34m*\u001b[0m \u001b[0;36m1000.\u001b[0m\u001b[0;34m)\u001b[0m\u001b[0;34m)\u001b[0m\u001b[0;34m\u001b[0m\u001b[0;34m\u001b[0m\u001b[0m\n\u001b[1;32m    188\u001b[0m \u001b[0;34m\u001b[0m\u001b[0m\n",
      "\u001b[0;31mUnboundLocalError\u001b[0m: local variable 'current_ic' referenced before assignment"
     ]
    }
   ],
   "source": [
    "import gaitpy.util as util\n",
    "#### Extract gait characteristics ####\n",
    "gait_features = gaitpy.extract_features(subject_height,                               # Subject height\n",
    "                                        subject_height_units='centimeter',            # Units of subject height\n",
    "                                        result_file='gait_features.csv',   # File to save results to (None by default)\n",
    "                                        classified_gait=None)                   # Pandas Dataframe or .h5 file results of classify_bouts function (None by default)\n"
   ]
  },
  {
   "cell_type": "code",
   "execution_count": 19,
   "metadata": {},
   "outputs": [
    {
     "ename": "NameError",
     "evalue": "name 'gait_features' is not defined",
     "output_type": "error",
     "traceback": [
      "\u001b[0;31m---------------------------------------------------------------------------\u001b[0m",
      "\u001b[0;31mNameError\u001b[0m                                 Traceback (most recent call last)",
      "\u001b[0;32m<ipython-input-19-685e0deb43cb>\u001b[0m in \u001b[0;36m<module>\u001b[0;34m\u001b[0m\n\u001b[1;32m      1\u001b[0m \u001b[0;31m#### Plot results of gait feature extraction ####\u001b[0m\u001b[0;34m\u001b[0m\u001b[0;34m\u001b[0m\u001b[0;34m\u001b[0m\u001b[0m\n\u001b[0;32m----> 2\u001b[0;31m gaitpy.plot_contacts(gait_features,                                     # Pandas Dataframe or .csv file results of extract_features function\n\u001b[0m\u001b[1;32m      3\u001b[0m                      \u001b[0mresult_file\u001b[0m\u001b[0;34m=\u001b[0m\u001b[0;34m'plot_contacts.html)'\u001b[0m\u001b[0;34m,\u001b[0m      \u001b[0;31m# File to save results to (None by default)\u001b[0m\u001b[0;34m\u001b[0m\u001b[0;34m\u001b[0m\u001b[0m\n\u001b[1;32m      4\u001b[0m                      show_plot=True)  \n",
      "\u001b[0;31mNameError\u001b[0m: name 'gait_features' is not defined"
     ]
    }
   ],
   "source": [
    "\n",
    "#### Plot results of gait feature extraction ####\n",
    "gaitpy.plot_contacts(gait_features,                                     # Pandas Dataframe or .csv file results of extract_features function\n",
    "                     result_file='plot_contacts.html)',      # File to save results to (None by default)\n",
    "                     show_plot=True)  "
   ]
  },
  {
   "cell_type": "code",
   "execution_count": null,
   "metadata": {},
   "outputs": [],
   "source": []
  }
 ],
 "metadata": {
  "kernelspec": {
   "display_name": "gaitpy",
   "language": "python",
   "name": "python3"
  },
  "language_info": {
   "codemirror_mode": {
    "name": "ipython",
    "version": 3
   },
   "file_extension": ".py",
   "mimetype": "text/x-python",
   "name": "python",
   "nbconvert_exporter": "python",
   "pygments_lexer": "ipython3",
   "version": "3.6.13"
  },
  "orig_nbformat": 4,
  "vscode": {
   "interpreter": {
    "hash": "50f52e20dddd462e013b668dff1be3b9b57ab77ed7412257a665d7ddb4d5435b"
   }
  }
 },
 "nbformat": 4,
 "nbformat_minor": 2
}
