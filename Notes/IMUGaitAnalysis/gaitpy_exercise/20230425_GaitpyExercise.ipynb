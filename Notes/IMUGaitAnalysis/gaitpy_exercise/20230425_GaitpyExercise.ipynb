{
 "cells": [
  {
   "cell_type": "code",
   "execution_count": null,
   "metadata": {},
   "outputs": [],
   "source": []
  }
 ],
 "metadata": {
  "kernelspec": {
   "display_name": "GaitPy",
   "language": "python",
   "name": "python3"
  },
  "language_info": {
   "name": "python",
   "version": "3.6.13 |Anaconda, Inc.| (default, Feb 23 2021, 12:58:59) \n[GCC Clang 10.0.0 ]"
  },
  "orig_nbformat": 4,
  "vscode": {
   "interpreter": {
    "hash": "7eb6e7a2760c9df83d84862b4a1ac38b02bbb61584ac3587d2c4d183a35ac194"
   }
  }
 },
 "nbformat": 4,
 "nbformat_minor": 2
}
