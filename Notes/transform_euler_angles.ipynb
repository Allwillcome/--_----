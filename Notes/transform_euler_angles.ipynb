{
 "cells": [
  {
   "cell_type": "code",
   "execution_count": 1,
   "metadata": {},
   "outputs": [],
   "source": [
    "import numpy as np\n",
    "from scipy.spatial.transform import Rotation\n",
    "\n",
    "def transform_euler_angles(quaternion):\n",
    "    \"\"\"\n",
    "    使用四元数转换欧拉角，并将其转换为特定形式的欧拉角。\n",
    "    \n",
    "    Args:\n",
    "        quaternion (list): 长度为4的列表，表示四元数。\n",
    "    \n",
    "    Returns:\n",
    "        list: 长度为3的列表，表示经过转换的欧拉角。\n",
    "    \"\"\"\n",
    "    # 使用四元数转换欧拉角\n",
    "    rotation = Rotation.from_quat(quaternion)\n",
    "    euler_angles = rotation.as_euler(\"zyx\", degrees=True)\n",
    "    \n",
    "    # 将欧拉角转换为特定形式\n",
    "    # 仅使用 transform 转化，得到的数据不正确，需要进一步转化\n",
    "    # 第一个角度不需要变化，第二个角度前面加负数，第三个是和180互补加负数\n",
    "    transformed_angles = np.round([euler_angles[0], -euler_angles[1], -(180 - euler_angles[2])], 6)\n",
    "    \n",
    "    return transformed_angles"
   ]
  },
  {
   "cell_type": "code",
   "execution_count": null,
   "metadata": {},
   "outputs": [],
   "source": []
  }
 ],
 "metadata": {
  "kernelspec": {
   "display_name": "base",
   "language": "python",
   "name": "python3"
  },
  "language_info": {
   "codemirror_mode": {
    "name": "ipython",
    "version": 3
   },
   "file_extension": ".py",
   "mimetype": "text/x-python",
   "name": "python",
   "nbconvert_exporter": "python",
   "pygments_lexer": "ipython3",
   "version": "3.10.9 (main, Mar  1 2023, 12:33:47) [Clang 14.0.6 ]"
  },
  "orig_nbformat": 4,
  "vscode": {
   "interpreter": {
    "hash": "f0e6e5a6c366f0544d48e86b9538c9e2f921792a30284d93e80dad42978f2a5f"
   }
  }
 },
 "nbformat": 4,
 "nbformat_minor": 2
}
