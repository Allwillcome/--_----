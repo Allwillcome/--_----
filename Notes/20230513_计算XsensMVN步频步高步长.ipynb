{
 "cells": [
  {
   "attachments": {},
   "cell_type": "markdown",
   "metadata": {},
   "source": [
    "## 目的\n",
    "1. 计算左右跨步长\n",
    "2. 计算步频\n",
    "3. 计算步高"
   ]
  },
  {
   "cell_type": "code",
   "execution_count": 71,
   "metadata": {},
   "outputs": [],
   "source": [
    "from pathlib import Path\n",
    "import os\n",
    "import pandas as pd\n",
    "import matplotlib.pyplot as plt"
   ]
  },
  {
   "cell_type": "code",
   "execution_count": 35,
   "metadata": {},
   "outputs": [],
   "source": [
    "# 计算左右跨步长\n",
    "L_heel= 1157\n",
    "L_heel_again = 1285\n",
    "L_heel_again1 = 1414\n",
    "L_heel_events = [L_heel,L_heel_again,L_heel_again1]\n",
    "\n",
    "R_heel = 1226\n",
    "R_heel_again = 1350\n",
    "R_heel_agian1 = 1480\n",
    "R_heel_events = [R_heel,R_heel_again,R_heel_agian1]\n"
   ]
  },
  {
   "cell_type": "code",
   "execution_count": 5,
   "metadata": {},
   "outputs": [
    {
     "name": "stdout",
     "output_type": "stream",
     "text": [
      "当前路径为： C:\\Users\\76174\\Desktop\n"
     ]
    }
   ],
   "source": [
    "# 读取文件\n",
    "path = Path(input(\"请输入当前路径：\"))\n",
    "os.chdir(path)\n",
    "\n",
    "print(\"当前路径为：\", os.getcwd())"
   ]
  },
  {
   "cell_type": "code",
   "execution_count": 11,
   "metadata": {},
   "outputs": [
    {
     "data": {
      "text/plain": [
       "['General Information',\n",
       " 'Markers',\n",
       " 'Segment Orientation - Quat',\n",
       " 'Segment Orientation - Euler',\n",
       " 'Segment Position',\n",
       " 'Segment Velocity',\n",
       " 'Segment Acceleration',\n",
       " 'Segment Angular Velocity',\n",
       " 'Segment Angular Acceleration',\n",
       " 'Joint Angles ZXY',\n",
       " 'Joint Angles XZY',\n",
       " 'Ergonomic Joint Angles ZXY',\n",
       " 'Ergonomic Joint Angles XZY',\n",
       " 'Center of Mass',\n",
       " 'Sensor Free Acceleration',\n",
       " 'Sensor Magnetic Field',\n",
       " 'Sensor Orientation - Quat',\n",
       " 'Sensor Orientation - Euler']"
      ]
     },
     "execution_count": 11,
     "metadata": {},
     "output_type": "execute_result"
    }
   ],
   "source": [
    "filename = \"XH-001.xlsx\"\n",
    "excelfile = pd.ExcelFile(filename)\n",
    "sheetname = excelfile.sheet_names\n",
    "sheetname"
   ]
  },
  {
   "cell_type": "code",
   "execution_count": 59,
   "metadata": {},
   "outputs": [
    {
     "data": {
      "text/plain": [
       "Index(['Frame', 'Pelvis x', 'Pelvis y', 'Pelvis z', 'L5 x', 'L5 y', 'L5 z',\n",
       "       'L3 x', 'L3 y', 'L3 z', 'T12 x', 'T12 y', 'T12 z', 'T8 x', 'T8 y',\n",
       "       'T8 z', 'Neck x', 'Neck y', 'Neck z', 'Head x', 'Head y', 'Head z',\n",
       "       'Right Shoulder x', 'Right Shoulder y', 'Right Shoulder z',\n",
       "       'Right Upper Arm x', 'Right Upper Arm y', 'Right Upper Arm z',\n",
       "       'Right Forearm x', 'Right Forearm y', 'Right Forearm z', 'Right Hand x',\n",
       "       'Right Hand y', 'Right Hand z', 'Left Shoulder x', 'Left Shoulder y',\n",
       "       'Left Shoulder z', 'Left Upper Arm x', 'Left Upper Arm y',\n",
       "       'Left Upper Arm z', 'Left Forearm x', 'Left Forearm y',\n",
       "       'Left Forearm z', 'Left Hand x', 'Left Hand y', 'Left Hand z',\n",
       "       'Right Upper Leg x', 'Right Upper Leg y', 'Right Upper Leg z',\n",
       "       'Right Lower Leg x', 'Right Lower Leg y', 'Right Lower Leg z',\n",
       "       'Right Foot x', 'Right Foot y', 'Right Foot z', 'Right Toe x',\n",
       "       'Right Toe y', 'Right Toe z', 'Left Upper Leg x', 'Left Upper Leg y',\n",
       "       'Left Upper Leg z', 'Left Lower Leg x', 'Left Lower Leg y',\n",
       "       'Left Lower Leg z', 'Left Foot x', 'Left Foot y', 'Left Foot z',\n",
       "       'Left Toe x', 'Left Toe y', 'Left Toe z'],\n",
       "      dtype='object')"
      ]
     },
     "execution_count": 59,
     "metadata": {},
     "output_type": "execute_result"
    }
   ],
   "source": [
    "df = pd.read_excel(filename, sheet_name=\"Segment Position\")\n",
    "df.columns"
   ]
  },
  {
   "attachments": {},
   "cell_type": "markdown",
   "metadata": {},
   "source": [
    "## 计算左右步长"
   ]
  },
  {
   "cell_type": "code",
   "execution_count": 34,
   "metadata": {},
   "outputs": [
    {
     "name": "stdout",
     "output_type": "stream",
     "text": [
      "左脚步长为： 89.5\n",
      "右脚步长为： 88.6\n"
     ]
    }
   ],
   "source": [
    "# 获取每一次特征时刻对应的踝关节对应 X 数值\n",
    "\n",
    "L_stride_m = df.loc[L_heel_again,'Left Foot x'] - df.loc[L_heel,'Left Foot x']\n",
    "L_stride_cm = round(L_stride_m*100,1)\n",
    "print(\"左脚步长为：\", L_stride_cm)\n",
    "\n",
    "R_stride_m = df.loc[R_heel_again,\"Right Foot x\"]- df.loc[R_heel,\"Right Foot x\"]\n",
    "R_stride_cm = round(R_stride_m*100,1)\n",
    "print(\"右脚步长为：\", R_stride_cm)\n"
   ]
  },
  {
   "attachments": {},
   "cell_type": "markdown",
   "metadata": {},
   "source": [
    "## 计算步频"
   ]
  },
  {
   "cell_type": "code",
   "execution_count": null,
   "metadata": {},
   "outputs": [],
   "source": [
    "# 计算步频\n",
    "def cal_average_steps_time(heel_events, hartz = 100):\n",
    "    steps_time = [(heel_events[i+1]-heel_events[i])/hartz # 将帧数变为秒数\n",
    "                  for i in range(len(heel_events)-1)] # 使用列表推导生成数值\n",
    "    return sum(steps_time)/len(steps_time)\n",
    "\n",
    "# 计算左侧脚单步用时\n",
    "L_average_steps_time = cal_average_steps_time(L_heel_events)\n",
    "\n",
    "# 计算右侧脚单步用时\n",
    "R_average_steps_time = cal_average_steps_time(R_heel_events)\n",
    "\n",
    "# 计算左右脚平均值\n",
    "L_R_average_steps_time = (L_average_steps_time + R_average_steps_time)/2\n",
    "\n",
    "# 计算步频\n",
    "cadence = round(60 / L_R_average_steps_time * 2,0)\n",
    "print(\"当前步频为:\", cadence)"
   ]
  },
  {
   "attachments": {},
   "cell_type": "markdown",
   "metadata": {},
   "source": [
    "## 计算步高"
   ]
  },
  {
   "cell_type": "code",
   "execution_count": 68,
   "metadata": {},
   "outputs": [],
   "source": [
    "from scipy.signal import find_peaks"
   ]
  },
  {
   "cell_type": "code",
   "execution_count": 81,
   "metadata": {},
   "outputs": [
    {
     "data": {
      "text/plain": [
       "(array([1132, 1259, 1385, 1514], dtype=int64),\n",
       " {'peak_heights': array([0.18203461, 0.19352612, 0.19051134, 0.19754943])})"
      ]
     },
     "execution_count": 81,
     "metadata": {},
     "output_type": "execute_result"
    }
   ],
   "source": [
    "find_peaks(df[\"Left Foot z\"],height=0.16)"
   ]
  },
  {
   "cell_type": "code",
   "execution_count": 100,
   "metadata": {},
   "outputs": [
    {
     "data": {
      "text/plain": [
       "<matplotlib.collections.PathCollection at 0x1abf1b69b50>"
      ]
     },
     "execution_count": 100,
     "metadata": {},
     "output_type": "execute_result"
    },
    {
     "data": {
      "image/png": "[encoded data removed]",
      "text/plain": [
       "<Figure size 640x480 with 1 Axes>"
      ]
     },
     "metadata": {},
     "output_type": "display_data"
    }
   ],
   "source": [
    "L_peaks, L_peak_heights = find_peaks(df.loc[0:1514,\"Left Foot z\"],height=0.16)\n",
    "df[\"Left Foot z\"].plot()\n",
    "plt.scatter(L_peaks, df.loc[L_peaks,\"Left Foot z\"], color = \"red\")\n",
    "\n",
    "R_peaks, R_peak_heights = find_peaks(df.loc[0:1579,\"Right Foot z\"],height=(0.14,0.25))\n",
    "df[\"Right Foot z\"].plot()\n",
    "plt.scatter(R_peaks, df.loc[R_peaks,\"Right Foot z\"], color=\"green\")"
   ]
  },
  {
   "cell_type": "code",
   "execution_count": 102,
   "metadata": {},
   "outputs": [],
   "source": [
    "import numpy as np"
   ]
  },
  {
   "cell_type": "code",
   "execution_count": 139,
   "metadata": {},
   "outputs": [
    {
     "name": "stdout",
     "output_type": "stream",
     "text": [
      "右侧步高为：12.5 cm\n",
      "左侧步高为：10.0 cm\n"
     ]
    }
   ],
   "source": [
    "base_height = df[\"Left Foot z\"].loc[2000] * 100\n",
    "\n",
    "R_step_height = np.array(R_peak_heights[\"peak_heights\"]).mean()\n",
    "L_step_height = np.array(L_peak_heights[\"peak_heights\"]).mean()\n",
    "print(f\"右侧步高为：{R_step_height*100-base_height:.1f} cm\")\n",
    "print(f\"左侧步高为：{L_step_height*100-base_height:.1f} cm\")"
   ]
  },
  {
   "attachments": {},
   "cell_type": "markdown",
   "metadata": {},
   "source": [
    "## Todo\n",
    "1. 需要能够自行选择查找峰值时的高度，以及峰值的个数\n",
    "2. 需要合理定义base—height的高度\n",
    "3. 需要自动查找左右脚着地的特征时刻\n",
    "4. 需要自动查找左右脚离地的特征时刻\n",
    "    1. 需要绘制支撑期、摆动期的数据"
   ]
  }
 ],
 "metadata": {
  "kernelspec": {
   "display_name": "GaitPy",
   "language": "python",
   "name": "python3"
  },
  "language_info": {
   "codemirror_mode": {
    "name": "ipython",
    "version": 3
   },
   "file_extension": ".py",
   "mimetype": "text/x-python",
   "name": "python",
   "nbconvert_exporter": "python",
   "pygments_lexer": "ipython3",
   "version": "3.6.13"
  },
  "orig_nbformat": 4,
  "vscode": {
   "interpreter": {
    "hash": "7eb6e7a2760c9df83d84862b4a1ac38b02bbb61584ac3587d2c4d183a35ac194"
   }
  }
 },
 "nbformat": 4,
 "nbformat_minor": 2
}
