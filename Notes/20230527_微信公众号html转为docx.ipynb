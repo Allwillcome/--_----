{
 "cells": [
  {
   "cell_type": "code",
   "execution_count": 3,
   "metadata": {},
   "outputs": [
    {
     "name": "stdout",
     "output_type": "stream",
     "text": [
      "所有 HTML 文件已经转换为 Word 文档并保存到指定目录中。\n"
     ]
    }
   ],
   "source": [
    "import os\n",
    "from bs4 import BeautifulSoup\n",
    "from docx import Document\n",
    "from docx.shared import Inches\n",
    "from urllib.request import urlopen\n",
    "\n",
    "# 定义 HTML 文件目录和 Word 文件目录\n",
    "html_dir = \"/Users/wangshuaibo/Documents/ScriptsofShuai/Notes/ExampleData/HeyHerosWeChat/html\"\n",
    "docx_dir = html_dir\n",
    "\n",
    "# 遍历 HTML 文件目录中的所有文件\n",
    "for filename in os.listdir(html_dir):\n",
    "    if filename.endswith(\".html\"):\n",
    "        # 读取 HTML 文件内容\n",
    "        with open(os.path.join(html_dir, filename), \"r\") as f:\n",
    "            html = f.read()\n",
    "\n",
    "        # 使用 BeautifulSoup 解析 HTML\n",
    "        soup = BeautifulSoup(html, \"html.parser\")\n",
    "\n",
    "        # 创建 Word 文档\n",
    "        doc = Document()\n",
    "\n",
    "        # 遍历 HTML 中的所有图片，并将其添加到 Word 文档中\n",
    "        for img in soup.find_all(\"img\"):\n",
    "            # 获取图片 URL\n",
    "            if \"src\" in img.attrs:\n",
    "                src = img[\"src\"]\n",
    "            else:\n",
    "                continue\n",
    "\n",
    "        # 下载图片并保存到本地文件\n",
    "        with urlopen(src) as u:\n",
    "            with open(\"temp.jpg\", \"wb\") as f:\n",
    "                f.write(u.read())\n",
    "\n",
    "            # 将本地文件路径添加到 Word 文档中\n",
    "        doc.add_picture(\"temp.jpg\", width=Inches(6))\n",
    "\n",
    "        # 将 HTML 中的文本内容添加到 Word 文档中\n",
    "        for p in soup.find_all(\"p\"):\n",
    "            doc.add_paragraph(p.text)\n",
    "\n",
    "\n",
    "        # 保存 Word 文档\n",
    "        doc.save(os.path.join(docx_dir, filename[:-5] + \".docx\"))\n",
    "\n",
    "print(\"所有 HTML 文件已经转换为 Word 文档并保存到指定目录中。\")"
   ]
  },
  {
   "cell_type": "code",
   "execution_count": null,
   "metadata": {},
   "outputs": [],
   "source": []
  }
 ],
 "metadata": {
  "kernelspec": {
   "display_name": "base",
   "language": "python",
   "name": "python3"
  },
  "language_info": {
   "codemirror_mode": {
    "name": "ipython",
    "version": 3
   },
   "file_extension": ".py",
   "mimetype": "text/x-python",
   "name": "python",
   "nbconvert_exporter": "python",
   "pygments_lexer": "ipython3",
   "version": "3.10.11 (main, Apr 20 2023, 13:59:00) [Clang 14.0.6 ]"
  },
  "orig_nbformat": 4,
  "vscode": {
   "interpreter": {
    "hash": "f0e6e5a6c366f0544d48e86b9538c9e2f921792a30284d93e80dad42978f2a5f"
   }
  }
 },
 "nbformat": 4,
 "nbformat_minor": 2
}
