{
 "cells": [
  {
   "cell_type": "code",
   "execution_count": 1,
   "metadata": {},
   "outputs": [],
   "source": [
    "import os\n",
    "import pandas as pd\n",
    "from pandas.testing import assert_frame_equal\n",
    "import warnings\n",
    "warnings.simplefilter(action='ignore', category=FutureWarning)\n",
    "warnings.simplefilter(action='ignore', category=UserWarning)\n",
    "import numpy as np\n",
    "import time\n",
    "# 修改为当前的函数\n",
    "from gait import *"
   ]
  },
  {
   "cell_type": "code",
   "execution_count": 108,
   "metadata": {},
   "outputs": [],
   "source": [
    "import importlib\n",
    "import gait\n",
    "\n",
    "# 修改了 gait 模块中的函数和变量\n",
    "importlib.reload(gait)\n",
    "from gait import *"
   ]
  },
  {
   "cell_type": "code",
   "execution_count": 100,
   "metadata": {},
   "outputs": [],
   "source": [
    "def run_gaitpy(src, sample_rate, subject_height, dst):\n",
    "    # Load/format data\n",
    "    # 下面两行是 Github 网页上没有给出的两行数据\n",
    "    raw_data = pd.read_csv(src, skiprows=99, names=['timestamps', 'x', 'y', 'z'], usecols=[0, 1, 2, 3])\n",
    "    raw_data['unix_timestamps'] = pd.to_datetime(raw_data.timestamps, format=\"%Y-%m-%d %H:%M:%S:%f\").values.astype(np.int64) // 10**6\n",
    "\n",
    "    ### Create an instance of GaitPy ###\n",
    "    gaitpy = Gaitpy(raw_data,\n",
    "                    sample_rate,\n",
    "                    v_acc_col_name='y',\n",
    "                    ts_col_name='unix_timestamps',\n",
    "                    v_acc_units='g',\n",
    "                    ts_units='ms',\n",
    "                    flip=False)\n",
    "    \n",
    "    #### Classify bouts of gait ####\n",
    "    # @阿帅批：注释掉分类\n",
    "    # gait_bouts = gaitpy.classify_bouts(result_file=os.path.join(dst,'classify_bouts.h5'))\n",
    "    gait_bouts = \"/Users/wangshuaibo/Documents/ScriptsofShuai/Notes/IMUStepAnalysis/gaitpy/gaitpy/demo/demo_classify_bouts.h5\"\n",
    "    \n",
    "    #### Extract gait characteristics #### \n",
    "    # 出错在下面的位置\n",
    "    gait_features = gaitpy.extract_features(subject_height,\n",
    "                                            subject_height_units='centimeters',\n",
    "                                            result_file=os.path.join(dst,'gait_features.csv'),\n",
    "                                            classified_gait=gait_bouts)\n",
    "    \n",
    "    #### Plot results of gait feature extraction ####\n",
    "    gaitpy.plot_contacts(gait_features, result_file=os.path.join(dst, 'plot_contacts.html'), show_plot=False)\n",
    "\n"
   ]
  },
  {
   "cell_type": "code",
   "execution_count": 101,
   "metadata": {},
   "outputs": [],
   "source": [
    "def run_demo(dst):\n",
    "    # Set source and destination directories\n",
    "    __file__ = \"Demo.py\"\n",
    "    src = __file__.split(\".py\")[0] + \"_data.csv\" #官方本来的代码\n",
    "    #dst = input(\"Please provide a path to a results directory:    \")\n",
    "    while not os.path.isdir(dst):\n",
    "        dst = input(\n",
    "            \"\\nYour previous entry was not appropriate.\"\n",
    "            \"\\nIt should follow a format similar to /Users/username/Desktop/Results\"\n",
    "            \"\\nPlease provide a path to a results directory:    \"\n",
    "        )\n",
    "\n",
    "    # Run gaitpy\n",
    "    st = time.time()\n",
    "    try:\n",
    "        sample_rate = 50  # hertz\n",
    "        subject_height = 177  # centimeters\n",
    "        # @阿帅批：运行run_gaitpy 代码\n",
    "        run_gaitpy(src, sample_rate, subject_height, dst)\n",
    "    except Exception as e:\n",
    "        print(\"Error processing: {}\\nError: {}\".format(src, e))\n",
    "    stp = time.time()\n",
    "    print(\"total run time: {} seconds\".format(round(stp-st, 2)))\n",
    "\n",
    "    # Confirm expected results\n",
    "    print(\"Checking extract_features endpoints...\")\n",
    "    # @阿帅批：预期 gait_features 是官方的实例\n",
    "    expected_gait_features = pd.read_csv(__file__.split(\".py\")[0] + '_gait_features.csv')\n",
    "    # @阿帅批：obtained gait_features 是自己运行官方 demo 得到的数据\n",
    "    obtained_gait_features = pd.read_csv(os.path.join(dst, 'gait_features.csv'))\n",
    "    # @阿帅批：检查自己生成的 gait_features 和 demo_gait_features 是否相同\n",
    "    assert_frame_equal(expected_gait_features, obtained_gait_features)\n",
    "    # 检测步态分类生成数据和官方 Demo 数据是否一致\n",
    "    print(\"Checking classify_bouts endpoints...\")\n",
    "    expected_classify_bouts = pd.read_hdf(__file__.split(\".py\")[0] + '_classify_bouts.h5')\n",
    "    obtained_classify_bouts = pd.read_hdf(os.path.join(dst, 'classify_bouts.h5'))\n",
    "    assert_frame_equal(expected_classify_bouts, obtained_classify_bouts)\n",
    "    print(\"All tests passed\")\n"
   ]
  },
  {
   "cell_type": "code",
   "execution_count": 2,
   "metadata": {},
   "outputs": [],
   "source": [
    "dst = \"/Users/wangshuaibo/Documents/ScriptsofShuai/Notes/IMUStepAnalysis/ShuaiGaitpy/DIYData\""
   ]
  },
  {
   "cell_type": "code",
   "execution_count": 104,
   "metadata": {},
   "outputs": [
    {
     "name": "stdout",
     "output_type": "stream",
     "text": [
      "\tExtracting features...\n",
      "\tFeature extraction complete!\n",
      "\n",
      "\tPlotting contacts...\n",
      "\tPlot complete!\n",
      "\n",
      "total run time: 0.63 seconds\n",
      "Checking extract_features endpoints...\n",
      "Checking classify_bouts endpoints...\n",
      "All tests passed\n"
     ]
    }
   ],
   "source": [
    "run_demo(dst)"
   ]
  },
  {
   "cell_type": "code",
   "execution_count": 3,
   "metadata": {},
   "outputs": [
    {
     "name": "stdout",
     "output_type": "stream",
     "text": [
      "\tClassifying bouts of gait...\n",
      "\tBout classification complete!\n",
      "\n"
     ]
    }
   ],
   "source": [
    "__file__ = \"Demo.py\"\n",
    "src = __file__.split(\".py\")[0] + \"_data.csv\" \n",
    "raw_data = pd.read_csv(src, skiprows=99, names=['timestamps', 'x', 'y', 'z'], usecols=[0, 1, 2, 3])\n",
    "raw_data['unix_timestamps'] = pd.to_datetime(raw_data.timestamps, format=\"%Y-%m-%d %H:%M:%S:%f\").values.astype(np.int64) // 10**6\n",
    "sample_rate = 50 \n",
    "gaitpy = Gaitpy(raw_data,\n",
    "                sample_rate,\n",
    "                v_acc_col_name='y',\n",
    "                ts_col_name='unix_timestamps',\n",
    "                v_acc_units='g',\n",
    "                ts_units='ms',\n",
    "                flip=False)\n",
    "\n",
    "#### Classify bouts of gait ####\n",
    "# @阿帅批：注释掉分类\n",
    "gait_bouts = gaitpy.classify_bouts(result_file=os.path.join(dst,'classify_bouts.h5'))"
   ]
  },
  {
   "cell_type": "code",
   "execution_count": null,
   "metadata": {},
   "outputs": [],
   "source": []
  }
 ],
 "metadata": {
  "kernelspec": {
   "display_name": "ShuaiGaitpy",
   "language": "python",
   "name": "python3"
  },
  "language_info": {
   "codemirror_mode": {
    "name": "ipython",
    "version": 3
   },
   "file_extension": ".py",
   "mimetype": "text/x-python",
   "name": "python",
   "nbconvert_exporter": "python",
   "pygments_lexer": "ipython3",
   "version": "3.6.13"
  },
  "orig_nbformat": 4,
  "vscode": {
   "interpreter": {
    "hash": "9df516ed98b28225425cbe0987ff752359c90bb0a7a0364f084f303d6f46b77f"
   }
  }
 },
 "nbformat": 4,
 "nbformat_minor": 2
}
