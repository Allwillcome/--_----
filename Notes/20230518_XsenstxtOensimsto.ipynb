{
 "cells": [
  {
   "attachments": {},
   "cell_type": "markdown",
   "metadata": {},
   "source": [
    "完成从 Xsens txt 文件到 OpenSim .sto 文件转换"
   ]
  },
  {
   "cell_type": "code",
   "execution_count": 1,
   "metadata": {},
   "outputs": [
    {
     "name": "stdout",
     "output_type": "stream",
     "text": [
      "文件共包含 0 行\n"
     ]
    },
    {
     "ename": "NameError",
     "evalue": "name 'metadata_row_num' is not defined",
     "output_type": "error",
     "traceback": [
      "\u001b[0;31m---------------------------------------------------------------------------\u001b[0m",
      "\u001b[0;31mNameError\u001b[0m                                 Traceback (most recent call last)",
      "Cell \u001b[0;32mIn[1], line 25\u001b[0m\n\u001b[1;32m     23\u001b[0m total_cout \u001b[39m=\u001b[39m count\n\u001b[1;32m     24\u001b[0m \u001b[39mprint\u001b[39m(\u001b[39mf\u001b[39m\u001b[39m\"\u001b[39m\u001b[39m文件共包含 \u001b[39m\u001b[39m{\u001b[39;00mtotal_cout\u001b[39m}\u001b[39;00m\u001b[39m 行\u001b[39m\u001b[39m\"\u001b[39m)\n\u001b[0;32m---> 25\u001b[0m \u001b[39mprint\u001b[39m(\u001b[39mf\u001b[39m\u001b[39m\"\u001b[39m\u001b[39m头文件包含在前 \u001b[39m\u001b[39m{\u001b[39;00mmetadata_row_num\u001b[39m}\u001b[39;00m\u001b[39m 行\u001b[39m\u001b[39m\"\u001b[39m)\n\u001b[1;32m     26\u001b[0m \u001b[39mprint\u001b[39m(\u001b[39mf\u001b[39m\u001b[39m\"\u001b[39m\u001b[39m头文件为：\u001b[39m\u001b[39m{\u001b[39;00mmetadata\u001b[39m}\u001b[39;00m\u001b[39m\"\u001b[39m)\n\u001b[1;32m     28\u001b[0m \u001b[39m# 验证 sto 中的数据类型\u001b[39;00m\n",
      "\u001b[0;31mNameError\u001b[0m: name 'metadata_row_num' is not defined"
     ]
    }
   ],
   "source": [
    "# 查看包含四元数的 .sto 数据\n",
    "import os\n",
    "filename = \"/Users/wangshuaibo/Library/CloudStorage/OneDrive-bsu.edu.cn/Archive/代码_OpenSense/OpenSense_Python/OpenSenseExample/OpenSenseExample_Modified/MT_012005D6_009-001_orientations.sto\"\n",
    "\n",
    "with open(filename, \"r\") as f:\n",
    "    count = 0\n",
    "    for line in f:\n",
    "        count +=1\n",
    "        if \"enddata\" in line:\n",
    "            metadata_row_num = count\n",
    "\n",
    "    metadata = []   \n",
    "    count = 0\n",
    "    for line in f:\n",
    "        count += 1\n",
    "        if count<metadata_row_num:\n",
    "            print(line)\n",
    "            metadata.append(line)\n",
    "        \n",
    "        if count==7:\n",
    "            test_data= line\n",
    "    \n",
    "total_cout = count\n",
    "print(f\"文件共包含 {total_cout} 行\")\n",
    "print(f\"头文件包含在前 {metadata_row_num} 行\")\n",
    "print(f\"头文件为：{metadata}\")\n",
    "\n",
    "# 验证 sto 中的数据类型\n",
    "print(f\".sto中的内容同样为字符串{type(test_data[0])}\")\n",
    "# 查看 sto 中的数据格式\n",
    "print(f\".sto 的格式为:\\n{repr(test_data)}\")\n"
   ]
  },
  {
   "cell_type": "code",
   "execution_count": 2,
   "metadata": {},
   "outputs": [
    {
     "name": "stdout",
     "output_type": "stream",
     "text": [
      "'0,1,2,3\\t4,5,6,7\\t8,9,10,11,12\\n'\n"
     ]
    },
    {
     "data": {
      "text/plain": [
       "str"
      ]
     },
     "execution_count": 2,
     "metadata": {},
     "output_type": "execute_result"
    }
   ],
   "source": [
    "# 定义演示数据\n",
    "import pandas as pd\n",
    "columns = [\"time\"] + [segment + quat for segment in [\"Pelvis\",\"Leg\",\"Arm\"] for quat in [\"_q0\",\"_q1\",\"_q2\",\"_q3\"]]\n",
    "df = pd.DataFrame([[0,1,2,3,4,5,6,7,8,9,10,11,12],\n",
    "                   [0,2,2,3,4,5,6,7,8,9,10,11,12]],\n",
    "                  columns=columns)\n",
    "# 定义一个函数，用于将每个分组的数据转换为字符串列表\n",
    "def join_quaternions(group):\n",
    "    return ','.join(map(str, group.values.tolist()[0]))\n",
    "\n",
    "# 按 segment 分组\n",
    "pelvis_group = df[columns[:4]]\n",
    "leg_group = df[columns[4:8]]\n",
    "arm_group = df[columns[8:]]\n",
    "\n",
    "# 将每个分组的数据转换为字符串列表\n",
    "pelvis_string = join_quaternions(pelvis_group)\n",
    "leg_string = join_quaternions(leg_group)\n",
    "arm_string = join_quaternions(arm_group)\n",
    "\n",
    "# 将所有分组的字符串用 `\\t` 连接\n",
    "result = f\"{pelvis_string}\\t{leg_string}\\t{arm_string}\\n\"\n",
    "print(repr(result))\n",
    "type(pelvis_string)\n"
   ]
  },
  {
   "cell_type": "code",
   "execution_count": 3,
   "metadata": {},
   "outputs": [],
   "source": [
    "# 转换为 opensim 格式\n",
    "line_len = (df.shape[1]+1) * 2\n",
    "\n",
    "def line_df_to_sto(line_len,row=0):\n",
    "    line = [None] * line_len\n",
    "    for i in range(line_len):\n",
    "        # 此处也需要修改\n",
    "        line[0] = df.iloc[row,0]\n",
    "        if i%2 != 0 and (i-1)%8 != 0:\n",
    "            line[i] = \",\"\n",
    "        elif (i-1)%8 == 0:\n",
    "            line[i] = \"\\t\"\n",
    "        elif i != 0 :\n",
    "            #print(i)\n",
    "            line[i] = df.iloc[row,int(i/2-1)]\n",
    "\n",
    "    # 将列表转换为字符串\n",
    "    result = \"\"\n",
    "    for n in line:\n",
    "        result += str(n)\n",
    "    return result.strip(\"\\t\") + \"\\n\"\n"
   ]
  },
  {
   "cell_type": "code",
   "execution_count": 4,
   "metadata": {},
   "outputs": [],
   "source": [
    "harzt = 100\n",
    "# 将hartz 填入表头\n",
    "metadata = f'''DataRate={harzt:.6f}\n",
    "DataType=Quaternion\n",
    "version=3\n",
    "OpenSimVersion=4.4-2022-10-11-798caa8\n",
    "endheader'''\n",
    "\n",
    "header_list = [\"time\"] + [segment+\"_imu\" for segment in [\"Pelvis\",\"Leg\",\"Arm\"]]\n",
    "header_str = \"\\t\".join(header_list) + \"\\n\"\n"
   ]
  },
  {
   "cell_type": "code",
   "execution_count": 5,
   "metadata": {},
   "outputs": [],
   "source": [
    "with open(\"test_quat.sto\", \"w\") as f:\n",
    "    # 先写属性信息\n",
    "    f.write(metadata)\n",
    "    f.write(header_str)\n",
    "    for j in range(df.shape[0]):\n",
    "        sto_line = line_df_to_sto(line_len,row=j)\n",
    "        f.write(sto_line)\n",
    "    "
   ]
  },
  {
   "cell_type": "code",
   "execution_count": null,
   "metadata": {},
   "outputs": [],
   "source": []
  }
 ],
 "metadata": {
  "kernelspec": {
   "display_name": "base",
   "language": "python",
   "name": "python3"
  },
  "language_info": {
   "codemirror_mode": {
    "name": "ipython",
    "version": 3
   },
   "file_extension": ".py",
   "mimetype": "text/x-python",
   "name": "python",
   "nbconvert_exporter": "python",
   "pygments_lexer": "ipython3",
   "version": "3.10.9 (main, Mar  1 2023, 12:33:47) [Clang 14.0.6 ]"
  },
  "orig_nbformat": 4,
  "vscode": {
   "interpreter": {
    "hash": "f0e6e5a6c366f0544d48e86b9538c9e2f921792a30284d93e80dad42978f2a5f"
   }
  }
 },
 "nbformat": 4,
 "nbformat_minor": 2
}
