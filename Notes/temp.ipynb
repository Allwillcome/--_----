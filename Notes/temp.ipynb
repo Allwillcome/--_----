{
 "cells": [
  {
   "cell_type": "code",
   "execution_count": 16,
   "metadata": {},
   "outputs": [],
   "source": [
    "import os\n",
    "import pandas as pd"
   ]
  },
  {
   "cell_type": "code",
   "execution_count": 14,
   "metadata": {},
   "outputs": [],
   "source": [
    "path = \"/Users/wangshuaibo/Documents/ScriptsofShuai/gaitpy_exercise/\"\n",
    "os.chdir(path)"
   ]
  },
  {
   "cell_type": "code",
   "execution_count": 15,
   "metadata": {},
   "outputs": [],
   "source": [
    "xsens_file = \"20230413跺脚走6步路测试-XsensMVN.xlsx\""
   ]
  },
  {
   "cell_type": "code",
   "execution_count": 17,
   "metadata": {},
   "outputs": [],
   "source": [
    "excelfile = pd.ExcelFile(xsens_file)"
   ]
  },
  {
   "cell_type": "code",
   "execution_count": 21,
   "metadata": {},
   "outputs": [
    {
     "data": {
      "text/plain": [
       "['General Information',\n",
       " 'Markers',\n",
       " 'Segment Orientation - Quat',\n",
       " 'Segment Orientation - Euler',\n",
       " 'Segment Position',\n",
       " 'Segment Velocity',\n",
       " 'Segment Acceleration',\n",
       " 'Segment Angular Velocity',\n",
       " 'Segment Angular Acceleration',\n",
       " 'Joint Angles ZXY',\n",
       " 'Joint Angles XZY',\n",
       " 'Ergonomic Joint Angles ZXY',\n",
       " 'Ergonomic Joint Angles XZY',\n",
       " 'Center of Mass',\n",
       " 'Sensor Free Acceleration',\n",
       " 'Sensor Magnetic Field',\n",
       " 'Sensor Orientation - Quat',\n",
       " 'Sensor Orientation - Euler']"
      ]
     },
     "execution_count": 21,
     "metadata": {},
     "output_type": "execute_result"
    }
   ],
   "source": [
    "sheetnames = excelfile.sheet_names\n",
    "sheetnames"
   ]
  },
  {
   "cell_type": "code",
   "execution_count": 22,
   "metadata": {},
   "outputs": [],
   "source": [
    "df = pd.read_excel(xsens_file,sheet_name='Sensor Free Acceleration')"
   ]
  },
  {
   "cell_type": "code",
   "execution_count": 23,
   "metadata": {},
   "outputs": [
    {
     "data": {
      "text/html": [
       "<div>\n",
       "<style scoped>\n",
       "    .dataframe tbody tr th:only-of-type {\n",
       "        vertical-align: middle;\n",
       "    }\n",
       "\n",
       "    .dataframe tbody tr th {\n",
       "        vertical-align: top;\n",
       "    }\n",
       "\n",
       "    .dataframe thead th {\n",
       "        text-align: right;\n",
       "    }\n",
       "</style>\n",
       "<table border=\"1\" class=\"dataframe\">\n",
       "  <thead>\n",
       "    <tr style=\"text-align: right;\">\n",
       "      <th></th>\n",
       "      <th>Frame</th>\n",
       "      <th>Pelvis x</th>\n",
       "      <th>Pelvis y</th>\n",
       "      <th>Pelvis z</th>\n",
       "      <th>L5 x</th>\n",
       "      <th>L5 y</th>\n",
       "      <th>L5 z</th>\n",
       "      <th>L3 x</th>\n",
       "      <th>L3 y</th>\n",
       "      <th>L3 z</th>\n",
       "      <th>T12 x</th>\n",
       "      <th>T12 y</th>\n",
       "      <th>T12 z</th>\n",
       "      <th>T8 x</th>\n",
       "      <th>T8 y</th>\n",
       "      <th>T8 z</th>\n",
       "      <th>Neck x</th>\n",
       "      <th>Neck y</th>\n",
       "      <th>Neck z</th>\n",
       "      <th>Head x</th>\n",
       "      <th>Head y</th>\n",
       "      <th>Head z</th>\n",
       "      <th>Right Shoulder x</th>\n",
       "      <th>Right Shoulder y</th>\n",
       "      <th>Right Shoulder z</th>\n",
       "      <th>Right Upper Arm x</th>\n",
       "      <th>Right Upper Arm y</th>\n",
       "      <th>Right Upper Arm z</th>\n",
       "      <th>Right Forearm x</th>\n",
       "      <th>Right Forearm y</th>\n",
       "      <th>Right Forearm z</th>\n",
       "      <th>Right Hand x</th>\n",
       "      <th>Right Hand y</th>\n",
       "      <th>Right Hand z</th>\n",
       "      <th>Left Shoulder x</th>\n",
       "      <th>Left Shoulder y</th>\n",
       "      <th>Left Shoulder z</th>\n",
       "      <th>Left Upper Arm x</th>\n",
       "      <th>Left Upper Arm y</th>\n",
       "      <th>Left Upper Arm z</th>\n",
       "      <th>Left Forearm x</th>\n",
       "      <th>Left Forearm y</th>\n",
       "      <th>Left Forearm z</th>\n",
       "      <th>Left Hand x</th>\n",
       "      <th>Left Hand y</th>\n",
       "      <th>Left Hand z</th>\n",
       "      <th>Right Upper Leg x</th>\n",
       "      <th>Right Upper Leg y</th>\n",
       "      <th>Right Upper Leg z</th>\n",
       "      <th>Right Lower Leg x</th>\n",
       "      <th>Right Lower Leg y</th>\n",
       "      <th>Right Lower Leg z</th>\n",
       "      <th>Right Foot x</th>\n",
       "      <th>Right Foot y</th>\n",
       "      <th>Right Foot z</th>\n",
       "      <th>Right Toe x</th>\n",
       "      <th>Right Toe y</th>\n",
       "      <th>Right Toe z</th>\n",
       "      <th>Left Upper Leg x</th>\n",
       "      <th>Left Upper Leg y</th>\n",
       "      <th>Left Upper Leg z</th>\n",
       "      <th>Left Lower Leg x</th>\n",
       "      <th>Left Lower Leg y</th>\n",
       "      <th>Left Lower Leg z</th>\n",
       "      <th>Left Foot x</th>\n",
       "      <th>Left Foot y</th>\n",
       "      <th>Left Foot z</th>\n",
       "      <th>Left Toe x</th>\n",
       "      <th>Left Toe y</th>\n",
       "      <th>Left Toe z</th>\n",
       "    </tr>\n",
       "  </thead>\n",
       "  <tbody>\n",
       "    <tr>\n",
       "      <th>0</th>\n",
       "      <td>0</td>\n",
       "      <td>-0.008742</td>\n",
       "      <td>0.019561</td>\n",
       "      <td>-0.011491</td>\n",
       "      <td>0</td>\n",
       "      <td>0</td>\n",
       "      <td>0</td>\n",
       "      <td>0</td>\n",
       "      <td>0</td>\n",
       "      <td>0</td>\n",
       "      <td>0</td>\n",
       "      <td>0</td>\n",
       "      <td>0</td>\n",
       "      <td>0</td>\n",
       "      <td>0</td>\n",
       "      <td>0</td>\n",
       "      <td>0</td>\n",
       "      <td>0</td>\n",
       "      <td>0</td>\n",
       "      <td>0</td>\n",
       "      <td>0</td>\n",
       "      <td>0</td>\n",
       "      <td>0</td>\n",
       "      <td>0</td>\n",
       "      <td>0</td>\n",
       "      <td>0</td>\n",
       "      <td>0</td>\n",
       "      <td>0</td>\n",
       "      <td>0</td>\n",
       "      <td>0</td>\n",
       "      <td>0</td>\n",
       "      <td>0</td>\n",
       "      <td>0</td>\n",
       "      <td>0</td>\n",
       "      <td>0</td>\n",
       "      <td>0</td>\n",
       "      <td>0</td>\n",
       "      <td>0</td>\n",
       "      <td>0</td>\n",
       "      <td>0</td>\n",
       "      <td>0</td>\n",
       "      <td>0</td>\n",
       "      <td>0</td>\n",
       "      <td>0</td>\n",
       "      <td>0</td>\n",
       "      <td>0</td>\n",
       "      <td>-0.022198</td>\n",
       "      <td>0.031928</td>\n",
       "      <td>0.015490</td>\n",
       "      <td>-0.030291</td>\n",
       "      <td>0.027199</td>\n",
       "      <td>0.012673</td>\n",
       "      <td>-0.020481</td>\n",
       "      <td>-0.033793</td>\n",
       "      <td>0.004478</td>\n",
       "      <td>0</td>\n",
       "      <td>0</td>\n",
       "      <td>0</td>\n",
       "      <td>0.002913</td>\n",
       "      <td>0.018390</td>\n",
       "      <td>-0.013239</td>\n",
       "      <td>-0.005245</td>\n",
       "      <td>0.010545</td>\n",
       "      <td>-0.000286</td>\n",
       "      <td>0.014797</td>\n",
       "      <td>-0.006973</td>\n",
       "      <td>0.026653</td>\n",
       "      <td>0</td>\n",
       "      <td>0</td>\n",
       "      <td>0</td>\n",
       "    </tr>\n",
       "    <tr>\n",
       "      <th>1</th>\n",
       "      <td>1</td>\n",
       "      <td>0.016164</td>\n",
       "      <td>0.015704</td>\n",
       "      <td>0.011848</td>\n",
       "      <td>0</td>\n",
       "      <td>0</td>\n",
       "      <td>0</td>\n",
       "      <td>0</td>\n",
       "      <td>0</td>\n",
       "      <td>0</td>\n",
       "      <td>0</td>\n",
       "      <td>0</td>\n",
       "      <td>0</td>\n",
       "      <td>0</td>\n",
       "      <td>0</td>\n",
       "      <td>0</td>\n",
       "      <td>0</td>\n",
       "      <td>0</td>\n",
       "      <td>0</td>\n",
       "      <td>0</td>\n",
       "      <td>0</td>\n",
       "      <td>0</td>\n",
       "      <td>0</td>\n",
       "      <td>0</td>\n",
       "      <td>0</td>\n",
       "      <td>0</td>\n",
       "      <td>0</td>\n",
       "      <td>0</td>\n",
       "      <td>0</td>\n",
       "      <td>0</td>\n",
       "      <td>0</td>\n",
       "      <td>0</td>\n",
       "      <td>0</td>\n",
       "      <td>0</td>\n",
       "      <td>0</td>\n",
       "      <td>0</td>\n",
       "      <td>0</td>\n",
       "      <td>0</td>\n",
       "      <td>0</td>\n",
       "      <td>0</td>\n",
       "      <td>0</td>\n",
       "      <td>0</td>\n",
       "      <td>0</td>\n",
       "      <td>0</td>\n",
       "      <td>0</td>\n",
       "      <td>0</td>\n",
       "      <td>-0.033936</td>\n",
       "      <td>-0.009515</td>\n",
       "      <td>0.057268</td>\n",
       "      <td>0.011431</td>\n",
       "      <td>0.030747</td>\n",
       "      <td>-0.013874</td>\n",
       "      <td>-0.034071</td>\n",
       "      <td>0.022224</td>\n",
       "      <td>-0.010796</td>\n",
       "      <td>0</td>\n",
       "      <td>0</td>\n",
       "      <td>0</td>\n",
       "      <td>0.004074</td>\n",
       "      <td>0.018191</td>\n",
       "      <td>-0.013241</td>\n",
       "      <td>0.045763</td>\n",
       "      <td>-0.000241</td>\n",
       "      <td>-0.017675</td>\n",
       "      <td>0.034946</td>\n",
       "      <td>0.004807</td>\n",
       "      <td>0.019792</td>\n",
       "      <td>0</td>\n",
       "      <td>0</td>\n",
       "      <td>0</td>\n",
       "    </tr>\n",
       "    <tr>\n",
       "      <th>2</th>\n",
       "      <td>2</td>\n",
       "      <td>-0.014526</td>\n",
       "      <td>0.054576</td>\n",
       "      <td>-0.023304</td>\n",
       "      <td>0</td>\n",
       "      <td>0</td>\n",
       "      <td>0</td>\n",
       "      <td>0</td>\n",
       "      <td>0</td>\n",
       "      <td>0</td>\n",
       "      <td>0</td>\n",
       "      <td>0</td>\n",
       "      <td>0</td>\n",
       "      <td>0</td>\n",
       "      <td>0</td>\n",
       "      <td>0</td>\n",
       "      <td>0</td>\n",
       "      <td>0</td>\n",
       "      <td>0</td>\n",
       "      <td>0</td>\n",
       "      <td>0</td>\n",
       "      <td>0</td>\n",
       "      <td>0</td>\n",
       "      <td>0</td>\n",
       "      <td>0</td>\n",
       "      <td>0</td>\n",
       "      <td>0</td>\n",
       "      <td>0</td>\n",
       "      <td>0</td>\n",
       "      <td>0</td>\n",
       "      <td>0</td>\n",
       "      <td>0</td>\n",
       "      <td>0</td>\n",
       "      <td>0</td>\n",
       "      <td>0</td>\n",
       "      <td>0</td>\n",
       "      <td>0</td>\n",
       "      <td>0</td>\n",
       "      <td>0</td>\n",
       "      <td>0</td>\n",
       "      <td>0</td>\n",
       "      <td>0</td>\n",
       "      <td>0</td>\n",
       "      <td>0</td>\n",
       "      <td>0</td>\n",
       "      <td>0</td>\n",
       "      <td>-0.029544</td>\n",
       "      <td>0.001915</td>\n",
       "      <td>-0.001170</td>\n",
       "      <td>-0.050570</td>\n",
       "      <td>-0.009593</td>\n",
       "      <td>0.017540</td>\n",
       "      <td>0.000290</td>\n",
       "      <td>0.015734</td>\n",
       "      <td>0.012492</td>\n",
       "      <td>0</td>\n",
       "      <td>0</td>\n",
       "      <td>0</td>\n",
       "      <td>0.017936</td>\n",
       "      <td>-0.001576</td>\n",
       "      <td>-0.031757</td>\n",
       "      <td>0.002115</td>\n",
       "      <td>0.029728</td>\n",
       "      <td>-0.028391</td>\n",
       "      <td>0.001224</td>\n",
       "      <td>0.007672</td>\n",
       "      <td>0.012579</td>\n",
       "      <td>0</td>\n",
       "      <td>0</td>\n",
       "      <td>0</td>\n",
       "    </tr>\n",
       "  </tbody>\n",
       "</table>\n",
       "</div>"
      ],
      "text/plain": [
       "   Frame  Pelvis x  Pelvis y  ...  Left Toe x  Left Toe y  Left Toe z\n",
       "0      0 -0.008742  0.019561  ...           0           0           0\n",
       "1      1  0.016164  0.015704  ...           0           0           0\n",
       "2      2 -0.014526  0.054576  ...           0           0           0\n",
       "\n",
       "[3 rows x 70 columns]"
      ]
     },
     "execution_count": 23,
     "metadata": {},
     "output_type": "execute_result"
    }
   ],
   "source": [
    "df.head(3)"
   ]
  },
  {
   "cell_type": "code",
   "execution_count": null,
   "metadata": {},
   "outputs": [],
   "source": [
    "from gaitpy.gait import Gaitpy\n",
    "\n",
    "raw_data = df\n",
    "sample_rate = 100 # hertz\n",
    "subject_height = 170 # centimeters\n",
    "\n",
    "#### Create an instance of Gaitpy ####\n",
    "gaitpy = Gaitpy(raw_data,                           # Raw data consisting of vertical acceleration from lumbar location and unix timestamps\n",
    "                sample_rate,                        # Sample rate of raw data (in Hertz)\n",
    "                v_acc_col_name='y',                 # Vertical acceleration column name\n",
    "                ts_col_name='timestamps',           # Timestamp column name\n",
    "                v_acc_units='m/s^2',                # Units of vertical acceleration\n",
    "                ts_units='ms',                      # Units of timestamps\n",
    "                flip=False)                         # If baseline data is at +1g or +9.8m/s^2, set flip=True\n",
    "\n",
    "#### Classify bouts of gait - Optional (use if your data consists of gait and non-gait periods)####\n",
    "gait_bouts = gaitpy.classify_bouts(result_file='/my/folder/classified_gait.h5')     # File to save results to (None by default)\n",
    "\n",
    "#### Extract gait characteristics ####\n",
    "gait_features = gaitpy.extract_features(subject_height,                               # Subject height\n",
    "                                        subject_height_units='centimeter',            # Units of subject height\n",
    "                                        result_file='/my/folder/gait_features.csv',   # File to save results to (None by default)\n",
    "                                        classified_gait=gait_bouts)                   # Pandas Dataframe or .h5 file results of classify_bouts function (None by default)\n",
    "\n",
    "#### Plot results of gait feature extraction ####\n",
    "gaitpy.plot_contacts(gait_features,                                     # Pandas Dataframe or .csv file results of extract_features function\n",
    "                     result_file='/my/folder/plot_contacts.html)',      # File to save results to (None by default)\n",
    "                     show_plot=True)                                    # Specify whether to display plot upon completion (True by default)\n"
   ]
  },
  {
   "cell_type": "code",
   "execution_count": 3,
   "metadata": {},
   "outputs": [
    {
     "data": {
      "text/html": [
       "<div>\n",
       "<style scoped>\n",
       "    .dataframe tbody tr th:only-of-type {\n",
       "        vertical-align: middle;\n",
       "    }\n",
       "\n",
       "    .dataframe tbody tr th {\n",
       "        vertical-align: top;\n",
       "    }\n",
       "\n",
       "    .dataframe thead th {\n",
       "        text-align: right;\n",
       "    }\n",
       "</style>\n",
       "<table border=\"1\" class=\"dataframe\">\n",
       "  <thead>\n",
       "    <tr style=\"text-align: right;\">\n",
       "      <th></th>\n",
       "      <th>A</th>\n",
       "      <th>B</th>\n",
       "      <th>C</th>\n",
       "    </tr>\n",
       "  </thead>\n",
       "  <tbody>\n",
       "    <tr>\n",
       "      <th>0</th>\n",
       "      <td>1</td>\n",
       "      <td>4</td>\n",
       "      <td>7</td>\n",
       "    </tr>\n",
       "    <tr>\n",
       "      <th>1</th>\n",
       "      <td>2</td>\n",
       "      <td>5</td>\n",
       "      <td>8</td>\n",
       "    </tr>\n",
       "    <tr>\n",
       "      <th>2</th>\n",
       "      <td>3</td>\n",
       "      <td>6</td>\n",
       "      <td>9</td>\n",
       "    </tr>\n",
       "  </tbody>\n",
       "</table>\n",
       "</div>"
      ],
      "text/plain": [
       "   A  B  C\n",
       "0  1  4  7\n",
       "1  2  5  8\n",
       "2  3  6  9"
      ]
     },
     "execution_count": 3,
     "metadata": {},
     "output_type": "execute_result"
    }
   ],
   "source": [
    "import pandas as pd\n",
    "\n",
    "# 创建一个 DataFrame\n",
    "df1 = pd.DataFrame({'A': [1, 2, 3], 'B': [4, 5, 6], 'C': [7, 8, 9]})\n",
    "\n",
    "df1"
   ]
  },
  {
   "cell_type": "code",
   "execution_count": 4,
   "metadata": {},
   "outputs": [],
   "source": [
    "# 创建一个包含 DataFrame 的单元格\n",
    "cell = pd.DataFrame({'D': [10, 11, 12], 'E': [13, 14, 15], 'F': [16, 17, 18]})\n",
    "\n",
    "# 使用 update 函数将数据合并到 df1 的单元格中\n",
    "df1.update(cell)"
   ]
  },
  {
   "cell_type": "code",
   "execution_count": 5,
   "metadata": {},
   "outputs": [
    {
     "data": {
      "text/html": [
       "<div>\n",
       "<style scoped>\n",
       "    .dataframe tbody tr th:only-of-type {\n",
       "        vertical-align: middle;\n",
       "    }\n",
       "\n",
       "    .dataframe tbody tr th {\n",
       "        vertical-align: top;\n",
       "    }\n",
       "\n",
       "    .dataframe thead th {\n",
       "        text-align: right;\n",
       "    }\n",
       "</style>\n",
       "<table border=\"1\" class=\"dataframe\">\n",
       "  <thead>\n",
       "    <tr style=\"text-align: right;\">\n",
       "      <th></th>\n",
       "      <th>A</th>\n",
       "      <th>B</th>\n",
       "      <th>C</th>\n",
       "    </tr>\n",
       "  </thead>\n",
       "  <tbody>\n",
       "    <tr>\n",
       "      <th>0</th>\n",
       "      <td>1</td>\n",
       "      <td>4</td>\n",
       "      <td>7</td>\n",
       "    </tr>\n",
       "    <tr>\n",
       "      <th>1</th>\n",
       "      <td>2</td>\n",
       "      <td>5</td>\n",
       "      <td>8</td>\n",
       "    </tr>\n",
       "    <tr>\n",
       "      <th>2</th>\n",
       "      <td>3</td>\n",
       "      <td>6</td>\n",
       "      <td>9</td>\n",
       "    </tr>\n",
       "  </tbody>\n",
       "</table>\n",
       "</div>"
      ],
      "text/plain": [
       "   A  B  C\n",
       "0  1  4  7\n",
       "1  2  5  8\n",
       "2  3  6  9"
      ]
     },
     "execution_count": 5,
     "metadata": {},
     "output_type": "execute_result"
    }
   ],
   "source": [
    "df1"
   ]
  },
  {
   "cell_type": "code",
   "execution_count": 1,
   "metadata": {},
   "outputs": [],
   "source": [
    "import re"
   ]
  },
  {
   "cell_type": "code",
   "execution_count": 18,
   "metadata": {},
   "outputs": [],
   "source": [
    "regex = r\"(.*).(.*)\"\n",
    "file = \"20220222_flomo_Visual_Analysis.ipynb\"\n",
    "endwith = re.search(regex,file).group(1)"
   ]
  },
  {
   "cell_type": "code",
   "execution_count": 17,
   "metadata": {},
   "outputs": [
    {
     "data": {
      "text/plain": [
       "'20220222_flomo_Visual_Analysis.ipynb'"
      ]
     },
     "execution_count": 17,
     "metadata": {},
     "output_type": "execute_result"
    }
   ],
   "source": [
    "endwith"
   ]
  },
  {
   "cell_type": "code",
   "execution_count": 15,
   "metadata": {},
   "outputs": [
    {
     "data": {
      "image/png": "[encoded data removed]",
      "text/plain": [
       "<Figure size 640x480 with 1 Axes>"
      ]
     },
     "metadata": {},
     "output_type": "display_data"
    }
   ],
   "source": [
    "import matplotlib.pyplot as plt\n",
    "import numpy as np\n",
    "\n",
    "# 创建一个 100x100 的二维数组，每个元素的值为从 0 到 1 的随机数\n",
    "data = np.random.rand(100, 100)\n",
    "\n",
    "# 创建一个新的 figure 和 axes 对象\n",
    "fig, ax = plt.subplots()\n",
    "\n",
    "# 绘制一个填充整个画布的矩形，并将其作为背景\n",
    "#ax.imshow(data, cmap='Blues', extent=[0, 13, 0, 13], alpha=0.01, aspect='auto', zorder=-1)\n",
    "\n",
    "# 绘制正弦曲线\n",
    "x = np.linspace(0, 2*np.pi, 100)\n",
    "y = np.sin(x)\n",
    "ax.plot(x, y)\n",
    "\n",
    "# 设置 plot 的标题\n",
    "ax.set_title('Sine Wave on Gradient Background')\n",
    "\n",
    "plt.show()\n"
   ]
  },
  {
   "cell_type": "code",
   "execution_count": 16,
   "metadata": {},
   "outputs": [
    {
     "data": {
      "image/png": "[encoded data removed]",
      "text/plain": [
       "<Figure size 640x480 with 1 Axes>"
      ]
     },
     "metadata": {},
     "output_type": "display_data"
    }
   ],
   "source": [
    "import matplotlib.pyplot as plt\n",
    "import numpy as np\n",
    "\n",
    "# 创建一个新的 figure 和 axes 对象\n",
    "fig, ax = plt.subplots()\n",
    "\n",
    "# 绘制正弦曲线\n",
    "x = np.linspace(0, 2*np.pi, 100)\n",
    "y = np.sin(x)\n",
    "ax.plot(x, y)\n",
    "\n",
    "# 设置 plot 的标题\n",
    "ax.set_title('Sine Wave')\n",
    "\n",
    "# 设置画布背景色为浅灰色\n",
    "ax.set_facecolor('#f2f2f2')\n",
    "\n",
    "plt.show()\n"
   ]
  },
  {
   "cell_type": "code",
   "execution_count": 17,
   "metadata": {},
   "outputs": [
    {
     "data": {
      "image/png": "[encoded data removed]",
      "text/plain": [
       "<Figure size 640x480 with 1 Axes>"
      ]
     },
     "metadata": {},
     "output_type": "display_data"
    }
   ],
   "source": [
    "import matplotlib.pyplot as plt\n",
    "import numpy as np\n",
    "\n",
    "# 创建一个 100x100 的二维数组，每个元素的值为从 0 到 1 的随机数\n",
    "data = np.random.rand(100, 100)\n",
    "\n",
    "# 创建一个新的 figure 和 axes 对象\n",
    "fig, ax = plt.subplots()\n",
    "\n",
    "# 绘制一个填充整个画布的矩形，并将其作为背景\n",
    "ax.imshow(data, cmap='Blues', extent=[0, 10, 0, 10], alpha=0.5, aspect='auto', zorder=-1)\n",
    "\n",
    "# 绘制正弦曲线\n",
    "x = np.linspace(0, 2*np.pi, 100)\n",
    "y = np.sin(x)\n",
    "ax.plot(x, y)\n",
    "\n",
    "# 设置 plot 的标题\n",
    "ax.set_title('Sine Wave')\n",
    "\n",
    "plt.show()\n"
   ]
  },
  {
   "cell_type": "code",
   "execution_count": 19,
   "metadata": {},
   "outputs": [
    {
     "data": {
      "image/png": "[encoded data removed]",
      "text/plain": [
       "<Figure size 640x480 with 1 Axes>"
      ]
     },
     "metadata": {},
     "output_type": "display_data"
    }
   ],
   "source": []
  },
  {
   "cell_type": "code",
   "execution_count": 1,
   "metadata": {},
   "outputs": [
    {
     "name": "stderr",
     "output_type": "stream",
     "text": [
      "2023-05-13 17:43:54.618 python[44677:14140269] TSM AdjustCapsLockLEDForKeyTransitionHandling - _ISSetPhysicalKeyboardCapsLockLED Inhibit\n"
     ]
    },
    {
     "ename": "SystemExit",
     "evalue": "0",
     "output_type": "error",
     "traceback": [
      "An exception has occurred, use %tb to see the full traceback.\n",
      "\u001b[0;31mSystemExit\u001b[0m\u001b[0;31m:\u001b[0m 0\n"
     ]
    },
    {
     "name": "stderr",
     "output_type": "stream",
     "text": [
      "/Users/wangshuaibo/anaconda3/lib/python3.10/site-packages/IPython/core/interactiveshell.py:3468: UserWarning: To exit: use 'exit', 'quit', or Ctrl-D.\n",
      "  warn(\"To exit: use 'exit', 'quit', or Ctrl-D.\", stacklevel=1)\n"
     ]
    },
    {
     "ename": "",
     "evalue": "",
     "output_type": "error",
     "traceback": [
      "\u001b[1;31mThe Kernel crashed while executing code in the the current cell or a previous cell. Please review the code in the cell(s) to identify a possible cause of the failure. Click <a href='https://aka.ms/vscodeJupyterKernelCrash'>here</a> for more info. View Jupyter <a href='command:jupyter.viewOutput'>log</a> for further details."
     ]
    }
   ],
   "source": [
    "import sys\n",
    "from PyQt5.QtWidgets import QApplication, QWidget, QLabel, QLineEdit, QPushButton, QVBoxLayout\n",
    "\n",
    "\n",
    "class BMIWidget(QWidget):\n",
    "    def __init__(self):\n",
    "        super().__init__()\n",
    "\n",
    "        # 创建标签和文本框控件\n",
    "        self.height_label = QLabel(\"身高（米）：\")\n",
    "        self.height_edit = QLineEdit()\n",
    "        self.weight_label = QLabel(\"体重（千克）：\")\n",
    "        self.weight_edit = QLineEdit()\n",
    "        self.result_label = QLabel()\n",
    "\n",
    "        # 创建计算按钮\n",
    "        self.calculate_button = QPushButton(\"计算\")\n",
    "        self.calculate_button.clicked.connect(self.calculate_bmi)\n",
    "\n",
    "        # 创建布局管理器\n",
    "        layout = QVBoxLayout()\n",
    "        layout.addWidget(self.height_label)\n",
    "        layout.addWidget(self.height_edit)\n",
    "        layout.addWidget(self.weight_label)\n",
    "        layout.addWidget(self.weight_edit)\n",
    "        layout.addWidget(self.calculate_button)\n",
    "        layout.addWidget(self.result_label)\n",
    "\n",
    "        # 设置窗口的布局管理器\n",
    "        self.setLayout(layout)\n",
    "\n",
    "    def calculate_bmi(self):\n",
    "        # 获取身高和体重的值\n",
    "        height = float(self.height_edit.text())\n",
    "        weight = float(self.weight_edit.text())\n",
    "\n",
    "        # 计算 BMI 值\n",
    "        bmi = weight / (height ** 2)\n",
    "\n",
    "        # 显示计算结果\n",
    "        self.result_label.setText(\"您的BMI值为：{:.2f}\".format(bmi))\n",
    "\n",
    "\n",
    "if __name__ == '__main__':\n",
    "    # 创建应用程序对象\n",
    "    app = QApplication(sys.argv)\n",
    "\n",
    "    # 创建窗口对象\n",
    "    window = BMIWidget()\n",
    "    window.setWindowTitle(\"BMI计算器\")\n",
    "    window.resize(300, 200)\n",
    "\n",
    "    # 显示窗口\n",
    "    window.show()\n",
    "\n",
    "    # 运行应用程序，进入事件循环\n",
    "    sys.exit(app.exec_())"
   ]
  },
  {
   "cell_type": "code",
   "execution_count": 1,
   "metadata": {},
   "outputs": [],
   "source": [
    "from scipy.spatial.transform import Rotation as R\n",
    "r = R.from_quat([1,0,0,0])\n",
    "eulers = r.as_euler(\"zyx\",degrees=True)"
   ]
  },
  {
   "cell_type": "code",
   "execution_count": 31,
   "metadata": {},
   "outputs": [
    {
     "name": "stdout",
     "output_type": "stream",
     "text": [
      "Opensim 由xsens 旋转矩阵计算得到的四元数：\n",
      " [0.5105588968224414, 0.4570645371936038, -0.6688411554744984, 0.2882240976375608]\n",
      "\n",
      "Scipy 由四元数计算得到的四元数（已经调整四元数的顺序）：\n",
      " 旋转矩阵的顺序为：\n",
      " mat11_21_31 \n",
      " mat12_22_32 \n",
      " mat13_23_33 \n",
      " [0.5105588968224414, -0.45706453719360385, 0.6688411554744984, -0.2882240976375608]\n",
      "\n",
      "Scipy 由四元数计算得到的四元数（已经调整四元数的顺序）：\n",
      " 旋转矩阵的顺序为：\n",
      " mat11_21_31 \n",
      " mat12_22_32 \n",
      " mat13_23_33 \n",
      " [-0.5105588968224414, -0.45706453719360385, 0.6688411554744984, -0.2882240976375608]\n"
     ]
    }
   ],
   "source": [
    "# 躯干编号  _00B42268\n",
    "import numpy as np\n",
    "\n",
    "opensim_torso_quat = [0.5105588968224414,0.4570645371936038,-0.6688411554744984,0.2882240976375608]\n",
    "print(\"Opensim 由xsens 旋转矩阵计算得到的四元数：\\n\",opensim_torso_quat )\n",
    "\n",
    "mat11,mat21,mat31 = [-0.060844, -0.317097,  0.946440]\n",
    "mat12,mat22,mat32 = [-0.905718,  0.416038,  0.081164]\n",
    "mat13,mat23,mat33 = [-0.419492, -0.852269, -0.312513]\n",
    "\n",
    "xsens_torso_matrix_11_21_31 = np.array([\n",
    "                                    [mat11,mat21,mat31],\n",
    "                                    [mat12,mat22,mat32],\n",
    "                                    [mat13,mat23,mat33]])\n",
    "\n",
    "r = R.from_matrix(xsens_torso_matrix_11_21_31)\n",
    "cal_torso_quat = r.as_quat()\n",
    "cal_torso_quat_wxyz = [cal_torso_quat[3],cal_torso_quat[0],cal_torso_quat[1],cal_torso_quat[2]]\n",
    "\n",
    "print(\"\\nScipy 由四元数计算得到的四元数（已经调整四元数的顺序）：\\n\",\n",
    "      \"旋转矩阵的顺序为：\\n\",\n",
    "      \"mat11_21_31 \\n\",\n",
    "      \"mat12_22_32 \\n\",\n",
    "      \"mat13_23_33 \\n\",\n",
    "     cal_torso_quat_wxyz)\n",
    "\n",
    "xsens_torso_matrix_11_21_31 = np.array([\n",
    "                                    [mat11,mat12,mat13],\n",
    "                                    [mat21,mat22,mat23],\n",
    "                                    [mat31,mat32,mat33]])\n",
    "\n",
    "r = R.from_matrix(xsens_torso_matrix_11_21_31)\n",
    "cal_torso_quat = r.as_quat()\n",
    "cal_torso_quat_wxyz = [cal_torso_quat[3],cal_torso_quat[0],cal_torso_quat[1],cal_torso_quat[2]]\n",
    "\n",
    "print(\"\\nScipy 由四元数计算得到的四元数（已经调整四元数的顺序）：\\n\",\n",
    "      \"旋转矩阵的顺序为：\\n\",\n",
    "      \"mat11_21_31 \\n\",\n",
    "      \"mat12_22_32 \\n\",\n",
    "      \"mat13_23_33 \\n\",\n",
    "     cal_torso_quat_wxyz)\n",
    "\n",
    "# 为什么使用 Scipy 计算得到的 quat 和 Opensim 计算得到的 quat 相差一个 \"_\"\n"
   ]
  },
  {
   "cell_type": "code",
   "execution_count": null,
   "metadata": {},
   "outputs": [],
   "source": []
  }
 ],
 "metadata": {
  "kernelspec": {
   "display_name": "base",
   "language": "python",
   "name": "python3"
  },
  "language_info": {
   "codemirror_mode": {
    "name": "ipython",
    "version": 3
   },
   "file_extension": ".py",
   "mimetype": "text/x-python",
   "name": "python",
   "nbconvert_exporter": "python",
   "pygments_lexer": "ipython3",
   "version": "3.10.9"
  },
  "orig_nbformat": 4,
  "vscode": {
   "interpreter": {
    "hash": "f0e6e5a6c366f0544d48e86b9538c9e2f921792a30284d93e80dad42978f2a5f"
   }
  }
 },
 "nbformat": 4,
 "nbformat_minor": 2
}
