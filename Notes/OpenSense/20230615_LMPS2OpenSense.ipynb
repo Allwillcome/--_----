{
 "cells": [
  {
   "attachments": {},
   "cell_type": "markdown",
   "metadata": {},
   "source": [
    "## Readme\n",
    "1. 建立文件夹\n",
    "2. 复制模型以及 Geometry 文件\n",
    "   1. 先判断文件是否存在再复制\n",
    "\n",
    "3. 定义传感器编号和环节的对应关系\n",
    "4. 将 LMPS 坐标转换为 OpenSense 坐标 --》查找先前代码\n",
    "5. 将 LMPS 文件转换为 .sto 文件\n",
    "\n",
    "6. 运行 OpenSense 代码 --》查找先前代码\n",
    "7. 在 OpenSim 中打开逆运动学结果"
   ]
  },
  {
   "cell_type": "code",
   "execution_count": 108,
   "metadata": {},
   "outputs": [],
   "source": [
    "# 读取相对应的包\n",
    "import os\n",
    "import shutil\n",
    "import pandas as pd"
   ]
  },
  {
   "cell_type": "code",
   "execution_count": 109,
   "metadata": {},
   "outputs": [],
   "source": [
    "dir_path = \"/Users/wangshuaibo/Library/CloudStorage/OneDrive-bsu.edu.cn/Archive/代码_OpenSense/OpenSense_Python/OpenSenseExample\"\n",
    "opensense_example_dir = \"OpenSenseExample_Original\""
   ]
  },
  {
   "cell_type": "code",
   "execution_count": 110,
   "metadata": {},
   "outputs": [],
   "source": [
    "#newfile_name = input(\"请输入新建文件夹名称：\")\n",
    "newfile_name = \"20230615_LMPS_NoTorsoRightFeet\"\n",
    "newfile_path = os.path.join(dir_path, newfile_name)"
   ]
  },
  {
   "cell_type": "code",
   "execution_count": 111,
   "metadata": {},
   "outputs": [],
   "source": [
    "# 新建文件夹\n",
    "os.makedirs(newfile_path,exist_ok=True)"
   ]
  },
  {
   "cell_type": "code",
   "execution_count": 112,
   "metadata": {},
   "outputs": [],
   "source": [
    "IMUData_dir = \"IMUData\"\n",
    "file_name = \"squat_100hz.csv\"\n",
    "file_path = os.path.join(dir_path,newfile_name,IMUData_dir,file_name)"
   ]
  },
  {
   "attachments": {},
   "cell_type": "markdown",
   "metadata": {},
   "source": [
    "## 读取传感器数值"
   ]
  },
  {
   "cell_type": "code",
   "execution_count": 113,
   "metadata": {},
   "outputs": [
    {
     "data": {
      "text/plain": [
       "Index(['SensorId', ' TimeStamp (s)', ' FrameNumber', ' AccX (g)', ' AccY (g)',\n",
       "       ' AccZ (g)', ' GyroX (deg/s)', ' GyroY (deg/s)', ' GyroZ (deg/s)',\n",
       "       ' MagX (uT)', ' MagY (uT)', ' MagZ (uT)', ' EulerX (deg)',\n",
       "       ' EulerY (deg)', ' EulerZ (deg)', ' QuatW', ' QuatX', ' QuatY',\n",
       "       ' QuatZ', ' LinAccX (g)', ' LinAccY (g)', ' LinAccZ (g)',\n",
       "       ' Pressure (kPa)', ' Altitude (m)', ' Temperature (degC)',\n",
       "       ' HeaveMotion (m)'],\n",
       "      dtype='object')"
      ]
     },
     "execution_count": 113,
     "metadata": {},
     "output_type": "execute_result"
    }
   ],
   "source": [
    "df = pd.read_csv(file_path)\n",
    "df.columns"
   ]
  },
  {
   "cell_type": "code",
   "execution_count": 114,
   "metadata": {},
   "outputs": [
    {
     "data": {
      "text/plain": [
       "<Axes: >"
      ]
     },
     "execution_count": 114,
     "metadata": {},
     "output_type": "execute_result"
    },
    {
     "data": {
      "image/png": "[encoded data removed]",
      "text/plain": [
       "<Figure size 640x480 with 1 Axes>"
      ]
     },
     "metadata": {},
     "output_type": "display_data"
    }
   ],
   "source": [
    "# 查看丢包情况\n",
    "df[\"SensorId\"].hist(bins=30)"
   ]
  },
  {
   "attachments": {},
   "cell_type": "markdown",
   "metadata": {},
   "source": [
    "## 转换传感器四元数坐标"
   ]
  },
  {
   "cell_type": "code",
   "execution_count": 115,
   "metadata": {},
   "outputs": [],
   "source": [
    "# 定义四元数相乘函数\n",
    "def quaternion_multiply(q1, q2):\n",
    "    w1, x1, y1, z1 = q1\n",
    "    w2, x2, y2, z2 = q2\n",
    "\n",
    "    w = w1 * w2 - x1 * x2 - y1 * y2 - z1 * z2\n",
    "    x = w1 * x2 + x1 * w2 + y1 * z2 - z1 * y2\n",
    "    y = w1 * y2 - x1 * z2 + y1 * w2 + z1 * x2\n",
    "    z = w1 * z2 + x1 * y2 - y1 * x2 + z1 * w2\n",
    "\n",
    "    return (w, x, y, z)"
   ]
  },
  {
   "cell_type": "code",
   "execution_count": 126,
   "metadata": {},
   "outputs": [
    {
     "ename": "ValueError",
     "evalue": "too many values to unpack (expected 4)",
     "output_type": "error",
     "traceback": [
      "\u001b[0;31m---------------------------------------------------------------------------\u001b[0m",
      "\u001b[0;31mValueError\u001b[0m                                Traceback (most recent call last)",
      "Cell \u001b[0;32mIn[126], line 13\u001b[0m\n\u001b[1;32m     11\u001b[0m angle_NWU2ENU \u001b[39m=\u001b[39m np\u001b[39m.\u001b[39mpi\u001b[39m/\u001b[39m\u001b[39m2\u001b[39m\n\u001b[1;32m     12\u001b[0m q_NWU2ENU \u001b[39m=\u001b[39m (np\u001b[39m.\u001b[39mcos(angle_NWU2ENU),\u001b[39m0\u001b[39m,\u001b[39m0\u001b[39m,np\u001b[39m.\u001b[39msin(angle_NWU2ENU))\n\u001b[0;32m---> 13\u001b[0m result_NWU2ENU \u001b[39m=\u001b[39m quaternion_multiply(quats_value, q_NWU2ENU)\n\u001b[1;32m     15\u001b[0m \u001b[39m# 将传感器方向转换为 Xsens 规定方向\u001b[39;00m\n\u001b[1;32m     16\u001b[0m \u001b[39m# 传感器绕着 y 轴旋转 180度\u001b[39;00m\n\u001b[1;32m     17\u001b[0m angle_opensense \u001b[39m=\u001b[39m np\u001b[39m.\u001b[39mpi  \u001b[39m# 180度等于π弧度\u001b[39;00m\n",
      "Cell \u001b[0;32mIn[115], line 3\u001b[0m, in \u001b[0;36mquaternion_multiply\u001b[0;34m(q1, q2)\u001b[0m\n\u001b[1;32m      2\u001b[0m \u001b[39mdef\u001b[39;00m \u001b[39mquaternion_multiply\u001b[39m(q1, q2):\n\u001b[0;32m----> 3\u001b[0m     w1, x1, y1, z1 \u001b[39m=\u001b[39m q1\n\u001b[1;32m      4\u001b[0m     w2, x2, y2, z2 \u001b[39m=\u001b[39m q2\n\u001b[1;32m      6\u001b[0m     w \u001b[39m=\u001b[39m w1 \u001b[39m*\u001b[39m w2 \u001b[39m-\u001b[39m x1 \u001b[39m*\u001b[39m x2 \u001b[39m-\u001b[39m y1 \u001b[39m*\u001b[39m y2 \u001b[39m-\u001b[39m z1 \u001b[39m*\u001b[39m z2\n",
      "\u001b[0;31mValueError\u001b[0m: too many values to unpack (expected 4)"
     ]
    }
   ],
   "source": [
    "# 转换小蓝块坐标为opensense 坐标系格式\n",
    "import numpy as np \n",
    "\n",
    "# 定义数值\n",
    "quats = [' QuatW', ' QuatX', ' QuatY', ' QuatZ']\n",
    "quats_value = df[quats].values\n",
    "\n",
    "# 将小蓝块东北天(ENU)坐标系转换到北西天(NWU)坐标系\n",
    "# 全局坐标系即沿着 Z 轴旋转90度，数值为正\n",
    "# 此处应该为静态旋转即外旋？因而应该是右乘？\n",
    "angle_NWU2ENU = np.pi/2\n",
    "q_NWU2ENU = (np.cos(angle_NWU2ENU),0,0,np.sin(angle_NWU2ENU))\n",
    "result_NWU2ENU = quaternion_multiply(quats_value.T, q_NWU2ENU)\n",
    "\n",
    "# 将传感器方向转换为 Xsens 规定方向\n",
    "# 传感器绕着 y 轴旋转 180度\n",
    "angle_opensense = np.pi  # 180度等于π弧度\n",
    "q_y180 = (np.cos(angle_opensense / 2), 0, np.sin(angle_opensense / 2), 0)\n",
    "result_opensense = quaternion_multiply(result_NWU2ENU, q_y180)\n",
    "\n",
    "# 将结果转换为DataFrame\n",
    "tran_quats = [\"trans q0\",\"trans q1\",\"trans q2\",\"trans q3\"]\n",
    "df[tran_quats] = pd.DataFrame(list(result_opensense)).transpose()"
   ]
  },
  {
   "cell_type": "code",
   "execution_count": 117,
   "metadata": {},
   "outputs": [],
   "source": [
    "# 匹配传感器名称和环节部位\n",
    "bodies = [\"pelvis\",\"tibia_r\",\"femur_r\",\"tibia_l\",'femur_l','calcn_l']\n",
    "sensors = [1, 5, 3, 4, 2, 6]\n",
    "bodies_sensors = dict(zip(bodies,sensors))"
   ]
  },
  {
   "attachments": {},
   "cell_type": "markdown",
   "metadata": {},
   "source": [
    "## 提取不同传感器转换后数值"
   ]
  },
  {
   "cell_type": "code",
   "execution_count": 118,
   "metadata": {},
   "outputs": [],
   "source": [
    "# 将不同传感器的数值保存在不同的列\n",
    "new_df = pd.DataFrame()\n",
    "series = pd.Series(dtype=\"float64\")\n",
    "for body in bodies:\n",
    "    sensor_id = bodies_sensors[body]\n",
    "    body_quats = [body + \" \" + quat for quat in tran_quats]\n",
    "    # 先重置index\n",
    "    temp_df = df[df['SensorId'] == sensor_id][quats].reset_index(drop=True)\n",
    "    # 长度不一样只能使用 concat 连接\n",
    "    new_df = pd.concat([new_df,temp_df], axis=1)\n",
    "\n",
    "new_df.columns =  [body + \" \" + quat for body in bodies for quat in tran_quats]\n",
    "\n",
    "# 新增 time 列\n",
    "time = np.arange(0, new_df.shape[0]/100, 1/100)\n",
    "new_df.insert(0,\"time\",time,)\n",
    "# 去除包含空行的数据\n",
    "new_df.dropna(axis=0,inplace=True)\n",
    "\n",
    "# 保存文件\n",
    "tran_file_path = os.path.splitext(file_path)[0] + \"_coordinate_trans.csv\"\n",
    "new_df.to_csv(tran_file_path,index=False)"
   ]
  },
  {
   "attachments": {},
   "cell_type": "markdown",
   "metadata": {},
   "source": [
    "## 复制OpenSim 模型文件"
   ]
  },
  {
   "cell_type": "code",
   "execution_count": 119,
   "metadata": {},
   "outputs": [
    {
     "data": {
      "text/plain": [
       "'/Users/wangshuaibo/Library/CloudStorage/OneDrive-bsu.edu.cn/Archive/代码_OpenSense/OpenSense_Python/OpenSenseExample/20230615_LMPS_NoTorsoRightFeet/Rajagopal_2015.osim'"
      ]
     },
     "execution_count": 119,
     "metadata": {},
     "output_type": "execute_result"
    }
   ],
   "source": [
    "# 复制模型\n",
    "src_Geometry = os.path.join(dir_path,opensense_example_dir,\"Geometry\")\n",
    "dst_Geometry = os.path.join(dir_path,newfile_name,\"Geometry\")\n",
    "\n",
    "src_model = os.path.join(dir_path,opensense_example_dir,\"Rajagopal_2015.osim\")\n",
    "dst_model = os.path.join(dir_path,newfile_name,\"Rajagopal_2015.osim\")\n",
    "\n",
    "shutil.copytree(src_Geometry, dst_Geometry,dirs_exist_ok=True)\n",
    "shutil.copy2(src_model, dst_model)"
   ]
  },
  {
   "cell_type": "code",
   "execution_count": 120,
   "metadata": {},
   "outputs": [],
   "source": [
    "# 设置opensim 对应的表头\n",
    "# 设置表头\n",
    "bodies_imu = [body+\"_imu\" for body in bodies]\n",
    "\n",
    "opensim_sto_columns = \"time\\t\"\n",
    "for body_imu in bodies_imu:\n",
    "    opensim_sto_columns = opensim_sto_columns + body_imu + \"\\t\"\n",
    "\n",
    "opensim_sto_columns = opensim_sto_columns.strip() + \"\\n\""
   ]
  },
  {
   "cell_type": "code",
   "execution_count": 121,
   "metadata": {},
   "outputs": [
    {
     "data": {
      "text/plain": [
       "'DataRate=60.000000\\nDataType=Quaternion\\nversion=3\\nOpenSimVersion=4.4-2022-10-11-798caa8\\nendheader\\ntime\\tpelvis_imu\\ttibia_r_imu\\tfemur_r_imu\\ttibia_l_imu\\tfemur_l_imu\\tcalcn_l_imu\\n'"
      ]
     },
     "execution_count": 121,
     "metadata": {},
     "output_type": "execute_result"
    }
   ],
   "source": [
    "frame_rate = 60\n",
    "meatdata = f\"\"\"DataRate={frame_rate:.6f}\n",
    "DataType=Quaternion\n",
    "version=3\n",
    "OpenSimVersion=4.4-2022-10-11-798caa8\n",
    "endheader\n",
    "\"\"\"\n",
    "header = meatdata + opensim_sto_columns\n",
    "header"
   ]
  },
  {
   "cell_type": "code",
   "execution_count": 122,
   "metadata": {},
   "outputs": [],
   "source": [
    "old_filename = tran_file_path\n",
    "newfile_path = os.path.splitext(file_path)[0] + \".sto\""
   ]
  },
  {
   "cell_type": "code",
   "execution_count": 123,
   "metadata": {},
   "outputs": [],
   "source": [
    "# 先写入表头内容\n",
    "with open(newfile_path,\"w\") as new_f:\n",
    "    new_f.write(header)\n",
    "# 写入四元数数据\n",
    "with open(tran_file_path, \"r\") as old_f, open(newfile_path, \"a\") as new_f:\n",
    "    line_index = 0\n",
    "    for line in old_f:\n",
    "        # 去除第一行的表头不进行记录\n",
    "        line_index += 1\n",
    "        if line_index > 1:\n",
    "            new_line = line.split(\",\")\n",
    "            # print(new_line)\n",
    "            str_new = \"\"\n",
    "            index = 0\n",
    "            for i in new_line:\n",
    "                if index % 4 == 0:\n",
    "                    str_new = str_new + i.strip() + \"\\t\"\n",
    "                else:\n",
    "                    str_new = str_new + i.strip() + \",\"\n",
    "                index = index + 1\n",
    "            new_f.write(str_new.strip()+\"\\n\")"
   ]
  },
  {
   "cell_type": "code",
   "execution_count": null,
   "metadata": {},
   "outputs": [],
   "source": []
  }
 ],
 "metadata": {
  "kernelspec": {
   "display_name": "base",
   "language": "python",
   "name": "python3"
  },
  "language_info": {
   "codemirror_mode": {
    "name": "ipython",
    "version": 3
   },
   "file_extension": ".py",
   "mimetype": "text/x-python",
   "name": "python",
   "nbconvert_exporter": "python",
   "pygments_lexer": "ipython3",
   "version": "3.10.11"
  },
  "orig_nbformat": 4,
  "vscode": {
   "interpreter": {
    "hash": "f0e6e5a6c366f0544d48e86b9538c9e2f921792a30284d93e80dad42978f2a5f"
   }
  }
 },
 "nbformat": 4,
 "nbformat_minor": 2
}
