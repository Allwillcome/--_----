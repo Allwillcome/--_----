{
 "cells": [
  {
   "cell_type": "code",
   "execution_count": 1,
   "metadata": {},
   "outputs": [],
   "source": [
    "import pandas as pd\n",
    "import numpy as np\n",
    "import os"
   ]
  },
  {
   "attachments": {},
   "cell_type": "markdown",
   "metadata": {},
   "source": [
    "# 确定 Xsens Dot 和关节位置对应关系"
   ]
  },
  {
   "cell_type": "code",
   "execution_count": 26,
   "metadata": {},
   "outputs": [],
   "source": [
    "# Xsens Dot 编号和贴放部位的对应关系\n",
    "dots_number = [0,1,2,3,4]\n",
    "dots_serial = [\"097\",\"086\",\"094\",\"076\",\"090\"]\n",
    "bodies = [\"pelvis\",\"tibia_r\",\"femur_r\",\"tibia_l\",'femur_l']\n",
    "\n",
    "bodies_dots = {\"pelvis\":[0,dots_serial[0]],\n",
    "               \"tibia_r\":[4,dots_serial[4]],\n",
    "               \"femur_r\":[2,dots_serial[2]],\n",
    "               \"tibia_l\":[3,dots_serial[3]],\n",
    "               \"femur_l\":[1,dots_serial[1]]}"
   ]
  },
  {
   "attachments": {},
   "cell_type": "markdown",
   "metadata": {},
   "source": [
    "# 合并多个 Xsens Dot 数据为一个文件"
   ]
  },
  {
   "cell_type": "code",
   "execution_count": 80,
   "metadata": {},
   "outputs": [
    {
     "data": {
      "text/plain": [
       "'/Users/wangshuaibo/Library/CloudStorage/OneDrive-bsu.edu.cn/Archive/代码_OpenSense/OpenSense_Python/OpenSenseExample/OpenSenseExample_withoutTorsoFoot_Dot_20230525'"
      ]
     },
     "execution_count": 80,
     "metadata": {},
     "output_type": "execute_result"
    }
   ],
   "source": [
    "root_path = \"/Users/wangshuaibo/Library/CloudStorage/OneDrive-bsu.edu.cn/Archive/代码_OpenSense/OpenSense_Python/OpenSenseExample/OpenSenseExample_withoutTorsoFoot_Dot_20230525\"\n",
    "os.chdir(root_path)\n",
    "os.getcwd()"
   ]
  },
  {
   "cell_type": "code",
   "execution_count": 81,
   "metadata": {},
   "outputs": [],
   "source": [
    "xsens_dot_path = \"/Users/wangshuaibo/Library/CloudStorage/OneDrive-bsu.edu.cn/Archive/代码_OpenSense/OpenSense_Python/OpenSenseExample/OpenSenseExample_withoutTorso_20220525/XsensDot\"\n",
    "xsens_dot_name = \"20230525_102929\"\n",
    "frame_rate = 60\n",
    "quats_dfs = pd.DataFrame()\n",
    "for body in bodies:\n",
    "    filename = f\"Xsens DOT{int(bodies_dots[body][0])}_{xsens_dot_name}_{bodies_dots[body][1]}.csv\"\n",
    "    file_path = os.path.join(xsens_dot_path,filename)\n",
    "    df = pd.read_csv(file_path, skiprows=10)\n",
    "    quats = ['Quat_W', 'Quat_X', 'Quat_Y', 'Quat_Z']\n",
    "    new_quats = [body + \"_\" + quat for quat in quats]\n",
    "    df[new_quats] = df[quats]\n",
    "    quats_dfs = pd.concat((quats_dfs,df[new_quats]),axis=1)\n",
    "    quats_dfs = quats_dfs.round(17)\n",
    "time = np.arange(0, len(quats_dfs)*1/frame_rate, 1/frame_rate)\n",
    "quats_dfs.insert(0,\"time\",time)"
   ]
  },
  {
   "cell_type": "code",
   "execution_count": 82,
   "metadata": {},
   "outputs": [
    {
     "name": "stdout",
     "output_type": "stream",
     "text": [
      "总行数为：\n",
      " 346\n",
      "包含 Nan 的行：\n",
      " Int64Index([342, 343, 344, 345], dtype='int64')\n",
      "已经删除包含 NaN 的行\n"
     ]
    }
   ],
   "source": [
    "# 由于数据传输问题，dataframe 末尾几行会出现 Nan\n",
    "# 后续数据处理会报错\n",
    "nan_rows = quats_dfs[quats_dfs.isna().any(axis=1)]\n",
    "# 打印包含 Nan 的行数\n",
    "print(\"总行数为：\\n\",len(quats_dfs))\n",
    "print(\"包含 Nan 的行：\\n\",nan_rows.index)\n",
    "quats_dfs.dropna(axis=0, inplace=True)\n",
    "print(\"已经删除包含 NaN 的行\")\n",
    "\n",
    "# 保存数据\n",
    "quats_dfs.to_csv(\"XsensMVNOritention.csv\",index=False)"
   ]
  },
  {
   "attachments": {},
   "cell_type": "markdown",
   "metadata": {},
   "source": [
    "# 转换四元数为Opensim 格式"
   ]
  },
  {
   "cell_type": "code",
   "execution_count": 83,
   "metadata": {},
   "outputs": [],
   "source": [
    "path = \"/Users/wangshuaibo/Library/CloudStorage/OneDrive-bsu.edu.cn/Archive/代码_OpenSense/OpenSense_Python/OpenSenseExample/OpenSenseExample_withoutTorsoFoot_Dot_20230525\""
   ]
  },
  {
   "cell_type": "code",
   "execution_count": 84,
   "metadata": {},
   "outputs": [
    {
     "name": "stdout",
     "output_type": "stream",
     "text": [
      "['pelvis_imu', 'tibia_r_imu', 'femur_r_imu', 'tibia_l_imu', 'femur_l_imu']\n"
     ]
    }
   ],
   "source": [
    "# 设置表头\n",
    "bodies_imu = [body+\"_imu\" for body in bodies]\n",
    "print(bodies_imu)\n",
    "opensim_sto_columns = \"time\\t\"\n",
    "for body_imu in bodies_imu:\n",
    "    opensim_sto_columns = opensim_sto_columns + body_imu + \"\\t\"\n",
    "\n",
    "opensim_sto_columns = opensim_sto_columns.strip() + \"\\n\""
   ]
  },
  {
   "cell_type": "code",
   "execution_count": 85,
   "metadata": {},
   "outputs": [
    {
     "data": {
      "text/plain": [
       "'DataRate=60.000000\\nDataType=Quaternion\\nversion=3\\nOpenSimVersion=4.4-2022-10-11-798caa8\\nendheader\\ntime\\tpelvis_imu\\ttibia_r_imu\\tfemur_r_imu\\ttibia_l_imu\\tfemur_l_imu\\n'"
      ]
     },
     "execution_count": 85,
     "metadata": {},
     "output_type": "execute_result"
    }
   ],
   "source": [
    "frame_rate = 60\n",
    "meatdata = f\"\"\"DataRate={frame_rate:.6f}\n",
    "DataType=Quaternion\n",
    "version=3\n",
    "OpenSimVersion=4.4-2022-10-11-798caa8\n",
    "endheader\n",
    "\"\"\"\n",
    "header = meatdata + opensim_sto_columns\n",
    "header"
   ]
  },
  {
   "cell_type": "code",
   "execution_count": 86,
   "metadata": {},
   "outputs": [],
   "source": [
    "old_filename = \"XsensMVNOritention.csv\"\n",
    "oldfile_path = os.path.join(path,old_filename)\n",
    "\n",
    "new_filename = \"XsensMVNOritention.sto\"\n",
    "newfile_path = os.path.join(path, new_filename)"
   ]
  },
  {
   "cell_type": "code",
   "execution_count": 87,
   "metadata": {},
   "outputs": [],
   "source": [
    "# 先写入表头内容\n",
    "with open(newfile_path,\"w\") as new_f:\n",
    "    new_f.write(header)"
   ]
  },
  {
   "cell_type": "code",
   "execution_count": 88,
   "metadata": {},
   "outputs": [],
   "source": [
    "# 写入四元数数据\n",
    "with open(oldfile_path, \"r\") as old_f, open(newfile_path, \"a\") as new_f:\n",
    "    line_index = 0\n",
    "    for line in old_f:\n",
    "        # 去除第一行的表头不进行记录\n",
    "        line_index += 1\n",
    "        if line_index > 1:\n",
    "            new_line = line.split(\",\")\n",
    "            # print(new_line)\n",
    "            str_new = \"\"\n",
    "            index = 0\n",
    "            for i in new_line:\n",
    "                if index % 4 == 0:\n",
    "                    str_new = str_new + i.strip() + \"\\t\"\n",
    "                else:\n",
    "                    str_new = str_new + i.strip() + \",\"\n",
    "                index = index + 1\n",
    "            new_f.write(str_new.strip()+\"\\n\")"
   ]
  }
 ],
 "metadata": {
  "kernelspec": {
   "display_name": "GaitPy",
   "language": "python",
   "name": "python3"
  },
  "language_info": {
   "codemirror_mode": {
    "name": "ipython",
    "version": 3
   },
   "file_extension": ".py",
   "mimetype": "text/x-python",
   "name": "python",
   "nbconvert_exporter": "python",
   "pygments_lexer": "ipython3",
   "version": "3.6.13 |Anaconda, Inc.| (default, Feb 23 2021, 12:58:59) \n[GCC Clang 10.0.0 ]"
  },
  "orig_nbformat": 4,
  "vscode": {
   "interpreter": {
    "hash": "7eb6e7a2760c9df83d84862b4a1ac38b02bbb61584ac3587d2c4d183a35ac194"
   }
  }
 },
 "nbformat": 4,
 "nbformat_minor": 2
}
