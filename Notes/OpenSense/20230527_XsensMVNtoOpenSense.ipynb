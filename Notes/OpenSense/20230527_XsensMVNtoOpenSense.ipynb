{
 "cells": [
  {
   "cell_type": "code",
   "execution_count": 1,
   "metadata": {},
   "outputs": [],
   "source": [
    "# 读取 pandas 并进行四元数的转换"
   ]
  },
  {
   "cell_type": "code",
   "execution_count": 26,
   "metadata": {},
   "outputs": [],
   "source": [
    "import pandas as pd\n",
    "import os"
   ]
  },
  {
   "cell_type": "code",
   "execution_count": 27,
   "metadata": {},
   "outputs": [],
   "source": [
    "path = \"/Users/wangshuaibo/Library/CloudStorage/OneDrive-bsu.edu.cn/Archive/代码_OpenSense/OpenSense_Python/OpenSenseExample/20230527_XsensMVN_NoTorsoFeet_Gait_张德轩\"\n",
    "\n",
    "filename = '20230526_张德轩_Xsens_穿鞋-1.xlsx'\n",
    "frame_rate = 100"
   ]
  },
  {
   "cell_type": "code",
   "execution_count": 28,
   "metadata": {},
   "outputs": [
    {
     "data": {
      "text/plain": [
       "['General Information',\n",
       " 'Markers',\n",
       " 'Segment Orientation - Quat',\n",
       " 'Segment Orientation - Euler',\n",
       " 'Segment Position',\n",
       " 'Segment Velocity',\n",
       " 'Segment Acceleration',\n",
       " 'Segment Angular Velocity',\n",
       " 'Segment Angular Acceleration',\n",
       " 'Joint Angles ZXY',\n",
       " 'Joint Angles XZY',\n",
       " 'Ergonomic Joint Angles ZXY',\n",
       " 'Ergonomic Joint Angles XZY',\n",
       " 'Center of Mass',\n",
       " 'Sensor Free Acceleration',\n",
       " 'Sensor Magnetic Field',\n",
       " 'Sensor Orientation - Quat',\n",
       " 'Sensor Orientation - Euler']"
      ]
     },
     "execution_count": 28,
     "metadata": {},
     "output_type": "execute_result"
    }
   ],
   "source": [
    "# 切换路径\n",
    "os.chdir(path)\n",
    "\n",
    "# 读取 sheet_names\n",
    "excelfile = pd.ExcelFile(filename)\n",
    "excelfile.sheet_names"
   ]
  },
  {
   "cell_type": "code",
   "execution_count": 29,
   "metadata": {},
   "outputs": [
    {
     "data": {
      "text/plain": [
       "Index(['Frame', 'Pelvis q0', 'Pelvis q1', 'Pelvis q2', 'Pelvis q3', 'L5 q0',\n",
       "       'L5 q1', 'L5 q2', 'L5 q3', 'L3 q0', 'L3 q1', 'L3 q2', 'L3 q3', 'T12 q0',\n",
       "       'T12 q1', 'T12 q2', 'T12 q3', 'T8 q0', 'T8 q1', 'T8 q2', 'T8 q3',\n",
       "       'Neck q0', 'Neck q1', 'Neck q2', 'Neck q3', 'Head q0', 'Head q1',\n",
       "       'Head q2', 'Head q3', 'Right Shoulder q0', 'Right Shoulder q1',\n",
       "       'Right Shoulder q2', 'Right Shoulder q3', 'Right Upper Arm q0',\n",
       "       'Right Upper Arm q1', 'Right Upper Arm q2', 'Right Upper Arm q3',\n",
       "       'Right Forearm q0', 'Right Forearm q1', 'Right Forearm q2',\n",
       "       'Right Forearm q3', 'Right Hand q0', 'Right Hand q1', 'Right Hand q2',\n",
       "       'Right Hand q3', 'Left Shoulder q0', 'Left Shoulder q1',\n",
       "       'Left Shoulder q2', 'Left Shoulder q3', 'Left Upper Arm q0',\n",
       "       'Left Upper Arm q1', 'Left Upper Arm q2', 'Left Upper Arm q3',\n",
       "       'Left Forearm q0', 'Left Forearm q1', 'Left Forearm q2',\n",
       "       'Left Forearm q3', 'Left Hand q0', 'Left Hand q1', 'Left Hand q2',\n",
       "       'Left Hand q3', 'Right Upper Leg q0', 'Right Upper Leg q1',\n",
       "       'Right Upper Leg q2', 'Right Upper Leg q3', 'Right Lower Leg q0',\n",
       "       'Right Lower Leg q1', 'Right Lower Leg q2', 'Right Lower Leg q3',\n",
       "       'Right Foot q0', 'Right Foot q1', 'Right Foot q2', 'Right Foot q3',\n",
       "       'Right Toe q0', 'Right Toe q1', 'Right Toe q2', 'Right Toe q3',\n",
       "       'Left Upper Leg q0', 'Left Upper Leg q1', 'Left Upper Leg q2',\n",
       "       'Left Upper Leg q3', 'Left Lower Leg q0', 'Left Lower Leg q1',\n",
       "       'Left Lower Leg q2', 'Left Lower Leg q3', 'Left Foot q0',\n",
       "       'Left Foot q1', 'Left Foot q2', 'Left Foot q3', 'Left Toe q0',\n",
       "       'Left Toe q1', 'Left Toe q2', 'Left Toe q3'],\n",
       "      dtype='object')"
      ]
     },
     "execution_count": 29,
     "metadata": {},
     "output_type": "execute_result"
    }
   ],
   "source": [
    "# 读取数据\n",
    "df = pd.read_excel(filename,sheet_name=\"Sensor Orientation - Quat\")\n",
    "df.columns"
   ]
  },
  {
   "cell_type": "code",
   "execution_count": 30,
   "metadata": {},
   "outputs": [],
   "source": [
    "# 定义列表\n",
    "segments = [\"Pelvis\",\"Right Lower Leg\",\"Right Upper Leg\",\n",
    "            \"Left Lower Leg\",\"Left Upper Leg\"]\n",
    "quats = [\" q0\",\" q1\",\" q2\",\" q3\"]\n",
    "segments_quat = [segment + quat for segment in segments for quat in quats]"
   ]
  },
  {
   "cell_type": "code",
   "execution_count": 31,
   "metadata": {},
   "outputs": [],
   "source": [
    "import math\n",
    "\n",
    "# 定义四元数乘法函数\n",
    "def quaternion_multiply(q1, q2):\n",
    "    w1, x1, y1, z1 = q1\n",
    "    w2, x2, y2, z2 = q2\n",
    "\n",
    "    w = w1 * w2 - x1 * x2 - y1 * y2 - z1 * z2\n",
    "    x = w1 * x2 + x1 * w2 + y1 * z2 - z1 * y2\n",
    "    y = w1 * y2 - x1 * z2 + y1 * w2 + z1 * x2\n",
    "    z = w1 * z2 + x1 * y2 - y1 * x2 + z1 * w2\n",
    "\n",
    "    return (w, x, y, z)\n"
   ]
  },
  {
   "cell_type": "code",
   "execution_count": 32,
   "metadata": {},
   "outputs": [],
   "source": [
    "# 计算表示180度Y轴旋转的四元数\n",
    "angle = math.pi  # 180度等于π弧度\n",
    "q_y180 = (math.cos(angle / 2), 0, math.sin(angle / 2), 0)"
   ]
  },
  {
   "cell_type": "code",
   "execution_count": 33,
   "metadata": {},
   "outputs": [],
   "source": [
    "import numpy as np\n",
    "segment_quats_result = pd.DataFrame()\n",
    "time = np.arange(0,len(df)*1/frame_rate,1/frame_rate)\n",
    "segment_quats_result[\"time\"] = pd.DataFrame(time)\n",
    "for segment in segments:\n",
    "    segment_quats = df[[segment + quat for quat in quats]].values\n",
    "\n",
    "    result = []\n",
    "    for quat in segment_quats:\n",
    "        result.append(quaternion_multiply(quat, q_y180))\n",
    "    result = np.array(result)\n",
    "    segment_quats_result[[segment + \" trans\" + quat for quat in quats]] = pd.DataFrame(result)"
   ]
  },
  {
   "cell_type": "code",
   "execution_count": 34,
   "metadata": {},
   "outputs": [],
   "source": [
    "segment_quats_result.to_csv(os.path.splitext(filename)[0]+\".csv\",index=False)"
   ]
  },
  {
   "cell_type": "markdown",
   "metadata": {},
   "source": [
    "# 转换为 opensim 格式"
   ]
  },
  {
   "cell_type": "code",
   "execution_count": 35,
   "metadata": {},
   "outputs": [
    {
     "name": "stdout",
     "output_type": "stream",
     "text": [
      "['pelvis_imu', 'tibia_r_imu', 'femur_r_imu', 'tibia_l_imu', 'femur_l_imu']\n"
     ]
    }
   ],
   "source": [
    "# 设置表头\n",
    "bodies = [\"pelvis\",\"tibia_r\",\"femur_r\",\"tibia_l\",'femur_l']\n",
    "bodies_imu = [body+\"_imu\" for body in bodies]\n",
    "print(bodies_imu)\n",
    "opensim_sto_columns = \"time\\t\"\n",
    "for body_imu in bodies_imu:\n",
    "    opensim_sto_columns = opensim_sto_columns + body_imu + \"\\t\"\n",
    "\n",
    "opensim_sto_columns = opensim_sto_columns.strip() + \"\\n\""
   ]
  },
  {
   "cell_type": "code",
   "execution_count": 36,
   "metadata": {},
   "outputs": [
    {
     "data": {
      "text/plain": [
       "'DataRate=100.000000\\nDataType=Quaternion\\nversion=3\\nOpenSimVersion=4.4-2022-10-11-798caa8\\nendheader\\ntime\\tpelvis_imu\\ttibia_r_imu\\tfemur_r_imu\\ttibia_l_imu\\tfemur_l_imu\\n'"
      ]
     },
     "execution_count": 36,
     "metadata": {},
     "output_type": "execute_result"
    }
   ],
   "source": [
    "\n",
    "meatdata = f\"\"\"DataRate={frame_rate:.6f}\n",
    "DataType=Quaternion\n",
    "version=3\n",
    "OpenSimVersion=4.4-2022-10-11-798caa8\n",
    "endheader\n",
    "\"\"\"\n",
    "header = meatdata + opensim_sto_columns\n",
    "header"
   ]
  },
  {
   "cell_type": "code",
   "execution_count": 37,
   "metadata": {},
   "outputs": [],
   "source": [
    "old_filename = os.path.splitext(filename)[0] + \".csv\"\n",
    "oldfile_path = os.path.join(path,old_filename)\n",
    "\n",
    "new_filename = os.path.splitext(filename)[0] + \".sto\"\n",
    "newfile_path = os.path.join(path, new_filename)"
   ]
  },
  {
   "cell_type": "code",
   "execution_count": 38,
   "metadata": {},
   "outputs": [],
   "source": [
    "# 先写入表头内容\n",
    "with open(newfile_path,\"w\") as new_f:\n",
    "    new_f.write(header)"
   ]
  },
  {
   "cell_type": "code",
   "execution_count": 39,
   "metadata": {},
   "outputs": [],
   "source": [
    "# 写入四元数数据\n",
    "with open(oldfile_path, \"r\") as old_f, open(newfile_path, \"a\") as new_f:\n",
    "    line_index = 0\n",
    "    for line in old_f:\n",
    "        # 去除第一行的表头不进行记录\n",
    "        line_index += 1\n",
    "        if line_index > 1:\n",
    "            new_line = line.split(\",\")\n",
    "            # print(new_line)\n",
    "            str_new = \"\"\n",
    "            index = 0\n",
    "            for i in new_line:\n",
    "                if index % 4 == 0:\n",
    "                    str_new = str_new + i.strip() + \"\\t\"\n",
    "                else:\n",
    "                    str_new = str_new + i.strip() + \",\"\n",
    "                index = index + 1\n",
    "            new_f.write(str_new.strip()+\"\\n\")"
   ]
  },
  {
   "cell_type": "code",
   "execution_count": 42,
   "metadata": {},
   "outputs": [
    {
     "data": {
      "text/plain": [
       "98.33"
      ]
     },
     "execution_count": 42,
     "metadata": {},
     "output_type": "execute_result"
    }
   ],
   "source": []
  },
  {
   "cell_type": "code",
   "execution_count": null,
   "metadata": {},
   "outputs": [],
   "source": []
  }
 ],
 "metadata": {
  "kernelspec": {
   "display_name": "opensim_py38",
   "language": "python",
   "name": "python3"
  },
  "language_info": {
   "codemirror_mode": {
    "name": "ipython",
    "version": 3
   },
   "file_extension": ".py",
   "mimetype": "text/x-python",
   "name": "python",
   "nbconvert_exporter": "python",
   "pygments_lexer": "ipython3",
   "version": "3.8.16"
  },
  "orig_nbformat": 4,
  "vscode": {
   "interpreter": {
    "hash": "915f615cb416a4ffb7977c81ae434efe0e66cf684aa5232fc2a0063a79fdd672"
   }
  }
 },
 "nbformat": 4,
 "nbformat_minor": 2
}
