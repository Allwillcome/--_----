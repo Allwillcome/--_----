{
 "cells": [
  {
   "attachments": {},
   "cell_type": "markdown",
   "metadata": {},
   "source": [
    "# OpenSense 运行代码"
   ]
  },
  {
   "cell_type": "code",
   "execution_count": null,
   "metadata": {},
   "outputs": [],
   "source": [
    "def OpenSense_OrientationTracking(modelFileName,orientationsFileName,visulizeCalibration=False):\n",
    "    # Import OpenSim libraries\n",
    "    import opensim as osim\n",
    "    import math\n",
    "    pi = math.pi\n",
    "\n",
    "    # Set variables to use\n",
    "    #modelFileName = 'Rajagopal_2015.osim';          # The path to an input model\n",
    "    #orientationsFileName = 'MT_012005D6_009-001_orientations.sto';   # The path to orientation data for calibration \n",
    "    sensor_to_opensim_rotations = osim.Vec3(-pi/2, 0, 0);# The rotation of IMU data to the OpenSim world frame \n",
    "    baseIMUName = 'pelvis_imu';                     # The base IMU is the IMU on the base body of the model that dictates the heading (forward) direction of the model.\n",
    "    baseIMUHeading = 'z';                           # The Coordinate Axis of the base IMU that points in the heading direction. \n",
    "    # visulizeCalibration = True;                     # Boolean to Visualize the Output model\n",
    "\n",
    "    # Instantiate an IMUPlacer object\n",
    "    imuPlacer = osim.IMUPlacer();\n",
    "\n",
    "    # Set properties for the IMUPlacer\n",
    "    imuPlacer.set_model_file(modelFileName);\n",
    "    imuPlacer.set_orientation_file_for_calibration(orientationsFileName);\n",
    "    imuPlacer.set_sensor_to_opensim_rotations(sensor_to_opensim_rotations);\n",
    "    imuPlacer.set_base_imu_label(baseIMUName);\n",
    "    imuPlacer.set_base_heading_axis(baseIMUHeading);\n",
    "\n",
    "    # Run the IMUPlacer\n",
    "    imuPlacer.run(visulizeCalibration);\n",
    "\n",
    "    # Get the model with the calibrated IMU\n",
    "    model = imuPlacer.getCalibratedModel();\n",
    "\n",
    "    # Print the calibrated model to file.\n",
    "    model.printToXML('calibrated_' + modelFileName)"
   ]
  },
  {
   "cell_type": "code",
   "execution_count": null,
   "metadata": {},
   "outputs": [],
   "source": [
    "def OpenSense_OrientationTracking(modelFileName,orientationsFileName,startTime,endTime,visualizeTracking=False):\n",
    "    import opensim as osim\n",
    "    import math\n",
    "    pi = math.pi\n",
    "\n",
    "    # Set variables to use\n",
    "    # Set variables to use\n",
    "    # modelFileName = 'calibrated_Rajagopal_2015.osim';                # The path to an input model\n",
    "    orientationsFileName = 'MT_012005D6_009-001_orientations.sto';   # The path to orientation data for calibration \n",
    "    sensor_to_opensim_rotation = opensim.Vec3(-pi/2, 0, 0); # The rotation of IMU data to the OpenSim world frame \n",
    "    #startTime = 7.25;          # Start time (in seconds) of the tracking simulation. \n",
    "    #endTime = 15;              # End time (in seconds) of the tracking simulation.\n",
    "    resultsDirectory = 'IKResults';\n",
    "\n",
    "    # Instantiate an InverseKinematicsTool\n",
    "    imuIK = osim.IMUInverseKinematicsTool();\n",
    "    \n",
    "    # Set tool properties\n",
    "    imuIK.set_model_file(modelFileName);\n",
    "    imuIK.set_orientations_file(orientationsFileName);\n",
    "    imuIK.set_sensor_to_opensim_rotations(sensor_to_opensim_rotation)\n",
    "    imuIK.set_results_directory(resultsDirectory)\n",
    "\n",
    "    # Set time range in seconds\n",
    "    imuIK.set_time_range(0, startTime); \n",
    "    imuIK.set_time_range(1, endTime);   \n",
    "\n",
    "    # Run IK\n",
    "    imuIK.run(visualizeTracking); # Boolean to Visualize the tracking simulation"
   ]
  },
  {
   "cell_type": "code",
   "execution_count": null,
   "metadata": {},
   "outputs": [],
   "source": [
    "# 输入路径\n",
    "path = input(\"请输入路径：\")\n",
    "os.chdir(path)\n",
    "\n",
    "orientationsFileName = input(\"请输入 sto 文件名：\")\n",
    "modelFileName = 'calibrated_Rajagopal_2015.osim'; \n",
    "\n",
    "\n",
    "OpenSense_OrientationTracking(modelFileName,orientationsFileName)\n",
    "\n"
   ]
  },
  {
   "cell_type": "code",
   "execution_count": null,
   "metadata": {},
   "outputs": [],
   "source": [
    "# 进行逆运动学运算\n",
    "startTime = int(input(\"请输入开始时间：\"))\n",
    "endTime = int(input(\"请输入结束时间：\"))\n",
    "OpenSense_OrientationTracking(modelFileName,orientationsFileName,startTime,endTime)"
   ]
  }
 ],
 "metadata": {
  "kernelspec": {
   "display_name": "opensim_py38",
   "language": "python",
   "name": "python3"
  },
  "language_info": {
   "name": "python",
   "version": "3.8.16 (default, Jan 17 2023, 16:42:09) \n[Clang 14.0.6 ]"
  },
  "orig_nbformat": 4,
  "vscode": {
   "interpreter": {
    "hash": "915f615cb416a4ffb7977c81ae434efe0e66cf684aa5232fc2a0063a79fdd672"
   }
  }
 },
 "nbformat": 4,
 "nbformat_minor": 2
}
