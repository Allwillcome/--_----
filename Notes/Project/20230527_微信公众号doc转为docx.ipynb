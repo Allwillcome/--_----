{
 "cells": [
  {
   "cell_type": "code",
   "execution_count": 4,
   "metadata": {},
   "outputs": [
    {
     "ename": "UnrecognizedImageError",
     "evalue": "",
     "output_type": "error",
     "traceback": [
      "\u001b[0;31m---------------------------------------------------------------------------\u001b[0m",
      "\u001b[0;31mUnrecognizedImageError\u001b[0m                    Traceback (most recent call last)",
      "Cell \u001b[0;32mIn[4], line 48\u001b[0m\n\u001b[1;32m     45\u001b[0m             f\u001b[39m.\u001b[39mwrite(u\u001b[39m.\u001b[39mread())\n\u001b[1;32m     47\u001b[0m         \u001b[39m# 将本地文件路径添加到 Word 文档中\u001b[39;00m\n\u001b[0;32m---> 48\u001b[0m         doc\u001b[39m.\u001b[39;49madd_picture(filename, width\u001b[39m=\u001b[39;49mInches(\u001b[39m6\u001b[39;49m))\n\u001b[1;32m     50\u001b[0m         \u001b[39m# 删除临时文件\u001b[39;00m\n\u001b[1;32m     51\u001b[0m         \u001b[39m#os.remove(filename)\u001b[39;00m\n\u001b[1;32m     52\u001b[0m \n\u001b[1;32m     53\u001b[0m \u001b[39m# 将 HTML 中的文本内容添加到 Word 文档中\u001b[39;00m\n\u001b[1;32m     54\u001b[0m \u001b[39mfor\u001b[39;00m p \u001b[39min\u001b[39;00m soup\u001b[39m.\u001b[39mfind_all(\u001b[39m\"\u001b[39m\u001b[39mp\u001b[39m\u001b[39m\"\u001b[39m):\n",
      "File \u001b[0;32m~/anaconda3/lib/python3.10/site-packages/docx/document.py:72\u001b[0m, in \u001b[0;36mDocument.add_picture\u001b[0;34m(self, image_path_or_stream, width, height)\u001b[0m\n\u001b[1;32m     59\u001b[0m \u001b[39m\u001b[39m\u001b[39m\"\"\"\u001b[39;00m\n\u001b[1;32m     60\u001b[0m \u001b[39mReturn a new picture shape added in its own paragraph at the end of\u001b[39;00m\n\u001b[1;32m     61\u001b[0m \u001b[39mthe document. The picture contains the image at\u001b[39;00m\n\u001b[0;32m   (...)\u001b[0m\n\u001b[1;32m     69\u001b[0m \u001b[39mis often the case.\u001b[39;00m\n\u001b[1;32m     70\u001b[0m \u001b[39m\"\"\"\u001b[39;00m\n\u001b[1;32m     71\u001b[0m run \u001b[39m=\u001b[39m \u001b[39mself\u001b[39m\u001b[39m.\u001b[39madd_paragraph()\u001b[39m.\u001b[39madd_run()\n\u001b[0;32m---> 72\u001b[0m \u001b[39mreturn\u001b[39;00m run\u001b[39m.\u001b[39;49madd_picture(image_path_or_stream, width, height)\n",
      "File \u001b[0;32m~/anaconda3/lib/python3.10/site-packages/docx/text/run.py:62\u001b[0m, in \u001b[0;36mRun.add_picture\u001b[0;34m(self, image_path_or_stream, width, height)\u001b[0m\n\u001b[1;32m     49\u001b[0m \u001b[39mdef\u001b[39;00m \u001b[39madd_picture\u001b[39m(\u001b[39mself\u001b[39m, image_path_or_stream, width\u001b[39m=\u001b[39m\u001b[39mNone\u001b[39;00m, height\u001b[39m=\u001b[39m\u001b[39mNone\u001b[39;00m):\n\u001b[1;32m     50\u001b[0m \u001b[39m    \u001b[39m\u001b[39m\"\"\"\u001b[39;00m\n\u001b[1;32m     51\u001b[0m \u001b[39m    Return an |InlineShape| instance containing the image identified by\u001b[39;00m\n\u001b[1;32m     52\u001b[0m \u001b[39m    *image_path_or_stream*, added to the end of this run.\u001b[39;00m\n\u001b[0;32m   (...)\u001b[0m\n\u001b[1;32m     60\u001b[0m \u001b[39m    value is specified, as is often the case.\u001b[39;00m\n\u001b[1;32m     61\u001b[0m \u001b[39m    \"\"\"\u001b[39;00m\n\u001b[0;32m---> 62\u001b[0m     inline \u001b[39m=\u001b[39m \u001b[39mself\u001b[39;49m\u001b[39m.\u001b[39;49mpart\u001b[39m.\u001b[39;49mnew_pic_inline(image_path_or_stream, width, height)\n\u001b[1;32m     63\u001b[0m     \u001b[39mself\u001b[39m\u001b[39m.\u001b[39m_r\u001b[39m.\u001b[39madd_drawing(inline)\n\u001b[1;32m     64\u001b[0m     \u001b[39mreturn\u001b[39;00m InlineShape(inline)\n",
      "File \u001b[0;32m~/anaconda3/lib/python3.10/site-packages/docx/parts/story.py:56\u001b[0m, in \u001b[0;36mBaseStoryPart.new_pic_inline\u001b[0;34m(self, image_descriptor, width, height)\u001b[0m\n\u001b[1;32m     50\u001b[0m \u001b[39mdef\u001b[39;00m \u001b[39mnew_pic_inline\u001b[39m(\u001b[39mself\u001b[39m, image_descriptor, width, height):\n\u001b[1;32m     51\u001b[0m \u001b[39m    \u001b[39m\u001b[39m\"\"\"Return a newly-created `w:inline` element.\u001b[39;00m\n\u001b[1;32m     52\u001b[0m \n\u001b[1;32m     53\u001b[0m \u001b[39m    The element contains the image specified by *image_descriptor* and is scaled\u001b[39;00m\n\u001b[1;32m     54\u001b[0m \u001b[39m    based on the values of *width* and *height*.\u001b[39;00m\n\u001b[1;32m     55\u001b[0m \u001b[39m    \"\"\"\u001b[39;00m\n\u001b[0;32m---> 56\u001b[0m     rId, image \u001b[39m=\u001b[39m \u001b[39mself\u001b[39;49m\u001b[39m.\u001b[39;49mget_or_add_image(image_descriptor)\n\u001b[1;32m     57\u001b[0m     cx, cy \u001b[39m=\u001b[39m image\u001b[39m.\u001b[39mscaled_dimensions(width, height)\n\u001b[1;32m     58\u001b[0m     shape_id, filename \u001b[39m=\u001b[39m \u001b[39mself\u001b[39m\u001b[39m.\u001b[39mnext_id, image\u001b[39m.\u001b[39mfilename\n",
      "File \u001b[0;32m~/anaconda3/lib/python3.10/site-packages/docx/parts/story.py:29\u001b[0m, in \u001b[0;36mBaseStoryPart.get_or_add_image\u001b[0;34m(self, image_descriptor)\u001b[0m\n\u001b[1;32m     21\u001b[0m \u001b[39mdef\u001b[39;00m \u001b[39mget_or_add_image\u001b[39m(\u001b[39mself\u001b[39m, image_descriptor):\n\u001b[1;32m     22\u001b[0m \u001b[39m    \u001b[39m\u001b[39m\"\"\"Return (rId, image) pair for image identified by *image_descriptor*.\u001b[39;00m\n\u001b[1;32m     23\u001b[0m \n\u001b[1;32m     24\u001b[0m \u001b[39m    *rId* is the str key (often like \"rId7\") for the relationship between this story\u001b[39;00m\n\u001b[0;32m   (...)\u001b[0m\n\u001b[1;32m     27\u001b[0m \u001b[39m    such as dimensions and image type.\u001b[39;00m\n\u001b[1;32m     28\u001b[0m \u001b[39m    \"\"\"\u001b[39;00m\n\u001b[0;32m---> 29\u001b[0m     image_part \u001b[39m=\u001b[39m \u001b[39mself\u001b[39;49m\u001b[39m.\u001b[39;49m_package\u001b[39m.\u001b[39;49mget_or_add_image_part(image_descriptor)\n\u001b[1;32m     30\u001b[0m     rId \u001b[39m=\u001b[39m \u001b[39mself\u001b[39m\u001b[39m.\u001b[39mrelate_to(image_part, RT\u001b[39m.\u001b[39mIMAGE)\n\u001b[1;32m     31\u001b[0m     \u001b[39mreturn\u001b[39;00m rId, image_part\u001b[39m.\u001b[39mimage\n",
      "File \u001b[0;32m~/anaconda3/lib/python3.10/site-packages/docx/package.py:31\u001b[0m, in \u001b[0;36mPackage.get_or_add_image_part\u001b[0;34m(self, image_descriptor)\u001b[0m\n\u001b[1;32m     25\u001b[0m \u001b[39mdef\u001b[39;00m \u001b[39mget_or_add_image_part\u001b[39m(\u001b[39mself\u001b[39m, image_descriptor):\n\u001b[1;32m     26\u001b[0m \u001b[39m    \u001b[39m\u001b[39m\"\"\"Return |ImagePart| containing image specified by *image_descriptor*.\u001b[39;00m\n\u001b[1;32m     27\u001b[0m \n\u001b[1;32m     28\u001b[0m \u001b[39m    The image-part is newly created if a matching one is not already present in the\u001b[39;00m\n\u001b[1;32m     29\u001b[0m \u001b[39m    collection.\u001b[39;00m\n\u001b[1;32m     30\u001b[0m \u001b[39m    \"\"\"\u001b[39;00m\n\u001b[0;32m---> 31\u001b[0m     \u001b[39mreturn\u001b[39;00m \u001b[39mself\u001b[39;49m\u001b[39m.\u001b[39;49mimage_parts\u001b[39m.\u001b[39;49mget_or_add_image_part(image_descriptor)\n",
      "File \u001b[0;32m~/anaconda3/lib/python3.10/site-packages/docx/package.py:74\u001b[0m, in \u001b[0;36mImageParts.get_or_add_image_part\u001b[0;34m(self, image_descriptor)\u001b[0m\n\u001b[1;32m     68\u001b[0m \u001b[39mdef\u001b[39;00m \u001b[39mget_or_add_image_part\u001b[39m(\u001b[39mself\u001b[39m, image_descriptor):\n\u001b[1;32m     69\u001b[0m \u001b[39m    \u001b[39m\u001b[39m\"\"\"Return |ImagePart| object containing image identified by *image_descriptor*.\u001b[39;00m\n\u001b[1;32m     70\u001b[0m \n\u001b[1;32m     71\u001b[0m \u001b[39m    The image-part is newly created if a matching one is not present in the\u001b[39;00m\n\u001b[1;32m     72\u001b[0m \u001b[39m    collection.\u001b[39;00m\n\u001b[1;32m     73\u001b[0m \u001b[39m    \"\"\"\u001b[39;00m\n\u001b[0;32m---> 74\u001b[0m     image \u001b[39m=\u001b[39m Image\u001b[39m.\u001b[39;49mfrom_file(image_descriptor)\n\u001b[1;32m     75\u001b[0m     matching_image_part \u001b[39m=\u001b[39m \u001b[39mself\u001b[39m\u001b[39m.\u001b[39m_get_by_sha1(image\u001b[39m.\u001b[39msha1)\n\u001b[1;32m     76\u001b[0m     \u001b[39mif\u001b[39;00m matching_image_part \u001b[39mis\u001b[39;00m \u001b[39mnot\u001b[39;00m \u001b[39mNone\u001b[39;00m:\n",
      "File \u001b[0;32m~/anaconda3/lib/python3.10/site-packages/docx/image/image.py:55\u001b[0m, in \u001b[0;36mImage.from_file\u001b[0;34m(cls, image_descriptor)\u001b[0m\n\u001b[1;32m     53\u001b[0m     blob \u001b[39m=\u001b[39m stream\u001b[39m.\u001b[39mread()\n\u001b[1;32m     54\u001b[0m     filename \u001b[39m=\u001b[39m \u001b[39mNone\u001b[39;00m\n\u001b[0;32m---> 55\u001b[0m \u001b[39mreturn\u001b[39;00m \u001b[39mcls\u001b[39;49m\u001b[39m.\u001b[39;49m_from_stream(stream, blob, filename)\n",
      "File \u001b[0;32m~/anaconda3/lib/python3.10/site-packages/docx/image/image.py:176\u001b[0m, in \u001b[0;36mImage._from_stream\u001b[0;34m(cls, stream, blob, filename)\u001b[0m\n\u001b[1;32m    170\u001b[0m \u001b[39m@classmethod\u001b[39m\n\u001b[1;32m    171\u001b[0m \u001b[39mdef\u001b[39;00m \u001b[39m_from_stream\u001b[39m(\u001b[39mcls\u001b[39m, stream, blob, filename\u001b[39m=\u001b[39m\u001b[39mNone\u001b[39;00m):\n\u001b[1;32m    172\u001b[0m \u001b[39m    \u001b[39m\u001b[39m\"\"\"\u001b[39;00m\n\u001b[1;32m    173\u001b[0m \u001b[39m    Return an instance of the |Image| subclass corresponding to the\u001b[39;00m\n\u001b[1;32m    174\u001b[0m \u001b[39m    format of the image in *stream*.\u001b[39;00m\n\u001b[1;32m    175\u001b[0m \u001b[39m    \"\"\"\u001b[39;00m\n\u001b[0;32m--> 176\u001b[0m     image_header \u001b[39m=\u001b[39m _ImageHeaderFactory(stream)\n\u001b[1;32m    177\u001b[0m     \u001b[39mif\u001b[39;00m filename \u001b[39mis\u001b[39;00m \u001b[39mNone\u001b[39;00m:\n\u001b[1;32m    178\u001b[0m         filename \u001b[39m=\u001b[39m \u001b[39m'\u001b[39m\u001b[39mimage.\u001b[39m\u001b[39m%s\u001b[39;00m\u001b[39m'\u001b[39m \u001b[39m%\u001b[39m image_header\u001b[39m.\u001b[39mdefault_ext\n",
      "File \u001b[0;32m~/anaconda3/lib/python3.10/site-packages/docx/image/image.py:199\u001b[0m, in \u001b[0;36m_ImageHeaderFactory\u001b[0;34m(stream)\u001b[0m\n\u001b[1;32m    197\u001b[0m     \u001b[39mif\u001b[39;00m found_bytes \u001b[39m==\u001b[39m signature_bytes:\n\u001b[1;32m    198\u001b[0m         \u001b[39mreturn\u001b[39;00m \u001b[39mcls\u001b[39m\u001b[39m.\u001b[39mfrom_stream(stream)\n\u001b[0;32m--> 199\u001b[0m \u001b[39mraise\u001b[39;00m UnrecognizedImageError\n",
      "\u001b[0;31mUnrecognizedImageError\u001b[0m: "
     ]
    }
   ],
   "source": [
    "import os\n",
    "from bs4 import BeautifulSoup\n",
    "from docx import Document\n",
    "from docx.shared import Inches\n",
    "from urllib.request import urlopen\n",
    "import hashlib\n",
    "\n",
    "# 定义 HTML 文件目录和 Word 文件目录\n",
    "html_dir = \"/Users/wangshuaibo/Documents/ScriptsofShuai/Notes/ExampleData/HeyHerosWeChat/html\"\n",
    "docx_dir = html_dir\n",
    "\n",
    "# 遍历 HTML 文件目录中的所有文件\n",
    "for filename in os.listdir(html_dir):\n",
    "    if filename.endswith(\".html\"):\n",
    "        # 读取 HTML 文件内容\n",
    "        with open(os.path.join(html_dir, filename), \"r\") as f:\n",
    "            html = f.read()\n",
    "\n",
    "        # 使用 BeautifulSoup 解析 HTML\n",
    "        soup = BeautifulSoup(html, \"html.parser\")\n",
    "\n",
    "        # 创建 Word 文档\n",
    "        doc = Document()\n",
    "\n",
    "        # 遍历 HTML 中的所有图片，并将其添加到 Word 文档中\n",
    "        for i, img in enumerate(soup.find_all(\"img\")):\n",
    "            # 获取图片 URL\n",
    "            if \"src\" in img.attrs:\n",
    "                src = img[\"src\"]\n",
    "            else:\n",
    "                continue\n",
    "\n",
    "        # 下载图片并保存到本地文件\n",
    "            with urlopen(src) as u:\n",
    "                # 计算图片文件的哈希值\n",
    "                m = hashlib.md5()\n",
    "                m.update(u.read())\n",
    "                hash_value = m.hexdigest()\n",
    "\n",
    "                # 生成图片文件名\n",
    "                filename = f\"{i}_{hash_value}.jpg\"\n",
    "\n",
    "                # 将图片保存到本地文件\n",
    "                with open(filename, \"wb\") as f:\n",
    "                    f.write(u.read())\n",
    "\n",
    "                # 将本地文件路径添加到 Word 文档中\n",
    "                doc.add_picture(filename, width=Inches(6))\n",
    "\n",
    "                # 删除临时文件\n",
    "                #os.remove(filename)\n",
    "\n",
    "        # 将 HTML 中的文本内容添加到 Word 文档中\n",
    "        for p in soup.find_all(\"p\"):\n",
    "            doc.add_paragraph(p.text)\n",
    "        # 保存 Word 文档\n",
    "        doc.save(os.path.join(docx_dir, filename[:-5] + \".docx\"))\n",
    "\n",
    "print(\"所有 HTML 文件已经转换为 Word 文档并保存到指定目录中。\")"
   ]
  },
  {
   "cell_type": "code",
   "execution_count": 1,
   "metadata": {},
   "outputs": [],
   "source": [
    "# 定义 HTML 文件目录和 Word 文件目录\n",
    "html_dir = \"/Users/wangshuaibo/Library/Containers/com.tencent.xinWeChat/Data/Library/Application Support/com.tencent.xinWeChat/2.0b4.0.9/2cf2d6389aed0359afbaff9cfc00bac7/Message/MessageTemp/3284d58bfca6727b4aae6b2a72852d6c/File/word\"\n",
    "docx_dir = html_dir"
   ]
  },
  {
   "cell_type": "code",
   "execution_count": 2,
   "metadata": {},
   "outputs": [
    {
     "name": "stdout",
     "output_type": "stream",
     "text": [
      "所有 HTML 文件已经转换为 Word 文档并保存到指定目录中。\n"
     ]
    }
   ],
   "source": [
    "\n",
    "import os\n",
    "from bs4 import BeautifulSoup\n",
    "from docx import Document\n",
    "from docx.shared import Inches\n",
    "from urllib.request import urlopen\n",
    "from PIL import Image\n",
    "import io\n",
    "#from skimage import io\n",
    "\n",
    "\n",
    "# 遍历 HTML 文件目录中的所有文件\n",
    "for filename in os.listdir(html_dir):\n",
    "    if filename.endswith(\".html\"):\n",
    "        # 读取 HTML 文件内容\n",
    "        with open(os.path.join(html_dir, filename), \"r\") as f:\n",
    "            html = f.read()\n",
    "\n",
    "        # 使用 BeautifulSoup 解析 HTML\n",
    "        soup = BeautifulSoup(html, \"html.parser\")\n",
    "\n",
    "        # 创建 Word 文档\n",
    "        doc = Document()\n",
    "\n",
    "        # 遍历 HTML 中的所有图片，并将其添加到 Word 文档中\n",
    "        for i, img in enumerate(soup.find_all(\"img\")):\n",
    "            # 获取图片 URL\n",
    "            if \"src\" in img.attrs:\n",
    "                src = img[\"src\"]\n",
    "            else:\n",
    "                continue\n",
    "\n",
    "            # 下载图片并保存到本地文件\n",
    "            with urlopen(src) as u:\n",
    "                # 读取图片数据\n",
    "                img_data = u.read()\n",
    "\n",
    "                # 尝试使用 Pillow 库加载图片\n",
    "                try:\n",
    "                    img = Image.open(io.BytesIO(img_data))\n",
    "                except Exception as e:\n",
    "                    print(f\"Error loading image {src}: {e}\")\n",
    "                    continue\n",
    "\n",
    "                # 将图片保存为 JPEG 格式\n",
    "                filename = f\"{i}.png\"\n",
    "                img.save(filename, \"PNG\")\n",
    "\n",
    "                # 将本地文件路径添加到 Word 文档中\n",
    "                doc.add_picture(filename, width=Inches(6))\n",
    "\n",
    "                # 删除临时文件\n",
    "                os.remove(filename)\n",
    "\n",
    "        # 将 HTML 中的文本内容添加到 Word 文档中\n",
    "        for p in soup.find_all(\"p\"):\n",
    "            doc.add_paragraph(p.text)\n",
    "\n",
    "        # 保存 Word 文档\n",
    "        doc.save(os.path.join(docx_dir, filename[:-5] + \".docx\"))\n",
    "\n",
    "print(\"所有 HTML 文件已经转换为 Word 文档并保存到指定目录中。\")\n"
   ]
  },
  {
   "cell_type": "code",
   "execution_count": 11,
   "metadata": {},
   "outputs": [],
   "source": [
    "word_dir = \"/Users/wangshuaibo/Documents/ScriptsofShuai/Notes/ExampleData/HeyHerosWeChat\""
   ]
  },
  {
   "cell_type": "code",
   "execution_count": 16,
   "metadata": {},
   "outputs": [
    {
     "ename": "TypeError",
     "evalue": "decode() argument 'encoding' must be str, not None",
     "output_type": "error",
     "traceback": [
      "\u001b[0;31m---------------------------------------------------------------------------\u001b[0m",
      "\u001b[0;31mTypeError\u001b[0m                                 Traceback (most recent call last)",
      "Cell \u001b[0;32mIn[16], line 22\u001b[0m\n\u001b[1;32m     20\u001b[0m \u001b[39m# 使用检测到的编码解码文件\u001b[39;00m\n\u001b[1;32m     21\u001b[0m \u001b[39mwith\u001b[39;00m \u001b[39mopen\u001b[39m(doc_path, \u001b[39m'\u001b[39m\u001b[39mrb\u001b[39m\u001b[39m'\u001b[39m) \u001b[39mas\u001b[39;00m f:\n\u001b[0;32m---> 22\u001b[0m     docx\u001b[39m.\u001b[39madd_paragraph(f\u001b[39m.\u001b[39;49mread()\u001b[39m.\u001b[39;49mdecode(encoding))\n\u001b[1;32m     24\u001b[0m     \u001b[39m# 使用检测到的编码解码文件\u001b[39;00m\n\u001b[1;32m     25\u001b[0m     \u001b[39mwith\u001b[39;00m \u001b[39mopen\u001b[39m(doc_path, \u001b[39m'\u001b[39m\u001b[39mrb\u001b[39m\u001b[39m'\u001b[39m) \u001b[39mas\u001b[39;00m f:\n",
      "\u001b[0;31mTypeError\u001b[0m: decode() argument 'encoding' must be str, not None"
     ]
    }
   ],
   "source": [
    "import os\n",
    "from docx import Document\n",
    "import chardet\n",
    "\n",
    "# 遍历指定目录下的所有 doc 文件\n",
    "for root, dirs, files in os.walk(word_dir):\n",
    "    for filename in files:\n",
    "        if filename.endswith('.doc'):\n",
    "            doc_path = os.path.join(root, filename)\n",
    "            docx_path = os.path.splitext(doc_path)[0] + '.docx'\n",
    "            doc_folder = os.path.splitext(doc_path)[0]\n",
    "\n",
    "            # 创建 docx 文档对象\n",
    "            docx = Document()\n",
    "\n",
    "        # 检测文件编码\n",
    "        with open(doc_path, 'rb') as f:\n",
    "            encoding = chardet.detect(f.read())['encoding']\n",
    "\n",
    "        # 使用检测到的编码解码文件\n",
    "        with open(doc_path, 'rb') as f:\n",
    "            docx.add_paragraph(f.read().decode(encoding))\n",
    "\n",
    "            # 使用检测到的编码解码文件\n",
    "            with open(doc_path, 'rb') as f:\n",
    "                docx.add_paragraph(f.read().decode(encoding))\n",
    "\n",
    "            # 处理图片\n",
    "            for i, img in enumerate(docx.inline_shapes):\n",
    "                # 获取图片数据\n",
    "                data = img.inline_blob\n",
    "\n",
    "                # 保存图片到文件\n",
    "                img_path = os.path.join(doc_folder, f'image_{i}.png')\n",
    "                with open(img_path, 'wb') as f:\n",
    "                    f.write(data)\n",
    "\n",
    "            # 保存 docx 文件\n",
    "            docx.save(docx_path)"
   ]
  },
  {
   "attachments": {},
   "cell_type": "markdown",
   "metadata": {},
   "source": [
    "# doc 转换为 docx\n",
    "在 macOS 上，你可以尝试使用 unoconv 工具将 .doc 文件转换为 .docx 文件。首先，你需要安装 LibreOffice 和 unoconv：\n",
    "\n",
    "```bash\n",
    "brew install --cask libreoffice\n",
    "brew install unoconv\n",
    "\n",
    "然后，你可以使用以下命令将 .doc 文件转换为 .docx 文件：\n",
    "\n",
    "```bash\n",
    "unoconv -f docx input.doc\n",
    "\n",
    "你可以在 Python 脚本中使用 subprocess 模块调用 unoconv 命令。这是一个示例："
   ]
  },
  {
   "cell_type": "code",
   "execution_count": 3,
   "metadata": {},
   "outputs": [],
   "source": [
    "word_dir = \"/Users/wangshuaibo/Library/Containers/com.tencent.xinWeChat/Data/Library/Application Support/com.tencent.xinWeChat/2.0b4.0.9/2cf2d6389aed0359afbaff9cfc00bac7/Message/MessageTemp/3284d58bfca6727b4aae6b2a72852d6c/File/word\""
   ]
  },
  {
   "cell_type": "code",
   "execution_count": 4,
   "metadata": {},
   "outputs": [],
   "source": [
    "import os\n",
    "import subprocess\n",
    "\n",
    "# 遍历指定目录下的所有 doc 文件\n",
    "for root, dirs, files in os.walk(word_dir):\n",
    "    for filename in files:\n",
    "        if filename.endswith('.doc'):\n",
    "            doc_path = os.path.join(root, filename)\n",
    "            docx_path = os.path.splitext(doc_path)[0] + '.docx'\n",
    "\n",
    "            # 使用 unoconv 将 doc 文件转换为 docx 文件\n",
    "            subprocess.run(['unoconv', '-f', 'docx', doc_path])\n"
   ]
  },
  {
   "cell_type": "markdown",
   "metadata": {},
   "source": [
    "# 批量上传 docx 到notion"
   ]
  },
  {
   "cell_type": "code",
   "execution_count": 5,
   "metadata": {},
   "outputs": [
    {
     "name": "stdout",
     "output_type": "stream",
     "text": [
      "Collecting notion-client\n",
      "  Downloading notion_client-2.0.0-py2.py3-none-any.whl (13 kB)\n",
      "Requirement already satisfied: python-docx in /Users/wangshuaibo/anaconda3/lib/python3.10/site-packages (0.8.11)\n",
      "Requirement already satisfied: tqdm in /Users/wangshuaibo/anaconda3/lib/python3.10/site-packages (4.65.0)\n",
      "Collecting httpx>=0.15.0\n",
      "  Downloading httpx-0.24.1-py3-none-any.whl (75 kB)\n",
      "\u001b[2K     \u001b[90m━━━━━━━━━━━━━━━━━━━━━━━━━━━━━━━━━━━━━━━\u001b[0m \u001b[32m75.4/75.4 kB\u001b[0m \u001b[31m461.0 kB/s\u001b[0m eta \u001b[36m0:00:00\u001b[0ma \u001b[36m0:00:01\u001b[0m\n",
      "\u001b[?25hRequirement already satisfied: lxml>=2.3.2 in /Users/wangshuaibo/anaconda3/lib/python3.10/site-packages (from python-docx) (4.9.2)\n",
      "Requirement already satisfied: certifi in /Users/wangshuaibo/anaconda3/lib/python3.10/site-packages (from httpx>=0.15.0->notion-client) (2023.5.7)\n",
      "Requirement already satisfied: idna in /Users/wangshuaibo/anaconda3/lib/python3.10/site-packages (from httpx>=0.15.0->notion-client) (3.4)\n",
      "Collecting httpcore<0.18.0,>=0.15.0\n",
      "  Downloading httpcore-0.17.2-py3-none-any.whl (72 kB)\n",
      "\u001b[2K     \u001b[90m━━━━━━━━━━━━━━━━━━━━━━━━━━━━━━━━━━━━━━━\u001b[0m \u001b[32m72.5/72.5 kB\u001b[0m \u001b[31m732.9 kB/s\u001b[0m eta \u001b[36m0:00:00\u001b[0m \u001b[36m0:00:01\u001b[0m\n",
      "\u001b[?25hCollecting sniffio\n",
      "  Downloading sniffio-1.3.0-py3-none-any.whl (10 kB)\n",
      "Collecting anyio<5.0,>=3.0\n",
      "  Downloading anyio-3.7.0-py3-none-any.whl (80 kB)\n",
      "\u001b[2K     \u001b[90m━━━━━━━━━━━━━━━━━━━━━━━━━━━━━━━━━━━━━━━\u001b[0m \u001b[32m80.9/80.9 kB\u001b[0m \u001b[31m792.5 kB/s\u001b[0m eta \u001b[36m0:00:00\u001b[0m \u001b[36m0:00:01\u001b[0m\n",
      "\u001b[?25hCollecting h11<0.15,>=0.13\n",
      "  Downloading h11-0.14.0-py3-none-any.whl (58 kB)\n",
      "\u001b[2K     \u001b[90m━━━━━━━━━━━━━━━━━━━━━━━━━━━━━━━━━━━━━━━\u001b[0m \u001b[32m58.3/58.3 kB\u001b[0m \u001b[31m854.4 kB/s\u001b[0m eta \u001b[36m0:00:00\u001b[0m \u001b[36m0:00:01\u001b[0m\n",
      "\u001b[?25hCollecting exceptiongroup\n",
      "  Downloading exceptiongroup-1.1.1-py3-none-any.whl (14 kB)\n",
      "Installing collected packages: sniffio, h11, exceptiongroup, anyio, httpcore, httpx, notion-client\n",
      "Successfully installed anyio-3.7.0 exceptiongroup-1.1.1 h11-0.14.0 httpcore-0.17.2 httpx-0.24.1 notion-client-2.0.0 sniffio-1.3.0\n"
     ]
    }
   ],
   "source": [
    "!pip install notion-client python-docx tqdm"
   ]
  },
  {
   "attachments": {},
   "cell_type": "markdown",
   "metadata": {},
   "source": [
    "https://www.notion.so/ishuai/b568077613cd4a5da66b09830b49f29d?v=c2ed116c1404495ab616d82fb32c3223&pvs=4"
   ]
  },
  {
   "cell_type": "code",
   "execution_count": 8,
   "metadata": {},
   "outputs": [
    {
     "name": "stderr",
     "output_type": "stream",
     "text": [
      "Uploading files:   0%|          | 0/4 [00:00<?, ?it/s]Error uploading 2017-05-25_粉丝投稿减脂鸡肉意面做法.docx: 'id'\n",
      "Uploading files:  25%|██▌       | 1/4 [00:01<00:04,  1.47s/it]Error uploading 2017-05-18_图解健身房的那些“妖魔鬼怪”.docx: 'id'\n",
      "Uploading files:  50%|█████     | 2/4 [00:02<00:02,  1.07s/it]Error uploading 2017-05-25_8个快速燃脂动作，减脂更有效.docx: 'id'\n",
      "Uploading files:  75%|███████▌  | 3/4 [00:03<00:00,  1.06it/s]Error uploading 2017-05-25_燕麦片测评，总有一款适合你.docx: 'id'\n",
      "Uploading files: 100%|██████████| 4/4 [00:03<00:00,  1.13it/s]\n"
     ]
    }
   ],
   "source": [
    "import os\n",
    "import sys\n",
    "import glob\n",
    "from notion_client import Client\n",
    "from docx import Document\n",
    "from tqdm import tqdm\n",
    "\n",
    "# 将这里的 \"YOUR_NOTION_API_KEY\" 替换为实际的 API 密钥\n",
    "notion = Client(auth=\"secret_5pqklUMaNPuD9oaYGQ994AKs7ajawcLXjGpQ9hjEMZa\")\n",
    "\n",
    "# 获取数据库 ID\n",
    "# 请确保已将 API 密钥对应的集成共享给了数据库\n",
    "database_id = \"b568077613cd4a5da66b09830b49f29d\"\n",
    "\n",
    "# 切换路径\n",
    "path = \"/Users/wangshuaibo/Library/Containers/com.tencent.xinWeChat/Data/Library/Application Support/com.tencent.xinWeChat/2.0b4.0.9/2cf2d6389aed0359afbaff9cfc00bac7/Message/MessageTemp/3284d58bfca6727b4aae6b2a72852d6c/File/word/归档 2\"\n",
    "os.chdir(path)\n",
    "\n",
    "# 将 docx 文件转换为 Notion 支持的块结构\n",
    "def docx_to_blocks(docx_file):\n",
    "    doc = Document(docx_file)\n",
    "    blocks = []\n",
    "\n",
    "    for paragraph in doc.paragraphs:\n",
    "        block = {\n",
    "            \"object\": \"block\",\n",
    "            \"type\": \"paragraph\",\n",
    "            \"paragraph\": {\n",
    "                \"rich_text\": [{\"type\": \"text\", \"text\": {\"content\": paragraph.text}}]\n",
    "            },\n",
    "        }\n",
    "        blocks.append(block)\n",
    "    return blocks\n",
    "\n",
    "# 创建 Notion 页面并将文件内容添加到页面中\n",
    "def upload_file_to_notion(file_path):\n",
    "    file_name = os.path.splitext(os.path.basename(file_path))[0]\n",
    "\n",
    "    # 在数据库中创建页面\n",
    "    new_page = {\n",
    "        \"Name\": {\"title\": [{\"text\": {\"content\": file_name}}]},\n",
    "    }\n",
    "    notion.pages.create(parent={\"database_id\": database_id}, properties=new_page)\n",
    "\n",
    "    # 获取页面 ID\n",
    "    page_id = new_page[\"id\"]\n",
    "\n",
    "    # 将 docx 文件转换为块结构并上传到 Notion 页面\n",
    "    blocks = docx_to_blocks(file_path)\n",
    "    for block in blocks:\n",
    "        notion.blocks.children.append(block_id=page_id, children=[block])\n",
    "\n",
    "# 获取当前目录下的所有 docx 文件\n",
    "docx_files = glob.glob(\"*.docx\")\n",
    "\n",
    "# 批量上传 docx 文件到 Notion\n",
    "for docx_file in tqdm(docx_files, desc=\"Uploading files\"):\n",
    "    try:\n",
    "        upload_file_to_notion(docx_file)\n",
    "    except Exception as e:\n",
    "        print(f\"Error uploading {docx_file}: {e}\", file=sys.stderr)"
   ]
  },
  {
   "cell_type": "code",
   "execution_count": null,
   "metadata": {},
   "outputs": [],
   "source": []
  }
 ],
 "metadata": {
  "kernelspec": {
   "display_name": "base",
   "language": "python",
   "name": "python3"
  },
  "language_info": {
   "codemirror_mode": {
    "name": "ipython",
    "version": 3
   },
   "file_extension": ".py",
   "mimetype": "text/x-python",
   "name": "python",
   "nbconvert_exporter": "python",
   "pygments_lexer": "ipython3",
   "version": "3.10.11"
  },
  "orig_nbformat": 4,
  "vscode": {
   "interpreter": {
    "hash": "f0e6e5a6c366f0544d48e86b9538c9e2f921792a30284d93e80dad42978f2a5f"
   }
  }
 },
 "nbformat": 4,
 "nbformat_minor": 2
}
