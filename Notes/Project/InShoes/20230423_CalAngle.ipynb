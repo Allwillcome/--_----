{
 "cells": [
  {
   "cell_type": "code",
   "execution_count": null,
   "metadata": {},
   "outputs": [],
   "source": [
    "## 以下代码由chatGPT 提供"
   ]
  },
  {
   "cell_type": "code",
   "execution_count": null,
   "metadata": {},
   "outputs": [],
   "source": [
    "import math\n",
    "import numpy as np\n",
    "\n",
    "# 定义平面法向量\n",
    "# 此法向量为点在 XY 平面上的投影\n",
    "normal = np.array([0, 0, 1]) # 阿帅：这个算是一个单位向量\n",
    "\n",
    "# 定义三个点坐标\n",
    "p1 = np.array([1, 2, 3])\n",
    "p2 = np.array([4, 5, 6])\n",
    "p3 = np.array([7, 8, 9])\n",
    "\n",
    "# 计算每个点在平面上的投影向量\n",
    "proj_p1 = p1 - np.dot(p1, normal) * normal\n",
    "proj_p2 = p2 - np.dot(p2, normal) * normal\n",
    "proj_p3 = p3 - np.dot(p3, normal) * normal\n",
    "# 阿帅：简便的方法就是在 XZ 平面的投影则 Y 为零即可\n",
    "print(\"proj_p1:\",proj_p1)\n",
    "print(\"proj_p2:\",proj_p2)\n",
    "print(\"proj_p3:\",proj_p3)\n",
    "\n",
    "# 计算每个投影向量的长度\n",
    "length_p1 = np.linalg.norm(proj_p1)\n",
    "length_p2 = np.linalg.norm(proj_p2)\n",
    "length_p3 = np.linalg.norm(proj_p3)\n",
    "\n",
    "# 计算每个点在平面上的位置\n",
    "# 阿帅：如果不是投影到 XY 平面而是其他平面，Z 是否为零？    \n",
    "pos_p1 = np.array([proj_p1[0], proj_p1[1], 0])\n",
    "pos_p2 = np.array([proj_p2[0], proj_p2[1], 0])\n",
    "pos_p3 = np.array([proj_p3[0], proj_p3[1], 0])\n",
    "\n",
    "# 计算每个点之间的向量\n",
    "v1 = pos_p2 - pos_p1\n",
    "v2 = pos_p3 - pos_p2\n",
    "\n",
    "# 计算向量夹角\n",
    "dot_product = np.dot(v1, v2)\n",
    "magnitude_product = np.linalg.norm(v1) * np.linalg.norm(v2)\n",
    "\n",
    "# angle 计算的有问题，数值计算的问题\n",
    "angle = math.degrees(math.acos(dot_product / magnitude_product))\n",
    "print(angle)\n"
   ]
  },
  {
   "attachments": {},
   "cell_type": "markdown",
   "metadata": {},
   "source": [
    "## 参考资料\n",
    "1. [人体运动分析]关节中心的计算 https://blog.csdn.net/qq_44207723/article/details/112064823 如何从大地坐标到髋关节局部坐标\n",
    "2. 刘卉. 《三维摄影解析中人体关节角度的计算方法》. 北京体育大学学报, 期 6 (2004年): 767–69. https://doi.org/10.19582/j.cnki.11-3785/g8.2004.06.017. 了解关节角度的定义\n",
    "\n",
    "## 扩展阅读：\n",
    "1. python——向量的表示及相关计算 https://blog.csdn.net/weixin_42265958/article/details/104950773"
   ]
  }
 ],
 "metadata": {
  "kernelspec": {
   "display_name": "GaitPy",
   "language": "python",
   "name": "python3"
  },
  "language_info": {
   "name": "python",
   "version": "3.6.13 |Anaconda, Inc.| (default, Feb 23 2021, 12:58:59) \n[GCC Clang 10.0.0 ]"
  },
  "orig_nbformat": 4,
  "vscode": {
   "interpreter": {
    "hash": "7eb6e7a2760c9df83d84862b4a1ac38b02bbb61584ac3587d2c4d183a35ac194"
   }
  }
 },
 "nbformat": 4,
 "nbformat_minor": 2
}
