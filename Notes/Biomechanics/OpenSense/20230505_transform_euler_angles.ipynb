{
 "cells": [
  {
   "cell_type": "code",
   "execution_count": 1,
   "metadata": {},
   "outputs": [],
   "source": [
    "import numpy as np\n",
    "from scipy.spatial.transform import Rotation\n",
    "\n",
    "def transform_euler_angles(quaternion):\n",
    "    \"\"\"\n",
    "    使用四元数转换欧拉角，并将其转换为特定形式的欧拉角。\n",
    "    \n",
    "    Args:\n",
    "        quaternion (list): 长度为4的列表，表示四元数。\n",
    "    \n",
    "    Returns:\n",
    "        list: 长度为3的列表，表示经过转换的欧拉角。\n",
    "    \"\"\"\n",
    "    # 使用四元数转换欧拉角\n",
    "    rotation = Rotation.from_quat(quaternion)\n",
    "    euler_angles = rotation.as_euler(\"zyx\", degrees=True)\n",
    "    \n",
    "    # 将欧拉角转换为特定形式\n",
    "    # 仅使用 transform 转化，得到的数据不正确，需要进一步转化\n",
    "    # 第一个角度不需要变化，第二个角度前面加负数，第三个是和180互补加负数\n",
    "    transformed_angles = np.round([euler_angles[0], -euler_angles[1], -(180 - euler_angles[2])], 6)\n",
    "    \n",
    "    return transformed_angles"
   ]
  },
  {
   "cell_type": "code",
   "execution_count": null,
   "metadata": {},
   "outputs": [],
   "source": [
    "## 探究阿鲁比的传感器是否有做算法优化"
   ]
  },
  {
   "cell_type": "code",
   "execution_count": 1,
   "metadata": {},
   "outputs": [
    {
     "data": {
      "text/plain": [
       "Index(['part', 'timestamp', 'gx', 'gy', 'gz', 'ax', 'ay', 'az', 'qw', 'qx',\n",
       "       'qy', 'qz', 'p1', 'p2', 'p3', 'p4', 'p5', 'p6', 'p7', 'p8', 'p9', 'p10',\n",
       "       'p11', 'p12', 'p1-c', 'p2-c', 'p3-c', 'p4-c', 'p5-c', 'p6-c', 'p7-c',\n",
       "       'p8-c', 'p9-c', 'p10-c', 'p11-c', 'p12-c'],\n",
       "      dtype='object')"
      ]
     },
     "execution_count": 1,
     "metadata": {},
     "output_type": "execute_result"
    }
   ],
   "source": [
    "\n",
    "import pandas as pd\n",
    "file =  \"/Users/wangshuaibo/Documents/北京悦动/脑卒中项目/阿帅笔记/测试数据及分析结果/20230424鞋垫空放自重漂移测试/RawData/hwshuai_20230424-丁冠宏-步频100-4来回-鞋垫2-1-41AB-V4.02-001_202304241804055775.csv\"\n",
    "df = pd.read_csv(file)\n",
    "df.columns\n"
   ]
  },
  {
   "cell_type": "code",
   "execution_count": 5,
   "metadata": {},
   "outputs": [],
   "source": [
    "import numpy as np\n",
    "import pandas as pd\n",
    "from scipy.spatial.transform import Rotation\n",
    "\n",
    "def transform_euler_angles(quaternion):\n",
    "    \"\"\"\n",
    "    使用四元数转换欧拉角，并将其转换为特定形式的欧拉角。\n",
    "    使用阿鲁比小蓝块 IMU 数据进行验证，没有进行鞋垫姿态传感器的验证\n",
    "    \n",
    "    Args:\n",
    "        quaternion (list): 长度为4的Series，表示四元数。\n",
    "    \n",
    "    Returns:\n",
    "        pd.Series: 长度为3的Series，表示经过转换的欧拉角。\n",
    "    \"\"\"\n",
    "    # 使用四元数转换欧拉角\n",
    "    rotation = Rotation.from_quat(quaternion)\n",
    "    euler_angles = rotation.as_euler(\"zyx\", degrees=True)\n",
    "    \n",
    "    # 将欧拉角转换为特定形式\n",
    "    # 仅使用 transform 转化，得到的数据不正确，需要进一步转化\n",
    "    # 第一个角度不需要变化，第二个角度前面加负数，第三个是和180互补加负数\n",
    "    # 欧拉角的角度范围应该是 -180～180，但是现在数据范围大于 180\n",
    "    if (euler_angles[2] < 0 or euler_angles[2] == 0).all():\n",
    "        transformed_angles = np.round([euler_angles[0], -euler_angles[1], 180 + euler_angles[2]], 6)\n",
    "    else:\n",
    "        transformed_angles = np.round([euler_angles[0], -euler_angles[1], -(180 - euler_angles[2])], 6)\n",
    "\n",
    "    # transformed_angles = np.round([euler_angles[0], euler_angles[1], euler_angles[2]], 6)\n",
    "    \n",
    "    return pd.Series(transformed_angles)\n",
    "eulers = df[['qw', 'qx','qy', 'qz']].apply(transform_euler_angles,axis=1)\n",
    "eulers.columns = [\"x\",\"y\",\"z\"]"
   ]
  },
  {
   "cell_type": "code",
   "execution_count": 20,
   "metadata": {},
   "outputs": [
    {
     "ename": "KeyError",
     "evalue": "'ax'",
     "output_type": "error",
     "traceback": [
      "\u001b[0;31m---------------------------------------------------------------------------\u001b[0m",
      "\u001b[0;31mKeyError\u001b[0m                                  Traceback (most recent call last)",
      "File \u001b[0;32m~/anaconda3/lib/python3.10/site-packages/pandas/core/indexes/base.py:3802\u001b[0m, in \u001b[0;36mIndex.get_loc\u001b[0;34m(self, key, method, tolerance)\u001b[0m\n\u001b[1;32m   3801\u001b[0m \u001b[39mtry\u001b[39;00m:\n\u001b[0;32m-> 3802\u001b[0m     \u001b[39mreturn\u001b[39;00m \u001b[39mself\u001b[39;49m\u001b[39m.\u001b[39;49m_engine\u001b[39m.\u001b[39;49mget_loc(casted_key)\n\u001b[1;32m   3803\u001b[0m \u001b[39mexcept\u001b[39;00m \u001b[39mKeyError\u001b[39;00m \u001b[39mas\u001b[39;00m err:\n",
      "File \u001b[0;32m~/anaconda3/lib/python3.10/site-packages/pandas/_libs/index.pyx:138\u001b[0m, in \u001b[0;36mpandas._libs.index.IndexEngine.get_loc\u001b[0;34m()\u001b[0m\n",
      "File \u001b[0;32m~/anaconda3/lib/python3.10/site-packages/pandas/_libs/index.pyx:165\u001b[0m, in \u001b[0;36mpandas._libs.index.IndexEngine.get_loc\u001b[0;34m()\u001b[0m\n",
      "File \u001b[0;32mpandas/_libs/hashtable_class_helper.pxi:5745\u001b[0m, in \u001b[0;36mpandas._libs.hashtable.PyObjectHashTable.get_item\u001b[0;34m()\u001b[0m\n",
      "File \u001b[0;32mpandas/_libs/hashtable_class_helper.pxi:5753\u001b[0m, in \u001b[0;36mpandas._libs.hashtable.PyObjectHashTable.get_item\u001b[0;34m()\u001b[0m\n",
      "\u001b[0;31mKeyError\u001b[0m: 'ax'",
      "\nThe above exception was the direct cause of the following exception:\n",
      "\u001b[0;31mKeyError\u001b[0m                                  Traceback (most recent call last)",
      "Cell \u001b[0;32mIn[20], line 3\u001b[0m\n\u001b[1;32m      1\u001b[0m \u001b[39m# 将角速度进行积分，得到角度的变化量\u001b[39;00m\n\u001b[1;32m      2\u001b[0m dt \u001b[39m=\u001b[39m \u001b[39m1\u001b[39m\u001b[39m/\u001b[39m\u001b[39m50\u001b[39m \u001b[39m#采样周期\u001b[39;00m\n\u001b[0;32m----> 3\u001b[0m dtheta \u001b[39m=\u001b[39m df[\u001b[39m'\u001b[39;49m\u001b[39max\u001b[39;49m\u001b[39m'\u001b[39;49m]\u001b[39m.\u001b[39mapply(\u001b[39mlambda\u001b[39;00m x: x\u001b[39m*\u001b[39mdt, axis\u001b[39m=\u001b[39m\u001b[39m1\u001b[39m)\n\u001b[1;32m      5\u001b[0m \u001b[39m# 将角度的变化量进行累积，得到角度的时间序列\u001b[39;00m\n\u001b[1;32m      6\u001b[0m theta \u001b[39m=\u001b[39m dtheta\u001b[39m.\u001b[39mcumsum()\n",
      "File \u001b[0;32m~/anaconda3/lib/python3.10/site-packages/pandas/core/frame.py:3807\u001b[0m, in \u001b[0;36mDataFrame.__getitem__\u001b[0;34m(self, key)\u001b[0m\n\u001b[1;32m   3805\u001b[0m \u001b[39mif\u001b[39;00m \u001b[39mself\u001b[39m\u001b[39m.\u001b[39mcolumns\u001b[39m.\u001b[39mnlevels \u001b[39m>\u001b[39m \u001b[39m1\u001b[39m:\n\u001b[1;32m   3806\u001b[0m     \u001b[39mreturn\u001b[39;00m \u001b[39mself\u001b[39m\u001b[39m.\u001b[39m_getitem_multilevel(key)\n\u001b[0;32m-> 3807\u001b[0m indexer \u001b[39m=\u001b[39m \u001b[39mself\u001b[39;49m\u001b[39m.\u001b[39;49mcolumns\u001b[39m.\u001b[39;49mget_loc(key)\n\u001b[1;32m   3808\u001b[0m \u001b[39mif\u001b[39;00m is_integer(indexer):\n\u001b[1;32m   3809\u001b[0m     indexer \u001b[39m=\u001b[39m [indexer]\n",
      "File \u001b[0;32m~/anaconda3/lib/python3.10/site-packages/pandas/core/indexes/base.py:3804\u001b[0m, in \u001b[0;36mIndex.get_loc\u001b[0;34m(self, key, method, tolerance)\u001b[0m\n\u001b[1;32m   3802\u001b[0m     \u001b[39mreturn\u001b[39;00m \u001b[39mself\u001b[39m\u001b[39m.\u001b[39m_engine\u001b[39m.\u001b[39mget_loc(casted_key)\n\u001b[1;32m   3803\u001b[0m \u001b[39mexcept\u001b[39;00m \u001b[39mKeyError\u001b[39;00m \u001b[39mas\u001b[39;00m err:\n\u001b[0;32m-> 3804\u001b[0m     \u001b[39mraise\u001b[39;00m \u001b[39mKeyError\u001b[39;00m(key) \u001b[39mfrom\u001b[39;00m \u001b[39merr\u001b[39;00m\n\u001b[1;32m   3805\u001b[0m \u001b[39mexcept\u001b[39;00m \u001b[39mTypeError\u001b[39;00m:\n\u001b[1;32m   3806\u001b[0m     \u001b[39m# If we have a listlike key, _check_indexing_error will raise\u001b[39;00m\n\u001b[1;32m   3807\u001b[0m     \u001b[39m#  InvalidIndexError. Otherwise we fall through and re-raise\u001b[39;00m\n\u001b[1;32m   3808\u001b[0m     \u001b[39m#  the TypeError.\u001b[39;00m\n\u001b[1;32m   3809\u001b[0m     \u001b[39mself\u001b[39m\u001b[39m.\u001b[39m_check_indexing_error(key)\n",
      "\u001b[0;31mKeyError\u001b[0m: 'ax'"
     ]
    }
   ],
   "source": [
    "# 将角速度进行积分，得到角度的变化量\n",
    "dt = 1/50 #采样周期\n",
    "dtheta = df['ax'].apply(lambda x: x*dt, axis=1)\n",
    "\n",
    "# 将角度的变化量进行累积，得到角度的时间序列\n",
    "theta = dtheta.cumsum()\n"
   ]
  },
  {
   "cell_type": "code",
   "execution_count": 15,
   "metadata": {},
   "outputs": [
    {
     "name": "stdout",
     "output_type": "stream",
     "text": [
      "   wx  wy  wz\n",
      "0   0   0   0\n",
      "1   1   0   0\n",
      "2   2   1   0\n",
      "3   3   1   1\n",
      "   wx  wy  wz\n",
      "0   0   0   0\n",
      "1   1   0   0\n",
      "2   3   1   0\n",
      "3   6   2   1\n"
     ]
    }
   ],
   "source": [
    "import pandas as pd\n",
    "import numpy as np\n",
    "\n",
    "# 创建一个包含角速度的 DataFrame\n",
    "df = pd.DataFrame({'wx': [0, 1, 2, 3], 'wy': [0, 0, 1, 1], 'wz': [0, 0, 0, 1]}, index=[0, 1, 2, 3])\n",
    "\n",
    "# 将角速度进行积分，得到角度的变化量\n",
    "dt = 1  # 采样周期\n",
    "dtheta = df.apply(lambda x: x * dt, axis=0)\n",
    "print(dtheta)\n",
    "\n",
    "# 将角度的变化量进行累积，得到角度的时间序列\n",
    "theta = dtheta.cumsum()\n",
    "print(theta)"
   ]
  },
  {
   "cell_type": "code",
   "execution_count": null,
   "metadata": {},
   "outputs": [],
   "source": []
  }
 ],
 "metadata": {
  "kernelspec": {
   "display_name": "base",
   "language": "python",
   "name": "python3"
  },
  "language_info": {
   "codemirror_mode": {
    "name": "ipython",
    "version": 3
   },
   "file_extension": ".py",
   "mimetype": "text/x-python",
   "name": "python",
   "nbconvert_exporter": "python",
   "pygments_lexer": "ipython3",
   "version": "3.10.9 (main, Mar  1 2023, 12:33:47) [Clang 14.0.6 ]"
  },
  "orig_nbformat": 4,
  "vscode": {
   "interpreter": {
    "hash": "f0e6e5a6c366f0544d48e86b9538c9e2f921792a30284d93e80dad42978f2a5f"
   }
  }
 },
 "nbformat": 4,
 "nbformat_minor": 2
}
