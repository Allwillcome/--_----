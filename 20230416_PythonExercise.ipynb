{
 "cells": [
  {
   "attachments": {},
   "cell_type": "markdown",
   "metadata": {},
   "source": [
    "## 单行 for 循环的使用"
   ]
  },
  {
   "cell_type": "code",
   "execution_count": null,
   "metadata": {},
   "outputs": [],
   "source": [
    "# 简化代码 \n",
    "segment_ls = [\"pelvis\",\"leg\" ]\n",
    "quat_ls = [\"_q0\",\"_q1\",\"_q2\",\"_q3\"]\n",
    "segmet_quat_ls = [segment_ls[0]+quat_ls[0],segment_ls[0]+quat_ls[1],segment_ls[0]+quat_ls[2],segment_ls[0]+quat_ls[3]]\n",
    "segmet_quat_ls"
   ]
  },
  {
   "cell_type": "code",
   "execution_count": null,
   "metadata": {},
   "outputs": [],
   "source": [
    "# 以下是简化后的代码：\n",
    "segments = [\"pelvis\", \"leg\"]\n",
    "quats = [\"_q0\", \"_q1\", \"_q2\", \"_q3\"]\n",
    "segment_quats = [seg + quat for seg in segments for quat in quats]\n",
    "print(segment_quats)\n",
    "\n",
    "# @阿帅批\n",
    "# 使用了单行for循环\n",
    "# 简化了命名，列表使用复数命名，\n",
    "# 列表中的元素使用单数甚至是缩写"
   ]
  },
  {
   "attachments": {},
   "cell_type": "markdown",
   "metadata": {},
   "source": [
    "chatGPT 解释\n",
    "这段代码创建了一个名为 segments 的列表，其中包含字符串 \"pelvis\" 和 \"leg\"。它还创建了一个名为 quats 的列表，其中包含字符串 \"_q0\"、\"_q1\"、\"_q2\" 和 \"_q3\"。\n",
    "列表推导式 segment_quats = [seg + quat for seg in segments for quat in quats] 通过将 segments 中的每个元素与 quats 中的每个元素连接而创建一个新列表。生成的列表包含字符串 \"pelvis_q0\"、\"pelvis_q1\"、\"pelvis_q2\"、\"pelvis_q3\"、\"leg_q0\"、\"leg_q1\"、\"leg_q2\" 和 \"leg_q3\"。\n",
    "最后，代码打印了 segment_quats 列表。"
   ]
  }
 ],
 "metadata": {
  "kernelspec": {
   "display_name": "GaitPy",
   "language": "python",
   "name": "python3"
  },
  "language_info": {
   "name": "python",
   "version": "3.6.13 |Anaconda, Inc.| (default, Feb 23 2021, 12:58:59) \n[GCC Clang 10.0.0 ]"
  },
  "orig_nbformat": 4,
  "vscode": {
   "interpreter": {
    "hash": "7eb6e7a2760c9df83d84862b4a1ac38b02bbb61584ac3587d2c4d183a35ac194"
   }
  }
 },
 "nbformat": 4,
 "nbformat_minor": 2
}
